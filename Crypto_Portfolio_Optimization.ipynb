{
  "nbformat": 4,
  "nbformat_minor": 0,
  "metadata": {
    "colab": {
      "provenance": [],
      "collapsed_sections": [
        "1zsIRBRF7enn",
        "Ro7ji04a7ktV",
        "EDqUYOh9w27j"
      ],
      "authorship_tag": "ABX9TyMIaGPN+Dn6inMZMrJcQD54",
      "include_colab_link": true
    },
    "kernelspec": {
      "name": "python3",
      "display_name": "Python 3"
    },
    "language_info": {
      "name": "python"
    }
  },
  "cells": [
    {
      "cell_type": "markdown",
      "metadata": {
        "id": "view-in-github",
        "colab_type": "text"
      },
      "source": [
        "<a href=\"https://colab.research.google.com/github/raketic-ognjen/Crypto-Portfolio-Optimization/blob/main/Crypto_Portfolio_Optimization.ipynb\" target=\"_parent\"><img src=\"https://colab.research.google.com/assets/colab-badge.svg\" alt=\"Open In Colab\"/></a>"
      ]
    },
    {
      "cell_type": "markdown",
      "source": [
        "# <font face=\"courier\" size = 6 color = \"Tangerine\"><center>**Crypto Portfolio Optimization - Timespan 2020-2023**</center></font>"
      ],
      "metadata": {
        "id": "kCXUPrw3r1nR"
      }
    },
    {
      "cell_type": "markdown",
      "source": [
        "## <font face=\"courier\" size = 4 color = \"Tangerine\"><center>**Core Idea**</center></font>"
      ],
      "metadata": {
        "id": "EK1K3gJCtjQk"
      }
    },
    {
      "cell_type": "markdown",
      "source": [
        "### I will test 3 crypto portfolios:\n",
        "\n",
        "* 1st will be diversified:\n",
        "    * Bitcoin (BTC)\n",
        "    * Ethereum (ETH)\n",
        "    * Binance Coin (BNB)\n",
        "    * Cardano (ADA)\n",
        "    * Solana (SOL)\n",
        "    * Polkadot (DOT)\n",
        "    * Chainlink (LINK)\n",
        "    * Litecoin (LTC)\n",
        "    * Ripple (XRP)\n",
        "    * Stellar (XLM)\n",
        "\n",
        "* 2nd will be focused on High Risk, High Reward:\n",
        "   * Dogecoin (DOGE)\n",
        "   * Shiba Inu (SHIB)\n",
        "   * SafeMoon (SAFEMOON)\n",
        "   * Polygon (MATIC)\n",
        "   * VeChain (VET)\n",
        "   * Theta (THETA)\n",
        "   * Filecoin (FIL)\n",
        "   * Aave (AAVE)\n",
        "   * Decentraland (MANA)\n",
        "   * SushiSwap (SUSHI)\n",
        "\n",
        "* 3rd will be focused on NFT and DeFi:\n",
        "    * Uniswap (UNI)\n",
        "    * Compound (COMP)\n",
        "    * Chainlink (LINK)\n",
        "    * Aave (AAVE)\n",
        "    * Maker (MKR)\n",
        "    * Decentraland (MANA)\n",
        "    * Enjin Coin (ENJ)\n",
        "    * Flow (FLOW)\n",
        "    * Axie Infinity (AXS)\n",
        "    * The Sandbox (SAND)"
      ],
      "metadata": {
        "id": "olT1KagQtsEx"
      }
    },
    {
      "cell_type": "markdown",
      "source": [
        "I will try to test this 3 portfolio to see their frontiers and CAPM Models."
      ],
      "metadata": {
        "id": "dEMEeaYnveNA"
      }
    },
    {
      "cell_type": "code",
      "execution_count": 1,
      "metadata": {
        "id": "jbKPZY-nrx-Y"
      },
      "outputs": [],
      "source": [
        "#Python Libraries\n",
        "import yfinance as yf\n",
        "import numpy as np\n",
        "import numpy.linalg as LA\n",
        "import scipy as sc\n",
        "import scipy.optimize as sco\n",
        "import scipy.stats as stat\n",
        "import pandas as pd\n",
        "import pandas_datareader as pdr\n",
        "import plotly.graph_objects as go\n",
        "from plotly.subplots import make_subplots\n",
        "import sklearn as skl\n",
        "from sklearn.decomposition import PCA\n",
        "from sklearn.preprocessing import StandardScaler\n",
        "import keras as k\n",
        "import sympy as sp\n",
        "import statsmodels.api as sm\n",
        "import seaborn as sns"
      ]
    },
    {
      "cell_type": "markdown",
      "source": [
        "### Function Expected Return"
      ],
      "metadata": {
        "id": "aU2ORUnh3Gb2"
      }
    },
    {
      "cell_type": "code",
      "source": [
        "def expRet(ret, n=252, com=False):\n",
        "  \"\"\"Calculates expected returns in one of two methods. Parameters are\n",
        "    - ret: Pandas' DataFrame or Series of returns\n",
        "    - n: optional, number of compounding periods in a year (252 for days, 52 for weeks, 12 for months, 4 for quarters...)\n",
        "    - com: optional, deterimines whether expected returns are calculated as annualized sample mean or annualized compunded return\"\"\"\n",
        "  if com:\n",
        "    return (1+ret).prod()**(n/len(ret))-1\n",
        "  else:\n",
        "    return ret.mean()*n"
      ],
      "metadata": {
        "id": "E2Yi5FKd3Omt"
      },
      "execution_count": 2,
      "outputs": []
    },
    {
      "cell_type": "markdown",
      "source": [
        "### Expected Return using Principal Component Function"
      ],
      "metadata": {
        "id": "d0OJ_dk34H4Y"
      }
    },
    {
      "cell_type": "code",
      "source": [
        "def erPCA(ret,rf,f=252,n=None):\n",
        "  if n!=None and ret.shape[1]<n:\n",
        "    return print('Wrong input. Desired number of component n has to be smaller than or equal to number of stocks')\n",
        "  else:\n",
        "    l,evec=np.linalg.eig(ret.cov()*f)\n",
        "    a=(evec[:,:np.count_nonzero(l>l.mean())] if n==None else evec[:,:n])\n",
        "    rets_pca = ret@a\n",
        "    errf,erpca=rf.mean(),rets_pca.mean()\n",
        "    return[f*(errf+sm.OLS(ret[c]-rf,rets_pca).fit().params@erpca) for c in ret.columns]"
      ],
      "metadata": {
        "id": "o5uPYFZm4SMO"
      },
      "execution_count": 3,
      "outputs": []
    },
    {
      "cell_type": "markdown",
      "source": [
        "### Annualized volatility function"
      ],
      "metadata": {
        "id": "tHEKZCbj5Vc-"
      }
    },
    {
      "cell_type": "code",
      "source": [
        "def annualize_vol(ret,n=252):\n",
        "  \"\"\"Calculates volatility of sample returns. Parameters are:\n",
        "    - ret: Pandas' DataFrame or Series of returns\n",
        "    - n: optional, number of compounding periods in a year (252 for days, 52 for weeks, 12 for months, 4 for quarters...)\"\"\"\n",
        "  return  ret.std()*(n**0.5)"
      ],
      "metadata": {
        "id": "JlJmTYX25YlZ"
      },
      "execution_count": 4,
      "outputs": []
    },
    {
      "cell_type": "markdown",
      "source": [
        "### Expected Returns on Portfolio function"
      ],
      "metadata": {
        "id": "Mgz_3nVN5nCB"
      }
    },
    {
      "cell_type": "code",
      "source": [
        "def per(W,ret=None, n=252,com=False,er_assumed=None):\n",
        "  \"\"\"Calculates expected returns of portfolio:\n",
        "    - ret: data set of returns\n",
        "    - W: iterable of weights\n",
        "    - n: optional, number of compounding periods in a year (252 for days, 52 for weeks, 12 for months, 4 for quarters...)\n",
        "    - com: optional, deterimines whether expected returns are calculated as annualized sample mean or annualized compunded retu\n",
        "    - er_assumed: optional, assummed expected returns on each stock\"\"\"\n",
        "  er = expRet(ret,n,com) if np.all(er_assumed==None) else er_assumed\n",
        "  return er@W"
      ],
      "metadata": {
        "id": "TK020CNf5rYO"
      },
      "execution_count": 5,
      "outputs": []
    },
    {
      "cell_type": "markdown",
      "source": [
        "### Variance on portfolio function"
      ],
      "metadata": {
        "id": "a7JDJYm659WP"
      }
    },
    {
      "cell_type": "code",
      "source": [
        "def pV(W,ret=None,n=252,vol=False,cov_assumed=None):\n",
        "  \"\"\"Calculates variance returns of portfoli:\n",
        "    - ret: data set of returns\n",
        "    - W: iterable of weights\n",
        "    - n: optional, number of compounding periods in a year (252 for days, 52 for weeks, 12 for months, 4 for quarters...)\n",
        "    - vol: optional, determines whether you want to display portfolio's volatility (True) or variance (False)\n",
        "    - cov_assumed: optional, assummed annualized covariance matrix of returns\"\"\"\n",
        "  CovM=(ret.cov()*n if np.all(cov_assumed==None) else cov_assumed)\n",
        "  return np.sqrt(W@CovM@W) if vol else W@CovM@W"
      ],
      "metadata": {
        "id": "6Ik6PioE5_9d"
      },
      "execution_count": 6,
      "outputs": []
    },
    {
      "cell_type": "markdown",
      "source": [
        "### MVP function"
      ],
      "metadata": {
        "id": "O7vWH15r6Ypp"
      }
    },
    {
      "cell_type": "code",
      "source": [
        "def mvp(ret=None,f=252,com=False, cov_assumed=None):\n",
        "  \"\"\"Calculates MVP portfolio weights, volatility and expected returns for given data set of returns. Paramters are:\n",
        "    - ret: optional, data set of returns. If it isn't provided, than it is required to provide er_assumed and cov_assumed.\n",
        "    - f: optional, number of compounding periods in a year, i.e. frequency (252 for days, 52 for weeks, 12 for months, 4 for quarters...)\n",
        "    - com: optional, deterimines whether expected returns are calculated as annualized sample mean or annualized compunded ret\n",
        "    - cov_assumed: optional, assummed annualized covariance matrix of returns\"\"\"\n",
        "  n=(len(ret.columns) if np.all(ret!=None) else len(cov_assumed))\n",
        "  result=sco.minimize(lambda w: pV(w,ret,f,False,cov_assumed),[1/n]*n,constraints=[dict(type='eq',fun=lambda w:sum(w)-1)])\n",
        "  return dict(w=result.x,er=per(result.x,ret,f,com),vol=np.sqrt(result.fun)) if np.all(ret!=None) else result.x"
      ],
      "metadata": {
        "id": "kFNIflN66aMk"
      },
      "execution_count": 7,
      "outputs": []
    },
    {
      "cell_type": "markdown",
      "source": [
        "### Optimal portfolio weights, volatility and expected returns Function"
      ],
      "metadata": {
        "id": "TyoDLMOs60MW"
      }
    },
    {
      "cell_type": "code",
      "source": [
        "def targetP(ret=None, mi=None,Bounds=None,f=252,com=False,er_assumed=None,cov_assumed=None):\n",
        "  \"\"\"Calculates optimal portfolio weights, volatility and expected returns. Paramters are:\n",
        "    - ret: optional, data set of returns. If it isn't provided, than it is required to provide er_assumed and cov_assumed.\n",
        "    - mi: target level of expected returns. If mi is omitted, function will caulculate MVP weights!\n",
        "    - f: optional, number of compounding periods in a year, i.e. frequency (252 for days, 52 for weeks, 12 for months, 4 for quarters...)\n",
        "    - com: optional, deterimines whether expected returns are calculated as annualized sample mean or annualized compunded retu\n",
        "    - er_assumed: optional, assummed expected returns on each stock\n",
        "    - cov_assumed: optional, assummed annualized covariance matrix of returns\n",
        "    - Bounds: optional, simple list of length 2 (so that elements represent upper and lower bound) or complex list of length n\n",
        "    (so that each sublist represent collection of upper and lower bound for each of n stocks separately) \"\"\"\n",
        "  n=(len(ret.columns) if np.all(ret!=None) else len(cov_assumed))\n",
        "  if mi==None:\n",
        "    result=sco.minimize(lambda w: pV(w,ret,f,False,cov_assumed),[1/n]*n,constraints=[dict(type='eq',fun=lambda w:sum(w)-1)])\n",
        "    if np.all(ret!=None):\n",
        "      return dict(w=result.x, er=per(result.x,ret,f,com,er_assumed),vol=np.sqrt(result.fun))\n",
        "    else:\n",
        "      return dict(w=result.x,er=(None if np.all(er_assumed==None) else (result.x)@er_assumed),vol=np.sqrt(result.fun))\n",
        "  elif type(mi)==float or type(mi)==np.float64:\n",
        "    result= sco.minimize(lambda w: pV(w,ret,f,False,cov_assumed),[1/n]*n,\n",
        "                         bounds=(None if Bounds== None else [Bounds]*n if len(Bounds)==2 else Bounds),\n",
        "                    constraints=[dict(type='eq',fun=lambda w:sum(w)-1),\n",
        "                                 dict(type='eq',fun=lambda w:per(w,ret,f,com,er_assumed)-mi)])\n",
        "    return dict(w=result.x, er=mi, vol=np.sqrt(result.fun))\n",
        "  else:\n",
        "    return print('\\33[91mWrong input given for parameter mi!\\33[0m')"
      ],
      "metadata": {
        "id": "-zB5yIl262ga"
      },
      "execution_count": 8,
      "outputs": []
    },
    {
      "cell_type": "markdown",
      "source": [
        "### Effective Frontier function"
      ],
      "metadata": {
        "id": "7lcjNFXN64b0"
      }
    },
    {
      "cell_type": "code",
      "source": [
        "def EF(ret=None,Range=[0.01,0.4],plot=None,f=252,com=False,er_assumed=None,cov_assumed=None):\n",
        "    \"\"\"Prepares data for plotting efficient frontier or plot this curve (depending on what user chooses). Paramters are:\n",
        "    - ret: optional, data set of returns. If it isn't provided, than it is required to provide er_assumed and cov_assumed.\n",
        "    - Range: optional, range in which you want to see efficient frontier.\n",
        "    - f: optional, number of compounding periods in a year, i.e. frequency (252 for days, 52 for weeks, 12 for months, 4 for quarters...)\n",
        "    - com: optional, deterimines whether expected returns are calculated as annualized sample mean or annualized compunded retu\n",
        "    - plot: optional, determines whether you want to plot efficient frontier or not. Possible values are:\n",
        "        a) None - on values will be displayed\n",
        "        b) 'curve' - only curve will be plotted\n",
        "        c) 'mvp' - curve with MVP will be plotted\n",
        "        d) 'full' - curve with MVP will be plotted and efficient part will be emphasised\n",
        "    - er_assumed: optional, assummed expected returns on each stock\n",
        "    - cov_assumed: optional, assummed annualized covariance matrix of returns\"\"\"\n",
        "    mi=np.arange(Range[0],Range[1]+0.01,0.01)\n",
        "    sigma=np.array([targetP(ret,m,f=f,com=com,er_assumed=er_assumed,cov_assumed=cov_assumed)['vol'] for m in mi])\n",
        "    if plot==None:\n",
        "        return dict(sigma=sigma,er=mi)\n",
        "    elif plot=='curve':\n",
        "        fig=go.Figure()\n",
        "        fig.add_trace(go.Scatter(x=sigma,y=mi,line=dict(color='Blue',width=3)))\n",
        "        fig.update_layout(xaxis=dict(title_text='\\$\\sigma$',range=[-0.01,max(0.25,np.max(sigma)+0.01)],zerolinecolor='Black'),\n",
        "                  yaxis=dict(title_text='$\\mu$',zerolinecolor='Black'),\n",
        "                  title=dict(text=\"Efficient frontier\",x=0.5,y=0.87,font=dict(size=25,color='Navy')))\n",
        "        return fig\n",
        "    elif plot=='mvp':\n",
        "        M=targetP(ret,m,f=f,com=com,er_assumed=er_assumed,cov_assumed=cov_assumed)\n",
        "        fig=go.Figure()\n",
        "        fig.add_trace(go.Scatter(x=sigma,y=mi,line=dict(color='Blue',width=3)))\n",
        "        fig.add_trace(go.Scatter(x=[M['vol']],y=[M['er']],marker=dict(color='Red',line=dict(color='Black',width=2),size=10)))\n",
        "        fig.update_layout(xaxis=dict(title_text='\\$\\sigma$',range=[-0.01,max(0.25,np.max(sigma)+0.01)],zerolinecolor='Black'),\n",
        "                  yaxis=dict(title_text='$\\mu$',zerolinecolor='Black'),showlegend=False,\n",
        "                  title=dict(text=\"Efficient frontier\",x=0.5,y=0.87,font=dict(size=25,color='Navy')))\n",
        "        return fig\n",
        "    elif plot=='full':\n",
        "        M=targetP(ret,f=f,com=com,er_assumed=er_assumed,cov_assumed=cov_assumed)\n",
        "        fig=go.Figure()\n",
        "        fig.add_trace(go.Scatter(x=sigma,y=mi,line=dict(color='Blue',dash='dash'),fill=\"tozeroy\",fillcolor='Pink'))\n",
        "        fig.add_trace(go.Scatter(x=sigma[mi>M['er']],y=mi[mi>M['er']],line=dict(color='Blue',width=3)))\n",
        "        fig.add_trace(go.Scatter(x=[M['vol']],y=[M['er']],marker=dict(color='Red',line=dict(color='Black',width=2),size=10)))\n",
        "        fig.update_layout(xaxis=dict(title_text='\\$\\sigma$',range=[-0.01,max(0.25,np.max(sigma)+0.01)],zerolinecolor='Black'),\n",
        "                  yaxis=dict(title_text='$\\mu$',zerolinecolor='Black'),showlegend=False,\n",
        "                  title=dict(text=\"Efficient frontier\",x=0.5,y=0.87,font=dict(size=25,color='Navy')))\n",
        "\n",
        "        return fig\n",
        "    else:\n",
        "        return print(\"\\33[91mWrong input ginven for parameter plot. Expected values are: None,'curve','mvp' or 'full'\\33[0m\")"
      ],
      "metadata": {
        "id": "ta60z8rK662O"
      },
      "execution_count": 9,
      "outputs": []
    },
    {
      "cell_type": "markdown",
      "source": [
        "### Max Sharpe Function"
      ],
      "metadata": {
        "id": "WKoTdpG46-C6"
      }
    },
    {
      "cell_type": "code",
      "source": [
        "def maxSharpe(ret=None,rf=0.0,Bounds=[-1,1],f=252,com=False,er_assumed=None,cov_assumed=None):\n",
        "    \"\"\"Calculates weights for portfolio with maximal Sharpe's ratio, its volatility and expected returns. Paramters are:\n",
        "    - ret: optional, data set of returns on risky assets. If it isn't provided, than it is required to provide er_assumed and cov_assumed.\n",
        "    - f: optional, number of compounding periods in a year, i.e. frequency (252 for days, 52 for weeks, 12 for months, 4 for quarters...)\n",
        "    - com: optional, deterimines whether expected returns are calculated as annualized sample mean or annualized compunded retu\n",
        "    - rf: data set of returns on risk-free assets or assumed constant\n",
        "    - er_assumed: optional, assummed expected returns on each stock\n",
        "    - cov_assumed: optional, assummed annualized covariance matrix of returns\"\"\"\n",
        "    n=(len(ret.columns) if np.all(ret!=None) else len(cov_assumed))\n",
        "    r_f=(rf if type(rf)==float or type(rf)==np.float64 else expRet(rf))\n",
        "    result=sco.minimize(lambda w: -(per(w,ret,f,com,er_assumed)-r_f)/pV(w,ret,f,True,cov_assumed),[1/n]*n,bounds=[Bounds]*n,\n",
        "                        constraints=[dict(type='eq',fun=lambda w:sum(w)-1)])\n",
        "    return dict(w=result.x, er=per(result.x,ret,f,com,er_assumed),vol=pV(result.x,ret,f,True,cov_assumed),sharpe=-result.fun)"
      ],
      "metadata": {
        "id": "r0MURZyi7AJ0"
      },
      "execution_count": 10,
      "outputs": []
    },
    {
      "cell_type": "markdown",
      "source": [
        "### Portfolio tracking error Function"
      ],
      "metadata": {
        "id": "w1KLJTY57Cg6"
      }
    },
    {
      "cell_type": "code",
      "source": [
        "def portfolio_tracking_error(weights,ref_r,bb_r):\n",
        "  return np.sqrt(((ref_r-(weights*bb_r).sum(axis=1))**2).sum())"
      ],
      "metadata": {
        "id": "jOfTBqtB7E3z"
      },
      "execution_count": 11,
      "outputs": []
    },
    {
      "cell_type": "markdown",
      "source": [
        "### Style Analysis Function"
      ],
      "metadata": {
        "id": "frfu8Lp07H1f"
      }
    },
    {
      "cell_type": "code",
      "source": [
        "def style_analysis(dependent_variable, explanatory_variables):\n",
        "    \"\"\"Returns the optimal weights that minimizes the Tracking error between a portfolio of the explanatory variables and the\n",
        "    dependent variable. Parameters are:\n",
        "    1. dependent_variable - data set of target returns\n",
        "    2. explanatory_variables - data set of explanatory returns\n",
        "    All parameters should be given as np.array, pd.Series or pd.DataFrame.\"\"\"\n",
        "    n=len(explanatory_variables.columns)\n",
        "    result=sco.minimize(lambda w: portfolio_tracking_error(w,dependent_variable, explanatory_variables),\n",
        "                        [1/n]*n,bounds=[(0,1)]*n,constraints=[dict(type='eq',fun=lambda w:sum(w)-1)])\n",
        "    return pd.Series(result.x, index=explanatory_variables.columns)"
      ],
      "metadata": {
        "id": "wEFy8ftA7J3X"
      },
      "execution_count": 12,
      "outputs": []
    },
    {
      "cell_type": "markdown",
      "source": [
        "### Cumulative simple returns Function"
      ],
      "metadata": {
        "id": "WyiW2iRI7Lmd"
      }
    },
    {
      "cell_type": "code",
      "source": [
        "def compound(r):\n",
        "    \"\"\"returns the result of compounding the set of returns in r\"\"\"\n",
        "    return np.expm1(np.log1p(r).sum())"
      ],
      "metadata": {
        "id": "bykTXEGY7NwZ"
      },
      "execution_count": 13,
      "outputs": []
    },
    {
      "cell_type": "markdown",
      "source": [
        "### Implied Returns Function"
      ],
      "metadata": {
        "id": "7o32xQn67SJZ"
      }
    },
    {
      "cell_type": "code",
      "source": [
        "def implied_returns(delta, sigma, w):\n",
        "    \"\"\"Obtain the implied expected returns by the market - i.e. construct vector Pi. Parameters are:\n",
        "    - delta: Risk Aversion Coefficient (scalar)\n",
        "    - sigma: Variance-Covariance Matrix (N x N) as pd.DataFrame\n",
        "    - w: Portfolio weights (N x 1) as pd.Series\n",
        "    Returns an N x 1 vector of Returns as pd.Series\"\"\"\n",
        "    ir = delta * sigma.dot(w).squeeze() # to get a series from a 1-column dataframe\n",
        "    ir.name = 'Implied Returns'\n",
        "    return ir"
      ],
      "metadata": {
        "id": "Ezj8O34e7UN9"
      },
      "execution_count": 14,
      "outputs": []
    },
    {
      "cell_type": "markdown",
      "source": [
        "### Proportional Prior function"
      ],
      "metadata": {
        "id": "JE9jraV47WPN"
      }
    },
    {
      "cell_type": "code",
      "source": [
        "def proportional_prior(sigma, tau, p):\n",
        "    \"\"\"Returns the He-Litterman simplified Omega. Parameters are:\n",
        "    - sigma: N x N Covariance Matrix as pd.DataFrame\n",
        "    - tau: a scalar\n",
        "    - p: a K x N pd.DataFrame linking Q and Assets\n",
        "    returns a P x P pd.DataFrame, a Matrix representing Prior Uncertainties\"\"\"\n",
        "    helit_omega = p.dot(tau * sigma).dot(p.T)\n",
        "    return pd.DataFrame(np.diag(np.diag(helit_omega.values)),index=p.index,columns=p.index)"
      ],
      "metadata": {
        "id": "_pCFdlbv7W83"
      },
      "execution_count": 15,
      "outputs": []
    },
    {
      "cell_type": "markdown",
      "source": [
        "### Black-Litterman model Function"
      ],
      "metadata": {
        "id": "sjJU3C9T7b4p"
      }
    },
    {
      "cell_type": "code",
      "source": [
        "def bl(w_prior, sigma_prior, p, q,omega=None,delta=2.5, tau=.02, rf=0):\n",
        "    \"\"\"Computes the posterior expected returns based on the original black litterman reference model. Parameters are:\n",
        "    - W_prior: must be an N x 1 vector of weights, a pd.Series\n",
        "    - Sigma_prior: is an N x N covariance matrix, a pd.DataFrame\n",
        "    - P: must be a K x N matrix linking Q and the Assets, a pd.DataFrame\n",
        "    - Q: must be an K x 1 vector of views, a pd.Series\n",
        "    - Omega: must be a K x K matrix a pd.DataFrame, or None (in that case He-Litterman simplified Omega is used)\n",
        "    - delta and tau: are scalars\n",
        "    - rf: optional, assumed risk-free rate. By default it is set to 0 \"\"\"\n",
        "    if omega is None: omega = proportional_prior(sigma_prior, tau, p) #if omega isn't specified use He-Litterman siplification\n",
        "    N = w_prior.shape[0] # How many assets do we have?\n",
        "    K = q.shape[0] # And how many views?\n",
        "    pi = implied_returns(delta, sigma_prior,  w_prior) # Determine market implied expected returns - Pi\n",
        "    sigma_prior_scaled = tau * sigma_prior  # Adjust (scale) Sigma by the uncertainty scaling factor\n",
        "    # estimating expected returns and covariance matrix by B-L model\n",
        "    mu_bl=rf+pi+sigma_prior_scaled.dot(p.T).dot(LA.inv(p.dot(sigma_prior_scaled).dot(p.T) + omega).dot(q - p.dot(pi).values))\n",
        "    sigma_bl=sigma_prior+sigma_prior_scaled-sigma_prior_scaled.dot(p.T).dot(LA.inv(p.dot(sigma_prior_scaled).dot(p.T)+omega)).dot(p).dot(sigma_prior_scaled)\n",
        "    return (mu_bl, sigma_bl)"
      ],
      "metadata": {
        "id": "DDHqNokz7cov"
      },
      "execution_count": 16,
      "outputs": []
    },
    {
      "cell_type": "markdown",
      "source": [
        "### Optimal (Tangent/Max Sharpe Ratio) Portfolio weights by using the Markowitz Optimization Procedure function"
      ],
      "metadata": {
        "id": "1zsIRBRF7enn"
      }
    },
    {
      "cell_type": "code",
      "source": [
        "def w_msr(sigma, mu,rf=0):\n",
        "    \"\"\"Optimal (Tangent/Max Sharpe Ratio) Portfolio weights by using the Markowitz Optimization Procedure. Parameters are:\n",
        "    - Mu: the vector of Excess expected returns given as pd.Series\n",
        "    - Sigma: covariance matrix. Must be given as N x N matrix in pd.DataFrame\"\"\"\n",
        "    invS=pd.DataFrame(LA.inv(sigma.values), index=sigma.columns, columns=sigma.index)\n",
        "    w = invS.dot(mu-rf)\n",
        "    return w/sum(w)"
      ],
      "metadata": {
        "id": "ZJQmG5Ti7iiT"
      },
      "execution_count": 17,
      "outputs": []
    },
    {
      "cell_type": "markdown",
      "source": [
        "### W-Star function"
      ],
      "metadata": {
        "id": "Ro7ji04a7ktV"
      }
    },
    {
      "cell_type": "code",
      "source": [
        "def w_star(delta, sigma, mu):\n",
        "    return (pd.DataFrame(LA.inv(sigma.values), index=sigma.columns, columns=sigma.index).dot(mu))/delta"
      ],
      "metadata": {
        "id": "pmhbSyDm7l0A"
      },
      "execution_count": 18,
      "outputs": []
    },
    {
      "cell_type": "markdown",
      "source": [
        "# 1st portfolio"
      ],
      "metadata": {
        "id": "ne08_AWPvoJl"
      }
    },
    {
      "cell_type": "code",
      "source": [
        "crypto1 = ['BTC-USD', 'ETH-USD', 'BNB-USD', 'ADA-USD', 'SOL-USD', 'DOT-USD', 'LINK-USD', 'LTC-USD', 'XRP-USD', 'XLM-USD']"
      ],
      "metadata": {
        "id": "pkqgOHJDvqw7"
      },
      "execution_count": 19,
      "outputs": []
    },
    {
      "cell_type": "code",
      "source": [
        "#Yf download\n",
        "cryptoprice1 = yf.download(crypto1, start='2021-4-16')['Adj Close']\n",
        "cryptoprice1.head()"
      ],
      "metadata": {
        "colab": {
          "base_uri": "https://localhost:8080/",
          "height": 362
        },
        "id": "peVAye0Ixflr",
        "outputId": "4644e7b4-8308-415f-82ef-f44881771c16"
      },
      "execution_count": 26,
      "outputs": [
        {
          "output_type": "stream",
          "name": "stdout",
          "text": [
            "[*********************100%%**********************]  10 of 10 completed\n"
          ]
        },
        {
          "output_type": "execute_result",
          "data": {
            "text/plain": [
              "             ADA-USD     BNB-USD       BTC-USD    DOT-USD      ETH-USD  \\\n",
              "Date                                                                     \n",
              "2021-04-16  1.416949  510.220184  61572.789062  41.537975  2431.946533   \n",
              "2021-04-17  1.384869  520.416748  60683.820312  42.535950  2344.895020   \n",
              "2021-04-18  1.275501  481.034241  56216.183594  37.347431  2237.136963   \n",
              "2021-04-19  1.197959  505.092926  55724.265625  34.816669  2166.188721   \n",
              "2021-04-20  1.265934  587.029114  56473.031250  35.444435  2330.210938   \n",
              "\n",
              "             LINK-USD     LTC-USD    SOL-USD   XLM-USD   XRP-USD  \n",
              "Date                                                              \n",
              "2021-04-16  42.101555  310.612732  25.397366  0.613263  1.557527  \n",
              "2021-04-17  40.372066  304.759918  25.099874  0.599255  1.560055  \n",
              "2021-04-18  39.065910  273.098816  32.302917  0.544734  1.405998  \n",
              "2021-04-19  35.879383  261.919220  31.675896  0.501234  1.315044  \n",
              "2021-04-20  38.950634  260.941345  31.770054  0.527950  1.383299  "
            ],
            "text/html": [
              "\n",
              "  <div id=\"df-5b9f796e-7cd2-4533-9c7d-9a928a938974\" class=\"colab-df-container\">\n",
              "    <div>\n",
              "<style scoped>\n",
              "    .dataframe tbody tr th:only-of-type {\n",
              "        vertical-align: middle;\n",
              "    }\n",
              "\n",
              "    .dataframe tbody tr th {\n",
              "        vertical-align: top;\n",
              "    }\n",
              "\n",
              "    .dataframe thead th {\n",
              "        text-align: right;\n",
              "    }\n",
              "</style>\n",
              "<table border=\"1\" class=\"dataframe\">\n",
              "  <thead>\n",
              "    <tr style=\"text-align: right;\">\n",
              "      <th></th>\n",
              "      <th>ADA-USD</th>\n",
              "      <th>BNB-USD</th>\n",
              "      <th>BTC-USD</th>\n",
              "      <th>DOT-USD</th>\n",
              "      <th>ETH-USD</th>\n",
              "      <th>LINK-USD</th>\n",
              "      <th>LTC-USD</th>\n",
              "      <th>SOL-USD</th>\n",
              "      <th>XLM-USD</th>\n",
              "      <th>XRP-USD</th>\n",
              "    </tr>\n",
              "    <tr>\n",
              "      <th>Date</th>\n",
              "      <th></th>\n",
              "      <th></th>\n",
              "      <th></th>\n",
              "      <th></th>\n",
              "      <th></th>\n",
              "      <th></th>\n",
              "      <th></th>\n",
              "      <th></th>\n",
              "      <th></th>\n",
              "      <th></th>\n",
              "    </tr>\n",
              "  </thead>\n",
              "  <tbody>\n",
              "    <tr>\n",
              "      <th>2021-04-16</th>\n",
              "      <td>1.416949</td>\n",
              "      <td>510.220184</td>\n",
              "      <td>61572.789062</td>\n",
              "      <td>41.537975</td>\n",
              "      <td>2431.946533</td>\n",
              "      <td>42.101555</td>\n",
              "      <td>310.612732</td>\n",
              "      <td>25.397366</td>\n",
              "      <td>0.613263</td>\n",
              "      <td>1.557527</td>\n",
              "    </tr>\n",
              "    <tr>\n",
              "      <th>2021-04-17</th>\n",
              "      <td>1.384869</td>\n",
              "      <td>520.416748</td>\n",
              "      <td>60683.820312</td>\n",
              "      <td>42.535950</td>\n",
              "      <td>2344.895020</td>\n",
              "      <td>40.372066</td>\n",
              "      <td>304.759918</td>\n",
              "      <td>25.099874</td>\n",
              "      <td>0.599255</td>\n",
              "      <td>1.560055</td>\n",
              "    </tr>\n",
              "    <tr>\n",
              "      <th>2021-04-18</th>\n",
              "      <td>1.275501</td>\n",
              "      <td>481.034241</td>\n",
              "      <td>56216.183594</td>\n",
              "      <td>37.347431</td>\n",
              "      <td>2237.136963</td>\n",
              "      <td>39.065910</td>\n",
              "      <td>273.098816</td>\n",
              "      <td>32.302917</td>\n",
              "      <td>0.544734</td>\n",
              "      <td>1.405998</td>\n",
              "    </tr>\n",
              "    <tr>\n",
              "      <th>2021-04-19</th>\n",
              "      <td>1.197959</td>\n",
              "      <td>505.092926</td>\n",
              "      <td>55724.265625</td>\n",
              "      <td>34.816669</td>\n",
              "      <td>2166.188721</td>\n",
              "      <td>35.879383</td>\n",
              "      <td>261.919220</td>\n",
              "      <td>31.675896</td>\n",
              "      <td>0.501234</td>\n",
              "      <td>1.315044</td>\n",
              "    </tr>\n",
              "    <tr>\n",
              "      <th>2021-04-20</th>\n",
              "      <td>1.265934</td>\n",
              "      <td>587.029114</td>\n",
              "      <td>56473.031250</td>\n",
              "      <td>35.444435</td>\n",
              "      <td>2330.210938</td>\n",
              "      <td>38.950634</td>\n",
              "      <td>260.941345</td>\n",
              "      <td>31.770054</td>\n",
              "      <td>0.527950</td>\n",
              "      <td>1.383299</td>\n",
              "    </tr>\n",
              "  </tbody>\n",
              "</table>\n",
              "</div>\n",
              "    <div class=\"colab-df-buttons\">\n",
              "\n",
              "  <div class=\"colab-df-container\">\n",
              "    <button class=\"colab-df-convert\" onclick=\"convertToInteractive('df-5b9f796e-7cd2-4533-9c7d-9a928a938974')\"\n",
              "            title=\"Convert this dataframe to an interactive table.\"\n",
              "            style=\"display:none;\">\n",
              "\n",
              "  <svg xmlns=\"http://www.w3.org/2000/svg\" height=\"24px\" viewBox=\"0 -960 960 960\">\n",
              "    <path d=\"M120-120v-720h720v720H120Zm60-500h600v-160H180v160Zm220 220h160v-160H400v160Zm0 220h160v-160H400v160ZM180-400h160v-160H180v160Zm440 0h160v-160H620v160ZM180-180h160v-160H180v160Zm440 0h160v-160H620v160Z\"/>\n",
              "  </svg>\n",
              "    </button>\n",
              "\n",
              "  <style>\n",
              "    .colab-df-container {\n",
              "      display:flex;\n",
              "      gap: 12px;\n",
              "    }\n",
              "\n",
              "    .colab-df-convert {\n",
              "      background-color: #E8F0FE;\n",
              "      border: none;\n",
              "      border-radius: 50%;\n",
              "      cursor: pointer;\n",
              "      display: none;\n",
              "      fill: #1967D2;\n",
              "      height: 32px;\n",
              "      padding: 0 0 0 0;\n",
              "      width: 32px;\n",
              "    }\n",
              "\n",
              "    .colab-df-convert:hover {\n",
              "      background-color: #E2EBFA;\n",
              "      box-shadow: 0px 1px 2px rgba(60, 64, 67, 0.3), 0px 1px 3px 1px rgba(60, 64, 67, 0.15);\n",
              "      fill: #174EA6;\n",
              "    }\n",
              "\n",
              "    .colab-df-buttons div {\n",
              "      margin-bottom: 4px;\n",
              "    }\n",
              "\n",
              "    [theme=dark] .colab-df-convert {\n",
              "      background-color: #3B4455;\n",
              "      fill: #D2E3FC;\n",
              "    }\n",
              "\n",
              "    [theme=dark] .colab-df-convert:hover {\n",
              "      background-color: #434B5C;\n",
              "      box-shadow: 0px 1px 3px 1px rgba(0, 0, 0, 0.15);\n",
              "      filter: drop-shadow(0px 1px 2px rgba(0, 0, 0, 0.3));\n",
              "      fill: #FFFFFF;\n",
              "    }\n",
              "  </style>\n",
              "\n",
              "    <script>\n",
              "      const buttonEl =\n",
              "        document.querySelector('#df-5b9f796e-7cd2-4533-9c7d-9a928a938974 button.colab-df-convert');\n",
              "      buttonEl.style.display =\n",
              "        google.colab.kernel.accessAllowed ? 'block' : 'none';\n",
              "\n",
              "      async function convertToInteractive(key) {\n",
              "        const element = document.querySelector('#df-5b9f796e-7cd2-4533-9c7d-9a928a938974');\n",
              "        const dataTable =\n",
              "          await google.colab.kernel.invokeFunction('convertToInteractive',\n",
              "                                                    [key], {});\n",
              "        if (!dataTable) return;\n",
              "\n",
              "        const docLinkHtml = 'Like what you see? Visit the ' +\n",
              "          '<a target=\"_blank\" href=https://colab.research.google.com/notebooks/data_table.ipynb>data table notebook</a>'\n",
              "          + ' to learn more about interactive tables.';\n",
              "        element.innerHTML = '';\n",
              "        dataTable['output_type'] = 'display_data';\n",
              "        await google.colab.output.renderOutput(dataTable, element);\n",
              "        const docLink = document.createElement('div');\n",
              "        docLink.innerHTML = docLinkHtml;\n",
              "        element.appendChild(docLink);\n",
              "      }\n",
              "    </script>\n",
              "  </div>\n",
              "\n",
              "\n",
              "<div id=\"df-2e4bfe88-a0f7-44c0-8452-ab8a67905168\">\n",
              "  <button class=\"colab-df-quickchart\" onclick=\"quickchart('df-2e4bfe88-a0f7-44c0-8452-ab8a67905168')\"\n",
              "            title=\"Suggest charts.\"\n",
              "            style=\"display:none;\">\n",
              "\n",
              "<svg xmlns=\"http://www.w3.org/2000/svg\" height=\"24px\"viewBox=\"0 0 24 24\"\n",
              "     width=\"24px\">\n",
              "    <g>\n",
              "        <path d=\"M19 3H5c-1.1 0-2 .9-2 2v14c0 1.1.9 2 2 2h14c1.1 0 2-.9 2-2V5c0-1.1-.9-2-2-2zM9 17H7v-7h2v7zm4 0h-2V7h2v10zm4 0h-2v-4h2v4z\"/>\n",
              "    </g>\n",
              "</svg>\n",
              "  </button>\n",
              "\n",
              "<style>\n",
              "  .colab-df-quickchart {\n",
              "      --bg-color: #E8F0FE;\n",
              "      --fill-color: #1967D2;\n",
              "      --hover-bg-color: #E2EBFA;\n",
              "      --hover-fill-color: #174EA6;\n",
              "      --disabled-fill-color: #AAA;\n",
              "      --disabled-bg-color: #DDD;\n",
              "  }\n",
              "\n",
              "  [theme=dark] .colab-df-quickchart {\n",
              "      --bg-color: #3B4455;\n",
              "      --fill-color: #D2E3FC;\n",
              "      --hover-bg-color: #434B5C;\n",
              "      --hover-fill-color: #FFFFFF;\n",
              "      --disabled-bg-color: #3B4455;\n",
              "      --disabled-fill-color: #666;\n",
              "  }\n",
              "\n",
              "  .colab-df-quickchart {\n",
              "    background-color: var(--bg-color);\n",
              "    border: none;\n",
              "    border-radius: 50%;\n",
              "    cursor: pointer;\n",
              "    display: none;\n",
              "    fill: var(--fill-color);\n",
              "    height: 32px;\n",
              "    padding: 0;\n",
              "    width: 32px;\n",
              "  }\n",
              "\n",
              "  .colab-df-quickchart:hover {\n",
              "    background-color: var(--hover-bg-color);\n",
              "    box-shadow: 0 1px 2px rgba(60, 64, 67, 0.3), 0 1px 3px 1px rgba(60, 64, 67, 0.15);\n",
              "    fill: var(--button-hover-fill-color);\n",
              "  }\n",
              "\n",
              "  .colab-df-quickchart-complete:disabled,\n",
              "  .colab-df-quickchart-complete:disabled:hover {\n",
              "    background-color: var(--disabled-bg-color);\n",
              "    fill: var(--disabled-fill-color);\n",
              "    box-shadow: none;\n",
              "  }\n",
              "\n",
              "  .colab-df-spinner {\n",
              "    border: 2px solid var(--fill-color);\n",
              "    border-color: transparent;\n",
              "    border-bottom-color: var(--fill-color);\n",
              "    animation:\n",
              "      spin 1s steps(1) infinite;\n",
              "  }\n",
              "\n",
              "  @keyframes spin {\n",
              "    0% {\n",
              "      border-color: transparent;\n",
              "      border-bottom-color: var(--fill-color);\n",
              "      border-left-color: var(--fill-color);\n",
              "    }\n",
              "    20% {\n",
              "      border-color: transparent;\n",
              "      border-left-color: var(--fill-color);\n",
              "      border-top-color: var(--fill-color);\n",
              "    }\n",
              "    30% {\n",
              "      border-color: transparent;\n",
              "      border-left-color: var(--fill-color);\n",
              "      border-top-color: var(--fill-color);\n",
              "      border-right-color: var(--fill-color);\n",
              "    }\n",
              "    40% {\n",
              "      border-color: transparent;\n",
              "      border-right-color: var(--fill-color);\n",
              "      border-top-color: var(--fill-color);\n",
              "    }\n",
              "    60% {\n",
              "      border-color: transparent;\n",
              "      border-right-color: var(--fill-color);\n",
              "    }\n",
              "    80% {\n",
              "      border-color: transparent;\n",
              "      border-right-color: var(--fill-color);\n",
              "      border-bottom-color: var(--fill-color);\n",
              "    }\n",
              "    90% {\n",
              "      border-color: transparent;\n",
              "      border-bottom-color: var(--fill-color);\n",
              "    }\n",
              "  }\n",
              "</style>\n",
              "\n",
              "  <script>\n",
              "    async function quickchart(key) {\n",
              "      const quickchartButtonEl =\n",
              "        document.querySelector('#' + key + ' button');\n",
              "      quickchartButtonEl.disabled = true;  // To prevent multiple clicks.\n",
              "      quickchartButtonEl.classList.add('colab-df-spinner');\n",
              "      try {\n",
              "        const charts = await google.colab.kernel.invokeFunction(\n",
              "            'suggestCharts', [key], {});\n",
              "      } catch (error) {\n",
              "        console.error('Error during call to suggestCharts:', error);\n",
              "      }\n",
              "      quickchartButtonEl.classList.remove('colab-df-spinner');\n",
              "      quickchartButtonEl.classList.add('colab-df-quickchart-complete');\n",
              "    }\n",
              "    (() => {\n",
              "      let quickchartButtonEl =\n",
              "        document.querySelector('#df-2e4bfe88-a0f7-44c0-8452-ab8a67905168 button');\n",
              "      quickchartButtonEl.style.display =\n",
              "        google.colab.kernel.accessAllowed ? 'block' : 'none';\n",
              "    })();\n",
              "  </script>\n",
              "</div>\n",
              "    </div>\n",
              "  </div>\n"
            ]
          },
          "metadata": {},
          "execution_count": 26
        }
      ]
    },
    {
      "cell_type": "code",
      "source": [
        "rets1 = cryptoprice1.pct_change().dropna()\n",
        "rets1"
      ],
      "metadata": {
        "colab": {
          "base_uri": "https://localhost:8080/",
          "height": 649
        },
        "id": "FvjZ6jIo0ytE",
        "outputId": "36d0dbec-7b31-47fd-97ac-1c8fd162e17f"
      },
      "execution_count": 27,
      "outputs": [
        {
          "output_type": "execute_result",
          "data": {
            "text/plain": [
              "             ADA-USD   BNB-USD   BTC-USD   DOT-USD   ETH-USD  LINK-USD  \\\n",
              "Date                                                                     \n",
              "2021-04-17 -0.022640  0.019985 -0.014438  0.024026 -0.035795 -0.041079   \n",
              "2021-04-18 -0.078974 -0.075675 -0.073622 -0.121980 -0.045954 -0.032353   \n",
              "2021-04-19 -0.060793  0.050014 -0.008750 -0.067763 -0.031714 -0.081568   \n",
              "2021-04-20  0.056742  0.162220  0.013437  0.018031  0.075719  0.085599   \n",
              "2021-04-21 -0.046763 -0.069853 -0.045454 -0.044391  0.014823 -0.064550   \n",
              "...              ...       ...       ...       ...       ...       ...   \n",
              "2023-09-28  0.017684  0.014579  0.025380  0.021032  0.034674  0.023607   \n",
              "2023-09-29  0.001670  0.000946 -0.004064  0.000638  0.009112  0.016861   \n",
              "2023-09-30  0.018078 -0.002128  0.002088  0.006955  0.001929  0.028465   \n",
              "2023-10-01  0.046637  0.015016  0.037668  0.037848  0.037488 -0.016366   \n",
              "2023-10-02 -0.016929 -0.015690 -0.005506 -0.030725 -0.041898 -0.059327   \n",
              "\n",
              "             LTC-USD   SOL-USD   XLM-USD   XRP-USD  \n",
              "Date                                                \n",
              "2021-04-17 -0.018843 -0.011713 -0.022842  0.001623  \n",
              "2021-04-18 -0.103889  0.286975 -0.090981 -0.098751  \n",
              "2021-04-19 -0.040936 -0.019411 -0.079856 -0.064690  \n",
              "2021-04-20 -0.003733  0.002973  0.053300  0.051903  \n",
              "2021-04-21 -0.008185  0.023386 -0.067927 -0.062749  \n",
              "...              ...       ...       ...       ...  \n",
              "2023-09-28  0.027596  0.043262  0.015176  0.019872  \n",
              "2023-09-29  0.006028  0.017188 -0.011831  0.023932  \n",
              "2023-09-30  0.006667  0.053914 -0.004511 -0.012102  \n",
              "2023-10-01  0.032748  0.114107  0.018312  0.017072  \n",
              "2023-10-02 -0.031927 -0.017835 -0.022475 -0.017631  \n",
              "\n",
              "[899 rows x 10 columns]"
            ],
            "text/html": [
              "\n",
              "  <div id=\"df-0036bbef-e971-4d67-90c5-5e615d914704\" class=\"colab-df-container\">\n",
              "    <div>\n",
              "<style scoped>\n",
              "    .dataframe tbody tr th:only-of-type {\n",
              "        vertical-align: middle;\n",
              "    }\n",
              "\n",
              "    .dataframe tbody tr th {\n",
              "        vertical-align: top;\n",
              "    }\n",
              "\n",
              "    .dataframe thead th {\n",
              "        text-align: right;\n",
              "    }\n",
              "</style>\n",
              "<table border=\"1\" class=\"dataframe\">\n",
              "  <thead>\n",
              "    <tr style=\"text-align: right;\">\n",
              "      <th></th>\n",
              "      <th>ADA-USD</th>\n",
              "      <th>BNB-USD</th>\n",
              "      <th>BTC-USD</th>\n",
              "      <th>DOT-USD</th>\n",
              "      <th>ETH-USD</th>\n",
              "      <th>LINK-USD</th>\n",
              "      <th>LTC-USD</th>\n",
              "      <th>SOL-USD</th>\n",
              "      <th>XLM-USD</th>\n",
              "      <th>XRP-USD</th>\n",
              "    </tr>\n",
              "    <tr>\n",
              "      <th>Date</th>\n",
              "      <th></th>\n",
              "      <th></th>\n",
              "      <th></th>\n",
              "      <th></th>\n",
              "      <th></th>\n",
              "      <th></th>\n",
              "      <th></th>\n",
              "      <th></th>\n",
              "      <th></th>\n",
              "      <th></th>\n",
              "    </tr>\n",
              "  </thead>\n",
              "  <tbody>\n",
              "    <tr>\n",
              "      <th>2021-04-17</th>\n",
              "      <td>-0.022640</td>\n",
              "      <td>0.019985</td>\n",
              "      <td>-0.014438</td>\n",
              "      <td>0.024026</td>\n",
              "      <td>-0.035795</td>\n",
              "      <td>-0.041079</td>\n",
              "      <td>-0.018843</td>\n",
              "      <td>-0.011713</td>\n",
              "      <td>-0.022842</td>\n",
              "      <td>0.001623</td>\n",
              "    </tr>\n",
              "    <tr>\n",
              "      <th>2021-04-18</th>\n",
              "      <td>-0.078974</td>\n",
              "      <td>-0.075675</td>\n",
              "      <td>-0.073622</td>\n",
              "      <td>-0.121980</td>\n",
              "      <td>-0.045954</td>\n",
              "      <td>-0.032353</td>\n",
              "      <td>-0.103889</td>\n",
              "      <td>0.286975</td>\n",
              "      <td>-0.090981</td>\n",
              "      <td>-0.098751</td>\n",
              "    </tr>\n",
              "    <tr>\n",
              "      <th>2021-04-19</th>\n",
              "      <td>-0.060793</td>\n",
              "      <td>0.050014</td>\n",
              "      <td>-0.008750</td>\n",
              "      <td>-0.067763</td>\n",
              "      <td>-0.031714</td>\n",
              "      <td>-0.081568</td>\n",
              "      <td>-0.040936</td>\n",
              "      <td>-0.019411</td>\n",
              "      <td>-0.079856</td>\n",
              "      <td>-0.064690</td>\n",
              "    </tr>\n",
              "    <tr>\n",
              "      <th>2021-04-20</th>\n",
              "      <td>0.056742</td>\n",
              "      <td>0.162220</td>\n",
              "      <td>0.013437</td>\n",
              "      <td>0.018031</td>\n",
              "      <td>0.075719</td>\n",
              "      <td>0.085599</td>\n",
              "      <td>-0.003733</td>\n",
              "      <td>0.002973</td>\n",
              "      <td>0.053300</td>\n",
              "      <td>0.051903</td>\n",
              "    </tr>\n",
              "    <tr>\n",
              "      <th>2021-04-21</th>\n",
              "      <td>-0.046763</td>\n",
              "      <td>-0.069853</td>\n",
              "      <td>-0.045454</td>\n",
              "      <td>-0.044391</td>\n",
              "      <td>0.014823</td>\n",
              "      <td>-0.064550</td>\n",
              "      <td>-0.008185</td>\n",
              "      <td>0.023386</td>\n",
              "      <td>-0.067927</td>\n",
              "      <td>-0.062749</td>\n",
              "    </tr>\n",
              "    <tr>\n",
              "      <th>...</th>\n",
              "      <td>...</td>\n",
              "      <td>...</td>\n",
              "      <td>...</td>\n",
              "      <td>...</td>\n",
              "      <td>...</td>\n",
              "      <td>...</td>\n",
              "      <td>...</td>\n",
              "      <td>...</td>\n",
              "      <td>...</td>\n",
              "      <td>...</td>\n",
              "    </tr>\n",
              "    <tr>\n",
              "      <th>2023-09-28</th>\n",
              "      <td>0.017684</td>\n",
              "      <td>0.014579</td>\n",
              "      <td>0.025380</td>\n",
              "      <td>0.021032</td>\n",
              "      <td>0.034674</td>\n",
              "      <td>0.023607</td>\n",
              "      <td>0.027596</td>\n",
              "      <td>0.043262</td>\n",
              "      <td>0.015176</td>\n",
              "      <td>0.019872</td>\n",
              "    </tr>\n",
              "    <tr>\n",
              "      <th>2023-09-29</th>\n",
              "      <td>0.001670</td>\n",
              "      <td>0.000946</td>\n",
              "      <td>-0.004064</td>\n",
              "      <td>0.000638</td>\n",
              "      <td>0.009112</td>\n",
              "      <td>0.016861</td>\n",
              "      <td>0.006028</td>\n",
              "      <td>0.017188</td>\n",
              "      <td>-0.011831</td>\n",
              "      <td>0.023932</td>\n",
              "    </tr>\n",
              "    <tr>\n",
              "      <th>2023-09-30</th>\n",
              "      <td>0.018078</td>\n",
              "      <td>-0.002128</td>\n",
              "      <td>0.002088</td>\n",
              "      <td>0.006955</td>\n",
              "      <td>0.001929</td>\n",
              "      <td>0.028465</td>\n",
              "      <td>0.006667</td>\n",
              "      <td>0.053914</td>\n",
              "      <td>-0.004511</td>\n",
              "      <td>-0.012102</td>\n",
              "    </tr>\n",
              "    <tr>\n",
              "      <th>2023-10-01</th>\n",
              "      <td>0.046637</td>\n",
              "      <td>0.015016</td>\n",
              "      <td>0.037668</td>\n",
              "      <td>0.037848</td>\n",
              "      <td>0.037488</td>\n",
              "      <td>-0.016366</td>\n",
              "      <td>0.032748</td>\n",
              "      <td>0.114107</td>\n",
              "      <td>0.018312</td>\n",
              "      <td>0.017072</td>\n",
              "    </tr>\n",
              "    <tr>\n",
              "      <th>2023-10-02</th>\n",
              "      <td>-0.016929</td>\n",
              "      <td>-0.015690</td>\n",
              "      <td>-0.005506</td>\n",
              "      <td>-0.030725</td>\n",
              "      <td>-0.041898</td>\n",
              "      <td>-0.059327</td>\n",
              "      <td>-0.031927</td>\n",
              "      <td>-0.017835</td>\n",
              "      <td>-0.022475</td>\n",
              "      <td>-0.017631</td>\n",
              "    </tr>\n",
              "  </tbody>\n",
              "</table>\n",
              "<p>899 rows × 10 columns</p>\n",
              "</div>\n",
              "    <div class=\"colab-df-buttons\">\n",
              "\n",
              "  <div class=\"colab-df-container\">\n",
              "    <button class=\"colab-df-convert\" onclick=\"convertToInteractive('df-0036bbef-e971-4d67-90c5-5e615d914704')\"\n",
              "            title=\"Convert this dataframe to an interactive table.\"\n",
              "            style=\"display:none;\">\n",
              "\n",
              "  <svg xmlns=\"http://www.w3.org/2000/svg\" height=\"24px\" viewBox=\"0 -960 960 960\">\n",
              "    <path d=\"M120-120v-720h720v720H120Zm60-500h600v-160H180v160Zm220 220h160v-160H400v160Zm0 220h160v-160H400v160ZM180-400h160v-160H180v160Zm440 0h160v-160H620v160ZM180-180h160v-160H180v160Zm440 0h160v-160H620v160Z\"/>\n",
              "  </svg>\n",
              "    </button>\n",
              "\n",
              "  <style>\n",
              "    .colab-df-container {\n",
              "      display:flex;\n",
              "      gap: 12px;\n",
              "    }\n",
              "\n",
              "    .colab-df-convert {\n",
              "      background-color: #E8F0FE;\n",
              "      border: none;\n",
              "      border-radius: 50%;\n",
              "      cursor: pointer;\n",
              "      display: none;\n",
              "      fill: #1967D2;\n",
              "      height: 32px;\n",
              "      padding: 0 0 0 0;\n",
              "      width: 32px;\n",
              "    }\n",
              "\n",
              "    .colab-df-convert:hover {\n",
              "      background-color: #E2EBFA;\n",
              "      box-shadow: 0px 1px 2px rgba(60, 64, 67, 0.3), 0px 1px 3px 1px rgba(60, 64, 67, 0.15);\n",
              "      fill: #174EA6;\n",
              "    }\n",
              "\n",
              "    .colab-df-buttons div {\n",
              "      margin-bottom: 4px;\n",
              "    }\n",
              "\n",
              "    [theme=dark] .colab-df-convert {\n",
              "      background-color: #3B4455;\n",
              "      fill: #D2E3FC;\n",
              "    }\n",
              "\n",
              "    [theme=dark] .colab-df-convert:hover {\n",
              "      background-color: #434B5C;\n",
              "      box-shadow: 0px 1px 3px 1px rgba(0, 0, 0, 0.15);\n",
              "      filter: drop-shadow(0px 1px 2px rgba(0, 0, 0, 0.3));\n",
              "      fill: #FFFFFF;\n",
              "    }\n",
              "  </style>\n",
              "\n",
              "    <script>\n",
              "      const buttonEl =\n",
              "        document.querySelector('#df-0036bbef-e971-4d67-90c5-5e615d914704 button.colab-df-convert');\n",
              "      buttonEl.style.display =\n",
              "        google.colab.kernel.accessAllowed ? 'block' : 'none';\n",
              "\n",
              "      async function convertToInteractive(key) {\n",
              "        const element = document.querySelector('#df-0036bbef-e971-4d67-90c5-5e615d914704');\n",
              "        const dataTable =\n",
              "          await google.colab.kernel.invokeFunction('convertToInteractive',\n",
              "                                                    [key], {});\n",
              "        if (!dataTable) return;\n",
              "\n",
              "        const docLinkHtml = 'Like what you see? Visit the ' +\n",
              "          '<a target=\"_blank\" href=https://colab.research.google.com/notebooks/data_table.ipynb>data table notebook</a>'\n",
              "          + ' to learn more about interactive tables.';\n",
              "        element.innerHTML = '';\n",
              "        dataTable['output_type'] = 'display_data';\n",
              "        await google.colab.output.renderOutput(dataTable, element);\n",
              "        const docLink = document.createElement('div');\n",
              "        docLink.innerHTML = docLinkHtml;\n",
              "        element.appendChild(docLink);\n",
              "      }\n",
              "    </script>\n",
              "  </div>\n",
              "\n",
              "\n",
              "<div id=\"df-90ba12e3-521a-40a6-a44e-d6928eced77e\">\n",
              "  <button class=\"colab-df-quickchart\" onclick=\"quickchart('df-90ba12e3-521a-40a6-a44e-d6928eced77e')\"\n",
              "            title=\"Suggest charts.\"\n",
              "            style=\"display:none;\">\n",
              "\n",
              "<svg xmlns=\"http://www.w3.org/2000/svg\" height=\"24px\"viewBox=\"0 0 24 24\"\n",
              "     width=\"24px\">\n",
              "    <g>\n",
              "        <path d=\"M19 3H5c-1.1 0-2 .9-2 2v14c0 1.1.9 2 2 2h14c1.1 0 2-.9 2-2V5c0-1.1-.9-2-2-2zM9 17H7v-7h2v7zm4 0h-2V7h2v10zm4 0h-2v-4h2v4z\"/>\n",
              "    </g>\n",
              "</svg>\n",
              "  </button>\n",
              "\n",
              "<style>\n",
              "  .colab-df-quickchart {\n",
              "      --bg-color: #E8F0FE;\n",
              "      --fill-color: #1967D2;\n",
              "      --hover-bg-color: #E2EBFA;\n",
              "      --hover-fill-color: #174EA6;\n",
              "      --disabled-fill-color: #AAA;\n",
              "      --disabled-bg-color: #DDD;\n",
              "  }\n",
              "\n",
              "  [theme=dark] .colab-df-quickchart {\n",
              "      --bg-color: #3B4455;\n",
              "      --fill-color: #D2E3FC;\n",
              "      --hover-bg-color: #434B5C;\n",
              "      --hover-fill-color: #FFFFFF;\n",
              "      --disabled-bg-color: #3B4455;\n",
              "      --disabled-fill-color: #666;\n",
              "  }\n",
              "\n",
              "  .colab-df-quickchart {\n",
              "    background-color: var(--bg-color);\n",
              "    border: none;\n",
              "    border-radius: 50%;\n",
              "    cursor: pointer;\n",
              "    display: none;\n",
              "    fill: var(--fill-color);\n",
              "    height: 32px;\n",
              "    padding: 0;\n",
              "    width: 32px;\n",
              "  }\n",
              "\n",
              "  .colab-df-quickchart:hover {\n",
              "    background-color: var(--hover-bg-color);\n",
              "    box-shadow: 0 1px 2px rgba(60, 64, 67, 0.3), 0 1px 3px 1px rgba(60, 64, 67, 0.15);\n",
              "    fill: var(--button-hover-fill-color);\n",
              "  }\n",
              "\n",
              "  .colab-df-quickchart-complete:disabled,\n",
              "  .colab-df-quickchart-complete:disabled:hover {\n",
              "    background-color: var(--disabled-bg-color);\n",
              "    fill: var(--disabled-fill-color);\n",
              "    box-shadow: none;\n",
              "  }\n",
              "\n",
              "  .colab-df-spinner {\n",
              "    border: 2px solid var(--fill-color);\n",
              "    border-color: transparent;\n",
              "    border-bottom-color: var(--fill-color);\n",
              "    animation:\n",
              "      spin 1s steps(1) infinite;\n",
              "  }\n",
              "\n",
              "  @keyframes spin {\n",
              "    0% {\n",
              "      border-color: transparent;\n",
              "      border-bottom-color: var(--fill-color);\n",
              "      border-left-color: var(--fill-color);\n",
              "    }\n",
              "    20% {\n",
              "      border-color: transparent;\n",
              "      border-left-color: var(--fill-color);\n",
              "      border-top-color: var(--fill-color);\n",
              "    }\n",
              "    30% {\n",
              "      border-color: transparent;\n",
              "      border-left-color: var(--fill-color);\n",
              "      border-top-color: var(--fill-color);\n",
              "      border-right-color: var(--fill-color);\n",
              "    }\n",
              "    40% {\n",
              "      border-color: transparent;\n",
              "      border-right-color: var(--fill-color);\n",
              "      border-top-color: var(--fill-color);\n",
              "    }\n",
              "    60% {\n",
              "      border-color: transparent;\n",
              "      border-right-color: var(--fill-color);\n",
              "    }\n",
              "    80% {\n",
              "      border-color: transparent;\n",
              "      border-right-color: var(--fill-color);\n",
              "      border-bottom-color: var(--fill-color);\n",
              "    }\n",
              "    90% {\n",
              "      border-color: transparent;\n",
              "      border-bottom-color: var(--fill-color);\n",
              "    }\n",
              "  }\n",
              "</style>\n",
              "\n",
              "  <script>\n",
              "    async function quickchart(key) {\n",
              "      const quickchartButtonEl =\n",
              "        document.querySelector('#' + key + ' button');\n",
              "      quickchartButtonEl.disabled = true;  // To prevent multiple clicks.\n",
              "      quickchartButtonEl.classList.add('colab-df-spinner');\n",
              "      try {\n",
              "        const charts = await google.colab.kernel.invokeFunction(\n",
              "            'suggestCharts', [key], {});\n",
              "      } catch (error) {\n",
              "        console.error('Error during call to suggestCharts:', error);\n",
              "      }\n",
              "      quickchartButtonEl.classList.remove('colab-df-spinner');\n",
              "      quickchartButtonEl.classList.add('colab-df-quickchart-complete');\n",
              "    }\n",
              "    (() => {\n",
              "      let quickchartButtonEl =\n",
              "        document.querySelector('#df-90ba12e3-521a-40a6-a44e-d6928eced77e button');\n",
              "      quickchartButtonEl.style.display =\n",
              "        google.colab.kernel.accessAllowed ? 'block' : 'none';\n",
              "    })();\n",
              "  </script>\n",
              "</div>\n",
              "    </div>\n",
              "  </div>\n"
            ]
          },
          "metadata": {},
          "execution_count": 27
        }
      ]
    },
    {
      "cell_type": "code",
      "source": [
        "#Weights for portfolio 1\n",
        "w1 = [1/10]*10\n",
        "\n",
        "#portfolio returns\n",
        "crypto1rp = rets1@w1\n",
        "crypto1rp"
      ],
      "metadata": {
        "colab": {
          "base_uri": "https://localhost:8080/"
        },
        "id": "4oH-Ui7G3k8C",
        "outputId": "c70a51d6-b37a-4075-ec2f-8b3d6b642ee4"
      },
      "execution_count": 60,
      "outputs": [
        {
          "output_type": "execute_result",
          "data": {
            "text/plain": [
              "Date\n",
              "2021-04-17   -0.012172\n",
              "2021-04-18   -0.043520\n",
              "2021-04-19   -0.040547\n",
              "2021-04-20    0.051619\n",
              "2021-04-21   -0.037166\n",
              "                ...   \n",
              "2023-09-28    0.024286\n",
              "2023-09-29    0.006048\n",
              "2023-09-30    0.009935\n",
              "2023-10-01    0.034053\n",
              "2023-10-02   -0.025994\n",
              "Length: 899, dtype: float64"
            ]
          },
          "metadata": {},
          "execution_count": 60
        }
      ]
    },
    {
      "cell_type": "code",
      "source": [
        "exr1 = expRet(rets1,252,True)\n",
        "print(exr1)\n",
        "print(\"*\"*50)\n",
        "\n",
        "anvol1 = annualize_vol(rets1,252)\n",
        "print(anvol1)"
      ],
      "metadata": {
        "colab": {
          "base_uri": "https://localhost:8080/"
        },
        "id": "OtUA0P3q7vfo",
        "outputId": "e44c3063-d4ae-4dfd-82a6-7b8d7f0d8457"
      },
      "execution_count": 29,
      "outputs": [
        {
          "output_type": "stream",
          "name": "stdout",
          "text": [
            "ADA-USD    -0.377363\n",
            "BNB-USD    -0.215520\n",
            "BTC-USD    -0.199565\n",
            "DOT-USD    -0.476410\n",
            "ETH-USD    -0.101337\n",
            "LINK-USD   -0.381832\n",
            "LTC-USD    -0.352048\n",
            "SOL-USD    -0.022566\n",
            "XLM-USD    -0.379401\n",
            "XRP-USD    -0.266728\n",
            "dtype: float64\n",
            "**************************************************\n",
            "ADA-USD     0.771670\n",
            "BNB-USD     0.658815\n",
            "BTC-USD     0.521663\n",
            "DOT-USD     0.842744\n",
            "ETH-USD     0.684546\n",
            "LINK-USD    0.868573\n",
            "LTC-USD     0.764584\n",
            "SOL-USD     1.023625\n",
            "XLM-USD     0.778148\n",
            "XRP-USD     0.865149\n",
            "dtype: float64\n"
          ]
        }
      ]
    },
    {
      "cell_type": "code",
      "source": [
        "#Portfolio expected return\n",
        "crypto1per = per(W=w1,ret=rets1,com=True)\n",
        "crypto1per"
      ],
      "metadata": {
        "colab": {
          "base_uri": "https://localhost:8080/"
        },
        "id": "rN6cz3T58G_w",
        "outputId": "52106c86-02e1-44e0-d07e-f48a3e544a4e"
      },
      "execution_count": 30,
      "outputs": [
        {
          "output_type": "execute_result",
          "data": {
            "text/plain": [
              "-0.27727702176125857"
            ]
          },
          "metadata": {},
          "execution_count": 30
        }
      ]
    },
    {
      "cell_type": "code",
      "source": [
        "#pV\n",
        "cryptopV1 = pV(w1,rets1,252,True)\n",
        "cryptopV1"
      ],
      "metadata": {
        "colab": {
          "base_uri": "https://localhost:8080/"
        },
        "id": "IMqWY_I48Rpg",
        "outputId": "169f711e-d264-4003-a0c3-d04d2a592c4c"
      },
      "execution_count": 31,
      "outputs": [
        {
          "output_type": "execute_result",
          "data": {
            "text/plain": [
              "0.671755235844305"
            ]
          },
          "metadata": {},
          "execution_count": 31
        }
      ]
    },
    {
      "cell_type": "code",
      "source": [
        "#MVP\n",
        "crypto1mvp = mvp(rets1,252,True)\n",
        "crypto1mvp"
      ],
      "metadata": {
        "colab": {
          "base_uri": "https://localhost:8080/"
        },
        "id": "fheiyYr18bKg",
        "outputId": "585fcabb-f1d5-4061-e724-3427021100f2"
      },
      "execution_count": 32,
      "outputs": [
        {
          "output_type": "execute_result",
          "data": {
            "text/plain": [
              "{'w': array([ 0.03103269,  0.29614544,  1.13485087, -0.14243568, -0.10982411,\n",
              "        -0.12536536, -0.08943755, -0.04196004,  0.0963226 , -0.04932887]),\n",
              " 'er': -0.16611155728392463,\n",
              " 'vol': 0.4949266473909669}"
            ]
          },
          "metadata": {},
          "execution_count": 32
        }
      ]
    },
    {
      "cell_type": "code",
      "source": [
        "#Manual optimization 1 - Only with pV\n",
        "crypto1optres = sco.minimize(lambda w1: pV(w1,rets1),\n",
        "                             [1/10]*10,\n",
        "                             constraints=[dict(type='eq',fun=lambda w1: sum(w1)-1)])\n",
        "crypto1optres"
      ],
      "metadata": {
        "colab": {
          "base_uri": "https://localhost:8080/"
        },
        "id": "r-TXuZPL8j7P",
        "outputId": "688b8fdf-ddb2-4452-ae06-b8efa3f55b0c"
      },
      "execution_count": 33,
      "outputs": [
        {
          "output_type": "execute_result",
          "data": {
            "text/plain": [
              " message: Optimization terminated successfully\n",
              " success: True\n",
              "  status: 0\n",
              "     fun: 0.2449523862976625\n",
              "       x: [ 3.103e-02  2.961e-01  1.135e+00 -1.424e-01 -1.098e-01\n",
              "           -1.254e-01 -8.944e-02 -4.196e-02  9.632e-02 -4.933e-02]\n",
              "     nit: 12\n",
              "     jac: [ 4.898e-01  4.893e-01  4.901e-01  4.900e-01  4.901e-01\n",
              "            4.897e-01  4.902e-01  4.899e-01  4.900e-01  4.897e-01]\n",
              "    nfev: 133\n",
              "    njev: 12"
            ]
          },
          "metadata": {},
          "execution_count": 33
        }
      ]
    },
    {
      "cell_type": "code",
      "source": [
        "#Target of Portfolio Return\n",
        "crypto1target = targetP(rets1,0.4)\n",
        "crypto1target"
      ],
      "metadata": {
        "colab": {
          "base_uri": "https://localhost:8080/"
        },
        "id": "gPIyeUN69KoE",
        "outputId": "782a8d62-1d9d-4221-86af-0aa9279984b5"
      },
      "execution_count": 34,
      "outputs": [
        {
          "output_type": "execute_result",
          "data": {
            "text/plain": [
              "{'w': array([-0.12494037,  0.39782742,  0.87965059, -0.61259607,  0.47419275,\n",
              "        -0.15156823, -0.19950973,  0.26715226, -0.20533705,  0.27512842]),\n",
              " 'er': 0.4,\n",
              " 'vol': 0.6217833478891702}"
            ]
          },
          "metadata": {},
          "execution_count": 34
        }
      ]
    },
    {
      "cell_type": "code",
      "source": [
        "#Manual optimization 2 - with pV and per\n",
        "crypto1optres1 = sco.minimize(lambda w1: pV(w1,rets1),\n",
        "                              [1/10]*10,\n",
        "                              constraints=[dict(type='eq',fun=lambda w1:sum(w1)-1),\n",
        "                                           dict(type='eq',fun=lambda w1:per(w1,rets1)-0.4)])\n",
        "crypto1optres1"
      ],
      "metadata": {
        "colab": {
          "base_uri": "https://localhost:8080/"
        },
        "id": "WYjV7vyc9vS3",
        "outputId": "210cf569-94fd-4add-eb5b-133dc9fd32ab"
      },
      "execution_count": 35,
      "outputs": [
        {
          "output_type": "execute_result",
          "data": {
            "text/plain": [
              " message: Optimization terminated successfully\n",
              " success: True\n",
              "  status: 0\n",
              "     fun: 0.38661453171226495\n",
              "       x: [-1.249e-01  3.978e-01  8.797e-01 -6.126e-01  4.742e-01\n",
              "           -1.516e-01 -1.995e-01  2.672e-01 -2.053e-01  2.751e-01]\n",
              "     nit: 12\n",
              "     jac: [ 4.455e-01  5.341e-01  4.977e-01  3.849e-01  6.198e-01\n",
              "            4.910e-01  4.692e-01  8.339e-01  4.419e-01  5.689e-01]\n",
              "    nfev: 133\n",
              "    njev: 12"
            ]
          },
          "metadata": {},
          "execution_count": 35
        }
      ]
    },
    {
      "cell_type": "code",
      "source": [
        "#Manual optimization 3 -with pV and per and bounds\n",
        "crypto1optres2 = sco.minimize(lambda w1: pV(w1,rets1),\n",
        "                              [1/10]*10,\n",
        "                              bounds=[[0,1.5]]*10,\n",
        "                              constraints=[dict(type='eq',fun=lambda w1:sum(w1)-1),\n",
        "                                           dict(type='eq',fun=lambda w1:per(w1,rets1)-0.4)])\n",
        "crypto1optres2"
      ],
      "metadata": {
        "colab": {
          "base_uri": "https://localhost:8080/"
        },
        "id": "b7eAlJbL-Xu2",
        "outputId": "062d29cb-5fa9-488a-afd0-ce462fcea93b"
      },
      "execution_count": 36,
      "outputs": [
        {
          "output_type": "execute_result",
          "data": {
            "text/plain": [
              " message: Optimization terminated successfully\n",
              " success: True\n",
              "  status: 0\n",
              "     fun: 0.7766688574462491\n",
              "       x: [ 0.000e+00  0.000e+00  0.000e+00  1.129e-16  2.839e-01\n",
              "            2.996e-16  0.000e+00  7.161e-01  2.332e-17  0.000e+00]\n",
              "     nit: 3\n",
              "     jac: [ 9.521e-01  8.337e-01  6.482e-01  1.094e+00  9.761e-01\n",
              "            1.099e+00  9.383e-01  1.782e+00  8.568e-01  9.133e-01]\n",
              "    nfev: 33\n",
              "    njev: 3"
            ]
          },
          "metadata": {},
          "execution_count": 36
        }
      ]
    },
    {
      "cell_type": "code",
      "source": [
        "#Effective Frontier without range\n",
        "crypto1EF1 = EF(rets1,plot='full')\n",
        "crypto1EF1"
      ],
      "metadata": {
        "colab": {
          "base_uri": "https://localhost:8080/",
          "height": 542
        },
        "id": "v7VcICBM-p0I",
        "outputId": "64151bd0-f5e0-4fde-88bc-0831f827504c"
      },
      "execution_count": 37,
      "outputs": [
        {
          "output_type": "display_data",
          "data": {
            "text/html": [
              "<html>\n",
              "<head><meta charset=\"utf-8\" /></head>\n",
              "<body>\n",
              "    <div>            <script src=\"https://cdnjs.cloudflare.com/ajax/libs/mathjax/2.7.5/MathJax.js?config=TeX-AMS-MML_SVG\"></script><script type=\"text/javascript\">if (window.MathJax && window.MathJax.Hub && window.MathJax.Hub.Config) {window.MathJax.Hub.Config({SVG: {font: \"STIX-Web\"}});}</script>                <script type=\"text/javascript\">window.PlotlyConfig = {MathJaxConfig: 'local'};</script>\n",
              "        <script charset=\"utf-8\" src=\"https://cdn.plot.ly/plotly-2.24.1.min.js\"></script>                <div id=\"36ec13cb-e6fc-4f4f-9fba-ab51dc902b23\" class=\"plotly-graph-div\" style=\"height:525px; width:100%;\"></div>            <script type=\"text/javascript\">                                    window.PLOTLYENV=window.PLOTLYENV || {};                                    if (document.getElementById(\"36ec13cb-e6fc-4f4f-9fba-ab51dc902b23\")) {                    Plotly.newPlot(                        \"36ec13cb-e6fc-4f4f-9fba-ab51dc902b23\",                        [{\"fill\":\"tozeroy\",\"fillcolor\":\"Pink\",\"line\":{\"color\":\"Blue\",\"dash\":\"dash\"},\"x\":[0.5017463391748184,0.5030397375330591,0.504442440169892,0.5059535360449913,0.5075720561633115,0.5092969764090036,0.5111272204741164,0.5130616627261173,0.515099131273837,0.5172384108751712,0.5194776001374027,0.5218166480741379,0.5242536239059866,0.5267871689706274,0.5294158971264051,0.5321383974629211,0.5349532361723347,0.5378589594290581,0.5408547181618564,0.5439377387055592,0.547107216611498,0.550361661390165,0.553699576934732,0.5571194641152122,0.5606198233539639,0.564199156910471,0.5678559711195683,0.5715887784112303,0.5753960991756263,0.5792764635506403,0.583228412991874,0.5872505017240586,0.5913412981109811,0.5954993858211107,0.5997233649356284,0.6040118529109717,0.6083634854324774,0.6127769171759059,0.6172508225161666,0.6217833478891702],\"y\":[0.01,0.02,0.03,0.04,0.05,0.060000000000000005,0.06999999999999999,0.08,0.09,0.09999999999999999,0.11,0.12,0.13,0.14,0.15000000000000002,0.16,0.17,0.18000000000000002,0.19,0.2,0.21000000000000002,0.22,0.23,0.24000000000000002,0.25,0.26,0.27,0.28,0.29000000000000004,0.3,0.31,0.32,0.33,0.34,0.35000000000000003,0.36000000000000004,0.37,0.38,0.39,0.4],\"type\":\"scatter\"},{\"line\":{\"color\":\"Blue\",\"width\":3},\"x\":[0.5017463391748184,0.5030397375330591,0.504442440169892,0.5059535360449913,0.5075720561633115,0.5092969764090036,0.5111272204741164,0.5130616627261173,0.515099131273837,0.5172384108751712,0.5194776001374027,0.5218166480741379,0.5242536239059866,0.5267871689706274,0.5294158971264051,0.5321383974629211,0.5349532361723347,0.5378589594290581,0.5408547181618564,0.5439377387055592,0.547107216611498,0.550361661390165,0.553699576934732,0.5571194641152122,0.5606198233539639,0.564199156910471,0.5678559711195683,0.5715887784112303,0.5753960991756263,0.5792764635506403,0.583228412991874,0.5872505017240586,0.5913412981109811,0.5954993858211107,0.5997233649356284,0.6040118529109717,0.6083634854324774,0.6127769171759059,0.6172508225161666,0.6217833478891702],\"y\":[0.01,0.02,0.03,0.04,0.05,0.060000000000000005,0.06999999999999999,0.08,0.09,0.09999999999999999,0.11,0.12,0.13,0.14,0.15000000000000002,0.16,0.17,0.18000000000000002,0.19,0.2,0.21000000000000002,0.22,0.23,0.24000000000000002,0.25,0.26,0.27,0.28,0.29000000000000004,0.3,0.31,0.32,0.33,0.34,0.35000000000000003,0.36000000000000004,0.37,0.38,0.39,0.4],\"type\":\"scatter\"},{\"marker\":{\"color\":\"Red\",\"line\":{\"color\":\"Black\",\"width\":2},\"size\":10},\"x\":[0.4949266473909669],\"y\":[-0.09939078548454681],\"type\":\"scatter\"}],                        {\"template\":{\"data\":{\"histogram2dcontour\":[{\"type\":\"histogram2dcontour\",\"colorbar\":{\"outlinewidth\":0,\"ticks\":\"\"},\"colorscale\":[[0.0,\"#0d0887\"],[0.1111111111111111,\"#46039f\"],[0.2222222222222222,\"#7201a8\"],[0.3333333333333333,\"#9c179e\"],[0.4444444444444444,\"#bd3786\"],[0.5555555555555556,\"#d8576b\"],[0.6666666666666666,\"#ed7953\"],[0.7777777777777778,\"#fb9f3a\"],[0.8888888888888888,\"#fdca26\"],[1.0,\"#f0f921\"]]}],\"choropleth\":[{\"type\":\"choropleth\",\"colorbar\":{\"outlinewidth\":0,\"ticks\":\"\"}}],\"histogram2d\":[{\"type\":\"histogram2d\",\"colorbar\":{\"outlinewidth\":0,\"ticks\":\"\"},\"colorscale\":[[0.0,\"#0d0887\"],[0.1111111111111111,\"#46039f\"],[0.2222222222222222,\"#7201a8\"],[0.3333333333333333,\"#9c179e\"],[0.4444444444444444,\"#bd3786\"],[0.5555555555555556,\"#d8576b\"],[0.6666666666666666,\"#ed7953\"],[0.7777777777777778,\"#fb9f3a\"],[0.8888888888888888,\"#fdca26\"],[1.0,\"#f0f921\"]]}],\"heatmap\":[{\"type\":\"heatmap\",\"colorbar\":{\"outlinewidth\":0,\"ticks\":\"\"},\"colorscale\":[[0.0,\"#0d0887\"],[0.1111111111111111,\"#46039f\"],[0.2222222222222222,\"#7201a8\"],[0.3333333333333333,\"#9c179e\"],[0.4444444444444444,\"#bd3786\"],[0.5555555555555556,\"#d8576b\"],[0.6666666666666666,\"#ed7953\"],[0.7777777777777778,\"#fb9f3a\"],[0.8888888888888888,\"#fdca26\"],[1.0,\"#f0f921\"]]}],\"heatmapgl\":[{\"type\":\"heatmapgl\",\"colorbar\":{\"outlinewidth\":0,\"ticks\":\"\"},\"colorscale\":[[0.0,\"#0d0887\"],[0.1111111111111111,\"#46039f\"],[0.2222222222222222,\"#7201a8\"],[0.3333333333333333,\"#9c179e\"],[0.4444444444444444,\"#bd3786\"],[0.5555555555555556,\"#d8576b\"],[0.6666666666666666,\"#ed7953\"],[0.7777777777777778,\"#fb9f3a\"],[0.8888888888888888,\"#fdca26\"],[1.0,\"#f0f921\"]]}],\"contourcarpet\":[{\"type\":\"contourcarpet\",\"colorbar\":{\"outlinewidth\":0,\"ticks\":\"\"}}],\"contour\":[{\"type\":\"contour\",\"colorbar\":{\"outlinewidth\":0,\"ticks\":\"\"},\"colorscale\":[[0.0,\"#0d0887\"],[0.1111111111111111,\"#46039f\"],[0.2222222222222222,\"#7201a8\"],[0.3333333333333333,\"#9c179e\"],[0.4444444444444444,\"#bd3786\"],[0.5555555555555556,\"#d8576b\"],[0.6666666666666666,\"#ed7953\"],[0.7777777777777778,\"#fb9f3a\"],[0.8888888888888888,\"#fdca26\"],[1.0,\"#f0f921\"]]}],\"surface\":[{\"type\":\"surface\",\"colorbar\":{\"outlinewidth\":0,\"ticks\":\"\"},\"colorscale\":[[0.0,\"#0d0887\"],[0.1111111111111111,\"#46039f\"],[0.2222222222222222,\"#7201a8\"],[0.3333333333333333,\"#9c179e\"],[0.4444444444444444,\"#bd3786\"],[0.5555555555555556,\"#d8576b\"],[0.6666666666666666,\"#ed7953\"],[0.7777777777777778,\"#fb9f3a\"],[0.8888888888888888,\"#fdca26\"],[1.0,\"#f0f921\"]]}],\"mesh3d\":[{\"type\":\"mesh3d\",\"colorbar\":{\"outlinewidth\":0,\"ticks\":\"\"}}],\"scatter\":[{\"fillpattern\":{\"fillmode\":\"overlay\",\"size\":10,\"solidity\":0.2},\"type\":\"scatter\"}],\"parcoords\":[{\"type\":\"parcoords\",\"line\":{\"colorbar\":{\"outlinewidth\":0,\"ticks\":\"\"}}}],\"scatterpolargl\":[{\"type\":\"scatterpolargl\",\"marker\":{\"colorbar\":{\"outlinewidth\":0,\"ticks\":\"\"}}}],\"bar\":[{\"error_x\":{\"color\":\"#2a3f5f\"},\"error_y\":{\"color\":\"#2a3f5f\"},\"marker\":{\"line\":{\"color\":\"#E5ECF6\",\"width\":0.5},\"pattern\":{\"fillmode\":\"overlay\",\"size\":10,\"solidity\":0.2}},\"type\":\"bar\"}],\"scattergeo\":[{\"type\":\"scattergeo\",\"marker\":{\"colorbar\":{\"outlinewidth\":0,\"ticks\":\"\"}}}],\"scatterpolar\":[{\"type\":\"scatterpolar\",\"marker\":{\"colorbar\":{\"outlinewidth\":0,\"ticks\":\"\"}}}],\"histogram\":[{\"marker\":{\"pattern\":{\"fillmode\":\"overlay\",\"size\":10,\"solidity\":0.2}},\"type\":\"histogram\"}],\"scattergl\":[{\"type\":\"scattergl\",\"marker\":{\"colorbar\":{\"outlinewidth\":0,\"ticks\":\"\"}}}],\"scatter3d\":[{\"type\":\"scatter3d\",\"line\":{\"colorbar\":{\"outlinewidth\":0,\"ticks\":\"\"}},\"marker\":{\"colorbar\":{\"outlinewidth\":0,\"ticks\":\"\"}}}],\"scattermapbox\":[{\"type\":\"scattermapbox\",\"marker\":{\"colorbar\":{\"outlinewidth\":0,\"ticks\":\"\"}}}],\"scatterternary\":[{\"type\":\"scatterternary\",\"marker\":{\"colorbar\":{\"outlinewidth\":0,\"ticks\":\"\"}}}],\"scattercarpet\":[{\"type\":\"scattercarpet\",\"marker\":{\"colorbar\":{\"outlinewidth\":0,\"ticks\":\"\"}}}],\"carpet\":[{\"aaxis\":{\"endlinecolor\":\"#2a3f5f\",\"gridcolor\":\"white\",\"linecolor\":\"white\",\"minorgridcolor\":\"white\",\"startlinecolor\":\"#2a3f5f\"},\"baxis\":{\"endlinecolor\":\"#2a3f5f\",\"gridcolor\":\"white\",\"linecolor\":\"white\",\"minorgridcolor\":\"white\",\"startlinecolor\":\"#2a3f5f\"},\"type\":\"carpet\"}],\"table\":[{\"cells\":{\"fill\":{\"color\":\"#EBF0F8\"},\"line\":{\"color\":\"white\"}},\"header\":{\"fill\":{\"color\":\"#C8D4E3\"},\"line\":{\"color\":\"white\"}},\"type\":\"table\"}],\"barpolar\":[{\"marker\":{\"line\":{\"color\":\"#E5ECF6\",\"width\":0.5},\"pattern\":{\"fillmode\":\"overlay\",\"size\":10,\"solidity\":0.2}},\"type\":\"barpolar\"}],\"pie\":[{\"automargin\":true,\"type\":\"pie\"}]},\"layout\":{\"autotypenumbers\":\"strict\",\"colorway\":[\"#636efa\",\"#EF553B\",\"#00cc96\",\"#ab63fa\",\"#FFA15A\",\"#19d3f3\",\"#FF6692\",\"#B6E880\",\"#FF97FF\",\"#FECB52\"],\"font\":{\"color\":\"#2a3f5f\"},\"hovermode\":\"closest\",\"hoverlabel\":{\"align\":\"left\"},\"paper_bgcolor\":\"white\",\"plot_bgcolor\":\"#E5ECF6\",\"polar\":{\"bgcolor\":\"#E5ECF6\",\"angularaxis\":{\"gridcolor\":\"white\",\"linecolor\":\"white\",\"ticks\":\"\"},\"radialaxis\":{\"gridcolor\":\"white\",\"linecolor\":\"white\",\"ticks\":\"\"}},\"ternary\":{\"bgcolor\":\"#E5ECF6\",\"aaxis\":{\"gridcolor\":\"white\",\"linecolor\":\"white\",\"ticks\":\"\"},\"baxis\":{\"gridcolor\":\"white\",\"linecolor\":\"white\",\"ticks\":\"\"},\"caxis\":{\"gridcolor\":\"white\",\"linecolor\":\"white\",\"ticks\":\"\"}},\"coloraxis\":{\"colorbar\":{\"outlinewidth\":0,\"ticks\":\"\"}},\"colorscale\":{\"sequential\":[[0.0,\"#0d0887\"],[0.1111111111111111,\"#46039f\"],[0.2222222222222222,\"#7201a8\"],[0.3333333333333333,\"#9c179e\"],[0.4444444444444444,\"#bd3786\"],[0.5555555555555556,\"#d8576b\"],[0.6666666666666666,\"#ed7953\"],[0.7777777777777778,\"#fb9f3a\"],[0.8888888888888888,\"#fdca26\"],[1.0,\"#f0f921\"]],\"sequentialminus\":[[0.0,\"#0d0887\"],[0.1111111111111111,\"#46039f\"],[0.2222222222222222,\"#7201a8\"],[0.3333333333333333,\"#9c179e\"],[0.4444444444444444,\"#bd3786\"],[0.5555555555555556,\"#d8576b\"],[0.6666666666666666,\"#ed7953\"],[0.7777777777777778,\"#fb9f3a\"],[0.8888888888888888,\"#fdca26\"],[1.0,\"#f0f921\"]],\"diverging\":[[0,\"#8e0152\"],[0.1,\"#c51b7d\"],[0.2,\"#de77ae\"],[0.3,\"#f1b6da\"],[0.4,\"#fde0ef\"],[0.5,\"#f7f7f7\"],[0.6,\"#e6f5d0\"],[0.7,\"#b8e186\"],[0.8,\"#7fbc41\"],[0.9,\"#4d9221\"],[1,\"#276419\"]]},\"xaxis\":{\"gridcolor\":\"white\",\"linecolor\":\"white\",\"ticks\":\"\",\"title\":{\"standoff\":15},\"zerolinecolor\":\"white\",\"automargin\":true,\"zerolinewidth\":2},\"yaxis\":{\"gridcolor\":\"white\",\"linecolor\":\"white\",\"ticks\":\"\",\"title\":{\"standoff\":15},\"zerolinecolor\":\"white\",\"automargin\":true,\"zerolinewidth\":2},\"scene\":{\"xaxis\":{\"backgroundcolor\":\"#E5ECF6\",\"gridcolor\":\"white\",\"linecolor\":\"white\",\"showbackground\":true,\"ticks\":\"\",\"zerolinecolor\":\"white\",\"gridwidth\":2},\"yaxis\":{\"backgroundcolor\":\"#E5ECF6\",\"gridcolor\":\"white\",\"linecolor\":\"white\",\"showbackground\":true,\"ticks\":\"\",\"zerolinecolor\":\"white\",\"gridwidth\":2},\"zaxis\":{\"backgroundcolor\":\"#E5ECF6\",\"gridcolor\":\"white\",\"linecolor\":\"white\",\"showbackground\":true,\"ticks\":\"\",\"zerolinecolor\":\"white\",\"gridwidth\":2}},\"shapedefaults\":{\"line\":{\"color\":\"#2a3f5f\"}},\"annotationdefaults\":{\"arrowcolor\":\"#2a3f5f\",\"arrowhead\":0,\"arrowwidth\":1},\"geo\":{\"bgcolor\":\"white\",\"landcolor\":\"#E5ECF6\",\"subunitcolor\":\"white\",\"showland\":true,\"showlakes\":true,\"lakecolor\":\"white\"},\"title\":{\"x\":0.05},\"mapbox\":{\"style\":\"light\"}}},\"xaxis\":{\"title\":{\"text\":\"\\\\$\\\\sigma$\"},\"range\":[-0.01,0.6317833478891702],\"zerolinecolor\":\"Black\"},\"yaxis\":{\"title\":{\"text\":\"$\\\\mu$\"},\"zerolinecolor\":\"Black\"},\"title\":{\"font\":{\"size\":25,\"color\":\"Navy\"},\"text\":\"Efficient frontier\",\"x\":0.5,\"y\":0.87},\"showlegend\":false},                        {\"responsive\": true}                    ).then(function(){\n",
              "                            \n",
              "var gd = document.getElementById('36ec13cb-e6fc-4f4f-9fba-ab51dc902b23');\n",
              "var x = new MutationObserver(function (mutations, observer) {{\n",
              "        var display = window.getComputedStyle(gd).display;\n",
              "        if (!display || display === 'none') {{\n",
              "            console.log([gd, 'removed!']);\n",
              "            Plotly.purge(gd);\n",
              "            observer.disconnect();\n",
              "        }}\n",
              "}});\n",
              "\n",
              "// Listen for the removal of the full notebook cells\n",
              "var notebookContainer = gd.closest('#notebook-container');\n",
              "if (notebookContainer) {{\n",
              "    x.observe(notebookContainer, {childList: true});\n",
              "}}\n",
              "\n",
              "// Listen for the clearing of the current output cell\n",
              "var outputEl = gd.closest('.output');\n",
              "if (outputEl) {{\n",
              "    x.observe(outputEl, {childList: true});\n",
              "}}\n",
              "\n",
              "                        })                };                            </script>        </div>\n",
              "</body>\n",
              "</html>"
            ]
          },
          "metadata": {}
        }
      ]
    },
    {
      "cell_type": "code",
      "source": [
        "# With range\n",
        "crypto1EF2 = EF(rets1,Range=[0.01,1.5],plot='full')\n",
        "crypto1EF2"
      ],
      "metadata": {
        "colab": {
          "base_uri": "https://localhost:8080/",
          "height": 542
        },
        "id": "3csI19_9_FlB",
        "outputId": "3214fb77-3a83-4f6c-cafe-976023054729"
      },
      "execution_count": 38,
      "outputs": [
        {
          "output_type": "display_data",
          "data": {
            "text/html": [
              "<html>\n",
              "<head><meta charset=\"utf-8\" /></head>\n",
              "<body>\n",
              "    <div>            <script src=\"https://cdnjs.cloudflare.com/ajax/libs/mathjax/2.7.5/MathJax.js?config=TeX-AMS-MML_SVG\"></script><script type=\"text/javascript\">if (window.MathJax && window.MathJax.Hub && window.MathJax.Hub.Config) {window.MathJax.Hub.Config({SVG: {font: \"STIX-Web\"}});}</script>                <script type=\"text/javascript\">window.PlotlyConfig = {MathJaxConfig: 'local'};</script>\n",
              "        <script charset=\"utf-8\" src=\"https://cdn.plot.ly/plotly-2.24.1.min.js\"></script>                <div id=\"3631d2e6-6456-4ab5-8c6c-7a100c512c7b\" class=\"plotly-graph-div\" style=\"height:525px; width:100%;\"></div>            <script type=\"text/javascript\">                                    window.PLOTLYENV=window.PLOTLYENV || {};                                    if (document.getElementById(\"3631d2e6-6456-4ab5-8c6c-7a100c512c7b\")) {                    Plotly.newPlot(                        \"3631d2e6-6456-4ab5-8c6c-7a100c512c7b\",                        [{\"fill\":\"tozeroy\",\"fillcolor\":\"Pink\",\"line\":{\"color\":\"Blue\",\"dash\":\"dash\"},\"x\":[0.5017463391748184,0.5030397375330591,0.504442440169892,0.5059535360449913,0.5075720561633115,0.5092969764090036,0.5111272204741164,0.5130616627261173,0.515099131273837,0.5172384108751712,0.5194776001374027,0.5218166480741379,0.5242536239059866,0.5267871689706274,0.5294158971264051,0.5321383974629211,0.5349532361723347,0.5378589594290581,0.5408547181618564,0.5439377387055592,0.547107216611498,0.550361661390165,0.553699576934732,0.5571194641152122,0.5606198233539639,0.564199156910471,0.5678559711195683,0.5715887784112303,0.5753960991756263,0.5792764635506403,0.583228412991874,0.5872505017240586,0.5913412981109811,0.5954993858211107,0.5997233649356284,0.6040118529109717,0.6083634854324774,0.6127769171759059,0.6172508225161666,0.6217833478891702,0.6263742935164816,0.6310218593582826,0.6357248035502514,0.6404819060935479,0.6452919691414494,0.6501538171471614,0.6550662969692289,0.6600282779643962,0.6650386520292241,0.670096333488424,0.6752002591245768,0.6803493880796172,0.6855427016066009,0.690779203023435,0.6960579174585525,0.7013778916185839,0.7067381936260537,0.7121379126756509,0.7175761588356069,0.7230520625932504,0.7285647747882552,0.7341134660836545,0.7396973267920901,0.7453155664414914,0.7509674135107672,0.7566525402874155,0.7623693318309507,0.7681175265137233,0.77389642553816,0.7797053471265306,0.7855436263033665,0.7914106143770022,0.7973056785686248,0.8032282016536165,0.8091775815444753,0.8151532309641283,0.8211545769897521,0.8271810607952075,0.8332321372601188,0.8393072746557848,0.8454059542933561,0.8515276703176597,0.8576719292377446,0.8638382498737663,0.8700261627960642,0.8762352103022599,0.8824649458982993,0.8887145339740938,0.894984312073386,0.9012735013470409,0.9075816980193858,0.9139085083759042,0.9202535483986579,0.9266164433907921,0.9329968280686899,0.9393943458545733,0.9458086490995993,0.9522393985251354,0.9586859154343691,0.9651485497132818,0.9716266608495046,0.9781199414082793,0.9846280911897548,0.9911508173767202,0.9976878340558425,1.0042388621391711,1.010803629262044,1.0173818694100645,1.02397332299726,1.0305777364762891,1.0371948622233058,1.043824458549848,1.0504662893282748,1.057120123962663,1.0637857372178146,1.0704629090813098,1.0771514245407434,1.0838510736102418,1.0905616512126362,1.0972829567596087,1.1040147942457545,1.110756972270601,1.1175093037032315,1.1242716054857025,1.1310436989876091,1.1378254092045532,1.1446165652269291,1.1514169999688204,1.1582265499808866,1.1650450554091938,1.171872359945543,1.1787083106850578,1.1855527581444987,1.1924055559056166,1.199266560868836,1.2061356329333963,1.213012635176968,1.2198974332697776,1.2267898962231363,1.2336898953948783,1.2405970405102722,1.2475117344048128,1.2544335951962817,1.2613625049555028,1.2682983481168626,1.2752410115540487,1.2821903844855895,1.2891463584272116,1.296108827074403,1.3030776862983273],\"y\":[0.01,0.02,0.03,0.04,0.05,0.060000000000000005,0.06999999999999999,0.08,0.09,0.09999999999999999,0.11,0.12,0.13,0.14,0.15000000000000002,0.16,0.17,0.18000000000000002,0.19,0.2,0.21000000000000002,0.22,0.23,0.24000000000000002,0.25,0.26,0.27,0.28,0.29000000000000004,0.3,0.31,0.32,0.33,0.34,0.35000000000000003,0.36000000000000004,0.37,0.38,0.39,0.4,0.41000000000000003,0.42000000000000004,0.43,0.44,0.45,0.46,0.47000000000000003,0.48000000000000004,0.49,0.5,0.51,0.52,0.53,0.54,0.55,0.56,0.5700000000000001,0.5800000000000001,0.59,0.6,0.61,0.62,0.63,0.64,0.65,0.66,0.67,0.68,0.6900000000000001,0.7000000000000001,0.7100000000000001,0.72,0.73,0.74,0.75,0.76,0.77,0.78,0.79,0.8,0.81,0.8200000000000001,0.8300000000000001,0.8400000000000001,0.85,0.86,0.87,0.88,0.89,0.9,0.91,0.92,0.93,0.9400000000000001,0.9500000000000001,0.9600000000000001,0.97,0.98,0.99,1.0,1.01,1.02,1.03,1.04,1.05,1.06,1.07,1.08,1.09,1.1,1.11,1.12,1.1300000000000001,1.1400000000000001,1.1500000000000001,1.1600000000000001,1.17,1.18,1.19,1.2,1.21,1.22,1.23,1.24,1.25,1.26,1.27,1.28,1.29,1.3,1.31,1.32,1.33,1.34,1.35,1.36,1.37,1.3800000000000001,1.3900000000000001,1.4000000000000001,1.4100000000000001,1.42,1.43,1.44,1.45,1.46,1.47,1.48,1.49,1.5],\"type\":\"scatter\"},{\"line\":{\"color\":\"Blue\",\"width\":3},\"x\":[0.5017463391748184,0.5030397375330591,0.504442440169892,0.5059535360449913,0.5075720561633115,0.5092969764090036,0.5111272204741164,0.5130616627261173,0.515099131273837,0.5172384108751712,0.5194776001374027,0.5218166480741379,0.5242536239059866,0.5267871689706274,0.5294158971264051,0.5321383974629211,0.5349532361723347,0.5378589594290581,0.5408547181618564,0.5439377387055592,0.547107216611498,0.550361661390165,0.553699576934732,0.5571194641152122,0.5606198233539639,0.564199156910471,0.5678559711195683,0.5715887784112303,0.5753960991756263,0.5792764635506403,0.583228412991874,0.5872505017240586,0.5913412981109811,0.5954993858211107,0.5997233649356284,0.6040118529109717,0.6083634854324774,0.6127769171759059,0.6172508225161666,0.6217833478891702,0.6263742935164816,0.6310218593582826,0.6357248035502514,0.6404819060935479,0.6452919691414494,0.6501538171471614,0.6550662969692289,0.6600282779643962,0.6650386520292241,0.670096333488424,0.6752002591245768,0.6803493880796172,0.6855427016066009,0.690779203023435,0.6960579174585525,0.7013778916185839,0.7067381936260537,0.7121379126756509,0.7175761588356069,0.7230520625932504,0.7285647747882552,0.7341134660836545,0.7396973267920901,0.7453155664414914,0.7509674135107672,0.7566525402874155,0.7623693318309507,0.7681175265137233,0.77389642553816,0.7797053471265306,0.7855436263033665,0.7914106143770022,0.7973056785686248,0.8032282016536165,0.8091775815444753,0.8151532309641283,0.8211545769897521,0.8271810607952075,0.8332321372601188,0.8393072746557848,0.8454059542933561,0.8515276703176597,0.8576719292377446,0.8638382498737663,0.8700261627960642,0.8762352103022599,0.8824649458982993,0.8887145339740938,0.894984312073386,0.9012735013470409,0.9075816980193858,0.9139085083759042,0.9202535483986579,0.9266164433907921,0.9329968280686899,0.9393943458545733,0.9458086490995993,0.9522393985251354,0.9586859154343691,0.9651485497132818,0.9716266608495046,0.9781199414082793,0.9846280911897548,0.9911508173767202,0.9976878340558425,1.0042388621391711,1.010803629262044,1.0173818694100645,1.02397332299726,1.0305777364762891,1.0371948622233058,1.043824458549848,1.0504662893282748,1.057120123962663,1.0637857372178146,1.0704629090813098,1.0771514245407434,1.0838510736102418,1.0905616512126362,1.0972829567596087,1.1040147942457545,1.110756972270601,1.1175093037032315,1.1242716054857025,1.1310436989876091,1.1378254092045532,1.1446165652269291,1.1514169999688204,1.1582265499808866,1.1650450554091938,1.171872359945543,1.1787083106850578,1.1855527581444987,1.1924055559056166,1.199266560868836,1.2061356329333963,1.213012635176968,1.2198974332697776,1.2267898962231363,1.2336898953948783,1.2405970405102722,1.2475117344048128,1.2544335951962817,1.2613625049555028,1.2682983481168626,1.2752410115540487,1.2821903844855895,1.2891463584272116,1.296108827074403,1.3030776862983273],\"y\":[0.01,0.02,0.03,0.04,0.05,0.060000000000000005,0.06999999999999999,0.08,0.09,0.09999999999999999,0.11,0.12,0.13,0.14,0.15000000000000002,0.16,0.17,0.18000000000000002,0.19,0.2,0.21000000000000002,0.22,0.23,0.24000000000000002,0.25,0.26,0.27,0.28,0.29000000000000004,0.3,0.31,0.32,0.33,0.34,0.35000000000000003,0.36000000000000004,0.37,0.38,0.39,0.4,0.41000000000000003,0.42000000000000004,0.43,0.44,0.45,0.46,0.47000000000000003,0.48000000000000004,0.49,0.5,0.51,0.52,0.53,0.54,0.55,0.56,0.5700000000000001,0.5800000000000001,0.59,0.6,0.61,0.62,0.63,0.64,0.65,0.66,0.67,0.68,0.6900000000000001,0.7000000000000001,0.7100000000000001,0.72,0.73,0.74,0.75,0.76,0.77,0.78,0.79,0.8,0.81,0.8200000000000001,0.8300000000000001,0.8400000000000001,0.85,0.86,0.87,0.88,0.89,0.9,0.91,0.92,0.93,0.9400000000000001,0.9500000000000001,0.9600000000000001,0.97,0.98,0.99,1.0,1.01,1.02,1.03,1.04,1.05,1.06,1.07,1.08,1.09,1.1,1.11,1.12,1.1300000000000001,1.1400000000000001,1.1500000000000001,1.1600000000000001,1.17,1.18,1.19,1.2,1.21,1.22,1.23,1.24,1.25,1.26,1.27,1.28,1.29,1.3,1.31,1.32,1.33,1.34,1.35,1.36,1.37,1.3800000000000001,1.3900000000000001,1.4000000000000001,1.4100000000000001,1.42,1.43,1.44,1.45,1.46,1.47,1.48,1.49,1.5],\"type\":\"scatter\"},{\"marker\":{\"color\":\"Red\",\"line\":{\"color\":\"Black\",\"width\":2},\"size\":10},\"x\":[0.4949266473909669],\"y\":[-0.09939078548454681],\"type\":\"scatter\"}],                        {\"template\":{\"data\":{\"histogram2dcontour\":[{\"type\":\"histogram2dcontour\",\"colorbar\":{\"outlinewidth\":0,\"ticks\":\"\"},\"colorscale\":[[0.0,\"#0d0887\"],[0.1111111111111111,\"#46039f\"],[0.2222222222222222,\"#7201a8\"],[0.3333333333333333,\"#9c179e\"],[0.4444444444444444,\"#bd3786\"],[0.5555555555555556,\"#d8576b\"],[0.6666666666666666,\"#ed7953\"],[0.7777777777777778,\"#fb9f3a\"],[0.8888888888888888,\"#fdca26\"],[1.0,\"#f0f921\"]]}],\"choropleth\":[{\"type\":\"choropleth\",\"colorbar\":{\"outlinewidth\":0,\"ticks\":\"\"}}],\"histogram2d\":[{\"type\":\"histogram2d\",\"colorbar\":{\"outlinewidth\":0,\"ticks\":\"\"},\"colorscale\":[[0.0,\"#0d0887\"],[0.1111111111111111,\"#46039f\"],[0.2222222222222222,\"#7201a8\"],[0.3333333333333333,\"#9c179e\"],[0.4444444444444444,\"#bd3786\"],[0.5555555555555556,\"#d8576b\"],[0.6666666666666666,\"#ed7953\"],[0.7777777777777778,\"#fb9f3a\"],[0.8888888888888888,\"#fdca26\"],[1.0,\"#f0f921\"]]}],\"heatmap\":[{\"type\":\"heatmap\",\"colorbar\":{\"outlinewidth\":0,\"ticks\":\"\"},\"colorscale\":[[0.0,\"#0d0887\"],[0.1111111111111111,\"#46039f\"],[0.2222222222222222,\"#7201a8\"],[0.3333333333333333,\"#9c179e\"],[0.4444444444444444,\"#bd3786\"],[0.5555555555555556,\"#d8576b\"],[0.6666666666666666,\"#ed7953\"],[0.7777777777777778,\"#fb9f3a\"],[0.8888888888888888,\"#fdca26\"],[1.0,\"#f0f921\"]]}],\"heatmapgl\":[{\"type\":\"heatmapgl\",\"colorbar\":{\"outlinewidth\":0,\"ticks\":\"\"},\"colorscale\":[[0.0,\"#0d0887\"],[0.1111111111111111,\"#46039f\"],[0.2222222222222222,\"#7201a8\"],[0.3333333333333333,\"#9c179e\"],[0.4444444444444444,\"#bd3786\"],[0.5555555555555556,\"#d8576b\"],[0.6666666666666666,\"#ed7953\"],[0.7777777777777778,\"#fb9f3a\"],[0.8888888888888888,\"#fdca26\"],[1.0,\"#f0f921\"]]}],\"contourcarpet\":[{\"type\":\"contourcarpet\",\"colorbar\":{\"outlinewidth\":0,\"ticks\":\"\"}}],\"contour\":[{\"type\":\"contour\",\"colorbar\":{\"outlinewidth\":0,\"ticks\":\"\"},\"colorscale\":[[0.0,\"#0d0887\"],[0.1111111111111111,\"#46039f\"],[0.2222222222222222,\"#7201a8\"],[0.3333333333333333,\"#9c179e\"],[0.4444444444444444,\"#bd3786\"],[0.5555555555555556,\"#d8576b\"],[0.6666666666666666,\"#ed7953\"],[0.7777777777777778,\"#fb9f3a\"],[0.8888888888888888,\"#fdca26\"],[1.0,\"#f0f921\"]]}],\"surface\":[{\"type\":\"surface\",\"colorbar\":{\"outlinewidth\":0,\"ticks\":\"\"},\"colorscale\":[[0.0,\"#0d0887\"],[0.1111111111111111,\"#46039f\"],[0.2222222222222222,\"#7201a8\"],[0.3333333333333333,\"#9c179e\"],[0.4444444444444444,\"#bd3786\"],[0.5555555555555556,\"#d8576b\"],[0.6666666666666666,\"#ed7953\"],[0.7777777777777778,\"#fb9f3a\"],[0.8888888888888888,\"#fdca26\"],[1.0,\"#f0f921\"]]}],\"mesh3d\":[{\"type\":\"mesh3d\",\"colorbar\":{\"outlinewidth\":0,\"ticks\":\"\"}}],\"scatter\":[{\"fillpattern\":{\"fillmode\":\"overlay\",\"size\":10,\"solidity\":0.2},\"type\":\"scatter\"}],\"parcoords\":[{\"type\":\"parcoords\",\"line\":{\"colorbar\":{\"outlinewidth\":0,\"ticks\":\"\"}}}],\"scatterpolargl\":[{\"type\":\"scatterpolargl\",\"marker\":{\"colorbar\":{\"outlinewidth\":0,\"ticks\":\"\"}}}],\"bar\":[{\"error_x\":{\"color\":\"#2a3f5f\"},\"error_y\":{\"color\":\"#2a3f5f\"},\"marker\":{\"line\":{\"color\":\"#E5ECF6\",\"width\":0.5},\"pattern\":{\"fillmode\":\"overlay\",\"size\":10,\"solidity\":0.2}},\"type\":\"bar\"}],\"scattergeo\":[{\"type\":\"scattergeo\",\"marker\":{\"colorbar\":{\"outlinewidth\":0,\"ticks\":\"\"}}}],\"scatterpolar\":[{\"type\":\"scatterpolar\",\"marker\":{\"colorbar\":{\"outlinewidth\":0,\"ticks\":\"\"}}}],\"histogram\":[{\"marker\":{\"pattern\":{\"fillmode\":\"overlay\",\"size\":10,\"solidity\":0.2}},\"type\":\"histogram\"}],\"scattergl\":[{\"type\":\"scattergl\",\"marker\":{\"colorbar\":{\"outlinewidth\":0,\"ticks\":\"\"}}}],\"scatter3d\":[{\"type\":\"scatter3d\",\"line\":{\"colorbar\":{\"outlinewidth\":0,\"ticks\":\"\"}},\"marker\":{\"colorbar\":{\"outlinewidth\":0,\"ticks\":\"\"}}}],\"scattermapbox\":[{\"type\":\"scattermapbox\",\"marker\":{\"colorbar\":{\"outlinewidth\":0,\"ticks\":\"\"}}}],\"scatterternary\":[{\"type\":\"scatterternary\",\"marker\":{\"colorbar\":{\"outlinewidth\":0,\"ticks\":\"\"}}}],\"scattercarpet\":[{\"type\":\"scattercarpet\",\"marker\":{\"colorbar\":{\"outlinewidth\":0,\"ticks\":\"\"}}}],\"carpet\":[{\"aaxis\":{\"endlinecolor\":\"#2a3f5f\",\"gridcolor\":\"white\",\"linecolor\":\"white\",\"minorgridcolor\":\"white\",\"startlinecolor\":\"#2a3f5f\"},\"baxis\":{\"endlinecolor\":\"#2a3f5f\",\"gridcolor\":\"white\",\"linecolor\":\"white\",\"minorgridcolor\":\"white\",\"startlinecolor\":\"#2a3f5f\"},\"type\":\"carpet\"}],\"table\":[{\"cells\":{\"fill\":{\"color\":\"#EBF0F8\"},\"line\":{\"color\":\"white\"}},\"header\":{\"fill\":{\"color\":\"#C8D4E3\"},\"line\":{\"color\":\"white\"}},\"type\":\"table\"}],\"barpolar\":[{\"marker\":{\"line\":{\"color\":\"#E5ECF6\",\"width\":0.5},\"pattern\":{\"fillmode\":\"overlay\",\"size\":10,\"solidity\":0.2}},\"type\":\"barpolar\"}],\"pie\":[{\"automargin\":true,\"type\":\"pie\"}]},\"layout\":{\"autotypenumbers\":\"strict\",\"colorway\":[\"#636efa\",\"#EF553B\",\"#00cc96\",\"#ab63fa\",\"#FFA15A\",\"#19d3f3\",\"#FF6692\",\"#B6E880\",\"#FF97FF\",\"#FECB52\"],\"font\":{\"color\":\"#2a3f5f\"},\"hovermode\":\"closest\",\"hoverlabel\":{\"align\":\"left\"},\"paper_bgcolor\":\"white\",\"plot_bgcolor\":\"#E5ECF6\",\"polar\":{\"bgcolor\":\"#E5ECF6\",\"angularaxis\":{\"gridcolor\":\"white\",\"linecolor\":\"white\",\"ticks\":\"\"},\"radialaxis\":{\"gridcolor\":\"white\",\"linecolor\":\"white\",\"ticks\":\"\"}},\"ternary\":{\"bgcolor\":\"#E5ECF6\",\"aaxis\":{\"gridcolor\":\"white\",\"linecolor\":\"white\",\"ticks\":\"\"},\"baxis\":{\"gridcolor\":\"white\",\"linecolor\":\"white\",\"ticks\":\"\"},\"caxis\":{\"gridcolor\":\"white\",\"linecolor\":\"white\",\"ticks\":\"\"}},\"coloraxis\":{\"colorbar\":{\"outlinewidth\":0,\"ticks\":\"\"}},\"colorscale\":{\"sequential\":[[0.0,\"#0d0887\"],[0.1111111111111111,\"#46039f\"],[0.2222222222222222,\"#7201a8\"],[0.3333333333333333,\"#9c179e\"],[0.4444444444444444,\"#bd3786\"],[0.5555555555555556,\"#d8576b\"],[0.6666666666666666,\"#ed7953\"],[0.7777777777777778,\"#fb9f3a\"],[0.8888888888888888,\"#fdca26\"],[1.0,\"#f0f921\"]],\"sequentialminus\":[[0.0,\"#0d0887\"],[0.1111111111111111,\"#46039f\"],[0.2222222222222222,\"#7201a8\"],[0.3333333333333333,\"#9c179e\"],[0.4444444444444444,\"#bd3786\"],[0.5555555555555556,\"#d8576b\"],[0.6666666666666666,\"#ed7953\"],[0.7777777777777778,\"#fb9f3a\"],[0.8888888888888888,\"#fdca26\"],[1.0,\"#f0f921\"]],\"diverging\":[[0,\"#8e0152\"],[0.1,\"#c51b7d\"],[0.2,\"#de77ae\"],[0.3,\"#f1b6da\"],[0.4,\"#fde0ef\"],[0.5,\"#f7f7f7\"],[0.6,\"#e6f5d0\"],[0.7,\"#b8e186\"],[0.8,\"#7fbc41\"],[0.9,\"#4d9221\"],[1,\"#276419\"]]},\"xaxis\":{\"gridcolor\":\"white\",\"linecolor\":\"white\",\"ticks\":\"\",\"title\":{\"standoff\":15},\"zerolinecolor\":\"white\",\"automargin\":true,\"zerolinewidth\":2},\"yaxis\":{\"gridcolor\":\"white\",\"linecolor\":\"white\",\"ticks\":\"\",\"title\":{\"standoff\":15},\"zerolinecolor\":\"white\",\"automargin\":true,\"zerolinewidth\":2},\"scene\":{\"xaxis\":{\"backgroundcolor\":\"#E5ECF6\",\"gridcolor\":\"white\",\"linecolor\":\"white\",\"showbackground\":true,\"ticks\":\"\",\"zerolinecolor\":\"white\",\"gridwidth\":2},\"yaxis\":{\"backgroundcolor\":\"#E5ECF6\",\"gridcolor\":\"white\",\"linecolor\":\"white\",\"showbackground\":true,\"ticks\":\"\",\"zerolinecolor\":\"white\",\"gridwidth\":2},\"zaxis\":{\"backgroundcolor\":\"#E5ECF6\",\"gridcolor\":\"white\",\"linecolor\":\"white\",\"showbackground\":true,\"ticks\":\"\",\"zerolinecolor\":\"white\",\"gridwidth\":2}},\"shapedefaults\":{\"line\":{\"color\":\"#2a3f5f\"}},\"annotationdefaults\":{\"arrowcolor\":\"#2a3f5f\",\"arrowhead\":0,\"arrowwidth\":1},\"geo\":{\"bgcolor\":\"white\",\"landcolor\":\"#E5ECF6\",\"subunitcolor\":\"white\",\"showland\":true,\"showlakes\":true,\"lakecolor\":\"white\"},\"title\":{\"x\":0.05},\"mapbox\":{\"style\":\"light\"}}},\"xaxis\":{\"title\":{\"text\":\"\\\\$\\\\sigma$\"},\"range\":[-0.01,1.3130776862983273],\"zerolinecolor\":\"Black\"},\"yaxis\":{\"title\":{\"text\":\"$\\\\mu$\"},\"zerolinecolor\":\"Black\"},\"title\":{\"font\":{\"size\":25,\"color\":\"Navy\"},\"text\":\"Efficient frontier\",\"x\":0.5,\"y\":0.87},\"showlegend\":false},                        {\"responsive\": true}                    ).then(function(){\n",
              "                            \n",
              "var gd = document.getElementById('3631d2e6-6456-4ab5-8c6c-7a100c512c7b');\n",
              "var x = new MutationObserver(function (mutations, observer) {{\n",
              "        var display = window.getComputedStyle(gd).display;\n",
              "        if (!display || display === 'none') {{\n",
              "            console.log([gd, 'removed!']);\n",
              "            Plotly.purge(gd);\n",
              "            observer.disconnect();\n",
              "        }}\n",
              "}});\n",
              "\n",
              "// Listen for the removal of the full notebook cells\n",
              "var notebookContainer = gd.closest('#notebook-container');\n",
              "if (notebookContainer) {{\n",
              "    x.observe(notebookContainer, {childList: true});\n",
              "}}\n",
              "\n",
              "// Listen for the clearing of the current output cell\n",
              "var outputEl = gd.closest('.output');\n",
              "if (outputEl) {{\n",
              "    x.observe(outputEl, {childList: true});\n",
              "}}\n",
              "\n",
              "                        })                };                            </script>        </div>\n",
              "</body>\n",
              "</html>"
            ]
          },
          "metadata": {}
        }
      ]
    },
    {
      "cell_type": "code",
      "source": [
        "#Optimization for Sharpe's Ratio\n",
        "\n",
        "crypto1opt = maxSharpe(rets1,0.02,com=True)\n",
        "crypto1opt"
      ],
      "metadata": {
        "colab": {
          "base_uri": "https://localhost:8080/"
        },
        "id": "2_t1swvqAE8z",
        "outputId": "aefe0ab1-52f2-4af4-8d2b-0655e2ecf67e"
      },
      "execution_count": 39,
      "outputs": [
        {
          "output_type": "execute_result",
          "data": {
            "text/plain": [
              "{'w': array([-0.68323443,  1.        ,  1.        , -1.        ,  1.        ,\n",
              "        -0.80743064, -0.51252131,  1.        , -0.99681362,  1.        ]),\n",
              " 'er': 0.7954492922520281,\n",
              " 'vol': 1.2467498409077502,\n",
              " 'sharpe': 0.6219766522588274}"
            ]
          },
          "metadata": {},
          "execution_count": 39
        }
      ]
    },
    {
      "cell_type": "code",
      "source": [
        "#Test for Efficient frontier\n",
        "\n",
        "#initial Wealth\n",
        "wealth1 = 100_000\n",
        "\n",
        "##Determined amount invested in each stock\n",
        "si1= crypto1opt['w']*wealth1\n",
        "\n",
        "#Number of stocks\n",
        "n1=si1/cryptoprice1.iloc[0]\n",
        "n1"
      ],
      "metadata": {
        "colab": {
          "base_uri": "https://localhost:8080/"
        },
        "id": "1D2trb9w_r_S",
        "outputId": "899f0987-d398-48e4-bf8d-b20776ec3af8"
      },
      "execution_count": 103,
      "outputs": [
        {
          "output_type": "execute_result",
          "data": {
            "text/plain": [
              "ADA-USD     -48218.701870\n",
              "BNB-USD        195.993814\n",
              "BTC-USD          1.624094\n",
              "DOT-USD      -2407.435588\n",
              "ETH-USD         41.119325\n",
              "LINK-USD     -1917.816672\n",
              "LTC-USD       -165.003317\n",
              "SOL-USD       3937.416254\n",
              "XLM-USD    -162542.596182\n",
              "XRP-USD      64204.346674\n",
              "Name: 2021-04-16 00:00:00, dtype: float64"
            ]
          },
          "metadata": {},
          "execution_count": 103
        }
      ]
    },
    {
      "cell_type": "code",
      "source": [
        "#Value of portfolio each point in the time\n",
        "ST1 = rets1@n1\n",
        "ST1"
      ],
      "metadata": {
        "colab": {
          "base_uri": "https://localhost:8080/"
        },
        "id": "bMoCDQgwBXvQ",
        "outputId": "3d26131b-a430-487e-e90b-5a826f03aeff"
      },
      "execution_count": 104,
      "outputs": [
        {
          "output_type": "execute_result",
          "data": {
            "text/plain": [
              "Date\n",
              "2021-04-17     4888.999881\n",
              "2021-04-18    13742.045506\n",
              "2021-04-19    12016.301385\n",
              "2021-04-20    -8227.549236\n",
              "2021-04-21     9578.030593\n",
              "                  ...     \n",
              "2023-09-28    -1969.318849\n",
              "2023-09-29     3412.445187\n",
              "2023-09-30     -775.992548\n",
              "2023-10-01    -3740.441740\n",
              "2023-10-02     3455.471454\n",
              "Length: 899, dtype: float64"
            ]
          },
          "metadata": {},
          "execution_count": 104
        }
      ]
    },
    {
      "cell_type": "code",
      "source": [
        "#preparing data\n",
        "crypto1return1 = cryptoprice1.iloc[:,:10].pct_change()\n",
        "crypto1return1.dropna(inplace=True)\n",
        "\n",
        "#initial wealth\n",
        "v1=100_000\n",
        "\n",
        "#Optimal weights\n",
        "crypto1mvp = mvp(crypto1return1)['w']\n",
        "crypto1P40= targetP(crypto1return1,0.40)['w']"
      ],
      "metadata": {
        "id": "I0jWXjvjBdY8"
      },
      "execution_count": 105,
      "outputs": []
    },
    {
      "cell_type": "code",
      "source": [
        "crypto1mvp"
      ],
      "metadata": {
        "colab": {
          "base_uri": "https://localhost:8080/"
        },
        "id": "d5n2a1HzB6G0",
        "outputId": "7540d2f0-e5d3-4ddb-b222-809e67312886"
      },
      "execution_count": 106,
      "outputs": [
        {
          "output_type": "execute_result",
          "data": {
            "text/plain": [
              "array([ 0.03103269,  0.29614544,  1.13485087, -0.14243568, -0.10982411,\n",
              "       -0.12536536, -0.08943755, -0.04196004,  0.0963226 , -0.04932887])"
            ]
          },
          "metadata": {},
          "execution_count": 106
        }
      ]
    },
    {
      "cell_type": "code",
      "source": [
        "crypto1P40"
      ],
      "metadata": {
        "colab": {
          "base_uri": "https://localhost:8080/"
        },
        "id": "j1ICHVS-B8Lo",
        "outputId": "85e20f7b-db21-4771-8a5a-f6d4a35a3851"
      },
      "execution_count": 107,
      "outputs": [
        {
          "output_type": "execute_result",
          "data": {
            "text/plain": [
              "array([-0.12494037,  0.39782742,  0.87965059, -0.61259607,  0.47419275,\n",
              "       -0.15156823, -0.19950973,  0.26715226, -0.20533705,  0.27512842])"
            ]
          },
          "metadata": {},
          "execution_count": 107
        }
      ]
    },
    {
      "cell_type": "code",
      "source": [
        "#Vector of money invested into each asset\n",
        "vcrypto1mvp1 = crypto1mvp*v1\n",
        "vcrypto1P401 = crypto1P40*v1"
      ],
      "metadata": {
        "id": "vUkoJP5KCA5n"
      },
      "execution_count": 109,
      "outputs": []
    },
    {
      "cell_type": "code",
      "source": [
        "vcrypto1mvp1"
      ],
      "metadata": {
        "colab": {
          "base_uri": "https://localhost:8080/"
        },
        "id": "rS_olDPkCUhy",
        "outputId": "4b2e68ba-b163-419b-86b2-7b9a909dd66e"
      },
      "execution_count": 110,
      "outputs": [
        {
          "output_type": "execute_result",
          "data": {
            "text/plain": [
              "array([  3103.26945738,  29614.54437023, 113485.08747832, -14243.56834563,\n",
              "       -10982.41050098, -12536.53596817,  -8943.75459738,  -4196.00415454,\n",
              "         9632.25962514,  -4932.88736437])"
            ]
          },
          "metadata": {},
          "execution_count": 110
        }
      ]
    },
    {
      "cell_type": "code",
      "source": [
        "vcrypto1P401"
      ],
      "metadata": {
        "colab": {
          "base_uri": "https://localhost:8080/"
        },
        "id": "6-X1UlOhCXKm",
        "outputId": "8b0bfa4a-10d1-45e0-a9b2-06257b2996e0"
      },
      "execution_count": 111,
      "outputs": [
        {
          "output_type": "execute_result",
          "data": {
            "text/plain": [
              "array([-12494.03701593,  39782.74217277,  87965.05943028, -61259.60675305,\n",
              "        47419.27539315, -15156.82273416, -19950.97275406,  26715.22570398,\n",
              "       -20533.70543883,  27512.84199584])"
            ]
          },
          "metadata": {},
          "execution_count": 111
        }
      ]
    },
    {
      "cell_type": "code",
      "source": [
        "#Vector of innitial stock prices\n",
        "crypto1p0= cryptoprice1.iloc[0,:10]\n",
        "crypto1p0"
      ],
      "metadata": {
        "colab": {
          "base_uri": "https://localhost:8080/"
        },
        "id": "HXC1TwtXCZti",
        "outputId": "03bd53fa-db9e-4c5a-c737-943dac97a2cd"
      },
      "execution_count": 112,
      "outputs": [
        {
          "output_type": "execute_result",
          "data": {
            "text/plain": [
              "ADA-USD         1.416949\n",
              "BNB-USD       510.220184\n",
              "BTC-USD     61572.789062\n",
              "DOT-USD        41.537975\n",
              "ETH-USD      2431.946533\n",
              "LINK-USD       42.101555\n",
              "LTC-USD       310.612732\n",
              "SOL-USD        25.397366\n",
              "XLM-USD         0.613263\n",
              "XRP-USD         1.557527\n",
              "Name: 2021-04-16 00:00:00, dtype: float64"
            ]
          },
          "metadata": {},
          "execution_count": 112
        }
      ]
    },
    {
      "cell_type": "code",
      "source": [
        "#Number of shares\n",
        "ncrypto1mvp1 = vcrypto1mvp1/crypto1p0\n",
        "ncrypto1P401 = vcrypto1P401/crypto1p0"
      ],
      "metadata": {
        "id": "kfRuDo1-C8Jh"
      },
      "execution_count": 98,
      "outputs": []
    },
    {
      "cell_type": "code",
      "source": [
        "ncrypto1mvp1"
      ],
      "metadata": {
        "colab": {
          "base_uri": "https://localhost:8080/"
        },
        "id": "Gx_V5D6rDPbX",
        "outputId": "7db8df75-bb8b-4370-82d5-f8619682f2b7"
      },
      "execution_count": 113,
      "outputs": [
        {
          "output_type": "execute_result",
          "data": {
            "text/plain": [
              "ADA-USD      2190.106619\n",
              "BNB-USD        58.042675\n",
              "BTC-USD         1.843105\n",
              "DOT-USD      -342.904733\n",
              "ETH-USD        -4.515893\n",
              "LINK-USD     -297.768954\n",
              "LTC-USD       -28.793909\n",
              "SOL-USD      -165.214150\n",
              "XLM-USD     15706.571981\n",
              "XRP-USD     -3167.128104\n",
              "Name: 2021-04-16 00:00:00, dtype: float64"
            ]
          },
          "metadata": {},
          "execution_count": 113
        }
      ]
    },
    {
      "cell_type": "code",
      "source": [
        "ncrypto1P401"
      ],
      "metadata": {
        "colab": {
          "base_uri": "https://localhost:8080/"
        },
        "id": "QNStImraDRsv",
        "outputId": "3e7bdff0-2e7d-415e-f060-43bafc69a35b"
      },
      "execution_count": 114,
      "outputs": [
        {
          "output_type": "execute_result",
          "data": {
            "text/plain": [
              "ADA-USD     -8817.562748\n",
              "BNB-USD        77.971714\n",
              "BTC-USD         1.428635\n",
              "DOT-USD     -1474.785574\n",
              "ETH-USD        19.498486\n",
              "LINK-USD     -360.006246\n",
              "LTC-USD       -64.231021\n",
              "SOL-USD      1051.889639\n",
              "XLM-USD    -33482.706557\n",
              "XRP-USD     17664.440455\n",
              "Name: 2021-04-16 00:00:00, dtype: float64"
            ]
          },
          "metadata": {},
          "execution_count": 114
        }
      ]
    },
    {
      "cell_type": "code",
      "source": [
        "#the number of shares that we need to hold over time, we can calculate the value of our portfolio on each date in testing sample simply by multiplying previous two\n",
        "Vcrypto1mvp1 = cryptoprice1.iloc[:,:10]@ncrypto1mvp1\n",
        "Vcrypto1P401 = cryptoprice1.iloc[:,:10]@ncrypto1P401"
      ],
      "metadata": {
        "id": "qxcRfR6iDek9"
      },
      "execution_count": 115,
      "outputs": []
    },
    {
      "cell_type": "code",
      "source": [
        "figst = go.Figure()\n",
        "\n",
        "figst.add_trace(\n",
        "    go.Scatter(x=cryptoprice1.index,\n",
        "               y=Vcrypto1mvp1,\n",
        "               line=dict(color='Blue',width=3),\n",
        "               name='MVP Portfolio')\n",
        ")\n",
        "figst.add_trace(\n",
        "    go.Scatter(x=cryptoprice1.index,\n",
        "               y=Vcrypto1P401,\n",
        "               line=dict(color='Crimson',width=3),\n",
        "               name='Target 40% pa')\n",
        ")\n",
        "figst.update_layout(\n",
        "    xaxis=dict(title_text='Date',zerolinecolor='Black'),\n",
        "    yaxis=dict(title_text='Dollars',zerolinecolor='Black'),\n",
        "    title=dict(text='Comparing 2 static strategies',\n",
        "               x=0.5,\n",
        "               y=0.87,\n",
        "               font=dict(size=25,color='Navy'))\n",
        ")\n",
        "\n",
        "figst.show()"
      ],
      "metadata": {
        "colab": {
          "base_uri": "https://localhost:8080/",
          "height": 542
        },
        "id": "4_hRzvrOD2-w",
        "outputId": "be1fca3e-0b31-45a0-ba7f-c5ba32dba91e"
      },
      "execution_count": 116,
      "outputs": [
        {
          "output_type": "display_data",
          "data": {
            "text/html": [
              "<html>\n",
              "<head><meta charset=\"utf-8\" /></head>\n",
              "<body>\n",
              "    <div>            <script src=\"https://cdnjs.cloudflare.com/ajax/libs/mathjax/2.7.5/MathJax.js?config=TeX-AMS-MML_SVG\"></script><script type=\"text/javascript\">if (window.MathJax && window.MathJax.Hub && window.MathJax.Hub.Config) {window.MathJax.Hub.Config({SVG: {font: \"STIX-Web\"}});}</script>                <script type=\"text/javascript\">window.PlotlyConfig = {MathJaxConfig: 'local'};</script>\n",
              "        <script charset=\"utf-8\" src=\"https://cdn.plot.ly/plotly-2.24.1.min.js\"></script>                <div id=\"9e9c332e-1dc3-4c40-bfb7-d75df2cacad9\" class=\"plotly-graph-div\" style=\"height:525px; width:100%;\"></div>            <script type=\"text/javascript\">                                    window.PLOTLYENV=window.PLOTLYENV || {};                                    if (document.getElementById(\"9e9c332e-1dc3-4c40-bfb7-d75df2cacad9\")) {                    Plotly.newPlot(                        \"9e9c332e-1dc3-4c40-bfb7-d75df2cacad9\",                        [{\"line\":{\"color\":\"Blue\",\"width\":3},\"name\":\"MVP Portfolio\",\"x\":[\"2021-04-16T00:00:00\",\"2021-04-17T00:00:00\",\"2021-04-18T00:00:00\",\"2021-04-19T00:00:00\",\"2021-04-20T00:00:00\",\"2021-04-21T00:00:00\",\"2021-04-22T00:00:00\",\"2021-04-23T00:00:00\",\"2021-04-24T00:00:00\",\"2021-04-25T00:00:00\",\"2021-04-26T00:00:00\",\"2021-04-27T00:00:00\",\"2021-04-28T00:00:00\",\"2021-04-29T00:00:00\",\"2021-04-30T00:00:00\",\"2021-05-01T00:00:00\",\"2021-05-02T00:00:00\",\"2021-05-03T00:00:00\",\"2021-05-04T00:00:00\",\"2021-05-05T00:00:00\",\"2021-05-06T00:00:00\",\"2021-05-07T00:00:00\",\"2021-05-08T00:00:00\",\"2021-05-09T00:00:00\",\"2021-05-10T00:00:00\",\"2021-05-11T00:00:00\",\"2021-05-12T00:00:00\",\"2021-05-13T00:00:00\",\"2021-05-14T00:00:00\",\"2021-05-15T00:00:00\",\"2021-05-16T00:00:00\",\"2021-05-17T00:00:00\",\"2021-05-18T00:00:00\",\"2021-05-19T00:00:00\",\"2021-05-20T00:00:00\",\"2021-05-21T00:00:00\",\"2021-05-22T00:00:00\",\"2021-05-23T00:00:00\",\"2021-05-24T00:00:00\",\"2021-05-25T00:00:00\",\"2021-05-26T00:00:00\",\"2021-05-27T00:00:00\",\"2021-05-28T00:00:00\",\"2021-05-29T00:00:00\",\"2021-05-30T00:00:00\",\"2021-05-31T00:00:00\",\"2021-06-01T00:00:00\",\"2021-06-02T00:00:00\",\"2021-06-03T00:00:00\",\"2021-06-04T00:00:00\",\"2021-06-05T00:00:00\",\"2021-06-06T00:00:00\",\"2021-06-07T00:00:00\",\"2021-06-08T00:00:00\",\"2021-06-09T00:00:00\",\"2021-06-10T00:00:00\",\"2021-06-11T00:00:00\",\"2021-06-12T00:00:00\",\"2021-06-13T00:00:00\",\"2021-06-14T00:00:00\",\"2021-06-15T00:00:00\",\"2021-06-16T00:00:00\",\"2021-06-17T00:00:00\",\"2021-06-18T00:00:00\",\"2021-06-19T00:00:00\",\"2021-06-20T00:00:00\",\"2021-06-21T00:00:00\",\"2021-06-22T00:00:00\",\"2021-06-23T00:00:00\",\"2021-06-24T00:00:00\",\"2021-06-25T00:00:00\",\"2021-06-26T00:00:00\",\"2021-06-27T00:00:00\",\"2021-06-28T00:00:00\",\"2021-06-29T00:00:00\",\"2021-06-30T00:00:00\",\"2021-07-01T00:00:00\",\"2021-07-02T00:00:00\",\"2021-07-03T00:00:00\",\"2021-07-04T00:00:00\",\"2021-07-05T00:00:00\",\"2021-07-06T00:00:00\",\"2021-07-07T00:00:00\",\"2021-07-08T00:00:00\",\"2021-07-09T00:00:00\",\"2021-07-10T00:00:00\",\"2021-07-11T00:00:00\",\"2021-07-12T00:00:00\",\"2021-07-13T00:00:00\",\"2021-07-14T00:00:00\",\"2021-07-15T00:00:00\",\"2021-07-16T00:00:00\",\"2021-07-17T00:00:00\",\"2021-07-18T00:00:00\",\"2021-07-19T00:00:00\",\"2021-07-20T00:00:00\",\"2021-07-21T00:00:00\",\"2021-07-22T00:00:00\",\"2021-07-23T00:00:00\",\"2021-07-24T00:00:00\",\"2021-07-25T00:00:00\",\"2021-07-26T00:00:00\",\"2021-07-27T00:00:00\",\"2021-07-28T00:00:00\",\"2021-07-29T00:00:00\",\"2021-07-30T00:00:00\",\"2021-07-31T00:00:00\",\"2021-08-01T00:00:00\",\"2021-08-02T00:00:00\",\"2021-08-03T00:00:00\",\"2021-08-04T00:00:00\",\"2021-08-05T00:00:00\",\"2021-08-06T00:00:00\",\"2021-08-07T00:00:00\",\"2021-08-08T00:00:00\",\"2021-08-09T00:00:00\",\"2021-08-10T00:00:00\",\"2021-08-11T00:00:00\",\"2021-08-12T00:00:00\",\"2021-08-13T00:00:00\",\"2021-08-14T00:00:00\",\"2021-08-15T00:00:00\",\"2021-08-16T00:00:00\",\"2021-08-17T00:00:00\",\"2021-08-18T00:00:00\",\"2021-08-19T00:00:00\",\"2021-08-20T00:00:00\",\"2021-08-21T00:00:00\",\"2021-08-22T00:00:00\",\"2021-08-23T00:00:00\",\"2021-08-24T00:00:00\",\"2021-08-25T00:00:00\",\"2021-08-26T00:00:00\",\"2021-08-27T00:00:00\",\"2021-08-28T00:00:00\",\"2021-08-29T00:00:00\",\"2021-08-30T00:00:00\",\"2021-08-31T00:00:00\",\"2021-09-01T00:00:00\",\"2021-09-02T00:00:00\",\"2021-09-03T00:00:00\",\"2021-09-04T00:00:00\",\"2021-09-05T00:00:00\",\"2021-09-06T00:00:00\",\"2021-09-07T00:00:00\",\"2021-09-08T00:00:00\",\"2021-09-09T00:00:00\",\"2021-09-10T00:00:00\",\"2021-09-11T00:00:00\",\"2021-09-12T00:00:00\",\"2021-09-13T00:00:00\",\"2021-09-14T00:00:00\",\"2021-09-15T00:00:00\",\"2021-09-16T00:00:00\",\"2021-09-17T00:00:00\",\"2021-09-18T00:00:00\",\"2021-09-19T00:00:00\",\"2021-09-20T00:00:00\",\"2021-09-21T00:00:00\",\"2021-09-22T00:00:00\",\"2021-09-23T00:00:00\",\"2021-09-24T00:00:00\",\"2021-09-25T00:00:00\",\"2021-09-26T00:00:00\",\"2021-09-27T00:00:00\",\"2021-09-28T00:00:00\",\"2021-09-29T00:00:00\",\"2021-09-30T00:00:00\",\"2021-10-01T00:00:00\",\"2021-10-02T00:00:00\",\"2021-10-03T00:00:00\",\"2021-10-04T00:00:00\",\"2021-10-05T00:00:00\",\"2021-10-06T00:00:00\",\"2021-10-07T00:00:00\",\"2021-10-08T00:00:00\",\"2021-10-09T00:00:00\",\"2021-10-10T00:00:00\",\"2021-10-11T00:00:00\",\"2021-10-12T00:00:00\",\"2021-10-13T00:00:00\",\"2021-10-14T00:00:00\",\"2021-10-15T00:00:00\",\"2021-10-16T00:00:00\",\"2021-10-17T00:00:00\",\"2021-10-18T00:00:00\",\"2021-10-19T00:00:00\",\"2021-10-20T00:00:00\",\"2021-10-21T00:00:00\",\"2021-10-22T00:00:00\",\"2021-10-23T00:00:00\",\"2021-10-24T00:00:00\",\"2021-10-25T00:00:00\",\"2021-10-26T00:00:00\",\"2021-10-27T00:00:00\",\"2021-10-28T00:00:00\",\"2021-10-29T00:00:00\",\"2021-10-30T00:00:00\",\"2021-10-31T00:00:00\",\"2021-11-01T00:00:00\",\"2021-11-02T00:00:00\",\"2021-11-03T00:00:00\",\"2021-11-04T00:00:00\",\"2021-11-05T00:00:00\",\"2021-11-06T00:00:00\",\"2021-11-07T00:00:00\",\"2021-11-08T00:00:00\",\"2021-11-09T00:00:00\",\"2021-11-10T00:00:00\",\"2021-11-11T00:00:00\",\"2021-11-12T00:00:00\",\"2021-11-13T00:00:00\",\"2021-11-14T00:00:00\",\"2021-11-15T00:00:00\",\"2021-11-16T00:00:00\",\"2021-11-17T00:00:00\",\"2021-11-18T00:00:00\",\"2021-11-19T00:00:00\",\"2021-11-20T00:00:00\",\"2021-11-21T00:00:00\",\"2021-11-22T00:00:00\",\"2021-11-23T00:00:00\",\"2021-11-24T00:00:00\",\"2021-11-25T00:00:00\",\"2021-11-26T00:00:00\",\"2021-11-27T00:00:00\",\"2021-11-28T00:00:00\",\"2021-11-29T00:00:00\",\"2021-11-30T00:00:00\",\"2021-12-01T00:00:00\",\"2021-12-02T00:00:00\",\"2021-12-03T00:00:00\",\"2021-12-04T00:00:00\",\"2021-12-05T00:00:00\",\"2021-12-06T00:00:00\",\"2021-12-07T00:00:00\",\"2021-12-08T00:00:00\",\"2021-12-09T00:00:00\",\"2021-12-10T00:00:00\",\"2021-12-11T00:00:00\",\"2021-12-12T00:00:00\",\"2021-12-13T00:00:00\",\"2021-12-14T00:00:00\",\"2021-12-15T00:00:00\",\"2021-12-16T00:00:00\",\"2021-12-17T00:00:00\",\"2021-12-18T00:00:00\",\"2021-12-19T00:00:00\",\"2021-12-20T00:00:00\",\"2021-12-21T00:00:00\",\"2021-12-22T00:00:00\",\"2021-12-23T00:00:00\",\"2021-12-24T00:00:00\",\"2021-12-25T00:00:00\",\"2021-12-26T00:00:00\",\"2021-12-27T00:00:00\",\"2021-12-28T00:00:00\",\"2021-12-29T00:00:00\",\"2021-12-30T00:00:00\",\"2021-12-31T00:00:00\",\"2022-01-01T00:00:00\",\"2022-01-02T00:00:00\",\"2022-01-03T00:00:00\",\"2022-01-04T00:00:00\",\"2022-01-05T00:00:00\",\"2022-01-06T00:00:00\",\"2022-01-07T00:00:00\",\"2022-01-08T00:00:00\",\"2022-01-09T00:00:00\",\"2022-01-10T00:00:00\",\"2022-01-11T00:00:00\",\"2022-01-12T00:00:00\",\"2022-01-13T00:00:00\",\"2022-01-14T00:00:00\",\"2022-01-15T00:00:00\",\"2022-01-16T00:00:00\",\"2022-01-17T00:00:00\",\"2022-01-18T00:00:00\",\"2022-01-19T00:00:00\",\"2022-01-20T00:00:00\",\"2022-01-21T00:00:00\",\"2022-01-22T00:00:00\",\"2022-01-23T00:00:00\",\"2022-01-24T00:00:00\",\"2022-01-25T00:00:00\",\"2022-01-26T00:00:00\",\"2022-01-27T00:00:00\",\"2022-01-28T00:00:00\",\"2022-01-29T00:00:00\",\"2022-01-30T00:00:00\",\"2022-01-31T00:00:00\",\"2022-02-01T00:00:00\",\"2022-02-02T00:00:00\",\"2022-02-03T00:00:00\",\"2022-02-04T00:00:00\",\"2022-02-05T00:00:00\",\"2022-02-06T00:00:00\",\"2022-02-07T00:00:00\",\"2022-02-08T00:00:00\",\"2022-02-09T00:00:00\",\"2022-02-10T00:00:00\",\"2022-02-11T00:00:00\",\"2022-02-12T00:00:00\",\"2022-02-13T00:00:00\",\"2022-02-14T00:00:00\",\"2022-02-15T00:00:00\",\"2022-02-16T00:00:00\",\"2022-02-17T00:00:00\",\"2022-02-18T00:00:00\",\"2022-02-19T00:00:00\",\"2022-02-20T00:00:00\",\"2022-02-21T00:00:00\",\"2022-02-22T00:00:00\",\"2022-02-23T00:00:00\",\"2022-02-24T00:00:00\",\"2022-02-25T00:00:00\",\"2022-02-26T00:00:00\",\"2022-02-27T00:00:00\",\"2022-02-28T00:00:00\",\"2022-03-01T00:00:00\",\"2022-03-02T00:00:00\",\"2022-03-03T00:00:00\",\"2022-03-04T00:00:00\",\"2022-03-05T00:00:00\",\"2022-03-06T00:00:00\",\"2022-03-07T00:00:00\",\"2022-03-08T00:00:00\",\"2022-03-09T00:00:00\",\"2022-03-10T00:00:00\",\"2022-03-11T00:00:00\",\"2022-03-12T00:00:00\",\"2022-03-13T00:00:00\",\"2022-03-14T00:00:00\",\"2022-03-15T00:00:00\",\"2022-03-16T00:00:00\",\"2022-03-17T00:00:00\",\"2022-03-18T00:00:00\",\"2022-03-19T00:00:00\",\"2022-03-20T00:00:00\",\"2022-03-21T00:00:00\",\"2022-03-22T00:00:00\",\"2022-03-23T00:00:00\",\"2022-03-24T00:00:00\",\"2022-03-25T00:00:00\",\"2022-03-26T00:00:00\",\"2022-03-27T00:00:00\",\"2022-03-28T00:00:00\",\"2022-03-29T00:00:00\",\"2022-03-30T00:00:00\",\"2022-03-31T00:00:00\",\"2022-04-01T00:00:00\",\"2022-04-02T00:00:00\",\"2022-04-03T00:00:00\",\"2022-04-04T00:00:00\",\"2022-04-05T00:00:00\",\"2022-04-06T00:00:00\",\"2022-04-07T00:00:00\",\"2022-04-08T00:00:00\",\"2022-04-09T00:00:00\",\"2022-04-10T00:00:00\",\"2022-04-11T00:00:00\",\"2022-04-12T00:00:00\",\"2022-04-13T00:00:00\",\"2022-04-14T00:00:00\",\"2022-04-15T00:00:00\",\"2022-04-16T00:00:00\",\"2022-04-17T00:00:00\",\"2022-04-18T00:00:00\",\"2022-04-19T00:00:00\",\"2022-04-20T00:00:00\",\"2022-04-21T00:00:00\",\"2022-04-22T00:00:00\",\"2022-04-23T00:00:00\",\"2022-04-24T00:00:00\",\"2022-04-25T00:00:00\",\"2022-04-26T00:00:00\",\"2022-04-27T00:00:00\",\"2022-04-28T00:00:00\",\"2022-04-29T00:00:00\",\"2022-04-30T00:00:00\",\"2022-05-01T00:00:00\",\"2022-05-02T00:00:00\",\"2022-05-03T00:00:00\",\"2022-05-04T00:00:00\",\"2022-05-05T00:00:00\",\"2022-05-06T00:00:00\",\"2022-05-07T00:00:00\",\"2022-05-08T00:00:00\",\"2022-05-09T00:00:00\",\"2022-05-10T00:00:00\",\"2022-05-11T00:00:00\",\"2022-05-12T00:00:00\",\"2022-05-13T00:00:00\",\"2022-05-14T00:00:00\",\"2022-05-15T00:00:00\",\"2022-05-16T00:00:00\",\"2022-05-17T00:00:00\",\"2022-05-18T00:00:00\",\"2022-05-19T00:00:00\",\"2022-05-20T00:00:00\",\"2022-05-21T00:00:00\",\"2022-05-22T00:00:00\",\"2022-05-23T00:00:00\",\"2022-05-24T00:00:00\",\"2022-05-25T00:00:00\",\"2022-05-26T00:00:00\",\"2022-05-27T00:00:00\",\"2022-05-28T00:00:00\",\"2022-05-29T00:00:00\",\"2022-05-30T00:00:00\",\"2022-05-31T00:00:00\",\"2022-06-01T00:00:00\",\"2022-06-02T00:00:00\",\"2022-06-03T00:00:00\",\"2022-06-04T00:00:00\",\"2022-06-05T00:00:00\",\"2022-06-06T00:00:00\",\"2022-06-07T00:00:00\",\"2022-06-08T00:00:00\",\"2022-06-09T00:00:00\",\"2022-06-10T00:00:00\",\"2022-06-11T00:00:00\",\"2022-06-12T00:00:00\",\"2022-06-13T00:00:00\",\"2022-06-14T00:00:00\",\"2022-06-15T00:00:00\",\"2022-06-16T00:00:00\",\"2022-06-17T00:00:00\",\"2022-06-18T00:00:00\",\"2022-06-19T00:00:00\",\"2022-06-20T00:00:00\",\"2022-06-21T00:00:00\",\"2022-06-22T00:00:00\",\"2022-06-23T00:00:00\",\"2022-06-24T00:00:00\",\"2022-06-25T00:00:00\",\"2022-06-26T00:00:00\",\"2022-06-27T00:00:00\",\"2022-06-28T00:00:00\",\"2022-06-29T00:00:00\",\"2022-06-30T00:00:00\",\"2022-07-01T00:00:00\",\"2022-07-02T00:00:00\",\"2022-07-03T00:00:00\",\"2022-07-04T00:00:00\",\"2022-07-05T00:00:00\",\"2022-07-06T00:00:00\",\"2022-07-07T00:00:00\",\"2022-07-08T00:00:00\",\"2022-07-09T00:00:00\",\"2022-07-10T00:00:00\",\"2022-07-11T00:00:00\",\"2022-07-12T00:00:00\",\"2022-07-13T00:00:00\",\"2022-07-14T00:00:00\",\"2022-07-15T00:00:00\",\"2022-07-16T00:00:00\",\"2022-07-17T00:00:00\",\"2022-07-18T00:00:00\",\"2022-07-19T00:00:00\",\"2022-07-20T00:00:00\",\"2022-07-21T00:00:00\",\"2022-07-22T00:00:00\",\"2022-07-23T00:00:00\",\"2022-07-24T00:00:00\",\"2022-07-25T00:00:00\",\"2022-07-26T00:00:00\",\"2022-07-27T00:00:00\",\"2022-07-28T00:00:00\",\"2022-07-29T00:00:00\",\"2022-07-30T00:00:00\",\"2022-07-31T00:00:00\",\"2022-08-01T00:00:00\",\"2022-08-02T00:00:00\",\"2022-08-03T00:00:00\",\"2022-08-04T00:00:00\",\"2022-08-05T00:00:00\",\"2022-08-06T00:00:00\",\"2022-08-07T00:00:00\",\"2022-08-08T00:00:00\",\"2022-08-09T00:00:00\",\"2022-08-10T00:00:00\",\"2022-08-11T00:00:00\",\"2022-08-12T00:00:00\",\"2022-08-13T00:00:00\",\"2022-08-14T00:00:00\",\"2022-08-15T00:00:00\",\"2022-08-16T00:00:00\",\"2022-08-17T00:00:00\",\"2022-08-18T00:00:00\",\"2022-08-19T00:00:00\",\"2022-08-20T00:00:00\",\"2022-08-21T00:00:00\",\"2022-08-22T00:00:00\",\"2022-08-23T00:00:00\",\"2022-08-24T00:00:00\",\"2022-08-25T00:00:00\",\"2022-08-26T00:00:00\",\"2022-08-27T00:00:00\",\"2022-08-28T00:00:00\",\"2022-08-29T00:00:00\",\"2022-08-30T00:00:00\",\"2022-08-31T00:00:00\",\"2022-09-01T00:00:00\",\"2022-09-02T00:00:00\",\"2022-09-03T00:00:00\",\"2022-09-04T00:00:00\",\"2022-09-05T00:00:00\",\"2022-09-06T00:00:00\",\"2022-09-07T00:00:00\",\"2022-09-08T00:00:00\",\"2022-09-09T00:00:00\",\"2022-09-10T00:00:00\",\"2022-09-11T00:00:00\",\"2022-09-12T00:00:00\",\"2022-09-13T00:00:00\",\"2022-09-14T00:00:00\",\"2022-09-15T00:00:00\",\"2022-09-16T00:00:00\",\"2022-09-17T00:00:00\",\"2022-09-18T00:00:00\",\"2022-09-19T00:00:00\",\"2022-09-20T00:00:00\",\"2022-09-21T00:00:00\",\"2022-09-22T00:00:00\",\"2022-09-23T00:00:00\",\"2022-09-24T00:00:00\",\"2022-09-25T00:00:00\",\"2022-09-26T00:00:00\",\"2022-09-27T00:00:00\",\"2022-09-28T00:00:00\",\"2022-09-29T00:00:00\",\"2022-09-30T00:00:00\",\"2022-10-01T00:00:00\",\"2022-10-02T00:00:00\",\"2022-10-03T00:00:00\",\"2022-10-04T00:00:00\",\"2022-10-05T00:00:00\",\"2022-10-06T00:00:00\",\"2022-10-07T00:00:00\",\"2022-10-08T00:00:00\",\"2022-10-09T00:00:00\",\"2022-10-10T00:00:00\",\"2022-10-11T00:00:00\",\"2022-10-12T00:00:00\",\"2022-10-13T00:00:00\",\"2022-10-14T00:00:00\",\"2022-10-15T00:00:00\",\"2022-10-16T00:00:00\",\"2022-10-17T00:00:00\",\"2022-10-18T00:00:00\",\"2022-10-19T00:00:00\",\"2022-10-20T00:00:00\",\"2022-10-21T00:00:00\",\"2022-10-22T00:00:00\",\"2022-10-23T00:00:00\",\"2022-10-24T00:00:00\",\"2022-10-25T00:00:00\",\"2022-10-26T00:00:00\",\"2022-10-27T00:00:00\",\"2022-10-28T00:00:00\",\"2022-10-29T00:00:00\",\"2022-10-30T00:00:00\",\"2022-10-31T00:00:00\",\"2022-11-01T00:00:00\",\"2022-11-02T00:00:00\",\"2022-11-03T00:00:00\",\"2022-11-04T00:00:00\",\"2022-11-05T00:00:00\",\"2022-11-06T00:00:00\",\"2022-11-07T00:00:00\",\"2022-11-08T00:00:00\",\"2022-11-09T00:00:00\",\"2022-11-10T00:00:00\",\"2022-11-11T00:00:00\",\"2022-11-12T00:00:00\",\"2022-11-13T00:00:00\",\"2022-11-14T00:00:00\",\"2022-11-15T00:00:00\",\"2022-11-16T00:00:00\",\"2022-11-17T00:00:00\",\"2022-11-18T00:00:00\",\"2022-11-19T00:00:00\",\"2022-11-20T00:00:00\",\"2022-11-21T00:00:00\",\"2022-11-22T00:00:00\",\"2022-11-23T00:00:00\",\"2022-11-24T00:00:00\",\"2022-11-25T00:00:00\",\"2022-11-26T00:00:00\",\"2022-11-27T00:00:00\",\"2022-11-28T00:00:00\",\"2022-11-29T00:00:00\",\"2022-11-30T00:00:00\",\"2022-12-01T00:00:00\",\"2022-12-02T00:00:00\",\"2022-12-03T00:00:00\",\"2022-12-04T00:00:00\",\"2022-12-05T00:00:00\",\"2022-12-06T00:00:00\",\"2022-12-07T00:00:00\",\"2022-12-08T00:00:00\",\"2022-12-09T00:00:00\",\"2022-12-10T00:00:00\",\"2022-12-11T00:00:00\",\"2022-12-12T00:00:00\",\"2022-12-13T00:00:00\",\"2022-12-14T00:00:00\",\"2022-12-15T00:00:00\",\"2022-12-16T00:00:00\",\"2022-12-17T00:00:00\",\"2022-12-18T00:00:00\",\"2022-12-19T00:00:00\",\"2022-12-20T00:00:00\",\"2022-12-21T00:00:00\",\"2022-12-22T00:00:00\",\"2022-12-23T00:00:00\",\"2022-12-24T00:00:00\",\"2022-12-25T00:00:00\",\"2022-12-26T00:00:00\",\"2022-12-27T00:00:00\",\"2022-12-28T00:00:00\",\"2022-12-29T00:00:00\",\"2022-12-30T00:00:00\",\"2022-12-31T00:00:00\",\"2023-01-01T00:00:00\",\"2023-01-02T00:00:00\",\"2023-01-03T00:00:00\",\"2023-01-04T00:00:00\",\"2023-01-05T00:00:00\",\"2023-01-06T00:00:00\",\"2023-01-07T00:00:00\",\"2023-01-08T00:00:00\",\"2023-01-09T00:00:00\",\"2023-01-10T00:00:00\",\"2023-01-11T00:00:00\",\"2023-01-12T00:00:00\",\"2023-01-13T00:00:00\",\"2023-01-14T00:00:00\",\"2023-01-15T00:00:00\",\"2023-01-16T00:00:00\",\"2023-01-17T00:00:00\",\"2023-01-18T00:00:00\",\"2023-01-19T00:00:00\",\"2023-01-20T00:00:00\",\"2023-01-21T00:00:00\",\"2023-01-22T00:00:00\",\"2023-01-23T00:00:00\",\"2023-01-24T00:00:00\",\"2023-01-25T00:00:00\",\"2023-01-26T00:00:00\",\"2023-01-27T00:00:00\",\"2023-01-28T00:00:00\",\"2023-01-29T00:00:00\",\"2023-01-30T00:00:00\",\"2023-01-31T00:00:00\",\"2023-02-01T00:00:00\",\"2023-02-02T00:00:00\",\"2023-02-03T00:00:00\",\"2023-02-04T00:00:00\",\"2023-02-05T00:00:00\",\"2023-02-06T00:00:00\",\"2023-02-07T00:00:00\",\"2023-02-08T00:00:00\",\"2023-02-09T00:00:00\",\"2023-02-10T00:00:00\",\"2023-02-11T00:00:00\",\"2023-02-12T00:00:00\",\"2023-02-13T00:00:00\",\"2023-02-14T00:00:00\",\"2023-02-15T00:00:00\",\"2023-02-16T00:00:00\",\"2023-02-17T00:00:00\",\"2023-02-18T00:00:00\",\"2023-02-19T00:00:00\",\"2023-02-20T00:00:00\",\"2023-02-21T00:00:00\",\"2023-02-22T00:00:00\",\"2023-02-23T00:00:00\",\"2023-02-24T00:00:00\",\"2023-02-25T00:00:00\",\"2023-02-26T00:00:00\",\"2023-02-27T00:00:00\",\"2023-02-28T00:00:00\",\"2023-03-01T00:00:00\",\"2023-03-02T00:00:00\",\"2023-03-03T00:00:00\",\"2023-03-04T00:00:00\",\"2023-03-05T00:00:00\",\"2023-03-06T00:00:00\",\"2023-03-07T00:00:00\",\"2023-03-08T00:00:00\",\"2023-03-09T00:00:00\",\"2023-03-10T00:00:00\",\"2023-03-11T00:00:00\",\"2023-03-12T00:00:00\",\"2023-03-13T00:00:00\",\"2023-03-14T00:00:00\",\"2023-03-15T00:00:00\",\"2023-03-16T00:00:00\",\"2023-03-17T00:00:00\",\"2023-03-18T00:00:00\",\"2023-03-19T00:00:00\",\"2023-03-20T00:00:00\",\"2023-03-21T00:00:00\",\"2023-03-22T00:00:00\",\"2023-03-23T00:00:00\",\"2023-03-24T00:00:00\",\"2023-03-25T00:00:00\",\"2023-03-26T00:00:00\",\"2023-03-27T00:00:00\",\"2023-03-28T00:00:00\",\"2023-03-29T00:00:00\",\"2023-03-30T00:00:00\",\"2023-03-31T00:00:00\",\"2023-04-01T00:00:00\",\"2023-04-02T00:00:00\",\"2023-04-03T00:00:00\",\"2023-04-04T00:00:00\",\"2023-04-05T00:00:00\",\"2023-04-06T00:00:00\",\"2023-04-07T00:00:00\",\"2023-04-08T00:00:00\",\"2023-04-09T00:00:00\",\"2023-04-10T00:00:00\",\"2023-04-11T00:00:00\",\"2023-04-12T00:00:00\",\"2023-04-13T00:00:00\",\"2023-04-14T00:00:00\",\"2023-04-15T00:00:00\",\"2023-04-16T00:00:00\",\"2023-04-17T00:00:00\",\"2023-04-18T00:00:00\",\"2023-04-19T00:00:00\",\"2023-04-20T00:00:00\",\"2023-04-21T00:00:00\",\"2023-04-22T00:00:00\",\"2023-04-23T00:00:00\",\"2023-04-24T00:00:00\",\"2023-04-25T00:00:00\",\"2023-04-26T00:00:00\",\"2023-04-27T00:00:00\",\"2023-04-28T00:00:00\",\"2023-04-29T00:00:00\",\"2023-04-30T00:00:00\",\"2023-05-01T00:00:00\",\"2023-05-02T00:00:00\",\"2023-05-03T00:00:00\",\"2023-05-04T00:00:00\",\"2023-05-05T00:00:00\",\"2023-05-06T00:00:00\",\"2023-05-07T00:00:00\",\"2023-05-08T00:00:00\",\"2023-05-09T00:00:00\",\"2023-05-10T00:00:00\",\"2023-05-11T00:00:00\",\"2023-05-12T00:00:00\",\"2023-05-13T00:00:00\",\"2023-05-14T00:00:00\",\"2023-05-15T00:00:00\",\"2023-05-16T00:00:00\",\"2023-05-17T00:00:00\",\"2023-05-18T00:00:00\",\"2023-05-19T00:00:00\",\"2023-05-20T00:00:00\",\"2023-05-21T00:00:00\",\"2023-05-22T00:00:00\",\"2023-05-23T00:00:00\",\"2023-05-24T00:00:00\",\"2023-05-25T00:00:00\",\"2023-05-26T00:00:00\",\"2023-05-27T00:00:00\",\"2023-05-28T00:00:00\",\"2023-05-29T00:00:00\",\"2023-05-30T00:00:00\",\"2023-05-31T00:00:00\",\"2023-06-01T00:00:00\",\"2023-06-02T00:00:00\",\"2023-06-03T00:00:00\",\"2023-06-04T00:00:00\",\"2023-06-05T00:00:00\",\"2023-06-06T00:00:00\",\"2023-06-07T00:00:00\",\"2023-06-08T00:00:00\",\"2023-06-09T00:00:00\",\"2023-06-10T00:00:00\",\"2023-06-11T00:00:00\",\"2023-06-12T00:00:00\",\"2023-06-13T00:00:00\",\"2023-06-14T00:00:00\",\"2023-06-15T00:00:00\",\"2023-06-16T00:00:00\",\"2023-06-17T00:00:00\",\"2023-06-18T00:00:00\",\"2023-06-19T00:00:00\",\"2023-06-20T00:00:00\",\"2023-06-21T00:00:00\",\"2023-06-22T00:00:00\",\"2023-06-23T00:00:00\",\"2023-06-24T00:00:00\",\"2023-06-25T00:00:00\",\"2023-06-26T00:00:00\",\"2023-06-27T00:00:00\",\"2023-06-28T00:00:00\",\"2023-06-29T00:00:00\",\"2023-06-30T00:00:00\",\"2023-07-01T00:00:00\",\"2023-07-02T00:00:00\",\"2023-07-03T00:00:00\",\"2023-07-04T00:00:00\",\"2023-07-05T00:00:00\",\"2023-07-06T00:00:00\",\"2023-07-07T00:00:00\",\"2023-07-08T00:00:00\",\"2023-07-09T00:00:00\",\"2023-07-10T00:00:00\",\"2023-07-11T00:00:00\",\"2023-07-12T00:00:00\",\"2023-07-13T00:00:00\",\"2023-07-14T00:00:00\",\"2023-07-15T00:00:00\",\"2023-07-16T00:00:00\",\"2023-07-17T00:00:00\",\"2023-07-18T00:00:00\",\"2023-07-19T00:00:00\",\"2023-07-20T00:00:00\",\"2023-07-21T00:00:00\",\"2023-07-22T00:00:00\",\"2023-07-23T00:00:00\",\"2023-07-24T00:00:00\",\"2023-07-25T00:00:00\",\"2023-07-26T00:00:00\",\"2023-07-27T00:00:00\",\"2023-07-28T00:00:00\",\"2023-07-29T00:00:00\",\"2023-07-30T00:00:00\",\"2023-07-31T00:00:00\",\"2023-08-01T00:00:00\",\"2023-08-02T00:00:00\",\"2023-08-03T00:00:00\",\"2023-08-04T00:00:00\",\"2023-08-05T00:00:00\",\"2023-08-06T00:00:00\",\"2023-08-07T00:00:00\",\"2023-08-08T00:00:00\",\"2023-08-09T00:00:00\",\"2023-08-10T00:00:00\",\"2023-08-11T00:00:00\",\"2023-08-12T00:00:00\",\"2023-08-13T00:00:00\",\"2023-08-14T00:00:00\",\"2023-08-15T00:00:00\",\"2023-08-16T00:00:00\",\"2023-08-17T00:00:00\",\"2023-08-18T00:00:00\",\"2023-08-19T00:00:00\",\"2023-08-20T00:00:00\",\"2023-08-21T00:00:00\",\"2023-08-22T00:00:00\",\"2023-08-23T00:00:00\",\"2023-08-24T00:00:00\",\"2023-08-25T00:00:00\",\"2023-08-26T00:00:00\",\"2023-08-27T00:00:00\",\"2023-08-28T00:00:00\",\"2023-08-29T00:00:00\",\"2023-08-30T00:00:00\",\"2023-08-31T00:00:00\",\"2023-09-01T00:00:00\",\"2023-09-02T00:00:00\",\"2023-09-03T00:00:00\",\"2023-09-04T00:00:00\",\"2023-09-05T00:00:00\",\"2023-09-06T00:00:00\",\"2023-09-07T00:00:00\",\"2023-09-08T00:00:00\",\"2023-09-09T00:00:00\",\"2023-09-10T00:00:00\",\"2023-09-11T00:00:00\",\"2023-09-12T00:00:00\",\"2023-09-13T00:00:00\",\"2023-09-14T00:00:00\",\"2023-09-15T00:00:00\",\"2023-09-16T00:00:00\",\"2023-09-17T00:00:00\",\"2023-09-18T00:00:00\",\"2023-09-19T00:00:00\",\"2023-09-20T00:00:00\",\"2023-09-21T00:00:00\",\"2023-09-22T00:00:00\",\"2023-09-23T00:00:00\",\"2023-09-24T00:00:00\",\"2023-09-25T00:00:00\",\"2023-09-26T00:00:00\",\"2023-09-27T00:00:00\",\"2023-09-28T00:00:00\",\"2023-09-29T00:00:00\",\"2023-09-30T00:00:00\",\"2023-10-01T00:00:00\",\"2023-10-02T00:00:00\"],\"y\":[99999.99999999996,99438.65883604145,90686.85008641973,93174.17659261232,97804.44934722704,91346.18789453736,84318.22108503578,85419.63493639234,84458.87791276092,80969.23726530759,88839.25652577233,91349.3210838544,90453.69930706987,89663.432439284,97589.06952250192,94384.12305393812,94070.75875503542,94503.76008511115,83935.47057702726,89072.02454175771,88074.16571965825,89265.89328612392,90907.17964928156,89093.73071170838,87512.2359692955,89360.74830457204,76698.4272328198,75614.67197188789,72209.52791590401,70013.23786331255,70678.47647675149,64784.056945328506,58496.9044493697,55838.12389798893,60799.46154543396,55910.162647505014,58119.053377910335,55625.13758697872,60327.454835249286,59524.259564822525,58894.72166519773,58259.22261951955,55169.45477183664,53811.40784874566,55687.11101168386,55527.02819119036,56586.06195922068,58468.78016513356,60675.1176463936,56794.56675333834,55146.81102609123,54786.40438797625,51336.24253934672,50927.81494999572,57762.62253918181,56566.50948528371,59487.28121995617,56257.96409582715,62199.03339306836,64068.91854958773,62245.18297773614,59642.30904089317,59496.318521440306,56468.67893239473,57175.57220631521,56873.49543363478,51353.74968822681,53229.811982086016,55381.5979746538,57588.35139065002,52726.08149440387,53409.916891436056,57032.314433240965,55497.89422105829,57859.616138549136,55699.08523193822,53968.28486936818,54292.105039581606,55667.648923865534,56551.812893521324,54700.902082017434,55135.19244855224,54332.54286020845,53763.50135637664,55476.754009470875,55619.93763590513,56983.18567895067,55647.182479392824,55419.95310904827,55299.13353960501,55345.0509311217,54900.50161579937,54708.41911786182,55130.09956044689,53322.94888351426,51366.62317208432,54956.32038958265,54960.83266930262,56815.57811274435,57741.924093901354,59672.946706143455,62656.084876880326,66096.61117232322,67001.3835596819,65869.9169669141,68694.47521699575,66833.43171634295,63775.286256771375,61792.129785289806,60138.1931650657,61710.04529935647,63264.52717035645,66023.95816075102,68435.15390856289,67994.70894500628,71594.09288815374,71395.87485730366,71637.06845955903,70535.75970491124,75077.98672510815,74275.08739861131,72189.60561473487,69171.03386048699,66869.80689511252,65809.64774595953,69691.09849315537,73440.91524448722,73731.23581825443,74995.08914067724,77769.42032979937,75897.49311107662,78982.01404759745,74971.4714177488,76168.51130091307,74178.78791434832,74194.75309104889,67052.55363610368,64423.382805628426,65318.29633106004,63770.027014229396,59907.96315348784,62332.2085111607,63402.65920143593,60903.76998360552,50557.40098178454,46038.4031022227,46913.05371250441,45786.692364531504,45955.52770464435,45898.45379442583,45026.486331236054,48963.60483042392,51393.47725644999,52023.88303738676,53028.621673455345,50584.00408534682,52385.174878671,49708.75719023552,48118.79047317561,47606.79223392522,48927.86151639518,47846.35549227877,47859.107010233645,48000.37574080419,46869.55297734753,46560.209719903316,48210.385403227454,50955.547415677465,54294.3735823517,52239.70147518234,52287.7919616764,55398.9956378804,60208.45484667115,68468.2332525971,65165.728932516984,63875.73087539642,64761.626488829446,66455.4712648212,72163.69634546175,70066.26261486279,72337.37832624123,71079.58339595435,75368.83575886143,75540.59760232383,76651.39470830846,79647.24513257461,83175.57968231685,80857.24150485166,70564.30920944503,67449.7219272602,66957.39081644586,66249.93632835915,67304.55254157656,63620.8716414361,64350.581524791785,66295.31071008116,69107.67644896926,70365.22149645782,68171.27958341774,65615.843136226,65247.5084737516,61048.62687687585,57178.56619638135,61643.519198511596,60425.80220839404,65235.46836615056,71107.17602571132,71800.37471314872,68998.50406038595,68788.04933317534,69284.76095978825,68536.67751145056,70819.26316724607,68246.66776018067,66549.76495412218,65451.69309902492,64076.13743358637,63229.844520525956,65954.24703588909,61367.07613990973,60471.766952490885,61749.30361620242,61088.331097000315,65594.80173069981,63881.15670089372,66120.17252469069,68559.97389830984,68357.44842110199,64787.54661414993,62473.26865044259,61582.596231678304,61068.36090217736,55931.20571192359,56860.32425080154,60542.10323350944,59634.2511423193,59469.68693669064,57250.58936083292,59106.70668964109,61488.07866313666,61941.215143041474,59469.90726886149,59170.741863381154,58854.519848535616,56637.07518438294,55241.82023430966,54513.52918850283,54914.896994700466,56062.05522367773,58087.569554287526,57455.38153183631,58815.65415975876,59252.83579415514,58101.960284084205,57078.16871869461,58616.41633658053,57122.45689306188,56140.66325364674,56626.062306558866,55504.2665926969,56355.08029413092,55497.74410863099,53428.194031740655,52724.44583256555,49985.878794863005,50605.21479924807,49839.799762125054,49066.72300218707,49039.306611894965,49355.96711281931,51674.298394906546,52318.56992470736,51590.90296987291,51986.49313225739,52008.328042997935,52197.70297924848,52671.61478483498,53074.875482191106,53190.57468973384,52414.67474249075,47794.733858801636,48306.40919274931,50247.59128745134,52471.5039810948,53088.37909544024,53002.311592379745,54924.347245651756,54702.80443049332,54371.6657958067,53410.17507104356,52626.19424350595,51445.917796426766,49594.2096341721,50141.83678854749,55655.542896875355,55560.30608709091,56968.48402571949,58889.40755822153,59004.00499321015,59277.89085083864,60307.574392568626,60653.95533090571,60542.7220344067,60771.318107927815,61059.28918706781,62907.93961783258,62466.91212286898,58417.62972991779,58394.51631353397,58270.83214604841,55329.32743629714,53576.97306800045,55711.30761593675,54307.503807133406,55182.80083290207,55449.749544165694,55232.33943945101,53874.48568174146,61401.21146239703,64196.392000926055,63298.45647739458,61748.76466116669,57063.46625995391,57312.377216450746,56581.562895153096,57303.974198001684,57924.44131813443,62341.99080206317,58343.08415239973,57287.42113111003,57189.12442203393,55803.296108745926,58711.755966314384,57450.974044742834,59348.05805581221,59388.123356072945,60140.80282030058,60467.976433092175,59578.39150185414,59268.223306874424,60814.86044274363,61000.93691900584,61570.14402559852,63110.13517038622,62950.586485345186,65768.65957303702,66497.37672265271,65931.96221724825,64170.803144410296,61346.84919723453,60718.7512504037,59544.24585306411,59844.097132981915,61242.54274858872,60936.09449055075,59501.965040381765,59556.316756860295,58536.02273540846,58712.24885706461,57770.510344708426,55647.23499617375,56797.84172893429,58288.26527938954,56878.2239459557,57608.193121528115,56957.462319224454,56129.41083522401,57990.5038846757,57888.54016135469,58084.02352010895,57293.14490895304,56270.24747954829,55463.8325646829,55832.34223561561,57273.34464141977,54513.415851679216,55919.22788645332,57580.052918372945,56353.653839643004,56486.436088418064,57034.762813794674,57387.988710363104,56338.14233984707,58471.99042406902,54489.71749772154,54350.95843307987,53667.162879432915,51747.31548088224,46242.71390926802,47419.89847242992,46092.1751104423,47841.57845921063,47918.651765762785,48749.05640223948,50099.80799531945,48549.07894282222,48879.41525362083,47381.09357047359,50157.8115997162,48804.545999228714,49513.33489609709,50730.134128048725,49404.02509415948,50830.52109448287,51171.21142890722,51127.35042754618,50578.35293145858,50366.88072377081,51047.64342109888,54719.79524142454,55471.82319755734,52456.114623891684,53858.155362151825,52957.54058676086,52903.57493237669,52910.67204966168,54410.43999989305,54227.65144128153,52805.4953591632,52294.419070710996,51705.78905288153,51113.02314668078,48612.674736995665,40563.30378401857,39452.28876124583,39303.49559542014,36104.55206554145,36317.22120468089,32915.085734053726,35327.462355508665,35133.423107404524,35434.425429811825,34634.94609341185,36163.903906487176,35902.340466134694,36203.66501447986,35891.15456540783,35631.81336003529,35393.426047458954,35133.96738859957,34717.86230947484,33966.86625852087,33851.53044129292,33939.60758269474,35308.17007944991,35643.15439691427,36194.180539126435,37714.540181570264,38092.69784808834,37871.29109339954,36698.27793191123,35539.47737912155,34513.50236760931,35941.149965601115,36170.48501514089,36389.15335226531,36498.88823737186,35950.506131014416,37753.02968061088,39631.43399717689,39431.855445943365,39224.38129390169,39001.05935633512,38421.097877036824,38299.24503015831,36839.329592454815,36960.28222734659,39353.32921576066,40272.43576465202,41119.98273014302,40321.45055528173,39678.37655171703,40141.67686581925,40055.6781515375,40886.598729050755,41087.40846594172,41332.481737341666,41207.355880273724,41796.36707619741,42214.74286681135,41703.7935991852,42057.153655733404,41697.65257379207,41781.25869557371,41464.56833104316,41634.59738103091,41823.095274612555,41396.513451681574,40729.54601335295,40194.15517863093,37001.89777002028,38067.54544461447,39280.80536462222,39056.08579882852,38876.728928201774,38659.68838382128,39105.26771568083,37197.18325463103,36806.52409525188,36487.38909517716,37140.91510773917,36433.09412882374,36588.43233390324,36296.97681594992,35890.306637941474,35899.337954624185,35906.54476514911,35184.576175644776,33463.5394684855,34337.75132417839,34176.10455534308,37966.37308080468,38314.013307945854,38491.07634985204,39401.04915332622,36205.625970340334,35708.63908880648,35268.70766134768,35936.873472777756,36247.8189386249,35649.94676848421,35823.26334655331,34890.019910594594,34672.39186534538,35951.67933227605,35388.5585080685,34721.85716335526,34651.427289893065,34953.482540979385,34783.51094295201,35808.00772370057,36028.6865264682,36094.702589890025,36194.94616975632,36178.25231126448,36781.65102574898,38078.58404051204,37630.6348787886,37069.41004503758,36244.469936913505,35878.63066238271,35796.133977397774,35328.83213545963,35402.10932758133,35406.33036836437,36036.5836067907,35608.20656912672,35528.62852426244,35790.007654289715,36122.48710140877,35949.61308189475,35977.9762813372,35890.178409035856,36026.57535067864,36027.58054234629,36456.08177404445,36285.54629554346,37081.29990010929,38102.13859358754,37465.02120635655,38142.38208264222,38329.13907366959,38603.54142483679,39192.137989210416,39170.579036066694,38800.31826687394,39210.453154694245,40707.3722000544,40233.532756780514,40157.92785675948,39655.67427224495,38167.72659005301,33260.54542605892,36426.41488656006,34940.91704772623,34732.577969218364,34097.8967516163,34343.236123663235,34522.938418458616,34156.09835298483,33951.01651312815,34335.295660540905,34318.02927941234,33760.34920640147,32429.507957675876,33233.735562179005,34935.44561149368,34875.48725933194,34983.502207931466,35304.82458385495,35234.27671845975,34194.844961909344,34376.33142045124,35286.5250644589,34664.44142370237,34808.154928612945,34795.57180985057,34980.142306419824,34527.20738059321,34742.91866315465,34456.35872003948,35158.10951632025,34962.31552272493,35082.22361730899,34910.677648938195,34601.877843785165,34967.1996028114,34945.66637935282,33909.878738311876,32173.511613060768,32970.60333739341,33506.958680223775,32574.301388388845,33631.374355521904,33231.14501969688,33241.53577041434,33221.356834907645,33283.26346406054,33082.9276791664,33152.84173734703,33112.64889516452,33166.25304581552,33470.73564496109,33330.98692498629,33174.78846740444,33140.69952707609,32883.667590280325,32557.602872423166,33383.13215434025,33311.88564424216,33562.49599909465,33713.2540382691,34362.42636594983,33857.818055612835,34533.43131052024,35379.25874049973,36982.69638531171,38727.35051353046,39623.02696077243,39618.58164601377,39828.13612916179,39849.0594783897,39100.714444039084,39893.182013218706,41845.66358260653,42152.876647012265,42362.28098516773,42646.37189252138,42675.93946062744,43212.058337908085,42984.32242889148,43163.53808276968,43242.387704701796,44322.33311062823,43058.298972516444,43717.110665437125,44359.11876251944,44414.26697252682,44493.798414142075,44326.048003785814,43979.73551392498,43702.84527334848,44337.38013464176,43776.488797064674,41669.00169586392,41545.46793055071,41932.86127938245,42068.82938768699,41284.02407000846,41573.86471791317,45376.17842435833,44017.92507536858,45374.8089457993,45623.64853632188,44579.23628469508,45427.209120735,45158.055662814586,44872.00681239823,44156.18884699587,43094.39257362239,43196.46307414363,43848.80772884786,43771.013229243494,43214.75411422663,43594.87606522179,43474.33438767464,41597.709300106326,41690.34695743083,41743.595472840025,41843.83688395183,41630.903283633124,41192.52270282519,39091.86641036413,38761.06495511172,39468.8042785017,41786.91509678695,45997.52280550036,46726.51078554735,46805.0523875713,49015.81934478416,52615.96459745255,51760.43045967158,53698.827299485376,53452.20829974633,53562.18880384497,51764.22964860094,53217.01842197593,51979.604767959325,52166.91852560943,53074.29480203634,51092.36489769771,51045.69183566359,52647.12640725029,52537.428177763635,53075.46730247395,52812.43890729925,52571.5753584835,51488.48823696575,51915.32949270258,51975.717678266126,51951.85124778303,51684.84179871328,51941.113734723396,52637.80015605011,54895.2207535069,55907.588146594695,55333.73908526224,55512.58932803259,55298.154212088644,55313.727753158506,55694.88733528694,53969.38742722276,55420.24903723898,53159.95255773966,52016.993802236466,51363.22255900562,52657.10684879556,52311.21698232537,52277.88937975895,53779.15211125093,53894.148160138146,55371.902678242644,54636.32192124312,54192.27963740083,55483.37193931858,53283.84772424918,53692.55964409151,54326.6192378461,54179.78155194763,54776.12882451805,54214.177946304975,53491.63156086358,52304.46476389996,52112.819472189956,52057.99748965007,50985.35232820237,50420.63322492361,50621.37715684861,50830.02146393246,51164.73666960214,50651.45543016912,51242.73395340131,50284.2610003956,50252.36232774552,50721.767466671794,50056.17459467298,50346.311100437095,50984.44124027625,49545.76762999417,49701.51479575638,50085.55167654491,50122.186552640705,52139.9931329689,51484.64847057256,51160.04806914976,50351.55101977488,49575.89771121348,50072.33596357752,49785.01087785079,49657.071746357775,46511.429641533294,48897.50996609686,46651.30763124308,46970.70312290172,47037.86364096137,45972.243068797696,45917.06865318046,45689.84110816007,46452.705687571404,45315.47992568206,45919.504962683786,47118.96910507475,47650.64828972162,47350.44344953333,48050.565672011006,50596.7642161912,53063.539474209465,52537.23107807254,53691.37803570658,53202.76051006442,53030.25246727904,52913.29674593492,53638.98987721478,52832.76045172791,53117.64555951341,52371.6887612172,52954.25640937383,52466.71705187027,53566.28517217876,52821.30634465212,52419.65817102555,51362.269028200455,51853.23903292429,51799.95734992424,51644.855110694334,52618.36981050386,52993.00101729226,52347.23525562579,53225.25700946612,51023.33857310089,50979.23302766435,50552.94245504249,50423.379486199236,50004.81296103917,50308.00411418451,50030.18709199794,50202.020282805206,50376.219263400955,50817.847352937024,49544.52005403456,49578.16565353552,49498.09344236116,49382.04690852869,49699.02246318811,49590.27982827269,49800.50677735303,49736.7059677906,50735.83221294822,49866.022343737204,50256.55750337028,50157.940830178704,50193.8114196149,50184.90615956672,50422.84655176091,51203.804913617554,50639.86022784094,50275.00355457844,50177.602625530475,50171.652006826575,50144.83544544361,50154.10900504773,50006.795781674715,49406.21327450496,46125.252693935276,45109.396827195305,45190.295219616855,45281.98232007541,44929.53217160326,45055.99085532171,45699.016380040564,45629.99086487224,45495.878491279014,45321.974708763795,45441.23484548421,45516.99519890136,48271.250425345694,47687.843367012596,45366.866583894735,45151.611143732676,45178.934582100876,45420.02268370296,45306.29561342682,45019.66401655832,45109.76392134586,45958.9990987537,45396.62257715181,45485.980864176105,45712.2090256692,44647.03924477509,45758.95214841169,46341.28228811622,46632.642789361285,46531.324344501016,46550.6423522332,46777.088604692035,46757.310118441266,47412.033900577575,47166.49585946663,46319.812736763175,46252.153409233244,46120.47345749265,45567.44678265488,45523.090558852884,45609.633994603755,45748.833727959995,46645.970210961255,46220.2467814356,46034.009044595885,47361.94884507035,47506.47537986758],\"type\":\"scatter\"},{\"line\":{\"color\":\"Crimson\",\"width\":3},\"name\":\"Target 40% pa\",\"x\":[\"2021-04-16T00:00:00\",\"2021-04-17T00:00:00\",\"2021-04-18T00:00:00\",\"2021-04-19T00:00:00\",\"2021-04-20T00:00:00\",\"2021-04-21T00:00:00\",\"2021-04-22T00:00:00\",\"2021-04-23T00:00:00\",\"2021-04-24T00:00:00\",\"2021-04-25T00:00:00\",\"2021-04-26T00:00:00\",\"2021-04-27T00:00:00\",\"2021-04-28T00:00:00\",\"2021-04-29T00:00:00\",\"2021-04-30T00:00:00\",\"2021-05-01T00:00:00\",\"2021-05-02T00:00:00\",\"2021-05-03T00:00:00\",\"2021-05-04T00:00:00\",\"2021-05-05T00:00:00\",\"2021-05-06T00:00:00\",\"2021-05-07T00:00:00\",\"2021-05-08T00:00:00\",\"2021-05-09T00:00:00\",\"2021-05-10T00:00:00\",\"2021-05-11T00:00:00\",\"2021-05-12T00:00:00\",\"2021-05-13T00:00:00\",\"2021-05-14T00:00:00\",\"2021-05-15T00:00:00\",\"2021-05-16T00:00:00\",\"2021-05-17T00:00:00\",\"2021-05-18T00:00:00\",\"2021-05-19T00:00:00\",\"2021-05-20T00:00:00\",\"2021-05-21T00:00:00\",\"2021-05-22T00:00:00\",\"2021-05-23T00:00:00\",\"2021-05-24T00:00:00\",\"2021-05-25T00:00:00\",\"2021-05-26T00:00:00\",\"2021-05-27T00:00:00\",\"2021-05-28T00:00:00\",\"2021-05-29T00:00:00\",\"2021-05-30T00:00:00\",\"2021-05-31T00:00:00\",\"2021-06-01T00:00:00\",\"2021-06-02T00:00:00\",\"2021-06-03T00:00:00\",\"2021-06-04T00:00:00\",\"2021-06-05T00:00:00\",\"2021-06-06T00:00:00\",\"2021-06-07T00:00:00\",\"2021-06-08T00:00:00\",\"2021-06-09T00:00:00\",\"2021-06-10T00:00:00\",\"2021-06-11T00:00:00\",\"2021-06-12T00:00:00\",\"2021-06-13T00:00:00\",\"2021-06-14T00:00:00\",\"2021-06-15T00:00:00\",\"2021-06-16T00:00:00\",\"2021-06-17T00:00:00\",\"2021-06-18T00:00:00\",\"2021-06-19T00:00:00\",\"2021-06-20T00:00:00\",\"2021-06-21T00:00:00\",\"2021-06-22T00:00:00\",\"2021-06-23T00:00:00\",\"2021-06-24T00:00:00\",\"2021-06-25T00:00:00\",\"2021-06-26T00:00:00\",\"2021-06-27T00:00:00\",\"2021-06-28T00:00:00\",\"2021-06-29T00:00:00\",\"2021-06-30T00:00:00\",\"2021-07-01T00:00:00\",\"2021-07-02T00:00:00\",\"2021-07-03T00:00:00\",\"2021-07-04T00:00:00\",\"2021-07-05T00:00:00\",\"2021-07-06T00:00:00\",\"2021-07-07T00:00:00\",\"2021-07-08T00:00:00\",\"2021-07-09T00:00:00\",\"2021-07-10T00:00:00\",\"2021-07-11T00:00:00\",\"2021-07-12T00:00:00\",\"2021-07-13T00:00:00\",\"2021-07-14T00:00:00\",\"2021-07-15T00:00:00\",\"2021-07-16T00:00:00\",\"2021-07-17T00:00:00\",\"2021-07-18T00:00:00\",\"2021-07-19T00:00:00\",\"2021-07-20T00:00:00\",\"2021-07-21T00:00:00\",\"2021-07-22T00:00:00\",\"2021-07-23T00:00:00\",\"2021-07-24T00:00:00\",\"2021-07-25T00:00:00\",\"2021-07-26T00:00:00\",\"2021-07-27T00:00:00\",\"2021-07-28T00:00:00\",\"2021-07-29T00:00:00\",\"2021-07-30T00:00:00\",\"2021-07-31T00:00:00\",\"2021-08-01T00:00:00\",\"2021-08-02T00:00:00\",\"2021-08-03T00:00:00\",\"2021-08-04T00:00:00\",\"2021-08-05T00:00:00\",\"2021-08-06T00:00:00\",\"2021-08-07T00:00:00\",\"2021-08-08T00:00:00\",\"2021-08-09T00:00:00\",\"2021-08-10T00:00:00\",\"2021-08-11T00:00:00\",\"2021-08-12T00:00:00\",\"2021-08-13T00:00:00\",\"2021-08-14T00:00:00\",\"2021-08-15T00:00:00\",\"2021-08-16T00:00:00\",\"2021-08-17T00:00:00\",\"2021-08-18T00:00:00\",\"2021-08-19T00:00:00\",\"2021-08-20T00:00:00\",\"2021-08-21T00:00:00\",\"2021-08-22T00:00:00\",\"2021-08-23T00:00:00\",\"2021-08-24T00:00:00\",\"2021-08-25T00:00:00\",\"2021-08-26T00:00:00\",\"2021-08-27T00:00:00\",\"2021-08-28T00:00:00\",\"2021-08-29T00:00:00\",\"2021-08-30T00:00:00\",\"2021-08-31T00:00:00\",\"2021-09-01T00:00:00\",\"2021-09-02T00:00:00\",\"2021-09-03T00:00:00\",\"2021-09-04T00:00:00\",\"2021-09-05T00:00:00\",\"2021-09-06T00:00:00\",\"2021-09-07T00:00:00\",\"2021-09-08T00:00:00\",\"2021-09-09T00:00:00\",\"2021-09-10T00:00:00\",\"2021-09-11T00:00:00\",\"2021-09-12T00:00:00\",\"2021-09-13T00:00:00\",\"2021-09-14T00:00:00\",\"2021-09-15T00:00:00\",\"2021-09-16T00:00:00\",\"2021-09-17T00:00:00\",\"2021-09-18T00:00:00\",\"2021-09-19T00:00:00\",\"2021-09-20T00:00:00\",\"2021-09-21T00:00:00\",\"2021-09-22T00:00:00\",\"2021-09-23T00:00:00\",\"2021-09-24T00:00:00\",\"2021-09-25T00:00:00\",\"2021-09-26T00:00:00\",\"2021-09-27T00:00:00\",\"2021-09-28T00:00:00\",\"2021-09-29T00:00:00\",\"2021-09-30T00:00:00\",\"2021-10-01T00:00:00\",\"2021-10-02T00:00:00\",\"2021-10-03T00:00:00\",\"2021-10-04T00:00:00\",\"2021-10-05T00:00:00\",\"2021-10-06T00:00:00\",\"2021-10-07T00:00:00\",\"2021-10-08T00:00:00\",\"2021-10-09T00:00:00\",\"2021-10-10T00:00:00\",\"2021-10-11T00:00:00\",\"2021-10-12T00:00:00\",\"2021-10-13T00:00:00\",\"2021-10-14T00:00:00\",\"2021-10-15T00:00:00\",\"2021-10-16T00:00:00\",\"2021-10-17T00:00:00\",\"2021-10-18T00:00:00\",\"2021-10-19T00:00:00\",\"2021-10-20T00:00:00\",\"2021-10-21T00:00:00\",\"2021-10-22T00:00:00\",\"2021-10-23T00:00:00\",\"2021-10-24T00:00:00\",\"2021-10-25T00:00:00\",\"2021-10-26T00:00:00\",\"2021-10-27T00:00:00\",\"2021-10-28T00:00:00\",\"2021-10-29T00:00:00\",\"2021-10-30T00:00:00\",\"2021-10-31T00:00:00\",\"2021-11-01T00:00:00\",\"2021-11-02T00:00:00\",\"2021-11-03T00:00:00\",\"2021-11-04T00:00:00\",\"2021-11-05T00:00:00\",\"2021-11-06T00:00:00\",\"2021-11-07T00:00:00\",\"2021-11-08T00:00:00\",\"2021-11-09T00:00:00\",\"2021-11-10T00:00:00\",\"2021-11-11T00:00:00\",\"2021-11-12T00:00:00\",\"2021-11-13T00:00:00\",\"2021-11-14T00:00:00\",\"2021-11-15T00:00:00\",\"2021-11-16T00:00:00\",\"2021-11-17T00:00:00\",\"2021-11-18T00:00:00\",\"2021-11-19T00:00:00\",\"2021-11-20T00:00:00\",\"2021-11-21T00:00:00\",\"2021-11-22T00:00:00\",\"2021-11-23T00:00:00\",\"2021-11-24T00:00:00\",\"2021-11-25T00:00:00\",\"2021-11-26T00:00:00\",\"2021-11-27T00:00:00\",\"2021-11-28T00:00:00\",\"2021-11-29T00:00:00\",\"2021-11-30T00:00:00\",\"2021-12-01T00:00:00\",\"2021-12-02T00:00:00\",\"2021-12-03T00:00:00\",\"2021-12-04T00:00:00\",\"2021-12-05T00:00:00\",\"2021-12-06T00:00:00\",\"2021-12-07T00:00:00\",\"2021-12-08T00:00:00\",\"2021-12-09T00:00:00\",\"2021-12-10T00:00:00\",\"2021-12-11T00:00:00\",\"2021-12-12T00:00:00\",\"2021-12-13T00:00:00\",\"2021-12-14T00:00:00\",\"2021-12-15T00:00:00\",\"2021-12-16T00:00:00\",\"2021-12-17T00:00:00\",\"2021-12-18T00:00:00\",\"2021-12-19T00:00:00\",\"2021-12-20T00:00:00\",\"2021-12-21T00:00:00\",\"2021-12-22T00:00:00\",\"2021-12-23T00:00:00\",\"2021-12-24T00:00:00\",\"2021-12-25T00:00:00\",\"2021-12-26T00:00:00\",\"2021-12-27T00:00:00\",\"2021-12-28T00:00:00\",\"2021-12-29T00:00:00\",\"2021-12-30T00:00:00\",\"2021-12-31T00:00:00\",\"2022-01-01T00:00:00\",\"2022-01-02T00:00:00\",\"2022-01-03T00:00:00\",\"2022-01-04T00:00:00\",\"2022-01-05T00:00:00\",\"2022-01-06T00:00:00\",\"2022-01-07T00:00:00\",\"2022-01-08T00:00:00\",\"2022-01-09T00:00:00\",\"2022-01-10T00:00:00\",\"2022-01-11T00:00:00\",\"2022-01-12T00:00:00\",\"2022-01-13T00:00:00\",\"2022-01-14T00:00:00\",\"2022-01-15T00:00:00\",\"2022-01-16T00:00:00\",\"2022-01-17T00:00:00\",\"2022-01-18T00:00:00\",\"2022-01-19T00:00:00\",\"2022-01-20T00:00:00\",\"2022-01-21T00:00:00\",\"2022-01-22T00:00:00\",\"2022-01-23T00:00:00\",\"2022-01-24T00:00:00\",\"2022-01-25T00:00:00\",\"2022-01-26T00:00:00\",\"2022-01-27T00:00:00\",\"2022-01-28T00:00:00\",\"2022-01-29T00:00:00\",\"2022-01-30T00:00:00\",\"2022-01-31T00:00:00\",\"2022-02-01T00:00:00\",\"2022-02-02T00:00:00\",\"2022-02-03T00:00:00\",\"2022-02-04T00:00:00\",\"2022-02-05T00:00:00\",\"2022-02-06T00:00:00\",\"2022-02-07T00:00:00\",\"2022-02-08T00:00:00\",\"2022-02-09T00:00:00\",\"2022-02-10T00:00:00\",\"2022-02-11T00:00:00\",\"2022-02-12T00:00:00\",\"2022-02-13T00:00:00\",\"2022-02-14T00:00:00\",\"2022-02-15T00:00:00\",\"2022-02-16T00:00:00\",\"2022-02-17T00:00:00\",\"2022-02-18T00:00:00\",\"2022-02-19T00:00:00\",\"2022-02-20T00:00:00\",\"2022-02-21T00:00:00\",\"2022-02-22T00:00:00\",\"2022-02-23T00:00:00\",\"2022-02-24T00:00:00\",\"2022-02-25T00:00:00\",\"2022-02-26T00:00:00\",\"2022-02-27T00:00:00\",\"2022-02-28T00:00:00\",\"2022-03-01T00:00:00\",\"2022-03-02T00:00:00\",\"2022-03-03T00:00:00\",\"2022-03-04T00:00:00\",\"2022-03-05T00:00:00\",\"2022-03-06T00:00:00\",\"2022-03-07T00:00:00\",\"2022-03-08T00:00:00\",\"2022-03-09T00:00:00\",\"2022-03-10T00:00:00\",\"2022-03-11T00:00:00\",\"2022-03-12T00:00:00\",\"2022-03-13T00:00:00\",\"2022-03-14T00:00:00\",\"2022-03-15T00:00:00\",\"2022-03-16T00:00:00\",\"2022-03-17T00:00:00\",\"2022-03-18T00:00:00\",\"2022-03-19T00:00:00\",\"2022-03-20T00:00:00\",\"2022-03-21T00:00:00\",\"2022-03-22T00:00:00\",\"2022-03-23T00:00:00\",\"2022-03-24T00:00:00\",\"2022-03-25T00:00:00\",\"2022-03-26T00:00:00\",\"2022-03-27T00:00:00\",\"2022-03-28T00:00:00\",\"2022-03-29T00:00:00\",\"2022-03-30T00:00:00\",\"2022-03-31T00:00:00\",\"2022-04-01T00:00:00\",\"2022-04-02T00:00:00\",\"2022-04-03T00:00:00\",\"2022-04-04T00:00:00\",\"2022-04-05T00:00:00\",\"2022-04-06T00:00:00\",\"2022-04-07T00:00:00\",\"2022-04-08T00:00:00\",\"2022-04-09T00:00:00\",\"2022-04-10T00:00:00\",\"2022-04-11T00:00:00\",\"2022-04-12T00:00:00\",\"2022-04-13T00:00:00\",\"2022-04-14T00:00:00\",\"2022-04-15T00:00:00\",\"2022-04-16T00:00:00\",\"2022-04-17T00:00:00\",\"2022-04-18T00:00:00\",\"2022-04-19T00:00:00\",\"2022-04-20T00:00:00\",\"2022-04-21T00:00:00\",\"2022-04-22T00:00:00\",\"2022-04-23T00:00:00\",\"2022-04-24T00:00:00\",\"2022-04-25T00:00:00\",\"2022-04-26T00:00:00\",\"2022-04-27T00:00:00\",\"2022-04-28T00:00:00\",\"2022-04-29T00:00:00\",\"2022-04-30T00:00:00\",\"2022-05-01T00:00:00\",\"2022-05-02T00:00:00\",\"2022-05-03T00:00:00\",\"2022-05-04T00:00:00\",\"2022-05-05T00:00:00\",\"2022-05-06T00:00:00\",\"2022-05-07T00:00:00\",\"2022-05-08T00:00:00\",\"2022-05-09T00:00:00\",\"2022-05-10T00:00:00\",\"2022-05-11T00:00:00\",\"2022-05-12T00:00:00\",\"2022-05-13T00:00:00\",\"2022-05-14T00:00:00\",\"2022-05-15T00:00:00\",\"2022-05-16T00:00:00\",\"2022-05-17T00:00:00\",\"2022-05-18T00:00:00\",\"2022-05-19T00:00:00\",\"2022-05-20T00:00:00\",\"2022-05-21T00:00:00\",\"2022-05-22T00:00:00\",\"2022-05-23T00:00:00\",\"2022-05-24T00:00:00\",\"2022-05-25T00:00:00\",\"2022-05-26T00:00:00\",\"2022-05-27T00:00:00\",\"2022-05-28T00:00:00\",\"2022-05-29T00:00:00\",\"2022-05-30T00:00:00\",\"2022-05-31T00:00:00\",\"2022-06-01T00:00:00\",\"2022-06-02T00:00:00\",\"2022-06-03T00:00:00\",\"2022-06-04T00:00:00\",\"2022-06-05T00:00:00\",\"2022-06-06T00:00:00\",\"2022-06-07T00:00:00\",\"2022-06-08T00:00:00\",\"2022-06-09T00:00:00\",\"2022-06-10T00:00:00\",\"2022-06-11T00:00:00\",\"2022-06-12T00:00:00\",\"2022-06-13T00:00:00\",\"2022-06-14T00:00:00\",\"2022-06-15T00:00:00\",\"2022-06-16T00:00:00\",\"2022-06-17T00:00:00\",\"2022-06-18T00:00:00\",\"2022-06-19T00:00:00\",\"2022-06-20T00:00:00\",\"2022-06-21T00:00:00\",\"2022-06-22T00:00:00\",\"2022-06-23T00:00:00\",\"2022-06-24T00:00:00\",\"2022-06-25T00:00:00\",\"2022-06-26T00:00:00\",\"2022-06-27T00:00:00\",\"2022-06-28T00:00:00\",\"2022-06-29T00:00:00\",\"2022-06-30T00:00:00\",\"2022-07-01T00:00:00\",\"2022-07-02T00:00:00\",\"2022-07-03T00:00:00\",\"2022-07-04T00:00:00\",\"2022-07-05T00:00:00\",\"2022-07-06T00:00:00\",\"2022-07-07T00:00:00\",\"2022-07-08T00:00:00\",\"2022-07-09T00:00:00\",\"2022-07-10T00:00:00\",\"2022-07-11T00:00:00\",\"2022-07-12T00:00:00\",\"2022-07-13T00:00:00\",\"2022-07-14T00:00:00\",\"2022-07-15T00:00:00\",\"2022-07-16T00:00:00\",\"2022-07-17T00:00:00\",\"2022-07-18T00:00:00\",\"2022-07-19T00:00:00\",\"2022-07-20T00:00:00\",\"2022-07-21T00:00:00\",\"2022-07-22T00:00:00\",\"2022-07-23T00:00:00\",\"2022-07-24T00:00:00\",\"2022-07-25T00:00:00\",\"2022-07-26T00:00:00\",\"2022-07-27T00:00:00\",\"2022-07-28T00:00:00\",\"2022-07-29T00:00:00\",\"2022-07-30T00:00:00\",\"2022-07-31T00:00:00\",\"2022-08-01T00:00:00\",\"2022-08-02T00:00:00\",\"2022-08-03T00:00:00\",\"2022-08-04T00:00:00\",\"2022-08-05T00:00:00\",\"2022-08-06T00:00:00\",\"2022-08-07T00:00:00\",\"2022-08-08T00:00:00\",\"2022-08-09T00:00:00\",\"2022-08-10T00:00:00\",\"2022-08-11T00:00:00\",\"2022-08-12T00:00:00\",\"2022-08-13T00:00:00\",\"2022-08-14T00:00:00\",\"2022-08-15T00:00:00\",\"2022-08-16T00:00:00\",\"2022-08-17T00:00:00\",\"2022-08-18T00:00:00\",\"2022-08-19T00:00:00\",\"2022-08-20T00:00:00\",\"2022-08-21T00:00:00\",\"2022-08-22T00:00:00\",\"2022-08-23T00:00:00\",\"2022-08-24T00:00:00\",\"2022-08-25T00:00:00\",\"2022-08-26T00:00:00\",\"2022-08-27T00:00:00\",\"2022-08-28T00:00:00\",\"2022-08-29T00:00:00\",\"2022-08-30T00:00:00\",\"2022-08-31T00:00:00\",\"2022-09-01T00:00:00\",\"2022-09-02T00:00:00\",\"2022-09-03T00:00:00\",\"2022-09-04T00:00:00\",\"2022-09-05T00:00:00\",\"2022-09-06T00:00:00\",\"2022-09-07T00:00:00\",\"2022-09-08T00:00:00\",\"2022-09-09T00:00:00\",\"2022-09-10T00:00:00\",\"2022-09-11T00:00:00\",\"2022-09-12T00:00:00\",\"2022-09-13T00:00:00\",\"2022-09-14T00:00:00\",\"2022-09-15T00:00:00\",\"2022-09-16T00:00:00\",\"2022-09-17T00:00:00\",\"2022-09-18T00:00:00\",\"2022-09-19T00:00:00\",\"2022-09-20T00:00:00\",\"2022-09-21T00:00:00\",\"2022-09-22T00:00:00\",\"2022-09-23T00:00:00\",\"2022-09-24T00:00:00\",\"2022-09-25T00:00:00\",\"2022-09-26T00:00:00\",\"2022-09-27T00:00:00\",\"2022-09-28T00:00:00\",\"2022-09-29T00:00:00\",\"2022-09-30T00:00:00\",\"2022-10-01T00:00:00\",\"2022-10-02T00:00:00\",\"2022-10-03T00:00:00\",\"2022-10-04T00:00:00\",\"2022-10-05T00:00:00\",\"2022-10-06T00:00:00\",\"2022-10-07T00:00:00\",\"2022-10-08T00:00:00\",\"2022-10-09T00:00:00\",\"2022-10-10T00:00:00\",\"2022-10-11T00:00:00\",\"2022-10-12T00:00:00\",\"2022-10-13T00:00:00\",\"2022-10-14T00:00:00\",\"2022-10-15T00:00:00\",\"2022-10-16T00:00:00\",\"2022-10-17T00:00:00\",\"2022-10-18T00:00:00\",\"2022-10-19T00:00:00\",\"2022-10-20T00:00:00\",\"2022-10-21T00:00:00\",\"2022-10-22T00:00:00\",\"2022-10-23T00:00:00\",\"2022-10-24T00:00:00\",\"2022-10-25T00:00:00\",\"2022-10-26T00:00:00\",\"2022-10-27T00:00:00\",\"2022-10-28T00:00:00\",\"2022-10-29T00:00:00\",\"2022-10-30T00:00:00\",\"2022-10-31T00:00:00\",\"2022-11-01T00:00:00\",\"2022-11-02T00:00:00\",\"2022-11-03T00:00:00\",\"2022-11-04T00:00:00\",\"2022-11-05T00:00:00\",\"2022-11-06T00:00:00\",\"2022-11-07T00:00:00\",\"2022-11-08T00:00:00\",\"2022-11-09T00:00:00\",\"2022-11-10T00:00:00\",\"2022-11-11T00:00:00\",\"2022-11-12T00:00:00\",\"2022-11-13T00:00:00\",\"2022-11-14T00:00:00\",\"2022-11-15T00:00:00\",\"2022-11-16T00:00:00\",\"2022-11-17T00:00:00\",\"2022-11-18T00:00:00\",\"2022-11-19T00:00:00\",\"2022-11-20T00:00:00\",\"2022-11-21T00:00:00\",\"2022-11-22T00:00:00\",\"2022-11-23T00:00:00\",\"2022-11-24T00:00:00\",\"2022-11-25T00:00:00\",\"2022-11-26T00:00:00\",\"2022-11-27T00:00:00\",\"2022-11-28T00:00:00\",\"2022-11-29T00:00:00\",\"2022-11-30T00:00:00\",\"2022-12-01T00:00:00\",\"2022-12-02T00:00:00\",\"2022-12-03T00:00:00\",\"2022-12-04T00:00:00\",\"2022-12-05T00:00:00\",\"2022-12-06T00:00:00\",\"2022-12-07T00:00:00\",\"2022-12-08T00:00:00\",\"2022-12-09T00:00:00\",\"2022-12-10T00:00:00\",\"2022-12-11T00:00:00\",\"2022-12-12T00:00:00\",\"2022-12-13T00:00:00\",\"2022-12-14T00:00:00\",\"2022-12-15T00:00:00\",\"2022-12-16T00:00:00\",\"2022-12-17T00:00:00\",\"2022-12-18T00:00:00\",\"2022-12-19T00:00:00\",\"2022-12-20T00:00:00\",\"2022-12-21T00:00:00\",\"2022-12-22T00:00:00\",\"2022-12-23T00:00:00\",\"2022-12-24T00:00:00\",\"2022-12-25T00:00:00\",\"2022-12-26T00:00:00\",\"2022-12-27T00:00:00\",\"2022-12-28T00:00:00\",\"2022-12-29T00:00:00\",\"2022-12-30T00:00:00\",\"2022-12-31T00:00:00\",\"2023-01-01T00:00:00\",\"2023-01-02T00:00:00\",\"2023-01-03T00:00:00\",\"2023-01-04T00:00:00\",\"2023-01-05T00:00:00\",\"2023-01-06T00:00:00\",\"2023-01-07T00:00:00\",\"2023-01-08T00:00:00\",\"2023-01-09T00:00:00\",\"2023-01-10T00:00:00\",\"2023-01-11T00:00:00\",\"2023-01-12T00:00:00\",\"2023-01-13T00:00:00\",\"2023-01-14T00:00:00\",\"2023-01-15T00:00:00\",\"2023-01-16T00:00:00\",\"2023-01-17T00:00:00\",\"2023-01-18T00:00:00\",\"2023-01-19T00:00:00\",\"2023-01-20T00:00:00\",\"2023-01-21T00:00:00\",\"2023-01-22T00:00:00\",\"2023-01-23T00:00:00\",\"2023-01-24T00:00:00\",\"2023-01-25T00:00:00\",\"2023-01-26T00:00:00\",\"2023-01-27T00:00:00\",\"2023-01-28T00:00:00\",\"2023-01-29T00:00:00\",\"2023-01-30T00:00:00\",\"2023-01-31T00:00:00\",\"2023-02-01T00:00:00\",\"2023-02-02T00:00:00\",\"2023-02-03T00:00:00\",\"2023-02-04T00:00:00\",\"2023-02-05T00:00:00\",\"2023-02-06T00:00:00\",\"2023-02-07T00:00:00\",\"2023-02-08T00:00:00\",\"2023-02-09T00:00:00\",\"2023-02-10T00:00:00\",\"2023-02-11T00:00:00\",\"2023-02-12T00:00:00\",\"2023-02-13T00:00:00\",\"2023-02-14T00:00:00\",\"2023-02-15T00:00:00\",\"2023-02-16T00:00:00\",\"2023-02-17T00:00:00\",\"2023-02-18T00:00:00\",\"2023-02-19T00:00:00\",\"2023-02-20T00:00:00\",\"2023-02-21T00:00:00\",\"2023-02-22T00:00:00\",\"2023-02-23T00:00:00\",\"2023-02-24T00:00:00\",\"2023-02-25T00:00:00\",\"2023-02-26T00:00:00\",\"2023-02-27T00:00:00\",\"2023-02-28T00:00:00\",\"2023-03-01T00:00:00\",\"2023-03-02T00:00:00\",\"2023-03-03T00:00:00\",\"2023-03-04T00:00:00\",\"2023-03-05T00:00:00\",\"2023-03-06T00:00:00\",\"2023-03-07T00:00:00\",\"2023-03-08T00:00:00\",\"2023-03-09T00:00:00\",\"2023-03-10T00:00:00\",\"2023-03-11T00:00:00\",\"2023-03-12T00:00:00\",\"2023-03-13T00:00:00\",\"2023-03-14T00:00:00\",\"2023-03-15T00:00:00\",\"2023-03-16T00:00:00\",\"2023-03-17T00:00:00\",\"2023-03-18T00:00:00\",\"2023-03-19T00:00:00\",\"2023-03-20T00:00:00\",\"2023-03-21T00:00:00\",\"2023-03-22T00:00:00\",\"2023-03-23T00:00:00\",\"2023-03-24T00:00:00\",\"2023-03-25T00:00:00\",\"2023-03-26T00:00:00\",\"2023-03-27T00:00:00\",\"2023-03-28T00:00:00\",\"2023-03-29T00:00:00\",\"2023-03-30T00:00:00\",\"2023-03-31T00:00:00\",\"2023-04-01T00:00:00\",\"2023-04-02T00:00:00\",\"2023-04-03T00:00:00\",\"2023-04-04T00:00:00\",\"2023-04-05T00:00:00\",\"2023-04-06T00:00:00\",\"2023-04-07T00:00:00\",\"2023-04-08T00:00:00\",\"2023-04-09T00:00:00\",\"2023-04-10T00:00:00\",\"2023-04-11T00:00:00\",\"2023-04-12T00:00:00\",\"2023-04-13T00:00:00\",\"2023-04-14T00:00:00\",\"2023-04-15T00:00:00\",\"2023-04-16T00:00:00\",\"2023-04-17T00:00:00\",\"2023-04-18T00:00:00\",\"2023-04-19T00:00:00\",\"2023-04-20T00:00:00\",\"2023-04-21T00:00:00\",\"2023-04-22T00:00:00\",\"2023-04-23T00:00:00\",\"2023-04-24T00:00:00\",\"2023-04-25T00:00:00\",\"2023-04-26T00:00:00\",\"2023-04-27T00:00:00\",\"2023-04-28T00:00:00\",\"2023-04-29T00:00:00\",\"2023-04-30T00:00:00\",\"2023-05-01T00:00:00\",\"2023-05-02T00:00:00\",\"2023-05-03T00:00:00\",\"2023-05-04T00:00:00\",\"2023-05-05T00:00:00\",\"2023-05-06T00:00:00\",\"2023-05-07T00:00:00\",\"2023-05-08T00:00:00\",\"2023-05-09T00:00:00\",\"2023-05-10T00:00:00\",\"2023-05-11T00:00:00\",\"2023-05-12T00:00:00\",\"2023-05-13T00:00:00\",\"2023-05-14T00:00:00\",\"2023-05-15T00:00:00\",\"2023-05-16T00:00:00\",\"2023-05-17T00:00:00\",\"2023-05-18T00:00:00\",\"2023-05-19T00:00:00\",\"2023-05-20T00:00:00\",\"2023-05-21T00:00:00\",\"2023-05-22T00:00:00\",\"2023-05-23T00:00:00\",\"2023-05-24T00:00:00\",\"2023-05-25T00:00:00\",\"2023-05-26T00:00:00\",\"2023-05-27T00:00:00\",\"2023-05-28T00:00:00\",\"2023-05-29T00:00:00\",\"2023-05-30T00:00:00\",\"2023-05-31T00:00:00\",\"2023-06-01T00:00:00\",\"2023-06-02T00:00:00\",\"2023-06-03T00:00:00\",\"2023-06-04T00:00:00\",\"2023-06-05T00:00:00\",\"2023-06-06T00:00:00\",\"2023-06-07T00:00:00\",\"2023-06-08T00:00:00\",\"2023-06-09T00:00:00\",\"2023-06-10T00:00:00\",\"2023-06-11T00:00:00\",\"2023-06-12T00:00:00\",\"2023-06-13T00:00:00\",\"2023-06-14T00:00:00\",\"2023-06-15T00:00:00\",\"2023-06-16T00:00:00\",\"2023-06-17T00:00:00\",\"2023-06-18T00:00:00\",\"2023-06-19T00:00:00\",\"2023-06-20T00:00:00\",\"2023-06-21T00:00:00\",\"2023-06-22T00:00:00\",\"2023-06-23T00:00:00\",\"2023-06-24T00:00:00\",\"2023-06-25T00:00:00\",\"2023-06-26T00:00:00\",\"2023-06-27T00:00:00\",\"2023-06-28T00:00:00\",\"2023-06-29T00:00:00\",\"2023-06-30T00:00:00\",\"2023-07-01T00:00:00\",\"2023-07-02T00:00:00\",\"2023-07-03T00:00:00\",\"2023-07-04T00:00:00\",\"2023-07-05T00:00:00\",\"2023-07-06T00:00:00\",\"2023-07-07T00:00:00\",\"2023-07-08T00:00:00\",\"2023-07-09T00:00:00\",\"2023-07-10T00:00:00\",\"2023-07-11T00:00:00\",\"2023-07-12T00:00:00\",\"2023-07-13T00:00:00\",\"2023-07-14T00:00:00\",\"2023-07-15T00:00:00\",\"2023-07-16T00:00:00\",\"2023-07-17T00:00:00\",\"2023-07-18T00:00:00\",\"2023-07-19T00:00:00\",\"2023-07-20T00:00:00\",\"2023-07-21T00:00:00\",\"2023-07-22T00:00:00\",\"2023-07-23T00:00:00\",\"2023-07-24T00:00:00\",\"2023-07-25T00:00:00\",\"2023-07-26T00:00:00\",\"2023-07-27T00:00:00\",\"2023-07-28T00:00:00\",\"2023-07-29T00:00:00\",\"2023-07-30T00:00:00\",\"2023-07-31T00:00:00\",\"2023-08-01T00:00:00\",\"2023-08-02T00:00:00\",\"2023-08-03T00:00:00\",\"2023-08-04T00:00:00\",\"2023-08-05T00:00:00\",\"2023-08-06T00:00:00\",\"2023-08-07T00:00:00\",\"2023-08-08T00:00:00\",\"2023-08-09T00:00:00\",\"2023-08-10T00:00:00\",\"2023-08-11T00:00:00\",\"2023-08-12T00:00:00\",\"2023-08-13T00:00:00\",\"2023-08-14T00:00:00\",\"2023-08-15T00:00:00\",\"2023-08-16T00:00:00\",\"2023-08-17T00:00:00\",\"2023-08-18T00:00:00\",\"2023-08-19T00:00:00\",\"2023-08-20T00:00:00\",\"2023-08-21T00:00:00\",\"2023-08-22T00:00:00\",\"2023-08-23T00:00:00\",\"2023-08-24T00:00:00\",\"2023-08-25T00:00:00\",\"2023-08-26T00:00:00\",\"2023-08-27T00:00:00\",\"2023-08-28T00:00:00\",\"2023-08-29T00:00:00\",\"2023-08-30T00:00:00\",\"2023-08-31T00:00:00\",\"2023-09-01T00:00:00\",\"2023-09-02T00:00:00\",\"2023-09-03T00:00:00\",\"2023-09-04T00:00:00\",\"2023-09-05T00:00:00\",\"2023-09-06T00:00:00\",\"2023-09-07T00:00:00\",\"2023-09-08T00:00:00\",\"2023-09-09T00:00:00\",\"2023-09-10T00:00:00\",\"2023-09-11T00:00:00\",\"2023-09-12T00:00:00\",\"2023-09-13T00:00:00\",\"2023-09-14T00:00:00\",\"2023-09-15T00:00:00\",\"2023-09-16T00:00:00\",\"2023-09-17T00:00:00\",\"2023-09-18T00:00:00\",\"2023-09-19T00:00:00\",\"2023-09-20T00:00:00\",\"2023-09-21T00:00:00\",\"2023-09-22T00:00:00\",\"2023-09-23T00:00:00\",\"2023-09-24T00:00:00\",\"2023-09-25T00:00:00\",\"2023-09-26T00:00:00\",\"2023-09-27T00:00:00\",\"2023-09-28T00:00:00\",\"2023-09-29T00:00:00\",\"2023-09-30T00:00:00\",\"2023-10-01T00:00:00\",\"2023-10-02T00:00:00\"],\"y\":[100000.00000000001,97838.04162440146,104084.72463734967,109346.06602122143,117844.82100242296,115987.58703095271,118868.40720310042,118755.42806593618,122427.27302410659,129458.86340657323,133761.71316236255,135407.2285584298,138726.55873293104,135826.06277368867,143850.15986554732,152537.02249884073,147902.4183671598,157595.17231686425,141228.00871643098,143712.26371298017,134725.00659753944,137355.04210757956,152594.4628152101,145459.24265483397,145479.74923162017,148931.27615225568,138769.56047807538,121627.12155256164,119072.95074314214,113389.6994426628,114645.90561300394,113732.47895647737,120213.05204817926,95967.96150280576,110918.55066993088,100154.74427317719,92984.39030214315,84345.76308388117,100304.13939069869,100823.75246029318,105879.71241578562,101945.68042800373,90639.14994517496,87523.89295259237,91745.01229741602,99846.92265217398,96770.22516863908,100715.50854106848,110726.54586124553,105391.99383904625,107273.07939316645,111562.83972285381,105274.15681510407,106786.23441947745,112992.13907907488,109230.3097237644,106629.93770798558,103995.47308785006,112515.3868144653,114194.72557660159,113786.62448540311,107912.00662346731,108243.74564399183,101859.98166923712,100960.1570249603,101343.9444458434,86176.30716302003,87834.41950432546,94262.61984404505,96622.29975301393,88827.5149942928,90567.56782268056,98073.80462275844,99027.60456160213,103126.43818531628,105797.86326197827,99706.93334630776,101029.04883594788,104464.78465748504,106349.92335703094,102051.34060282842,105882.26524464623,107270.88990300827,100814.9487189472,102469.92536074232,100487.7014267282,102630.7792930044,98888.7183574399,95821.04603092575,99724.37015844006,95863.69421201138,94041.36295248248,94394.43300601549,94372.87950095774,90550.8609548817,87663.80368539257,96459.60504178246,95906.84351321506,100153.41173340578,101876.51256408333,103105.17053678472,106078.75288415904,109521.36099586864,110834.06778110811,115444.80000984139,119326.4903104,123303.36252686898,116890.55638081071,115860.2193826118,112552.13316711431,118892.04792834025,124406.02104440922,128830.79171105055,135797.34322292396,132240.55032929115,138026.33738505392,138177.6425233171,140125.50481923163,135938.83179258395,145430.10507266197,144088.67624842306,155040.42656116193,157916.68270897868,157521.0828295126,165169.41043464266,166844.84935195302,176964.12821409613,170241.7089546551,167578.62451733754,174314.35939051874,168065.21791700058,173076.73659449638,174506.81914145622,188290.71565697296,197407.4064616118,194496.74478069023,208375.5847171001,202715.12003191613,213014.18934980105,231351.27093975325,250454.6665857838,244920.2570848237,246209.27091355706,271540.6133944064,272389.72559292486,291765.10408044857,284171.1000104559,270483.440480055,265262.8945398609,259136.61459061713,251920.91283033192,241946.23234342574,249636.35836161338,243180.16202137992,237974.9599353202,259856.58992641952,241592.29931830766,214857.80493026815,202268.36091982343,229579.1071329051,230955.50883272564,216214.38803106215,213085.2095896995,217934.8176781361,217571.53880430735,211076.84792758245,217446.37904238273,227883.75395473483,257344.4880271815,265478.1334129797,270620.82223541476,267299.98466381093,270826.778131326,263862.59822909354,259345.61157573183,264243.1888890308,259786.32043756594,250639.64918260163,254232.94001822436,261240.24014177243,251204.96748397872,257276.02244060396,274321.6391804686,267940.77827375394,271756.5257893053,270674.6928126225,275224.0375287477,298706.86723815027,306782.4069141068,309181.8514990657,313549.5097399716,319238.6584076112,328689.58664806635,311868.1697514423,296629.40458594146,318414.62744413933,327352.92672808265,323359.16343411047,328726.856421045,320637.5839071484,343872.5262787444,366258.6973864129,367816.38451317576,360753.4864069964,387709.7436288538,383856.2439902317,388232.54869272595,373584.57339571585,368515.5831226453,370829.13475726155,365983.1283232739,379780.87288845325,377199.74911989825,374929.1238590227,350313.58187624987,347977.49863134883,317871.968845914,344572.6089273456,351634.62430033454,360412.43105559185,340794.35666149587,354599.2065033166,345871.3934455574,341765.3119033611,322468.3739808276,327178.84282216383,342025.1489957934,348212.83969431196,354004.80188273377,377982.72009045474,379169.15879607893,348985.9861025244,338075.6808780029,336105.42603138793,340406.30621450295,331851.2898488553,340584.41433845105,321438.7298668453,302961.1413397481,310428.8380241323,311601.5413647243,285013.39707561466,281030.7812113262,314904.180735186,312525.9146967494,309841.3372567479,319047.6707219393,316092.1972260293,311126.30042647547,321339.5943130733,315504.1093838386,328858.90784060775,328843.8128221419,330887.36795105383,331981.8185100018,329655.3613737393,306080.7381844718,294583.14246741857,298471.84536077443,295301.5516964067,304867.99372891017,301118.85504049866,289701.10571061785,289070.97648677335,268069.9372312484,259625.39805054385,239671.1201502422,244561.54114515314,243360.79514302153,237388.7039510308,246426.13264560816,260212.58700863936,252646.50439413896,251981.69802340041,254861.35206331807,254599.57184762723,241844.5272821086,245309.3890309043,239733.4235983662,229066.40283369093,201539.01225701027,179075.46131429088,189499.10430963238,180851.36522833406,185831.4580056055,182919.23981229006,180983.39345580884,184820.95785303263,190903.5422780963,187291.04266148724,194651.44175440623,207822.82577570018,195580.70507498155,195223.70912747137,216981.96596390934,219032.87643408368,221714.98234359705,228597.84510591906,225041.03672991673,228175.84662487463,217625.14169527453,205068.33348202,205841.97048048236,202154.5825016677,207439.65835264322,223195.58330536532,218676.35678402378,201731.89004978156,196556.3559384742,198130.87948012393,193104.88934129462,181871.41705794612,188617.54649310032,185020.7574657741,190754.39062238095,198221.59965919598,194204.5775866236,184870.60229793374,212252.44493070792,215085.3878608392,216841.0849545069,207745.92752926785,192055.2696770621,194906.18917297976,186265.39598840417,184083.61728536274,185593.78414971638,198140.72770084473,186993.10805006075,182726.35806456354,183032.38591791398,178392.59382279046,184543.39610752137,185801.2588016872,195100.24263453265,196733.5730082694,202127.79496100338,204528.08725992392,198192.26778731076,198778.21712797572,201136.8683002749,205767.62245525164,215675.5745551444,213671.09925163316,217165.55262173712,226821.926527003,228586.8249423082,234744.0025108845,243810.6483957007,242740.9074538418,259444.9361556611,254713.92278364874,261514.7405389548,257862.03529210738,250250.9006355977,230388.43817258702,238234.92967298153,227364.5635234844,232290.219750024,229513.86259265954,210825.0344356112,217145.26549567294,221627.6718179458,214072.25260125942,215672.43441622966,216184.00392122002,212915.34950207226,217361.48062612556,225109.49001628204,220629.18729100487,214547.5261534103,211636.52710454437,210021.7249011661,208765.54439502925,214122.158304942,202697.18958378804,208297.64921946666,210543.02000957791,202747.61979861904,192559.87165911484,199582.4376050927,198829.72645568856,194420.35784136044,205106.55888957685,190586.4885217255,186406.73731528598,181592.4896085087,173470.52924395818,151635.46415830622,158707.5783638267,134222.9578008396,126936.21069011916,130870.95760246173,135797.1644991784,145687.42827197237,137097.7637032418,142321.08068964252,130814.30109113318,137813.10272249655,132916.42767396005,134378.0796979373,139424.42379956722,133091.28389639026,134813.2141813406,132786.42434556954,125017.35075369613,120126.56313608764,124080.14696863721,125517.48851161548,133984.97273107246,130917.51235289042,120981.08642343715,122178.87760797351,117296.86722432394,118689.23437497513,118291.55186347662,124626.39867900264,120213.03077489068,117856.84653587692,118553.88277574324,113258.57770721066,106504.08790041614,100068.83620416837,85218.92813558638,85391.99248066936,89672.32678126032,79876.82983938706,81118.74093038708,77594.47913253574,84831.12104238522,85617.06353838892,87070.95611090567,82854.52552437142,90581.14993917225,96876.00552714666,97626.07079584336,93481.52465404551,92161.39024700991,87681.17670445153,84904.35754191624,83487.58500121628,82075.79099232829,82738.56267774335,83114.21392845896,89790.06528276797,88714.5150167731,92488.72780160469,95887.98332585725,96010.55769310985,95155.62165583293,91855.6682141528,86102.32474489586,83459.54597162669,88662.92776401016,93183.65231822908,94538.34578486643,99746.55766914814,98242.56573988301,110229.26805913838,111918.97852178506,108382.41964226874,110884.90995305007,107130.4262705595,105800.20453549626,107809.06613577752,98833.25522662289,98533.29957765686,108747.94847314189,114291.73405275328,113833.28156283057,114732.35051666645,111697.9451155516,110822.74344218384,108904.69042786147,108159.86990017841,108678.21696807082,112581.29289929499,111189.01219567462,112256.89704814415,115119.92735196881,111882.60865226098,117049.39916060239,118254.19994522246,122582.37353589163,124090.8088204166,121527.31133662802,120288.22794086441,118443.61743756248,114300.54190374582,113612.63078498845,102400.1004866201,101898.3423564323,105525.25136518435,104183.13603932229,104768.74868433973,103808.97068335857,105575.27260879846,96285.1127401459,94820.22048580069,92108.62652669926,97389.4026582661,95240.7160350085,95969.23844203919,96175.16289890817,94926.06851809921,94070.58046283445,95338.86561216417,95847.36922779429,92565.02547445131,96914.36978091535,97729.90692265607,103353.47263926732,105257.37128387686,104960.15062405706,107722.43668292908,97991.22777857541,99544.47899645375,94409.217460973,93496.30809528478,96202.59822532322,90409.40458675812,94007.06934500855,91045.51498507058,88610.52543008172,94088.47076265537,95512.23764792044,94651.828067248,92958.15823310899,95222.0540901033,93554.12455413256,95572.7098914954,96902.74858098081,96089.74850613599,94602.44796435634,93252.18525372757,95856.41406260697,99349.85305561856,98990.04016753589,97689.18617461673,96547.4216915809,95028.30802960167,95518.83730632538,93158.52363601801,91926.63460826161,92859.23209210599,92696.78852062664,92234.849177206,91040.75737790353,92329.37868990995,94400.86226826417,92505.35994329768,90475.45067253636,89640.15297538009,90339.12329424074,90574.04137541665,93393.80329225637,91582.48141908116,97134.99291760003,100963.36539835481,98759.10891972485,102088.43666390107,104260.95705298663,104260.7385328009,104465.84604591335,104426.92519736323,100963.47271882958,101623.6227519482,108869.60502978643,111251.30767585034,105144.08913665058,100371.32342016452,88281.59550539714,66442.47876552789,77989.01087490043,74737.67736663671,71569.27214853099,68379.43547821052,70551.58648159956,71192.20889339808,70116.52546277613,68735.27776720375,69110.3979691302,68685.76434101192,65921.3835642063,63670.43648518248,65484.217722984744,70589.0647958583,71784.34379889687,71667.86455144206,72197.57844043802,71732.10462017286,69308.38457280943,70324.25811213769,73565.55961096757,71665.07045167568,72147.25567262234,70550.83798209943,71878.59971429122,71140.33124275459,72297.09735405623,70465.10638657755,72415.4054434251,71814.61207580302,71981.26542973465,71638.06818577347,71372.33539152774,73077.87360210366,73138.3749079407,71004.15870830862,65637.03416042344,67311.85223902199,67784.55064092581,66112.15252187109,68594.5541046354,68037.6079093193,67667.45710916369,67866.00633051271,67511.55091865554,66899.29124505914,67177.0838424589,66996.15618949027,65232.82655915953,65406.10858224163,65454.18437201963,65246.85987047988,65038.78920743619,66502.13425214222,68569.6337549324,70475.92151262828,70089.96766120724,70729.41064298099,70237.57535747222,72683.42124366286,74805.47651811372,75675.82903063054,77928.46910742122,79983.10749334411,83933.41619696941,93470.30331175809,91711.81639595337,93424.18376823793,92324.01337922382,88539.83335286143,90749.57410173763,98983.13767488419,96992.3998025435,96748.8402252453,96976.12509533417,93989.24199995691,97556.08871322311,96604.21722495579,96550.10223680756,95613.79038215004,100425.03821138071,95521.96727599514,96437.58041390266,99082.29964327114,98439.73209150202,99051.6675213876,98731.11364203782,96917.14115728819,95610.12411256603,98141.10478892003,96557.18269411904,89770.66404423417,88606.95060258138,90193.53742176661,90747.10904223991,88634.47817056077,90838.15281865018,98632.50849348833,95189.11280299227,97393.21443814423,97910.42483502484,98132.51950986737,100947.93447608437,98597.2481467552,97400.52719136803,96657.514172466,94459.98665291857,93720.77255984631,95975.40944893223,95253.31778931487,93610.76279021129,95538.17683388395,94758.99444085507,91254.24421166432,91030.24631661117,90780.49024632065,90782.63763331746,90444.34108351295,88080.336398667,83151.26805242685,83634.93656960783,85506.35823083976,91513.68330928197,96929.54283968314,98181.84057103911,96104.90409497549,99248.88976200856,106119.0308759685,104629.67367134041,107532.22993852128,107011.40895979317,109815.23946251893,104689.88245150786,108371.31566456727,104195.4116308766,104513.78789108191,106485.23903638993,102885.30445114031,104886.49390994415,107323.88127663216,106517.57880295998,107596.72816901028,106576.0012872064,105780.33738980124,104284.2090482352,106781.30963447371,107882.44731752119,106900.55802145966,106595.35702630457,105925.26418256151,106882.29713500594,110587.28176775912,113381.58855575231,114448.3414085409,116953.67449045363,119145.00024134677,117920.89793709808,120657.77146626843,117457.03362353478,119479.99010995516,111807.09813745006,110492.08372924145,107267.20330034023,109816.68465824005,108859.08480213724,108301.80277513951,110606.56118185044,109850.482375736,112974.0744305455,113364.48305121754,112855.22290853239,113497.39914105447,109897.19372038518,110981.01061649503,112167.51934133693,110982.36837985269,115275.98340950196,112083.68444170158,110603.17093189365,107879.02159114604,107738.0952023158,107669.86117585382,104867.92886451853,105526.68590204514,105431.8302198674,105630.09045297033,106366.27913194647,105851.06411810959,106519.11671230408,104830.97471797919,105135.45957002878,105638.22761319825,103868.01042296979,104398.88802734151,106390.87969608644,103142.7565518938,103442.22176062979,104643.21501308182,105829.51572063763,109552.64407695379,108623.99053900552,109809.23965123313,108008.98086558688,106660.19945931208,109072.5673644629,108189.74986887163,109200.89647479985,102497.17779635177,106538.33548136118,101363.99983029062,102446.87460001248,101005.91892199032,96465.98401526372,96457.07485676219,95537.58422547666,96053.43405328778,92020.98620562526,93426.36704210677,96009.36372271932,97023.96099308267,96597.00669909995,98321.81354191332,101832.65003271594,106172.83940201184,104158.18751272305,105469.33886048997,103854.62226185102,104549.94530722519,102735.84188923905,103889.74888043424,101293.31411349388,104304.39953959691,105146.24873231664,105273.66711540506,105840.60282235654,107337.65632330609,106388.45756379954,105490.70090862481,104403.37667929461,107240.55812744827,107410.86215376192,106783.52870383231,108256.70585471537,109373.06936141496,108593.06783810198,120251.85984600888,117258.88904654981,118187.74726534574,118280.87037064503,117307.17711965389,115858.83067854538,116460.40059849812,113995.89043674235,114054.81087766531,111929.08884288628,113005.68168670863,109671.04552961244,109951.22208427885,111943.82591991201,111321.45553737509,111560.81286257842,111881.05697814673,110567.4289098693,110122.29583919722,111622.1062404529,109522.70542816317,109346.23603833331,108853.10694052881,108610.67152325767,108990.60478587841,108837.49299535048,111684.11225290844,111398.6886312972,111309.08242627264,111026.34767355188,111435.3384123128,110531.74432323649,111948.19706804522,110085.57519362756,107923.70432944226,100766.5198520617,98606.51936123433,99439.15639126033,99763.50235006378,98266.0907172784,97102.33696059843,99822.33947309668,98708.3447135328,97802.03129312796,97369.76241362897,98372.88018571647,97910.34205043485,103368.83141298944,101393.44829828403,97183.52984174012,95929.97597724396,96278.91364438586,96433.21366035634,95971.45835409657,96747.54778225328,95900.11718964472,97183.97181173909,96137.6570798853,95769.78738368273,94085.71748348168,91118.8572803497,93649.15171869926,95014.39162933394,96177.97902438017,96856.87356756229,96728.7310461839,96572.77643567909,97728.68564374703,98872.81201230982,98812.13907345771,96275.13503367522,96452.34983562925,96215.18161807914,95442.92923428811,95488.10533411191,95381.47704439198,95634.44462125989,98560.30461326617,99254.1580752478,100227.04586919141,105381.54239166768,103498.40255197675],\"type\":\"scatter\"}],                        {\"template\":{\"data\":{\"histogram2dcontour\":[{\"type\":\"histogram2dcontour\",\"colorbar\":{\"outlinewidth\":0,\"ticks\":\"\"},\"colorscale\":[[0.0,\"#0d0887\"],[0.1111111111111111,\"#46039f\"],[0.2222222222222222,\"#7201a8\"],[0.3333333333333333,\"#9c179e\"],[0.4444444444444444,\"#bd3786\"],[0.5555555555555556,\"#d8576b\"],[0.6666666666666666,\"#ed7953\"],[0.7777777777777778,\"#fb9f3a\"],[0.8888888888888888,\"#fdca26\"],[1.0,\"#f0f921\"]]}],\"choropleth\":[{\"type\":\"choropleth\",\"colorbar\":{\"outlinewidth\":0,\"ticks\":\"\"}}],\"histogram2d\":[{\"type\":\"histogram2d\",\"colorbar\":{\"outlinewidth\":0,\"ticks\":\"\"},\"colorscale\":[[0.0,\"#0d0887\"],[0.1111111111111111,\"#46039f\"],[0.2222222222222222,\"#7201a8\"],[0.3333333333333333,\"#9c179e\"],[0.4444444444444444,\"#bd3786\"],[0.5555555555555556,\"#d8576b\"],[0.6666666666666666,\"#ed7953\"],[0.7777777777777778,\"#fb9f3a\"],[0.8888888888888888,\"#fdca26\"],[1.0,\"#f0f921\"]]}],\"heatmap\":[{\"type\":\"heatmap\",\"colorbar\":{\"outlinewidth\":0,\"ticks\":\"\"},\"colorscale\":[[0.0,\"#0d0887\"],[0.1111111111111111,\"#46039f\"],[0.2222222222222222,\"#7201a8\"],[0.3333333333333333,\"#9c179e\"],[0.4444444444444444,\"#bd3786\"],[0.5555555555555556,\"#d8576b\"],[0.6666666666666666,\"#ed7953\"],[0.7777777777777778,\"#fb9f3a\"],[0.8888888888888888,\"#fdca26\"],[1.0,\"#f0f921\"]]}],\"heatmapgl\":[{\"type\":\"heatmapgl\",\"colorbar\":{\"outlinewidth\":0,\"ticks\":\"\"},\"colorscale\":[[0.0,\"#0d0887\"],[0.1111111111111111,\"#46039f\"],[0.2222222222222222,\"#7201a8\"],[0.3333333333333333,\"#9c179e\"],[0.4444444444444444,\"#bd3786\"],[0.5555555555555556,\"#d8576b\"],[0.6666666666666666,\"#ed7953\"],[0.7777777777777778,\"#fb9f3a\"],[0.8888888888888888,\"#fdca26\"],[1.0,\"#f0f921\"]]}],\"contourcarpet\":[{\"type\":\"contourcarpet\",\"colorbar\":{\"outlinewidth\":0,\"ticks\":\"\"}}],\"contour\":[{\"type\":\"contour\",\"colorbar\":{\"outlinewidth\":0,\"ticks\":\"\"},\"colorscale\":[[0.0,\"#0d0887\"],[0.1111111111111111,\"#46039f\"],[0.2222222222222222,\"#7201a8\"],[0.3333333333333333,\"#9c179e\"],[0.4444444444444444,\"#bd3786\"],[0.5555555555555556,\"#d8576b\"],[0.6666666666666666,\"#ed7953\"],[0.7777777777777778,\"#fb9f3a\"],[0.8888888888888888,\"#fdca26\"],[1.0,\"#f0f921\"]]}],\"surface\":[{\"type\":\"surface\",\"colorbar\":{\"outlinewidth\":0,\"ticks\":\"\"},\"colorscale\":[[0.0,\"#0d0887\"],[0.1111111111111111,\"#46039f\"],[0.2222222222222222,\"#7201a8\"],[0.3333333333333333,\"#9c179e\"],[0.4444444444444444,\"#bd3786\"],[0.5555555555555556,\"#d8576b\"],[0.6666666666666666,\"#ed7953\"],[0.7777777777777778,\"#fb9f3a\"],[0.8888888888888888,\"#fdca26\"],[1.0,\"#f0f921\"]]}],\"mesh3d\":[{\"type\":\"mesh3d\",\"colorbar\":{\"outlinewidth\":0,\"ticks\":\"\"}}],\"scatter\":[{\"fillpattern\":{\"fillmode\":\"overlay\",\"size\":10,\"solidity\":0.2},\"type\":\"scatter\"}],\"parcoords\":[{\"type\":\"parcoords\",\"line\":{\"colorbar\":{\"outlinewidth\":0,\"ticks\":\"\"}}}],\"scatterpolargl\":[{\"type\":\"scatterpolargl\",\"marker\":{\"colorbar\":{\"outlinewidth\":0,\"ticks\":\"\"}}}],\"bar\":[{\"error_x\":{\"color\":\"#2a3f5f\"},\"error_y\":{\"color\":\"#2a3f5f\"},\"marker\":{\"line\":{\"color\":\"#E5ECF6\",\"width\":0.5},\"pattern\":{\"fillmode\":\"overlay\",\"size\":10,\"solidity\":0.2}},\"type\":\"bar\"}],\"scattergeo\":[{\"type\":\"scattergeo\",\"marker\":{\"colorbar\":{\"outlinewidth\":0,\"ticks\":\"\"}}}],\"scatterpolar\":[{\"type\":\"scatterpolar\",\"marker\":{\"colorbar\":{\"outlinewidth\":0,\"ticks\":\"\"}}}],\"histogram\":[{\"marker\":{\"pattern\":{\"fillmode\":\"overlay\",\"size\":10,\"solidity\":0.2}},\"type\":\"histogram\"}],\"scattergl\":[{\"type\":\"scattergl\",\"marker\":{\"colorbar\":{\"outlinewidth\":0,\"ticks\":\"\"}}}],\"scatter3d\":[{\"type\":\"scatter3d\",\"line\":{\"colorbar\":{\"outlinewidth\":0,\"ticks\":\"\"}},\"marker\":{\"colorbar\":{\"outlinewidth\":0,\"ticks\":\"\"}}}],\"scattermapbox\":[{\"type\":\"scattermapbox\",\"marker\":{\"colorbar\":{\"outlinewidth\":0,\"ticks\":\"\"}}}],\"scatterternary\":[{\"type\":\"scatterternary\",\"marker\":{\"colorbar\":{\"outlinewidth\":0,\"ticks\":\"\"}}}],\"scattercarpet\":[{\"type\":\"scattercarpet\",\"marker\":{\"colorbar\":{\"outlinewidth\":0,\"ticks\":\"\"}}}],\"carpet\":[{\"aaxis\":{\"endlinecolor\":\"#2a3f5f\",\"gridcolor\":\"white\",\"linecolor\":\"white\",\"minorgridcolor\":\"white\",\"startlinecolor\":\"#2a3f5f\"},\"baxis\":{\"endlinecolor\":\"#2a3f5f\",\"gridcolor\":\"white\",\"linecolor\":\"white\",\"minorgridcolor\":\"white\",\"startlinecolor\":\"#2a3f5f\"},\"type\":\"carpet\"}],\"table\":[{\"cells\":{\"fill\":{\"color\":\"#EBF0F8\"},\"line\":{\"color\":\"white\"}},\"header\":{\"fill\":{\"color\":\"#C8D4E3\"},\"line\":{\"color\":\"white\"}},\"type\":\"table\"}],\"barpolar\":[{\"marker\":{\"line\":{\"color\":\"#E5ECF6\",\"width\":0.5},\"pattern\":{\"fillmode\":\"overlay\",\"size\":10,\"solidity\":0.2}},\"type\":\"barpolar\"}],\"pie\":[{\"automargin\":true,\"type\":\"pie\"}]},\"layout\":{\"autotypenumbers\":\"strict\",\"colorway\":[\"#636efa\",\"#EF553B\",\"#00cc96\",\"#ab63fa\",\"#FFA15A\",\"#19d3f3\",\"#FF6692\",\"#B6E880\",\"#FF97FF\",\"#FECB52\"],\"font\":{\"color\":\"#2a3f5f\"},\"hovermode\":\"closest\",\"hoverlabel\":{\"align\":\"left\"},\"paper_bgcolor\":\"white\",\"plot_bgcolor\":\"#E5ECF6\",\"polar\":{\"bgcolor\":\"#E5ECF6\",\"angularaxis\":{\"gridcolor\":\"white\",\"linecolor\":\"white\",\"ticks\":\"\"},\"radialaxis\":{\"gridcolor\":\"white\",\"linecolor\":\"white\",\"ticks\":\"\"}},\"ternary\":{\"bgcolor\":\"#E5ECF6\",\"aaxis\":{\"gridcolor\":\"white\",\"linecolor\":\"white\",\"ticks\":\"\"},\"baxis\":{\"gridcolor\":\"white\",\"linecolor\":\"white\",\"ticks\":\"\"},\"caxis\":{\"gridcolor\":\"white\",\"linecolor\":\"white\",\"ticks\":\"\"}},\"coloraxis\":{\"colorbar\":{\"outlinewidth\":0,\"ticks\":\"\"}},\"colorscale\":{\"sequential\":[[0.0,\"#0d0887\"],[0.1111111111111111,\"#46039f\"],[0.2222222222222222,\"#7201a8\"],[0.3333333333333333,\"#9c179e\"],[0.4444444444444444,\"#bd3786\"],[0.5555555555555556,\"#d8576b\"],[0.6666666666666666,\"#ed7953\"],[0.7777777777777778,\"#fb9f3a\"],[0.8888888888888888,\"#fdca26\"],[1.0,\"#f0f921\"]],\"sequentialminus\":[[0.0,\"#0d0887\"],[0.1111111111111111,\"#46039f\"],[0.2222222222222222,\"#7201a8\"],[0.3333333333333333,\"#9c179e\"],[0.4444444444444444,\"#bd3786\"],[0.5555555555555556,\"#d8576b\"],[0.6666666666666666,\"#ed7953\"],[0.7777777777777778,\"#fb9f3a\"],[0.8888888888888888,\"#fdca26\"],[1.0,\"#f0f921\"]],\"diverging\":[[0,\"#8e0152\"],[0.1,\"#c51b7d\"],[0.2,\"#de77ae\"],[0.3,\"#f1b6da\"],[0.4,\"#fde0ef\"],[0.5,\"#f7f7f7\"],[0.6,\"#e6f5d0\"],[0.7,\"#b8e186\"],[0.8,\"#7fbc41\"],[0.9,\"#4d9221\"],[1,\"#276419\"]]},\"xaxis\":{\"gridcolor\":\"white\",\"linecolor\":\"white\",\"ticks\":\"\",\"title\":{\"standoff\":15},\"zerolinecolor\":\"white\",\"automargin\":true,\"zerolinewidth\":2},\"yaxis\":{\"gridcolor\":\"white\",\"linecolor\":\"white\",\"ticks\":\"\",\"title\":{\"standoff\":15},\"zerolinecolor\":\"white\",\"automargin\":true,\"zerolinewidth\":2},\"scene\":{\"xaxis\":{\"backgroundcolor\":\"#E5ECF6\",\"gridcolor\":\"white\",\"linecolor\":\"white\",\"showbackground\":true,\"ticks\":\"\",\"zerolinecolor\":\"white\",\"gridwidth\":2},\"yaxis\":{\"backgroundcolor\":\"#E5ECF6\",\"gridcolor\":\"white\",\"linecolor\":\"white\",\"showbackground\":true,\"ticks\":\"\",\"zerolinecolor\":\"white\",\"gridwidth\":2},\"zaxis\":{\"backgroundcolor\":\"#E5ECF6\",\"gridcolor\":\"white\",\"linecolor\":\"white\",\"showbackground\":true,\"ticks\":\"\",\"zerolinecolor\":\"white\",\"gridwidth\":2}},\"shapedefaults\":{\"line\":{\"color\":\"#2a3f5f\"}},\"annotationdefaults\":{\"arrowcolor\":\"#2a3f5f\",\"arrowhead\":0,\"arrowwidth\":1},\"geo\":{\"bgcolor\":\"white\",\"landcolor\":\"#E5ECF6\",\"subunitcolor\":\"white\",\"showland\":true,\"showlakes\":true,\"lakecolor\":\"white\"},\"title\":{\"x\":0.05},\"mapbox\":{\"style\":\"light\"}}},\"xaxis\":{\"title\":{\"text\":\"Date\"},\"zerolinecolor\":\"Black\"},\"yaxis\":{\"title\":{\"text\":\"Dollars\"},\"zerolinecolor\":\"Black\"},\"title\":{\"font\":{\"size\":25,\"color\":\"Navy\"},\"text\":\"Comparing 2 static strategies\",\"x\":0.5,\"y\":0.87}},                        {\"responsive\": true}                    ).then(function(){\n",
              "                            \n",
              "var gd = document.getElementById('9e9c332e-1dc3-4c40-bfb7-d75df2cacad9');\n",
              "var x = new MutationObserver(function (mutations, observer) {{\n",
              "        var display = window.getComputedStyle(gd).display;\n",
              "        if (!display || display === 'none') {{\n",
              "            console.log([gd, 'removed!']);\n",
              "            Plotly.purge(gd);\n",
              "            observer.disconnect();\n",
              "        }}\n",
              "}});\n",
              "\n",
              "// Listen for the removal of the full notebook cells\n",
              "var notebookContainer = gd.closest('#notebook-container');\n",
              "if (notebookContainer) {{\n",
              "    x.observe(notebookContainer, {childList: true});\n",
              "}}\n",
              "\n",
              "// Listen for the clearing of the current output cell\n",
              "var outputEl = gd.closest('.output');\n",
              "if (outputEl) {{\n",
              "    x.observe(outputEl, {childList: true});\n",
              "}}\n",
              "\n",
              "                        })                };                            </script>        </div>\n",
              "</body>\n",
              "</html>"
            ]
          },
          "metadata": {}
        }
      ]
    },
    {
      "cell_type": "markdown",
      "source": [
        "# 2nd portfolio"
      ],
      "metadata": {
        "id": "a-EVGL9owCE5"
      }
    },
    {
      "cell_type": "code",
      "source": [
        "crypto2 = ['DOGE-USD', 'SHIB-USD', 'USDC-USD', 'MATIC-USD', 'VET-USD','THETA-USD','FIL-USD','AAVE-USD', 'MANA-USD','SUSHI-USD']\n",
        "cryptoprice2 = yf.download(crypto2, start='2021-4-16')['Adj Close']\n",
        "cryptoprice2.head()"
      ],
      "metadata": {
        "colab": {
          "base_uri": "https://localhost:8080/",
          "height": 379
        },
        "id": "4-KmDN_mwHBB",
        "outputId": "c5f940f7-f7de-47ca-f438-5e51939d66ab"
      },
      "execution_count": 66,
      "outputs": [
        {
          "output_type": "stream",
          "name": "stdout",
          "text": [
            "[*********************100%%**********************]  10 of 10 completed\n"
          ]
        },
        {
          "output_type": "execute_result",
          "data": {
            "text/plain": [
              "              AAVE-USD  DOGE-USD     FIL-USD  MANA-USD  MATIC-USD  \\\n",
              "Date                                                                \n",
              "2021-04-16  442.194397  0.365870  183.253845  1.313581   0.436447   \n",
              "2021-04-17  430.174683  0.284173  182.688660  1.526686   0.406253   \n",
              "2021-04-18  382.075104  0.320475  156.309326  1.349810   0.362901   \n",
              "2021-04-19  346.812561  0.407318  154.857834  1.317240   0.327200   \n",
              "2021-04-20  361.608185  0.319500  153.701645  1.396516   0.341524   \n",
              "\n",
              "                SHIB-USD  SUSHI-USD  THETA-USD  USDC-USD   VET-USD  \n",
              "Date                                                                \n",
              "2021-04-16  1.000000e-06  16.315783  14.282880  1.001033  0.238089  \n",
              "2021-04-17  2.000000e-06  16.020266  13.407032  1.010496  0.227585  \n",
              "2021-04-18  2.000000e-06  14.037149  11.756942  1.000095  0.254632  \n",
              "2021-04-19  4.000000e-06  12.199388  10.820083  0.999967  0.229339  \n",
              "2021-04-20  2.000000e-06  12.706245  11.742767  1.000054  0.251997  "
            ],
            "text/html": [
              "\n",
              "  <div id=\"df-f50761d8-1029-4cf4-a4f0-db3562e2a0d2\" class=\"colab-df-container\">\n",
              "    <div>\n",
              "<style scoped>\n",
              "    .dataframe tbody tr th:only-of-type {\n",
              "        vertical-align: middle;\n",
              "    }\n",
              "\n",
              "    .dataframe tbody tr th {\n",
              "        vertical-align: top;\n",
              "    }\n",
              "\n",
              "    .dataframe thead th {\n",
              "        text-align: right;\n",
              "    }\n",
              "</style>\n",
              "<table border=\"1\" class=\"dataframe\">\n",
              "  <thead>\n",
              "    <tr style=\"text-align: right;\">\n",
              "      <th></th>\n",
              "      <th>AAVE-USD</th>\n",
              "      <th>DOGE-USD</th>\n",
              "      <th>FIL-USD</th>\n",
              "      <th>MANA-USD</th>\n",
              "      <th>MATIC-USD</th>\n",
              "      <th>SHIB-USD</th>\n",
              "      <th>SUSHI-USD</th>\n",
              "      <th>THETA-USD</th>\n",
              "      <th>USDC-USD</th>\n",
              "      <th>VET-USD</th>\n",
              "    </tr>\n",
              "    <tr>\n",
              "      <th>Date</th>\n",
              "      <th></th>\n",
              "      <th></th>\n",
              "      <th></th>\n",
              "      <th></th>\n",
              "      <th></th>\n",
              "      <th></th>\n",
              "      <th></th>\n",
              "      <th></th>\n",
              "      <th></th>\n",
              "      <th></th>\n",
              "    </tr>\n",
              "  </thead>\n",
              "  <tbody>\n",
              "    <tr>\n",
              "      <th>2021-04-16</th>\n",
              "      <td>442.194397</td>\n",
              "      <td>0.365870</td>\n",
              "      <td>183.253845</td>\n",
              "      <td>1.313581</td>\n",
              "      <td>0.436447</td>\n",
              "      <td>1.000000e-06</td>\n",
              "      <td>16.315783</td>\n",
              "      <td>14.282880</td>\n",
              "      <td>1.001033</td>\n",
              "      <td>0.238089</td>\n",
              "    </tr>\n",
              "    <tr>\n",
              "      <th>2021-04-17</th>\n",
              "      <td>430.174683</td>\n",
              "      <td>0.284173</td>\n",
              "      <td>182.688660</td>\n",
              "      <td>1.526686</td>\n",
              "      <td>0.406253</td>\n",
              "      <td>2.000000e-06</td>\n",
              "      <td>16.020266</td>\n",
              "      <td>13.407032</td>\n",
              "      <td>1.010496</td>\n",
              "      <td>0.227585</td>\n",
              "    </tr>\n",
              "    <tr>\n",
              "      <th>2021-04-18</th>\n",
              "      <td>382.075104</td>\n",
              "      <td>0.320475</td>\n",
              "      <td>156.309326</td>\n",
              "      <td>1.349810</td>\n",
              "      <td>0.362901</td>\n",
              "      <td>2.000000e-06</td>\n",
              "      <td>14.037149</td>\n",
              "      <td>11.756942</td>\n",
              "      <td>1.000095</td>\n",
              "      <td>0.254632</td>\n",
              "    </tr>\n",
              "    <tr>\n",
              "      <th>2021-04-19</th>\n",
              "      <td>346.812561</td>\n",
              "      <td>0.407318</td>\n",
              "      <td>154.857834</td>\n",
              "      <td>1.317240</td>\n",
              "      <td>0.327200</td>\n",
              "      <td>4.000000e-06</td>\n",
              "      <td>12.199388</td>\n",
              "      <td>10.820083</td>\n",
              "      <td>0.999967</td>\n",
              "      <td>0.229339</td>\n",
              "    </tr>\n",
              "    <tr>\n",
              "      <th>2021-04-20</th>\n",
              "      <td>361.608185</td>\n",
              "      <td>0.319500</td>\n",
              "      <td>153.701645</td>\n",
              "      <td>1.396516</td>\n",
              "      <td>0.341524</td>\n",
              "      <td>2.000000e-06</td>\n",
              "      <td>12.706245</td>\n",
              "      <td>11.742767</td>\n",
              "      <td>1.000054</td>\n",
              "      <td>0.251997</td>\n",
              "    </tr>\n",
              "  </tbody>\n",
              "</table>\n",
              "</div>\n",
              "    <div class=\"colab-df-buttons\">\n",
              "\n",
              "  <div class=\"colab-df-container\">\n",
              "    <button class=\"colab-df-convert\" onclick=\"convertToInteractive('df-f50761d8-1029-4cf4-a4f0-db3562e2a0d2')\"\n",
              "            title=\"Convert this dataframe to an interactive table.\"\n",
              "            style=\"display:none;\">\n",
              "\n",
              "  <svg xmlns=\"http://www.w3.org/2000/svg\" height=\"24px\" viewBox=\"0 -960 960 960\">\n",
              "    <path d=\"M120-120v-720h720v720H120Zm60-500h600v-160H180v160Zm220 220h160v-160H400v160Zm0 220h160v-160H400v160ZM180-400h160v-160H180v160Zm440 0h160v-160H620v160ZM180-180h160v-160H180v160Zm440 0h160v-160H620v160Z\"/>\n",
              "  </svg>\n",
              "    </button>\n",
              "\n",
              "  <style>\n",
              "    .colab-df-container {\n",
              "      display:flex;\n",
              "      gap: 12px;\n",
              "    }\n",
              "\n",
              "    .colab-df-convert {\n",
              "      background-color: #E8F0FE;\n",
              "      border: none;\n",
              "      border-radius: 50%;\n",
              "      cursor: pointer;\n",
              "      display: none;\n",
              "      fill: #1967D2;\n",
              "      height: 32px;\n",
              "      padding: 0 0 0 0;\n",
              "      width: 32px;\n",
              "    }\n",
              "\n",
              "    .colab-df-convert:hover {\n",
              "      background-color: #E2EBFA;\n",
              "      box-shadow: 0px 1px 2px rgba(60, 64, 67, 0.3), 0px 1px 3px 1px rgba(60, 64, 67, 0.15);\n",
              "      fill: #174EA6;\n",
              "    }\n",
              "\n",
              "    .colab-df-buttons div {\n",
              "      margin-bottom: 4px;\n",
              "    }\n",
              "\n",
              "    [theme=dark] .colab-df-convert {\n",
              "      background-color: #3B4455;\n",
              "      fill: #D2E3FC;\n",
              "    }\n",
              "\n",
              "    [theme=dark] .colab-df-convert:hover {\n",
              "      background-color: #434B5C;\n",
              "      box-shadow: 0px 1px 3px 1px rgba(0, 0, 0, 0.15);\n",
              "      filter: drop-shadow(0px 1px 2px rgba(0, 0, 0, 0.3));\n",
              "      fill: #FFFFFF;\n",
              "    }\n",
              "  </style>\n",
              "\n",
              "    <script>\n",
              "      const buttonEl =\n",
              "        document.querySelector('#df-f50761d8-1029-4cf4-a4f0-db3562e2a0d2 button.colab-df-convert');\n",
              "      buttonEl.style.display =\n",
              "        google.colab.kernel.accessAllowed ? 'block' : 'none';\n",
              "\n",
              "      async function convertToInteractive(key) {\n",
              "        const element = document.querySelector('#df-f50761d8-1029-4cf4-a4f0-db3562e2a0d2');\n",
              "        const dataTable =\n",
              "          await google.colab.kernel.invokeFunction('convertToInteractive',\n",
              "                                                    [key], {});\n",
              "        if (!dataTable) return;\n",
              "\n",
              "        const docLinkHtml = 'Like what you see? Visit the ' +\n",
              "          '<a target=\"_blank\" href=https://colab.research.google.com/notebooks/data_table.ipynb>data table notebook</a>'\n",
              "          + ' to learn more about interactive tables.';\n",
              "        element.innerHTML = '';\n",
              "        dataTable['output_type'] = 'display_data';\n",
              "        await google.colab.output.renderOutput(dataTable, element);\n",
              "        const docLink = document.createElement('div');\n",
              "        docLink.innerHTML = docLinkHtml;\n",
              "        element.appendChild(docLink);\n",
              "      }\n",
              "    </script>\n",
              "  </div>\n",
              "\n",
              "\n",
              "<div id=\"df-a879a89e-d5f2-4115-b560-136ef341541f\">\n",
              "  <button class=\"colab-df-quickchart\" onclick=\"quickchart('df-a879a89e-d5f2-4115-b560-136ef341541f')\"\n",
              "            title=\"Suggest charts.\"\n",
              "            style=\"display:none;\">\n",
              "\n",
              "<svg xmlns=\"http://www.w3.org/2000/svg\" height=\"24px\"viewBox=\"0 0 24 24\"\n",
              "     width=\"24px\">\n",
              "    <g>\n",
              "        <path d=\"M19 3H5c-1.1 0-2 .9-2 2v14c0 1.1.9 2 2 2h14c1.1 0 2-.9 2-2V5c0-1.1-.9-2-2-2zM9 17H7v-7h2v7zm4 0h-2V7h2v10zm4 0h-2v-4h2v4z\"/>\n",
              "    </g>\n",
              "</svg>\n",
              "  </button>\n",
              "\n",
              "<style>\n",
              "  .colab-df-quickchart {\n",
              "      --bg-color: #E8F0FE;\n",
              "      --fill-color: #1967D2;\n",
              "      --hover-bg-color: #E2EBFA;\n",
              "      --hover-fill-color: #174EA6;\n",
              "      --disabled-fill-color: #AAA;\n",
              "      --disabled-bg-color: #DDD;\n",
              "  }\n",
              "\n",
              "  [theme=dark] .colab-df-quickchart {\n",
              "      --bg-color: #3B4455;\n",
              "      --fill-color: #D2E3FC;\n",
              "      --hover-bg-color: #434B5C;\n",
              "      --hover-fill-color: #FFFFFF;\n",
              "      --disabled-bg-color: #3B4455;\n",
              "      --disabled-fill-color: #666;\n",
              "  }\n",
              "\n",
              "  .colab-df-quickchart {\n",
              "    background-color: var(--bg-color);\n",
              "    border: none;\n",
              "    border-radius: 50%;\n",
              "    cursor: pointer;\n",
              "    display: none;\n",
              "    fill: var(--fill-color);\n",
              "    height: 32px;\n",
              "    padding: 0;\n",
              "    width: 32px;\n",
              "  }\n",
              "\n",
              "  .colab-df-quickchart:hover {\n",
              "    background-color: var(--hover-bg-color);\n",
              "    box-shadow: 0 1px 2px rgba(60, 64, 67, 0.3), 0 1px 3px 1px rgba(60, 64, 67, 0.15);\n",
              "    fill: var(--button-hover-fill-color);\n",
              "  }\n",
              "\n",
              "  .colab-df-quickchart-complete:disabled,\n",
              "  .colab-df-quickchart-complete:disabled:hover {\n",
              "    background-color: var(--disabled-bg-color);\n",
              "    fill: var(--disabled-fill-color);\n",
              "    box-shadow: none;\n",
              "  }\n",
              "\n",
              "  .colab-df-spinner {\n",
              "    border: 2px solid var(--fill-color);\n",
              "    border-color: transparent;\n",
              "    border-bottom-color: var(--fill-color);\n",
              "    animation:\n",
              "      spin 1s steps(1) infinite;\n",
              "  }\n",
              "\n",
              "  @keyframes spin {\n",
              "    0% {\n",
              "      border-color: transparent;\n",
              "      border-bottom-color: var(--fill-color);\n",
              "      border-left-color: var(--fill-color);\n",
              "    }\n",
              "    20% {\n",
              "      border-color: transparent;\n",
              "      border-left-color: var(--fill-color);\n",
              "      border-top-color: var(--fill-color);\n",
              "    }\n",
              "    30% {\n",
              "      border-color: transparent;\n",
              "      border-left-color: var(--fill-color);\n",
              "      border-top-color: var(--fill-color);\n",
              "      border-right-color: var(--fill-color);\n",
              "    }\n",
              "    40% {\n",
              "      border-color: transparent;\n",
              "      border-right-color: var(--fill-color);\n",
              "      border-top-color: var(--fill-color);\n",
              "    }\n",
              "    60% {\n",
              "      border-color: transparent;\n",
              "      border-right-color: var(--fill-color);\n",
              "    }\n",
              "    80% {\n",
              "      border-color: transparent;\n",
              "      border-right-color: var(--fill-color);\n",
              "      border-bottom-color: var(--fill-color);\n",
              "    }\n",
              "    90% {\n",
              "      border-color: transparent;\n",
              "      border-bottom-color: var(--fill-color);\n",
              "    }\n",
              "  }\n",
              "</style>\n",
              "\n",
              "  <script>\n",
              "    async function quickchart(key) {\n",
              "      const quickchartButtonEl =\n",
              "        document.querySelector('#' + key + ' button');\n",
              "      quickchartButtonEl.disabled = true;  // To prevent multiple clicks.\n",
              "      quickchartButtonEl.classList.add('colab-df-spinner');\n",
              "      try {\n",
              "        const charts = await google.colab.kernel.invokeFunction(\n",
              "            'suggestCharts', [key], {});\n",
              "      } catch (error) {\n",
              "        console.error('Error during call to suggestCharts:', error);\n",
              "      }\n",
              "      quickchartButtonEl.classList.remove('colab-df-spinner');\n",
              "      quickchartButtonEl.classList.add('colab-df-quickchart-complete');\n",
              "    }\n",
              "    (() => {\n",
              "      let quickchartButtonEl =\n",
              "        document.querySelector('#df-a879a89e-d5f2-4115-b560-136ef341541f button');\n",
              "      quickchartButtonEl.style.display =\n",
              "        google.colab.kernel.accessAllowed ? 'block' : 'none';\n",
              "    })();\n",
              "  </script>\n",
              "</div>\n",
              "    </div>\n",
              "  </div>\n"
            ]
          },
          "metadata": {},
          "execution_count": 66
        }
      ]
    },
    {
      "cell_type": "code",
      "source": [
        "rets2 = cryptoprice2.pct_change().dropna()\n",
        "rets2"
      ],
      "metadata": {
        "colab": {
          "base_uri": "https://localhost:8080/",
          "height": 666
        },
        "id": "M4-1p9fF1ZkZ",
        "outputId": "dd1810ba-25b3-4943-ec76-e2db87f1b426"
      },
      "execution_count": 67,
      "outputs": [
        {
          "output_type": "execute_result",
          "data": {
            "text/plain": [
              "            AAVE-USD  DOGE-USD   FIL-USD  MANA-USD  MATIC-USD  SHIB-USD  \\\n",
              "Date                                                                      \n",
              "2021-04-17 -0.027182 -0.223295 -0.003084  0.162232  -0.069181  1.000000   \n",
              "2021-04-18 -0.111814  0.127746 -0.144395 -0.115856  -0.106712  0.000000   \n",
              "2021-04-19 -0.092292  0.270982 -0.009286 -0.024129  -0.098377  1.000000   \n",
              "2021-04-20  0.042662 -0.215601 -0.007466  0.060183   0.043778 -0.500000   \n",
              "2021-04-21 -0.020657 -0.039358 -0.035288 -0.042022   0.051841 -0.500000   \n",
              "...              ...       ...       ...       ...        ...       ...   \n",
              "2023-09-28  0.084424  0.016197  0.031027  0.019330   0.032087  0.000000   \n",
              "2023-09-29  0.005542  0.011287  0.009242  0.056888   0.011873  0.000000   \n",
              "2023-09-30  0.021906 -0.000595  0.005203 -0.021623   0.014307  0.000000   \n",
              "2023-10-01  0.067770  0.016929  0.031199  0.046949   0.066102  0.142857   \n",
              "2023-10-02 -0.047499 -0.024528 -0.039316 -0.044890  -0.038486 -0.090856   \n",
              "\n",
              "            SUSHI-USD  THETA-USD  USDC-USD   VET-USD  \n",
              "Date                                                  \n",
              "2021-04-17  -0.018112  -0.061322  0.009453 -0.044118  \n",
              "2021-04-18  -0.123788  -0.123076 -0.010293  0.118843  \n",
              "2021-04-19  -0.130921  -0.079686 -0.000128 -0.099332  \n",
              "2021-04-20   0.041548   0.085275  0.000087  0.098797  \n",
              "2021-04-21  -0.016427  -0.057964  0.000080 -0.098279  \n",
              "...               ...        ...       ...       ...  \n",
              "2023-09-28   0.023312   0.021646 -0.000092  0.033586  \n",
              "2023-09-29  -0.003905  -0.000124  0.000031  0.007385  \n",
              "2023-09-30   0.017562   0.002010  0.000011  0.021406  \n",
              "2023-10-01   0.032807   0.034470 -0.000016  0.003904  \n",
              "2023-10-02  -0.052985  -0.063202  0.000122 -0.038964  \n",
              "\n",
              "[899 rows x 10 columns]"
            ],
            "text/html": [
              "\n",
              "  <div id=\"df-093345b9-f499-4731-b2df-f000584bf46c\" class=\"colab-df-container\">\n",
              "    <div>\n",
              "<style scoped>\n",
              "    .dataframe tbody tr th:only-of-type {\n",
              "        vertical-align: middle;\n",
              "    }\n",
              "\n",
              "    .dataframe tbody tr th {\n",
              "        vertical-align: top;\n",
              "    }\n",
              "\n",
              "    .dataframe thead th {\n",
              "        text-align: right;\n",
              "    }\n",
              "</style>\n",
              "<table border=\"1\" class=\"dataframe\">\n",
              "  <thead>\n",
              "    <tr style=\"text-align: right;\">\n",
              "      <th></th>\n",
              "      <th>AAVE-USD</th>\n",
              "      <th>DOGE-USD</th>\n",
              "      <th>FIL-USD</th>\n",
              "      <th>MANA-USD</th>\n",
              "      <th>MATIC-USD</th>\n",
              "      <th>SHIB-USD</th>\n",
              "      <th>SUSHI-USD</th>\n",
              "      <th>THETA-USD</th>\n",
              "      <th>USDC-USD</th>\n",
              "      <th>VET-USD</th>\n",
              "    </tr>\n",
              "    <tr>\n",
              "      <th>Date</th>\n",
              "      <th></th>\n",
              "      <th></th>\n",
              "      <th></th>\n",
              "      <th></th>\n",
              "      <th></th>\n",
              "      <th></th>\n",
              "      <th></th>\n",
              "      <th></th>\n",
              "      <th></th>\n",
              "      <th></th>\n",
              "    </tr>\n",
              "  </thead>\n",
              "  <tbody>\n",
              "    <tr>\n",
              "      <th>2021-04-17</th>\n",
              "      <td>-0.027182</td>\n",
              "      <td>-0.223295</td>\n",
              "      <td>-0.003084</td>\n",
              "      <td>0.162232</td>\n",
              "      <td>-0.069181</td>\n",
              "      <td>1.000000</td>\n",
              "      <td>-0.018112</td>\n",
              "      <td>-0.061322</td>\n",
              "      <td>0.009453</td>\n",
              "      <td>-0.044118</td>\n",
              "    </tr>\n",
              "    <tr>\n",
              "      <th>2021-04-18</th>\n",
              "      <td>-0.111814</td>\n",
              "      <td>0.127746</td>\n",
              "      <td>-0.144395</td>\n",
              "      <td>-0.115856</td>\n",
              "      <td>-0.106712</td>\n",
              "      <td>0.000000</td>\n",
              "      <td>-0.123788</td>\n",
              "      <td>-0.123076</td>\n",
              "      <td>-0.010293</td>\n",
              "      <td>0.118843</td>\n",
              "    </tr>\n",
              "    <tr>\n",
              "      <th>2021-04-19</th>\n",
              "      <td>-0.092292</td>\n",
              "      <td>0.270982</td>\n",
              "      <td>-0.009286</td>\n",
              "      <td>-0.024129</td>\n",
              "      <td>-0.098377</td>\n",
              "      <td>1.000000</td>\n",
              "      <td>-0.130921</td>\n",
              "      <td>-0.079686</td>\n",
              "      <td>-0.000128</td>\n",
              "      <td>-0.099332</td>\n",
              "    </tr>\n",
              "    <tr>\n",
              "      <th>2021-04-20</th>\n",
              "      <td>0.042662</td>\n",
              "      <td>-0.215601</td>\n",
              "      <td>-0.007466</td>\n",
              "      <td>0.060183</td>\n",
              "      <td>0.043778</td>\n",
              "      <td>-0.500000</td>\n",
              "      <td>0.041548</td>\n",
              "      <td>0.085275</td>\n",
              "      <td>0.000087</td>\n",
              "      <td>0.098797</td>\n",
              "    </tr>\n",
              "    <tr>\n",
              "      <th>2021-04-21</th>\n",
              "      <td>-0.020657</td>\n",
              "      <td>-0.039358</td>\n",
              "      <td>-0.035288</td>\n",
              "      <td>-0.042022</td>\n",
              "      <td>0.051841</td>\n",
              "      <td>-0.500000</td>\n",
              "      <td>-0.016427</td>\n",
              "      <td>-0.057964</td>\n",
              "      <td>0.000080</td>\n",
              "      <td>-0.098279</td>\n",
              "    </tr>\n",
              "    <tr>\n",
              "      <th>...</th>\n",
              "      <td>...</td>\n",
              "      <td>...</td>\n",
              "      <td>...</td>\n",
              "      <td>...</td>\n",
              "      <td>...</td>\n",
              "      <td>...</td>\n",
              "      <td>...</td>\n",
              "      <td>...</td>\n",
              "      <td>...</td>\n",
              "      <td>...</td>\n",
              "    </tr>\n",
              "    <tr>\n",
              "      <th>2023-09-28</th>\n",
              "      <td>0.084424</td>\n",
              "      <td>0.016197</td>\n",
              "      <td>0.031027</td>\n",
              "      <td>0.019330</td>\n",
              "      <td>0.032087</td>\n",
              "      <td>0.000000</td>\n",
              "      <td>0.023312</td>\n",
              "      <td>0.021646</td>\n",
              "      <td>-0.000092</td>\n",
              "      <td>0.033586</td>\n",
              "    </tr>\n",
              "    <tr>\n",
              "      <th>2023-09-29</th>\n",
              "      <td>0.005542</td>\n",
              "      <td>0.011287</td>\n",
              "      <td>0.009242</td>\n",
              "      <td>0.056888</td>\n",
              "      <td>0.011873</td>\n",
              "      <td>0.000000</td>\n",
              "      <td>-0.003905</td>\n",
              "      <td>-0.000124</td>\n",
              "      <td>0.000031</td>\n",
              "      <td>0.007385</td>\n",
              "    </tr>\n",
              "    <tr>\n",
              "      <th>2023-09-30</th>\n",
              "      <td>0.021906</td>\n",
              "      <td>-0.000595</td>\n",
              "      <td>0.005203</td>\n",
              "      <td>-0.021623</td>\n",
              "      <td>0.014307</td>\n",
              "      <td>0.000000</td>\n",
              "      <td>0.017562</td>\n",
              "      <td>0.002010</td>\n",
              "      <td>0.000011</td>\n",
              "      <td>0.021406</td>\n",
              "    </tr>\n",
              "    <tr>\n",
              "      <th>2023-10-01</th>\n",
              "      <td>0.067770</td>\n",
              "      <td>0.016929</td>\n",
              "      <td>0.031199</td>\n",
              "      <td>0.046949</td>\n",
              "      <td>0.066102</td>\n",
              "      <td>0.142857</td>\n",
              "      <td>0.032807</td>\n",
              "      <td>0.034470</td>\n",
              "      <td>-0.000016</td>\n",
              "      <td>0.003904</td>\n",
              "    </tr>\n",
              "    <tr>\n",
              "      <th>2023-10-02</th>\n",
              "      <td>-0.047499</td>\n",
              "      <td>-0.024528</td>\n",
              "      <td>-0.039316</td>\n",
              "      <td>-0.044890</td>\n",
              "      <td>-0.038486</td>\n",
              "      <td>-0.090856</td>\n",
              "      <td>-0.052985</td>\n",
              "      <td>-0.063202</td>\n",
              "      <td>0.000122</td>\n",
              "      <td>-0.038964</td>\n",
              "    </tr>\n",
              "  </tbody>\n",
              "</table>\n",
              "<p>899 rows × 10 columns</p>\n",
              "</div>\n",
              "    <div class=\"colab-df-buttons\">\n",
              "\n",
              "  <div class=\"colab-df-container\">\n",
              "    <button class=\"colab-df-convert\" onclick=\"convertToInteractive('df-093345b9-f499-4731-b2df-f000584bf46c')\"\n",
              "            title=\"Convert this dataframe to an interactive table.\"\n",
              "            style=\"display:none;\">\n",
              "\n",
              "  <svg xmlns=\"http://www.w3.org/2000/svg\" height=\"24px\" viewBox=\"0 -960 960 960\">\n",
              "    <path d=\"M120-120v-720h720v720H120Zm60-500h600v-160H180v160Zm220 220h160v-160H400v160Zm0 220h160v-160H400v160ZM180-400h160v-160H180v160Zm440 0h160v-160H620v160ZM180-180h160v-160H180v160Zm440 0h160v-160H620v160Z\"/>\n",
              "  </svg>\n",
              "    </button>\n",
              "\n",
              "  <style>\n",
              "    .colab-df-container {\n",
              "      display:flex;\n",
              "      gap: 12px;\n",
              "    }\n",
              "\n",
              "    .colab-df-convert {\n",
              "      background-color: #E8F0FE;\n",
              "      border: none;\n",
              "      border-radius: 50%;\n",
              "      cursor: pointer;\n",
              "      display: none;\n",
              "      fill: #1967D2;\n",
              "      height: 32px;\n",
              "      padding: 0 0 0 0;\n",
              "      width: 32px;\n",
              "    }\n",
              "\n",
              "    .colab-df-convert:hover {\n",
              "      background-color: #E2EBFA;\n",
              "      box-shadow: 0px 1px 2px rgba(60, 64, 67, 0.3), 0px 1px 3px 1px rgba(60, 64, 67, 0.15);\n",
              "      fill: #174EA6;\n",
              "    }\n",
              "\n",
              "    .colab-df-buttons div {\n",
              "      margin-bottom: 4px;\n",
              "    }\n",
              "\n",
              "    [theme=dark] .colab-df-convert {\n",
              "      background-color: #3B4455;\n",
              "      fill: #D2E3FC;\n",
              "    }\n",
              "\n",
              "    [theme=dark] .colab-df-convert:hover {\n",
              "      background-color: #434B5C;\n",
              "      box-shadow: 0px 1px 3px 1px rgba(0, 0, 0, 0.15);\n",
              "      filter: drop-shadow(0px 1px 2px rgba(0, 0, 0, 0.3));\n",
              "      fill: #FFFFFF;\n",
              "    }\n",
              "  </style>\n",
              "\n",
              "    <script>\n",
              "      const buttonEl =\n",
              "        document.querySelector('#df-093345b9-f499-4731-b2df-f000584bf46c button.colab-df-convert');\n",
              "      buttonEl.style.display =\n",
              "        google.colab.kernel.accessAllowed ? 'block' : 'none';\n",
              "\n",
              "      async function convertToInteractive(key) {\n",
              "        const element = document.querySelector('#df-093345b9-f499-4731-b2df-f000584bf46c');\n",
              "        const dataTable =\n",
              "          await google.colab.kernel.invokeFunction('convertToInteractive',\n",
              "                                                    [key], {});\n",
              "        if (!dataTable) return;\n",
              "\n",
              "        const docLinkHtml = 'Like what you see? Visit the ' +\n",
              "          '<a target=\"_blank\" href=https://colab.research.google.com/notebooks/data_table.ipynb>data table notebook</a>'\n",
              "          + ' to learn more about interactive tables.';\n",
              "        element.innerHTML = '';\n",
              "        dataTable['output_type'] = 'display_data';\n",
              "        await google.colab.output.renderOutput(dataTable, element);\n",
              "        const docLink = document.createElement('div');\n",
              "        docLink.innerHTML = docLinkHtml;\n",
              "        element.appendChild(docLink);\n",
              "      }\n",
              "    </script>\n",
              "  </div>\n",
              "\n",
              "\n",
              "<div id=\"df-407c7914-8643-4bd9-bd03-f73b5f22c7af\">\n",
              "  <button class=\"colab-df-quickchart\" onclick=\"quickchart('df-407c7914-8643-4bd9-bd03-f73b5f22c7af')\"\n",
              "            title=\"Suggest charts.\"\n",
              "            style=\"display:none;\">\n",
              "\n",
              "<svg xmlns=\"http://www.w3.org/2000/svg\" height=\"24px\"viewBox=\"0 0 24 24\"\n",
              "     width=\"24px\">\n",
              "    <g>\n",
              "        <path d=\"M19 3H5c-1.1 0-2 .9-2 2v14c0 1.1.9 2 2 2h14c1.1 0 2-.9 2-2V5c0-1.1-.9-2-2-2zM9 17H7v-7h2v7zm4 0h-2V7h2v10zm4 0h-2v-4h2v4z\"/>\n",
              "    </g>\n",
              "</svg>\n",
              "  </button>\n",
              "\n",
              "<style>\n",
              "  .colab-df-quickchart {\n",
              "      --bg-color: #E8F0FE;\n",
              "      --fill-color: #1967D2;\n",
              "      --hover-bg-color: #E2EBFA;\n",
              "      --hover-fill-color: #174EA6;\n",
              "      --disabled-fill-color: #AAA;\n",
              "      --disabled-bg-color: #DDD;\n",
              "  }\n",
              "\n",
              "  [theme=dark] .colab-df-quickchart {\n",
              "      --bg-color: #3B4455;\n",
              "      --fill-color: #D2E3FC;\n",
              "      --hover-bg-color: #434B5C;\n",
              "      --hover-fill-color: #FFFFFF;\n",
              "      --disabled-bg-color: #3B4455;\n",
              "      --disabled-fill-color: #666;\n",
              "  }\n",
              "\n",
              "  .colab-df-quickchart {\n",
              "    background-color: var(--bg-color);\n",
              "    border: none;\n",
              "    border-radius: 50%;\n",
              "    cursor: pointer;\n",
              "    display: none;\n",
              "    fill: var(--fill-color);\n",
              "    height: 32px;\n",
              "    padding: 0;\n",
              "    width: 32px;\n",
              "  }\n",
              "\n",
              "  .colab-df-quickchart:hover {\n",
              "    background-color: var(--hover-bg-color);\n",
              "    box-shadow: 0 1px 2px rgba(60, 64, 67, 0.3), 0 1px 3px 1px rgba(60, 64, 67, 0.15);\n",
              "    fill: var(--button-hover-fill-color);\n",
              "  }\n",
              "\n",
              "  .colab-df-quickchart-complete:disabled,\n",
              "  .colab-df-quickchart-complete:disabled:hover {\n",
              "    background-color: var(--disabled-bg-color);\n",
              "    fill: var(--disabled-fill-color);\n",
              "    box-shadow: none;\n",
              "  }\n",
              "\n",
              "  .colab-df-spinner {\n",
              "    border: 2px solid var(--fill-color);\n",
              "    border-color: transparent;\n",
              "    border-bottom-color: var(--fill-color);\n",
              "    animation:\n",
              "      spin 1s steps(1) infinite;\n",
              "  }\n",
              "\n",
              "  @keyframes spin {\n",
              "    0% {\n",
              "      border-color: transparent;\n",
              "      border-bottom-color: var(--fill-color);\n",
              "      border-left-color: var(--fill-color);\n",
              "    }\n",
              "    20% {\n",
              "      border-color: transparent;\n",
              "      border-left-color: var(--fill-color);\n",
              "      border-top-color: var(--fill-color);\n",
              "    }\n",
              "    30% {\n",
              "      border-color: transparent;\n",
              "      border-left-color: var(--fill-color);\n",
              "      border-top-color: var(--fill-color);\n",
              "      border-right-color: var(--fill-color);\n",
              "    }\n",
              "    40% {\n",
              "      border-color: transparent;\n",
              "      border-right-color: var(--fill-color);\n",
              "      border-top-color: var(--fill-color);\n",
              "    }\n",
              "    60% {\n",
              "      border-color: transparent;\n",
              "      border-right-color: var(--fill-color);\n",
              "    }\n",
              "    80% {\n",
              "      border-color: transparent;\n",
              "      border-right-color: var(--fill-color);\n",
              "      border-bottom-color: var(--fill-color);\n",
              "    }\n",
              "    90% {\n",
              "      border-color: transparent;\n",
              "      border-bottom-color: var(--fill-color);\n",
              "    }\n",
              "  }\n",
              "</style>\n",
              "\n",
              "  <script>\n",
              "    async function quickchart(key) {\n",
              "      const quickchartButtonEl =\n",
              "        document.querySelector('#' + key + ' button');\n",
              "      quickchartButtonEl.disabled = true;  // To prevent multiple clicks.\n",
              "      quickchartButtonEl.classList.add('colab-df-spinner');\n",
              "      try {\n",
              "        const charts = await google.colab.kernel.invokeFunction(\n",
              "            'suggestCharts', [key], {});\n",
              "      } catch (error) {\n",
              "        console.error('Error during call to suggestCharts:', error);\n",
              "      }\n",
              "      quickchartButtonEl.classList.remove('colab-df-spinner');\n",
              "      quickchartButtonEl.classList.add('colab-df-quickchart-complete');\n",
              "    }\n",
              "    (() => {\n",
              "      let quickchartButtonEl =\n",
              "        document.querySelector('#df-407c7914-8643-4bd9-bd03-f73b5f22c7af button');\n",
              "      quickchartButtonEl.style.display =\n",
              "        google.colab.kernel.accessAllowed ? 'block' : 'none';\n",
              "    })();\n",
              "  </script>\n",
              "</div>\n",
              "    </div>\n",
              "  </div>\n"
            ]
          },
          "metadata": {},
          "execution_count": 67
        }
      ]
    },
    {
      "cell_type": "code",
      "source": [
        "#Returns on portfolio 2\n",
        "\n",
        "#Weights for portfolio 2\n",
        "w2 = [1/10]*10\n",
        "\n",
        "#Portfolio returns\n",
        "crypto2rp = rets2@w2\n",
        "crypto2rp"
      ],
      "metadata": {
        "colab": {
          "base_uri": "https://localhost:8080/"
        },
        "id": "dq1h-pXUwZBk",
        "outputId": "621bddbc-7195-4a00-8069-24fa0fd71a08"
      },
      "execution_count": 68,
      "outputs": [
        {
          "output_type": "execute_result",
          "data": {
            "text/plain": [
              "Date\n",
              "2021-04-17    0.072539\n",
              "2021-04-18   -0.048934\n",
              "2021-04-19    0.073683\n",
              "2021-04-20   -0.035074\n",
              "2021-04-21   -0.075807\n",
              "                ...   \n",
              "2023-09-28    0.026152\n",
              "2023-09-29    0.009822\n",
              "2023-09-30    0.006019\n",
              "2023-10-01    0.044297\n",
              "2023-10-02   -0.044060\n",
              "Length: 899, dtype: float64"
            ]
          },
          "metadata": {},
          "execution_count": 68
        }
      ]
    },
    {
      "cell_type": "code",
      "source": [
        "#Expected Returns\n",
        "exr2 = expRet(rets2,252,True)\n",
        "print(exr2)\n",
        "print(\"*\"*50)\n",
        "anvol2 = annualize_vol(rets2,252)\n",
        "print(anvol2)"
      ],
      "metadata": {
        "colab": {
          "base_uri": "https://localhost:8080/"
        },
        "id": "58U9b2uSxPmT",
        "outputId": "0e480a99-ae5d-43e8-8454-cfa633a071fe"
      },
      "execution_count": 69,
      "outputs": [
        {
          "output_type": "stream",
          "name": "stdout",
          "text": [
            "AAVE-USD    -0.406620\n",
            "DOGE-USD    -0.392991\n",
            "FIL-USD     -0.674991\n",
            "MANA-USD    -0.333370\n",
            "MATIC-USD    0.065145\n",
            "SHIB-USD     0.744017\n",
            "SUSHI-USD   -0.606157\n",
            "THETA-USD   -0.583478\n",
            "USDC-USD    -0.000230\n",
            "VET-USD     -0.524379\n",
            "dtype: float64\n",
            "**************************************************\n",
            "AAVE-USD     0.946032\n",
            "DOGE-USD     0.945148\n",
            "FIL-USD      0.947630\n",
            "MANA-USD     1.319179\n",
            "MATIC-USD    1.116273\n",
            "SHIB-USD     2.933713\n",
            "SUSHI-USD    1.043319\n",
            "THETA-USD    0.905994\n",
            "USDC-USD     0.021122\n",
            "VET-USD      0.858765\n",
            "dtype: float64\n"
          ]
        }
      ]
    },
    {
      "cell_type": "code",
      "source": [
        "#portfolio expected return\n",
        "crypto2per = per(W=w2,ret=rets2,com=True)\n",
        "crypto2per"
      ],
      "metadata": {
        "colab": {
          "base_uri": "https://localhost:8080/"
        },
        "id": "gVyGzvTPyC8H",
        "outputId": "d332707f-720b-49b3-ab6a-52beba736a78"
      },
      "execution_count": 70,
      "outputs": [
        {
          "output_type": "execute_result",
          "data": {
            "text/plain": [
              "-0.27130548655185033"
            ]
          },
          "metadata": {},
          "execution_count": 70
        }
      ]
    },
    {
      "cell_type": "code",
      "source": [
        "#pV\n",
        "cryptopV2 = pV(w2,rets2,252,True)\n",
        "cryptopV2"
      ],
      "metadata": {
        "colab": {
          "base_uri": "https://localhost:8080/"
        },
        "id": "hcoAFke-zIJm",
        "outputId": "a3675996-2e05-448c-ff86-35a2cd8777cb"
      },
      "execution_count": 71,
      "outputs": [
        {
          "output_type": "execute_result",
          "data": {
            "text/plain": [
              "0.762722156228521"
            ]
          },
          "metadata": {},
          "execution_count": 71
        }
      ]
    },
    {
      "cell_type": "code",
      "source": [
        "#MVP\n",
        "crypto2mvp = mvp(rets2,252,True)\n",
        "crypto2mvp"
      ],
      "metadata": {
        "colab": {
          "base_uri": "https://localhost:8080/"
        },
        "id": "rc0mZDEszQ4I",
        "outputId": "aa67b14c-bb00-453c-ab45-eb7beea8460c"
      },
      "execution_count": 72,
      "outputs": [
        {
          "output_type": "execute_result",
          "data": {
            "text/plain": [
              "{'w': array([-1.43418108e-03,  2.52039930e-03, -4.05331555e-03, -3.63670504e-04,\n",
              "         3.67714911e-04, -2.35282362e-04,  2.30585892e-05, -1.18765199e-03,\n",
              "         1.00012806e+00,  4.23487137e-03]),\n",
              " 'er': 0.00052718012322364,\n",
              " 'vol': 0.020831122337735847}"
            ]
          },
          "metadata": {},
          "execution_count": 72
        }
      ]
    },
    {
      "cell_type": "code",
      "source": [
        "#Manual optimization 1 - Only with pV\n",
        "\n",
        "crypto2optres = sco.minimize(lambda w2: pV(w2,rets2),\n",
        "                             [1/10]*10,\n",
        "                             constraints=[dict(type='eq',fun=lambda w2:sum(w2)-1)])\n",
        "crypto2optres"
      ],
      "metadata": {
        "colab": {
          "base_uri": "https://localhost:8080/"
        },
        "id": "gK_EfNJZzaPr",
        "outputId": "a0445005-a32a-4d3f-a4cf-493b05d05dae"
      },
      "execution_count": 74,
      "outputs": [
        {
          "output_type": "execute_result",
          "data": {
            "text/plain": [
              " message: Optimization terminated successfully\n",
              " success: True\n",
              "  status: 0\n",
              "     fun: 0.0004339356578497174\n",
              "       x: [-1.434e-03  2.520e-03 -4.053e-03 -3.637e-04  3.677e-04\n",
              "           -2.353e-04  2.306e-05 -1.188e-03  1.000e+00  4.235e-03]\n",
              "     nit: 8\n",
              "     jac: [ 9.564e-04  3.734e-04  5.071e-04  1.297e-03  7.101e-04\n",
              "            7.392e-04  7.135e-04  8.426e-05  8.664e-04  1.125e-03]\n",
              "    nfev: 91\n",
              "    njev: 8"
            ]
          },
          "metadata": {},
          "execution_count": 74
        }
      ]
    },
    {
      "cell_type": "code",
      "source": [
        "#Target of Portfolio Return\n",
        "crypto2target = targetP(rets2,0.4)\n",
        "crypto2target"
      ],
      "metadata": {
        "colab": {
          "base_uri": "https://localhost:8080/"
        },
        "id": "92765ODMzyVy",
        "outputId": "afab9361-38b3-4e48-abbd-0bb9c50c46c3"
      },
      "execution_count": 78,
      "outputs": [
        {
          "output_type": "execute_result",
          "data": {
            "text/plain": [
              "{'w': array([ 0.03984587,  0.04150497, -0.12493026,  0.06250163,  0.1717858 ,\n",
              "         0.03230376, -0.09356861, -0.09984137,  1.03728894, -0.06689073]),\n",
              " 'er': 0.4,\n",
              " 'vol': 0.19677703631445906}"
            ]
          },
          "metadata": {},
          "execution_count": 78
        }
      ]
    },
    {
      "cell_type": "code",
      "source": [
        "#Manual optimization 2 - with pV and per\n",
        "crypto2optres1 = sco.minimize(lambda w2: pV(w2,rets2),\n",
        "                              [1/10]*10,\n",
        "                              constraints=[dict(type='eq',fun=lambda w2:sum(w2)-1),\n",
        "                                           dict(type='eq',fun=lambda w2:per(w2,rets2)-0.4)])\n",
        "crypto2optres1.fun"
      ],
      "metadata": {
        "colab": {
          "base_uri": "https://localhost:8080/"
        },
        "id": "4Wfhfo6Lz_2y",
        "outputId": "d4957f99-b3a4-4db6-ce63-b3080fa3dc52"
      },
      "execution_count": 82,
      "outputs": [
        {
          "output_type": "execute_result",
          "data": {
            "text/plain": [
              "0.038721202020701936"
            ]
          },
          "metadata": {},
          "execution_count": 82
        }
      ]
    },
    {
      "cell_type": "code",
      "source": [
        "#Manual optimization 3 -with pV and per and bounds\n",
        "crypto2optres2 = sco.minimize(lambda w2: pV(w2,rets2),\n",
        "                              [1/10]*10,\n",
        "                              bounds =[[0,1.5]]*10,\n",
        "                              constraints=[dict(type='eq',fun=lambda w2:sum(w2)-1),\n",
        "                                           dict(type='eq',fun=lambda w2: per(w2,rets2)-0.4)])\n",
        "crypto2optres2"
      ],
      "metadata": {
        "colab": {
          "base_uri": "https://localhost:8080/"
        },
        "id": "vln3ZJhO0fIU",
        "outputId": "db57d9f4-04bd-4e1a-e299-8a167109c957"
      },
      "execution_count": 84,
      "outputs": [
        {
          "output_type": "execute_result",
          "data": {
            "text/plain": [
              " message: Optimization terminated successfully\n",
              " success: True\n",
              "  status: 0\n",
              "     fun: 0.15535055332313458\n",
              "       x: [ 0.000e+00  2.930e-16  0.000e+00  0.000e+00  1.536e-01\n",
              "            1.116e-01  6.472e-17  0.000e+00  7.348e-01  3.570e-16]\n",
              "     nit: 4\n",
              "     jac: [ 3.430e-01  2.585e-01  3.010e-01  2.961e-01  4.999e-01\n",
              "            2.086e+00  3.559e-01  3.019e-01  1.454e-03  2.895e-01]\n",
              "    nfev: 44\n",
              "    njev: 4"
            ]
          },
          "metadata": {},
          "execution_count": 84
        }
      ]
    },
    {
      "cell_type": "code",
      "source": [
        "#Effective Frontier without range\n",
        "crypto2EF1 = EF(rets2,plot='full')\n",
        "crypto2EF1"
      ],
      "metadata": {
        "colab": {
          "base_uri": "https://localhost:8080/",
          "height": 542
        },
        "id": "V1HhBPvY1F2_",
        "outputId": "174f03e4-dc3e-42d2-9275-55ed6bef45cb"
      },
      "execution_count": 85,
      "outputs": [
        {
          "output_type": "display_data",
          "data": {
            "text/html": [
              "<html>\n",
              "<head><meta charset=\"utf-8\" /></head>\n",
              "<body>\n",
              "    <div>            <script src=\"https://cdnjs.cloudflare.com/ajax/libs/mathjax/2.7.5/MathJax.js?config=TeX-AMS-MML_SVG\"></script><script type=\"text/javascript\">if (window.MathJax && window.MathJax.Hub && window.MathJax.Hub.Config) {window.MathJax.Hub.Config({SVG: {font: \"STIX-Web\"}});}</script>                <script type=\"text/javascript\">window.PlotlyConfig = {MathJaxConfig: 'local'};</script>\n",
              "        <script charset=\"utf-8\" src=\"https://cdn.plot.ly/plotly-2.24.1.min.js\"></script>                <div id=\"6596ba95-4aaf-4693-af11-d47e1ee99e64\" class=\"plotly-graph-div\" style=\"height:525px; width:100%;\"></div>            <script type=\"text/javascript\">                                    window.PLOTLYENV=window.PLOTLYENV || {};                                    if (document.getElementById(\"6596ba95-4aaf-4693-af11-d47e1ee99e64\")) {                    Plotly.newPlot(                        \"6596ba95-4aaf-4693-af11-d47e1ee99e64\",                        [{\"fill\":\"tozeroy\",\"fillcolor\":\"Pink\",\"line\":{\"color\":\"Blue\",\"dash\":\"dash\"},\"x\":[0.021275636740179838,0.022791578867321194,0.0251870430030457,0.02823908491041566,0.031758973619850674,0.035608237746037226,0.03969116375912027,0.043942667814325445,0.04831827099417381,0.052787121973897,0.05732741798393883,0.061923445687246,0.06656366171807297,0.07123943188328877,0.07594418941336538,0.08067286290790737,0.08542148071889133,0.09018689252097364,0.09496657020475546,0.09975846327806144,0.1045608923575614,0.109372469629195,0.11419203877632213,0.11901862902562084,0.12385141963185362,0.12868971219198544,0.13353290880543883,0.13838049471526154,0.143232024440046,0.1480871105051569,0.15294541431214512,0.15780663863102967,0.16267052138144386,0.16753683048406365,0.17240535962371956,0.17727592484747287,0.18214836181741573,0.18702383845748866,0.19189930038716319,0.19677703631445906],\"y\":[0.01,0.02,0.03,0.04,0.05,0.060000000000000005,0.06999999999999999,0.08,0.09,0.09999999999999999,0.11,0.12,0.13,0.14,0.15000000000000002,0.16,0.17,0.18000000000000002,0.19,0.2,0.21000000000000002,0.22,0.23,0.24000000000000002,0.25,0.26,0.27,0.28,0.29000000000000004,0.3,0.31,0.32,0.33,0.34,0.35000000000000003,0.36000000000000004,0.37,0.38,0.39,0.4],\"type\":\"scatter\"},{\"line\":{\"color\":\"Blue\",\"width\":3},\"x\":[0.021275636740179838,0.022791578867321194,0.0251870430030457,0.02823908491041566,0.031758973619850674,0.035608237746037226,0.03969116375912027,0.043942667814325445,0.04831827099417381,0.052787121973897,0.05732741798393883,0.061923445687246,0.06656366171807297,0.07123943188328877,0.07594418941336538,0.08067286290790737,0.08542148071889133,0.09018689252097364,0.09496657020475546,0.09975846327806144,0.1045608923575614,0.109372469629195,0.11419203877632213,0.11901862902562084,0.12385141963185362,0.12868971219198544,0.13353290880543883,0.13838049471526154,0.143232024440046,0.1480871105051569,0.15294541431214512,0.15780663863102967,0.16267052138144386,0.16753683048406365,0.17240535962371956,0.17727592484747287,0.18214836181741573,0.18702383845748866,0.19189930038716319,0.19677703631445906],\"y\":[0.01,0.02,0.03,0.04,0.05,0.060000000000000005,0.06999999999999999,0.08,0.09,0.09999999999999999,0.11,0.12,0.13,0.14,0.15000000000000002,0.16,0.17,0.18000000000000002,0.19,0.2,0.21000000000000002,0.22,0.23,0.24000000000000002,0.25,0.26,0.27,0.28,0.29000000000000004,0.3,0.31,0.32,0.33,0.34,0.35000000000000003,0.36000000000000004,0.37,0.38,0.39,0.4],\"type\":\"scatter\"},{\"marker\":{\"color\":\"Red\",\"line\":{\"color\":\"Black\",\"width\":2},\"size\":10},\"x\":[0.020831122337735847],\"y\":[0.0011672140139034502],\"type\":\"scatter\"}],                        {\"template\":{\"data\":{\"histogram2dcontour\":[{\"type\":\"histogram2dcontour\",\"colorbar\":{\"outlinewidth\":0,\"ticks\":\"\"},\"colorscale\":[[0.0,\"#0d0887\"],[0.1111111111111111,\"#46039f\"],[0.2222222222222222,\"#7201a8\"],[0.3333333333333333,\"#9c179e\"],[0.4444444444444444,\"#bd3786\"],[0.5555555555555556,\"#d8576b\"],[0.6666666666666666,\"#ed7953\"],[0.7777777777777778,\"#fb9f3a\"],[0.8888888888888888,\"#fdca26\"],[1.0,\"#f0f921\"]]}],\"choropleth\":[{\"type\":\"choropleth\",\"colorbar\":{\"outlinewidth\":0,\"ticks\":\"\"}}],\"histogram2d\":[{\"type\":\"histogram2d\",\"colorbar\":{\"outlinewidth\":0,\"ticks\":\"\"},\"colorscale\":[[0.0,\"#0d0887\"],[0.1111111111111111,\"#46039f\"],[0.2222222222222222,\"#7201a8\"],[0.3333333333333333,\"#9c179e\"],[0.4444444444444444,\"#bd3786\"],[0.5555555555555556,\"#d8576b\"],[0.6666666666666666,\"#ed7953\"],[0.7777777777777778,\"#fb9f3a\"],[0.8888888888888888,\"#fdca26\"],[1.0,\"#f0f921\"]]}],\"heatmap\":[{\"type\":\"heatmap\",\"colorbar\":{\"outlinewidth\":0,\"ticks\":\"\"},\"colorscale\":[[0.0,\"#0d0887\"],[0.1111111111111111,\"#46039f\"],[0.2222222222222222,\"#7201a8\"],[0.3333333333333333,\"#9c179e\"],[0.4444444444444444,\"#bd3786\"],[0.5555555555555556,\"#d8576b\"],[0.6666666666666666,\"#ed7953\"],[0.7777777777777778,\"#fb9f3a\"],[0.8888888888888888,\"#fdca26\"],[1.0,\"#f0f921\"]]}],\"heatmapgl\":[{\"type\":\"heatmapgl\",\"colorbar\":{\"outlinewidth\":0,\"ticks\":\"\"},\"colorscale\":[[0.0,\"#0d0887\"],[0.1111111111111111,\"#46039f\"],[0.2222222222222222,\"#7201a8\"],[0.3333333333333333,\"#9c179e\"],[0.4444444444444444,\"#bd3786\"],[0.5555555555555556,\"#d8576b\"],[0.6666666666666666,\"#ed7953\"],[0.7777777777777778,\"#fb9f3a\"],[0.8888888888888888,\"#fdca26\"],[1.0,\"#f0f921\"]]}],\"contourcarpet\":[{\"type\":\"contourcarpet\",\"colorbar\":{\"outlinewidth\":0,\"ticks\":\"\"}}],\"contour\":[{\"type\":\"contour\",\"colorbar\":{\"outlinewidth\":0,\"ticks\":\"\"},\"colorscale\":[[0.0,\"#0d0887\"],[0.1111111111111111,\"#46039f\"],[0.2222222222222222,\"#7201a8\"],[0.3333333333333333,\"#9c179e\"],[0.4444444444444444,\"#bd3786\"],[0.5555555555555556,\"#d8576b\"],[0.6666666666666666,\"#ed7953\"],[0.7777777777777778,\"#fb9f3a\"],[0.8888888888888888,\"#fdca26\"],[1.0,\"#f0f921\"]]}],\"surface\":[{\"type\":\"surface\",\"colorbar\":{\"outlinewidth\":0,\"ticks\":\"\"},\"colorscale\":[[0.0,\"#0d0887\"],[0.1111111111111111,\"#46039f\"],[0.2222222222222222,\"#7201a8\"],[0.3333333333333333,\"#9c179e\"],[0.4444444444444444,\"#bd3786\"],[0.5555555555555556,\"#d8576b\"],[0.6666666666666666,\"#ed7953\"],[0.7777777777777778,\"#fb9f3a\"],[0.8888888888888888,\"#fdca26\"],[1.0,\"#f0f921\"]]}],\"mesh3d\":[{\"type\":\"mesh3d\",\"colorbar\":{\"outlinewidth\":0,\"ticks\":\"\"}}],\"scatter\":[{\"fillpattern\":{\"fillmode\":\"overlay\",\"size\":10,\"solidity\":0.2},\"type\":\"scatter\"}],\"parcoords\":[{\"type\":\"parcoords\",\"line\":{\"colorbar\":{\"outlinewidth\":0,\"ticks\":\"\"}}}],\"scatterpolargl\":[{\"type\":\"scatterpolargl\",\"marker\":{\"colorbar\":{\"outlinewidth\":0,\"ticks\":\"\"}}}],\"bar\":[{\"error_x\":{\"color\":\"#2a3f5f\"},\"error_y\":{\"color\":\"#2a3f5f\"},\"marker\":{\"line\":{\"color\":\"#E5ECF6\",\"width\":0.5},\"pattern\":{\"fillmode\":\"overlay\",\"size\":10,\"solidity\":0.2}},\"type\":\"bar\"}],\"scattergeo\":[{\"type\":\"scattergeo\",\"marker\":{\"colorbar\":{\"outlinewidth\":0,\"ticks\":\"\"}}}],\"scatterpolar\":[{\"type\":\"scatterpolar\",\"marker\":{\"colorbar\":{\"outlinewidth\":0,\"ticks\":\"\"}}}],\"histogram\":[{\"marker\":{\"pattern\":{\"fillmode\":\"overlay\",\"size\":10,\"solidity\":0.2}},\"type\":\"histogram\"}],\"scattergl\":[{\"type\":\"scattergl\",\"marker\":{\"colorbar\":{\"outlinewidth\":0,\"ticks\":\"\"}}}],\"scatter3d\":[{\"type\":\"scatter3d\",\"line\":{\"colorbar\":{\"outlinewidth\":0,\"ticks\":\"\"}},\"marker\":{\"colorbar\":{\"outlinewidth\":0,\"ticks\":\"\"}}}],\"scattermapbox\":[{\"type\":\"scattermapbox\",\"marker\":{\"colorbar\":{\"outlinewidth\":0,\"ticks\":\"\"}}}],\"scatterternary\":[{\"type\":\"scatterternary\",\"marker\":{\"colorbar\":{\"outlinewidth\":0,\"ticks\":\"\"}}}],\"scattercarpet\":[{\"type\":\"scattercarpet\",\"marker\":{\"colorbar\":{\"outlinewidth\":0,\"ticks\":\"\"}}}],\"carpet\":[{\"aaxis\":{\"endlinecolor\":\"#2a3f5f\",\"gridcolor\":\"white\",\"linecolor\":\"white\",\"minorgridcolor\":\"white\",\"startlinecolor\":\"#2a3f5f\"},\"baxis\":{\"endlinecolor\":\"#2a3f5f\",\"gridcolor\":\"white\",\"linecolor\":\"white\",\"minorgridcolor\":\"white\",\"startlinecolor\":\"#2a3f5f\"},\"type\":\"carpet\"}],\"table\":[{\"cells\":{\"fill\":{\"color\":\"#EBF0F8\"},\"line\":{\"color\":\"white\"}},\"header\":{\"fill\":{\"color\":\"#C8D4E3\"},\"line\":{\"color\":\"white\"}},\"type\":\"table\"}],\"barpolar\":[{\"marker\":{\"line\":{\"color\":\"#E5ECF6\",\"width\":0.5},\"pattern\":{\"fillmode\":\"overlay\",\"size\":10,\"solidity\":0.2}},\"type\":\"barpolar\"}],\"pie\":[{\"automargin\":true,\"type\":\"pie\"}]},\"layout\":{\"autotypenumbers\":\"strict\",\"colorway\":[\"#636efa\",\"#EF553B\",\"#00cc96\",\"#ab63fa\",\"#FFA15A\",\"#19d3f3\",\"#FF6692\",\"#B6E880\",\"#FF97FF\",\"#FECB52\"],\"font\":{\"color\":\"#2a3f5f\"},\"hovermode\":\"closest\",\"hoverlabel\":{\"align\":\"left\"},\"paper_bgcolor\":\"white\",\"plot_bgcolor\":\"#E5ECF6\",\"polar\":{\"bgcolor\":\"#E5ECF6\",\"angularaxis\":{\"gridcolor\":\"white\",\"linecolor\":\"white\",\"ticks\":\"\"},\"radialaxis\":{\"gridcolor\":\"white\",\"linecolor\":\"white\",\"ticks\":\"\"}},\"ternary\":{\"bgcolor\":\"#E5ECF6\",\"aaxis\":{\"gridcolor\":\"white\",\"linecolor\":\"white\",\"ticks\":\"\"},\"baxis\":{\"gridcolor\":\"white\",\"linecolor\":\"white\",\"ticks\":\"\"},\"caxis\":{\"gridcolor\":\"white\",\"linecolor\":\"white\",\"ticks\":\"\"}},\"coloraxis\":{\"colorbar\":{\"outlinewidth\":0,\"ticks\":\"\"}},\"colorscale\":{\"sequential\":[[0.0,\"#0d0887\"],[0.1111111111111111,\"#46039f\"],[0.2222222222222222,\"#7201a8\"],[0.3333333333333333,\"#9c179e\"],[0.4444444444444444,\"#bd3786\"],[0.5555555555555556,\"#d8576b\"],[0.6666666666666666,\"#ed7953\"],[0.7777777777777778,\"#fb9f3a\"],[0.8888888888888888,\"#fdca26\"],[1.0,\"#f0f921\"]],\"sequentialminus\":[[0.0,\"#0d0887\"],[0.1111111111111111,\"#46039f\"],[0.2222222222222222,\"#7201a8\"],[0.3333333333333333,\"#9c179e\"],[0.4444444444444444,\"#bd3786\"],[0.5555555555555556,\"#d8576b\"],[0.6666666666666666,\"#ed7953\"],[0.7777777777777778,\"#fb9f3a\"],[0.8888888888888888,\"#fdca26\"],[1.0,\"#f0f921\"]],\"diverging\":[[0,\"#8e0152\"],[0.1,\"#c51b7d\"],[0.2,\"#de77ae\"],[0.3,\"#f1b6da\"],[0.4,\"#fde0ef\"],[0.5,\"#f7f7f7\"],[0.6,\"#e6f5d0\"],[0.7,\"#b8e186\"],[0.8,\"#7fbc41\"],[0.9,\"#4d9221\"],[1,\"#276419\"]]},\"xaxis\":{\"gridcolor\":\"white\",\"linecolor\":\"white\",\"ticks\":\"\",\"title\":{\"standoff\":15},\"zerolinecolor\":\"white\",\"automargin\":true,\"zerolinewidth\":2},\"yaxis\":{\"gridcolor\":\"white\",\"linecolor\":\"white\",\"ticks\":\"\",\"title\":{\"standoff\":15},\"zerolinecolor\":\"white\",\"automargin\":true,\"zerolinewidth\":2},\"scene\":{\"xaxis\":{\"backgroundcolor\":\"#E5ECF6\",\"gridcolor\":\"white\",\"linecolor\":\"white\",\"showbackground\":true,\"ticks\":\"\",\"zerolinecolor\":\"white\",\"gridwidth\":2},\"yaxis\":{\"backgroundcolor\":\"#E5ECF6\",\"gridcolor\":\"white\",\"linecolor\":\"white\",\"showbackground\":true,\"ticks\":\"\",\"zerolinecolor\":\"white\",\"gridwidth\":2},\"zaxis\":{\"backgroundcolor\":\"#E5ECF6\",\"gridcolor\":\"white\",\"linecolor\":\"white\",\"showbackground\":true,\"ticks\":\"\",\"zerolinecolor\":\"white\",\"gridwidth\":2}},\"shapedefaults\":{\"line\":{\"color\":\"#2a3f5f\"}},\"annotationdefaults\":{\"arrowcolor\":\"#2a3f5f\",\"arrowhead\":0,\"arrowwidth\":1},\"geo\":{\"bgcolor\":\"white\",\"landcolor\":\"#E5ECF6\",\"subunitcolor\":\"white\",\"showland\":true,\"showlakes\":true,\"lakecolor\":\"white\"},\"title\":{\"x\":0.05},\"mapbox\":{\"style\":\"light\"}}},\"xaxis\":{\"title\":{\"text\":\"\\\\$\\\\sigma$\"},\"range\":[-0.01,0.25],\"zerolinecolor\":\"Black\"},\"yaxis\":{\"title\":{\"text\":\"$\\\\mu$\"},\"zerolinecolor\":\"Black\"},\"title\":{\"font\":{\"size\":25,\"color\":\"Navy\"},\"text\":\"Efficient frontier\",\"x\":0.5,\"y\":0.87},\"showlegend\":false},                        {\"responsive\": true}                    ).then(function(){\n",
              "                            \n",
              "var gd = document.getElementById('6596ba95-4aaf-4693-af11-d47e1ee99e64');\n",
              "var x = new MutationObserver(function (mutations, observer) {{\n",
              "        var display = window.getComputedStyle(gd).display;\n",
              "        if (!display || display === 'none') {{\n",
              "            console.log([gd, 'removed!']);\n",
              "            Plotly.purge(gd);\n",
              "            observer.disconnect();\n",
              "        }}\n",
              "}});\n",
              "\n",
              "// Listen for the removal of the full notebook cells\n",
              "var notebookContainer = gd.closest('#notebook-container');\n",
              "if (notebookContainer) {{\n",
              "    x.observe(notebookContainer, {childList: true});\n",
              "}}\n",
              "\n",
              "// Listen for the clearing of the current output cell\n",
              "var outputEl = gd.closest('.output');\n",
              "if (outputEl) {{\n",
              "    x.observe(outputEl, {childList: true});\n",
              "}}\n",
              "\n",
              "                        })                };                            </script>        </div>\n",
              "</body>\n",
              "</html>"
            ]
          },
          "metadata": {}
        }
      ]
    },
    {
      "cell_type": "code",
      "source": [
        "# With range\n",
        "crypto2EF2 = EF(rets2,Range=[0.01,1.5],plot='full')\n",
        "crypto2EF2"
      ],
      "metadata": {
        "colab": {
          "base_uri": "https://localhost:8080/",
          "height": 542
        },
        "id": "dThznq0M1OJH",
        "outputId": "f7e6e053-895c-407b-b1d1-a4f99bc908bb"
      },
      "execution_count": 87,
      "outputs": [
        {
          "output_type": "display_data",
          "data": {
            "text/html": [
              "<html>\n",
              "<head><meta charset=\"utf-8\" /></head>\n",
              "<body>\n",
              "    <div>            <script src=\"https://cdnjs.cloudflare.com/ajax/libs/mathjax/2.7.5/MathJax.js?config=TeX-AMS-MML_SVG\"></script><script type=\"text/javascript\">if (window.MathJax && window.MathJax.Hub && window.MathJax.Hub.Config) {window.MathJax.Hub.Config({SVG: {font: \"STIX-Web\"}});}</script>                <script type=\"text/javascript\">window.PlotlyConfig = {MathJaxConfig: 'local'};</script>\n",
              "        <script charset=\"utf-8\" src=\"https://cdn.plot.ly/plotly-2.24.1.min.js\"></script>                <div id=\"928a63c2-85a3-42d9-b7b2-332b82737746\" class=\"plotly-graph-div\" style=\"height:525px; width:100%;\"></div>            <script type=\"text/javascript\">                                    window.PLOTLYENV=window.PLOTLYENV || {};                                    if (document.getElementById(\"928a63c2-85a3-42d9-b7b2-332b82737746\")) {                    Plotly.newPlot(                        \"928a63c2-85a3-42d9-b7b2-332b82737746\",                        [{\"fill\":\"tozeroy\",\"fillcolor\":\"Pink\",\"line\":{\"color\":\"Blue\",\"dash\":\"dash\"},\"x\":[0.021275636740179838,0.022791578867321194,0.0251870430030457,0.02823908491041566,0.031758973619850674,0.035608237746037226,0.03969116375912027,0.043942667814325445,0.04831827099417381,0.052787121973897,0.05732741798393883,0.061923445687246,0.06656366171807297,0.07123943188328877,0.07594418941336538,0.08067286290790737,0.08542148071889133,0.09018689252097364,0.09496657020475546,0.09975846327806144,0.1045608923575614,0.109372469629195,0.11419203877632213,0.11901862902562084,0.12385141963185362,0.12868971219198544,0.13353290880543883,0.13838049471526154,0.143232024440046,0.1480871105051569,0.15294541431214512,0.15780663863102967,0.16267052138144386,0.16753683048406365,0.17240535962371956,0.17727592484747287,0.18214836181741573,0.18702383845748866,0.19189930038716319,0.19677703631445906,0.20165537859727536,0.20653502939596405,0.21141591666307658,0.21629796673889415,0.22118110086567752,0.22606523984100593,0.23095031049627843,0.2358362456379529,0.24072297886388191,0.2456104429108939,0.2504985802447958,0.2553873559285657,0.26027674546295515,0.26516656040959813,0.2700574840183546,0.2749482122517012,0.27984009213186384,0.28473229613942586,0.28962497394194753,0.2945180891521792,0.2994115811633808,0.30430541297417657,0.30919957276205695,0.3140940820963626,0.31898900220134735,0.3238843541943152,0.32877906287960934,0.3336748641779502,0.33857119051844514,0.34346710132671426,0.3483637167675369,0.35326099321540805,0.35815791440441425,0.36305506087393724,0.3679525078341156,0.3728502830529743,0.3777483697553667,0.3826466852610793,0.38754515315154614,0.39244301823445776,0.39734168404483955,0.4022405180389787,0.4071395145238402,0.4120386679625904,0.4169379734261817,0.4218374255873889,0.42673701823812893,0.43163674495423165,0.4365365999438039,0.4414365782112752,0.4463366753229918,0.4512368872957672,0.4561372104715864,0.4610376416093861,0.46593817798189235,0.4708388172664005,0.47573955747731306,0.480640396404572,0.48554133149912393,0.49044235990287677,0.495343478827619,0.5002446855270771,0.5051459771913657,0.5100473508444334,0.5149488034326513,0.5198503319524556,0.5247519335273653,0.529653605747232,0.5345553464495965,0.5394571540226253,0.5443590270359286,0.5492609642794628,0.5541629644216007,0.5590650259917627,0.5639671473713279,0.5688693269242275,0.5737715630237872,0.5786738541680941,0.5835761990055502,0.5884785963263792,0.5933810449110292,0.5982835437365726,0.603186091659259,0.6080886877558845,0.6129913309515843,0.6178940202734643,0.622796754798812,0.6276995335767239,0.6326023557029524,0.6375052202538873,0.6424081263303779,0.6473110730656848,0.6522140595563414,0.6571170848911314,0.6620201481951533,0.6669232485877543,0.6718263850938685,0.6767295568839884,0.6816327630797647,0.6865360027955685,0.6914392751961691,0.696342579462745,0.7012459148241432,0.7061492805882559,0.7110526759276566,0.7159561002216357,0.7208595528229622,0.725763033038954,0.7306665402754836,0.7355700740135789],\"y\":[0.01,0.02,0.03,0.04,0.05,0.060000000000000005,0.06999999999999999,0.08,0.09,0.09999999999999999,0.11,0.12,0.13,0.14,0.15000000000000002,0.16,0.17,0.18000000000000002,0.19,0.2,0.21000000000000002,0.22,0.23,0.24000000000000002,0.25,0.26,0.27,0.28,0.29000000000000004,0.3,0.31,0.32,0.33,0.34,0.35000000000000003,0.36000000000000004,0.37,0.38,0.39,0.4,0.41000000000000003,0.42000000000000004,0.43,0.44,0.45,0.46,0.47000000000000003,0.48000000000000004,0.49,0.5,0.51,0.52,0.53,0.54,0.55,0.56,0.5700000000000001,0.5800000000000001,0.59,0.6,0.61,0.62,0.63,0.64,0.65,0.66,0.67,0.68,0.6900000000000001,0.7000000000000001,0.7100000000000001,0.72,0.73,0.74,0.75,0.76,0.77,0.78,0.79,0.8,0.81,0.8200000000000001,0.8300000000000001,0.8400000000000001,0.85,0.86,0.87,0.88,0.89,0.9,0.91,0.92,0.93,0.9400000000000001,0.9500000000000001,0.9600000000000001,0.97,0.98,0.99,1.0,1.01,1.02,1.03,1.04,1.05,1.06,1.07,1.08,1.09,1.1,1.11,1.12,1.1300000000000001,1.1400000000000001,1.1500000000000001,1.1600000000000001,1.17,1.18,1.19,1.2,1.21,1.22,1.23,1.24,1.25,1.26,1.27,1.28,1.29,1.3,1.31,1.32,1.33,1.34,1.35,1.36,1.37,1.3800000000000001,1.3900000000000001,1.4000000000000001,1.4100000000000001,1.42,1.43,1.44,1.45,1.46,1.47,1.48,1.49,1.5],\"type\":\"scatter\"},{\"line\":{\"color\":\"Blue\",\"width\":3},\"x\":[0.021275636740179838,0.022791578867321194,0.0251870430030457,0.02823908491041566,0.031758973619850674,0.035608237746037226,0.03969116375912027,0.043942667814325445,0.04831827099417381,0.052787121973897,0.05732741798393883,0.061923445687246,0.06656366171807297,0.07123943188328877,0.07594418941336538,0.08067286290790737,0.08542148071889133,0.09018689252097364,0.09496657020475546,0.09975846327806144,0.1045608923575614,0.109372469629195,0.11419203877632213,0.11901862902562084,0.12385141963185362,0.12868971219198544,0.13353290880543883,0.13838049471526154,0.143232024440046,0.1480871105051569,0.15294541431214512,0.15780663863102967,0.16267052138144386,0.16753683048406365,0.17240535962371956,0.17727592484747287,0.18214836181741573,0.18702383845748866,0.19189930038716319,0.19677703631445906,0.20165537859727536,0.20653502939596405,0.21141591666307658,0.21629796673889415,0.22118110086567752,0.22606523984100593,0.23095031049627843,0.2358362456379529,0.24072297886388191,0.2456104429108939,0.2504985802447958,0.2553873559285657,0.26027674546295515,0.26516656040959813,0.2700574840183546,0.2749482122517012,0.27984009213186384,0.28473229613942586,0.28962497394194753,0.2945180891521792,0.2994115811633808,0.30430541297417657,0.30919957276205695,0.3140940820963626,0.31898900220134735,0.3238843541943152,0.32877906287960934,0.3336748641779502,0.33857119051844514,0.34346710132671426,0.3483637167675369,0.35326099321540805,0.35815791440441425,0.36305506087393724,0.3679525078341156,0.3728502830529743,0.3777483697553667,0.3826466852610793,0.38754515315154614,0.39244301823445776,0.39734168404483955,0.4022405180389787,0.4071395145238402,0.4120386679625904,0.4169379734261817,0.4218374255873889,0.42673701823812893,0.43163674495423165,0.4365365999438039,0.4414365782112752,0.4463366753229918,0.4512368872957672,0.4561372104715864,0.4610376416093861,0.46593817798189235,0.4708388172664005,0.47573955747731306,0.480640396404572,0.48554133149912393,0.49044235990287677,0.495343478827619,0.5002446855270771,0.5051459771913657,0.5100473508444334,0.5149488034326513,0.5198503319524556,0.5247519335273653,0.529653605747232,0.5345553464495965,0.5394571540226253,0.5443590270359286,0.5492609642794628,0.5541629644216007,0.5590650259917627,0.5639671473713279,0.5688693269242275,0.5737715630237872,0.5786738541680941,0.5835761990055502,0.5884785963263792,0.5933810449110292,0.5982835437365726,0.603186091659259,0.6080886877558845,0.6129913309515843,0.6178940202734643,0.622796754798812,0.6276995335767239,0.6326023557029524,0.6375052202538873,0.6424081263303779,0.6473110730656848,0.6522140595563414,0.6571170848911314,0.6620201481951533,0.6669232485877543,0.6718263850938685,0.6767295568839884,0.6816327630797647,0.6865360027955685,0.6914392751961691,0.696342579462745,0.7012459148241432,0.7061492805882559,0.7110526759276566,0.7159561002216357,0.7208595528229622,0.725763033038954,0.7306665402754836,0.7355700740135789],\"y\":[0.01,0.02,0.03,0.04,0.05,0.060000000000000005,0.06999999999999999,0.08,0.09,0.09999999999999999,0.11,0.12,0.13,0.14,0.15000000000000002,0.16,0.17,0.18000000000000002,0.19,0.2,0.21000000000000002,0.22,0.23,0.24000000000000002,0.25,0.26,0.27,0.28,0.29000000000000004,0.3,0.31,0.32,0.33,0.34,0.35000000000000003,0.36000000000000004,0.37,0.38,0.39,0.4,0.41000000000000003,0.42000000000000004,0.43,0.44,0.45,0.46,0.47000000000000003,0.48000000000000004,0.49,0.5,0.51,0.52,0.53,0.54,0.55,0.56,0.5700000000000001,0.5800000000000001,0.59,0.6,0.61,0.62,0.63,0.64,0.65,0.66,0.67,0.68,0.6900000000000001,0.7000000000000001,0.7100000000000001,0.72,0.73,0.74,0.75,0.76,0.77,0.78,0.79,0.8,0.81,0.8200000000000001,0.8300000000000001,0.8400000000000001,0.85,0.86,0.87,0.88,0.89,0.9,0.91,0.92,0.93,0.9400000000000001,0.9500000000000001,0.9600000000000001,0.97,0.98,0.99,1.0,1.01,1.02,1.03,1.04,1.05,1.06,1.07,1.08,1.09,1.1,1.11,1.12,1.1300000000000001,1.1400000000000001,1.1500000000000001,1.1600000000000001,1.17,1.18,1.19,1.2,1.21,1.22,1.23,1.24,1.25,1.26,1.27,1.28,1.29,1.3,1.31,1.32,1.33,1.34,1.35,1.36,1.37,1.3800000000000001,1.3900000000000001,1.4000000000000001,1.4100000000000001,1.42,1.43,1.44,1.45,1.46,1.47,1.48,1.49,1.5],\"type\":\"scatter\"},{\"marker\":{\"color\":\"Red\",\"line\":{\"color\":\"Black\",\"width\":2},\"size\":10},\"x\":[0.020831122337735847],\"y\":[0.0011672140139034502],\"type\":\"scatter\"}],                        {\"template\":{\"data\":{\"histogram2dcontour\":[{\"type\":\"histogram2dcontour\",\"colorbar\":{\"outlinewidth\":0,\"ticks\":\"\"},\"colorscale\":[[0.0,\"#0d0887\"],[0.1111111111111111,\"#46039f\"],[0.2222222222222222,\"#7201a8\"],[0.3333333333333333,\"#9c179e\"],[0.4444444444444444,\"#bd3786\"],[0.5555555555555556,\"#d8576b\"],[0.6666666666666666,\"#ed7953\"],[0.7777777777777778,\"#fb9f3a\"],[0.8888888888888888,\"#fdca26\"],[1.0,\"#f0f921\"]]}],\"choropleth\":[{\"type\":\"choropleth\",\"colorbar\":{\"outlinewidth\":0,\"ticks\":\"\"}}],\"histogram2d\":[{\"type\":\"histogram2d\",\"colorbar\":{\"outlinewidth\":0,\"ticks\":\"\"},\"colorscale\":[[0.0,\"#0d0887\"],[0.1111111111111111,\"#46039f\"],[0.2222222222222222,\"#7201a8\"],[0.3333333333333333,\"#9c179e\"],[0.4444444444444444,\"#bd3786\"],[0.5555555555555556,\"#d8576b\"],[0.6666666666666666,\"#ed7953\"],[0.7777777777777778,\"#fb9f3a\"],[0.8888888888888888,\"#fdca26\"],[1.0,\"#f0f921\"]]}],\"heatmap\":[{\"type\":\"heatmap\",\"colorbar\":{\"outlinewidth\":0,\"ticks\":\"\"},\"colorscale\":[[0.0,\"#0d0887\"],[0.1111111111111111,\"#46039f\"],[0.2222222222222222,\"#7201a8\"],[0.3333333333333333,\"#9c179e\"],[0.4444444444444444,\"#bd3786\"],[0.5555555555555556,\"#d8576b\"],[0.6666666666666666,\"#ed7953\"],[0.7777777777777778,\"#fb9f3a\"],[0.8888888888888888,\"#fdca26\"],[1.0,\"#f0f921\"]]}],\"heatmapgl\":[{\"type\":\"heatmapgl\",\"colorbar\":{\"outlinewidth\":0,\"ticks\":\"\"},\"colorscale\":[[0.0,\"#0d0887\"],[0.1111111111111111,\"#46039f\"],[0.2222222222222222,\"#7201a8\"],[0.3333333333333333,\"#9c179e\"],[0.4444444444444444,\"#bd3786\"],[0.5555555555555556,\"#d8576b\"],[0.6666666666666666,\"#ed7953\"],[0.7777777777777778,\"#fb9f3a\"],[0.8888888888888888,\"#fdca26\"],[1.0,\"#f0f921\"]]}],\"contourcarpet\":[{\"type\":\"contourcarpet\",\"colorbar\":{\"outlinewidth\":0,\"ticks\":\"\"}}],\"contour\":[{\"type\":\"contour\",\"colorbar\":{\"outlinewidth\":0,\"ticks\":\"\"},\"colorscale\":[[0.0,\"#0d0887\"],[0.1111111111111111,\"#46039f\"],[0.2222222222222222,\"#7201a8\"],[0.3333333333333333,\"#9c179e\"],[0.4444444444444444,\"#bd3786\"],[0.5555555555555556,\"#d8576b\"],[0.6666666666666666,\"#ed7953\"],[0.7777777777777778,\"#fb9f3a\"],[0.8888888888888888,\"#fdca26\"],[1.0,\"#f0f921\"]]}],\"surface\":[{\"type\":\"surface\",\"colorbar\":{\"outlinewidth\":0,\"ticks\":\"\"},\"colorscale\":[[0.0,\"#0d0887\"],[0.1111111111111111,\"#46039f\"],[0.2222222222222222,\"#7201a8\"],[0.3333333333333333,\"#9c179e\"],[0.4444444444444444,\"#bd3786\"],[0.5555555555555556,\"#d8576b\"],[0.6666666666666666,\"#ed7953\"],[0.7777777777777778,\"#fb9f3a\"],[0.8888888888888888,\"#fdca26\"],[1.0,\"#f0f921\"]]}],\"mesh3d\":[{\"type\":\"mesh3d\",\"colorbar\":{\"outlinewidth\":0,\"ticks\":\"\"}}],\"scatter\":[{\"fillpattern\":{\"fillmode\":\"overlay\",\"size\":10,\"solidity\":0.2},\"type\":\"scatter\"}],\"parcoords\":[{\"type\":\"parcoords\",\"line\":{\"colorbar\":{\"outlinewidth\":0,\"ticks\":\"\"}}}],\"scatterpolargl\":[{\"type\":\"scatterpolargl\",\"marker\":{\"colorbar\":{\"outlinewidth\":0,\"ticks\":\"\"}}}],\"bar\":[{\"error_x\":{\"color\":\"#2a3f5f\"},\"error_y\":{\"color\":\"#2a3f5f\"},\"marker\":{\"line\":{\"color\":\"#E5ECF6\",\"width\":0.5},\"pattern\":{\"fillmode\":\"overlay\",\"size\":10,\"solidity\":0.2}},\"type\":\"bar\"}],\"scattergeo\":[{\"type\":\"scattergeo\",\"marker\":{\"colorbar\":{\"outlinewidth\":0,\"ticks\":\"\"}}}],\"scatterpolar\":[{\"type\":\"scatterpolar\",\"marker\":{\"colorbar\":{\"outlinewidth\":0,\"ticks\":\"\"}}}],\"histogram\":[{\"marker\":{\"pattern\":{\"fillmode\":\"overlay\",\"size\":10,\"solidity\":0.2}},\"type\":\"histogram\"}],\"scattergl\":[{\"type\":\"scattergl\",\"marker\":{\"colorbar\":{\"outlinewidth\":0,\"ticks\":\"\"}}}],\"scatter3d\":[{\"type\":\"scatter3d\",\"line\":{\"colorbar\":{\"outlinewidth\":0,\"ticks\":\"\"}},\"marker\":{\"colorbar\":{\"outlinewidth\":0,\"ticks\":\"\"}}}],\"scattermapbox\":[{\"type\":\"scattermapbox\",\"marker\":{\"colorbar\":{\"outlinewidth\":0,\"ticks\":\"\"}}}],\"scatterternary\":[{\"type\":\"scatterternary\",\"marker\":{\"colorbar\":{\"outlinewidth\":0,\"ticks\":\"\"}}}],\"scattercarpet\":[{\"type\":\"scattercarpet\",\"marker\":{\"colorbar\":{\"outlinewidth\":0,\"ticks\":\"\"}}}],\"carpet\":[{\"aaxis\":{\"endlinecolor\":\"#2a3f5f\",\"gridcolor\":\"white\",\"linecolor\":\"white\",\"minorgridcolor\":\"white\",\"startlinecolor\":\"#2a3f5f\"},\"baxis\":{\"endlinecolor\":\"#2a3f5f\",\"gridcolor\":\"white\",\"linecolor\":\"white\",\"minorgridcolor\":\"white\",\"startlinecolor\":\"#2a3f5f\"},\"type\":\"carpet\"}],\"table\":[{\"cells\":{\"fill\":{\"color\":\"#EBF0F8\"},\"line\":{\"color\":\"white\"}},\"header\":{\"fill\":{\"color\":\"#C8D4E3\"},\"line\":{\"color\":\"white\"}},\"type\":\"table\"}],\"barpolar\":[{\"marker\":{\"line\":{\"color\":\"#E5ECF6\",\"width\":0.5},\"pattern\":{\"fillmode\":\"overlay\",\"size\":10,\"solidity\":0.2}},\"type\":\"barpolar\"}],\"pie\":[{\"automargin\":true,\"type\":\"pie\"}]},\"layout\":{\"autotypenumbers\":\"strict\",\"colorway\":[\"#636efa\",\"#EF553B\",\"#00cc96\",\"#ab63fa\",\"#FFA15A\",\"#19d3f3\",\"#FF6692\",\"#B6E880\",\"#FF97FF\",\"#FECB52\"],\"font\":{\"color\":\"#2a3f5f\"},\"hovermode\":\"closest\",\"hoverlabel\":{\"align\":\"left\"},\"paper_bgcolor\":\"white\",\"plot_bgcolor\":\"#E5ECF6\",\"polar\":{\"bgcolor\":\"#E5ECF6\",\"angularaxis\":{\"gridcolor\":\"white\",\"linecolor\":\"white\",\"ticks\":\"\"},\"radialaxis\":{\"gridcolor\":\"white\",\"linecolor\":\"white\",\"ticks\":\"\"}},\"ternary\":{\"bgcolor\":\"#E5ECF6\",\"aaxis\":{\"gridcolor\":\"white\",\"linecolor\":\"white\",\"ticks\":\"\"},\"baxis\":{\"gridcolor\":\"white\",\"linecolor\":\"white\",\"ticks\":\"\"},\"caxis\":{\"gridcolor\":\"white\",\"linecolor\":\"white\",\"ticks\":\"\"}},\"coloraxis\":{\"colorbar\":{\"outlinewidth\":0,\"ticks\":\"\"}},\"colorscale\":{\"sequential\":[[0.0,\"#0d0887\"],[0.1111111111111111,\"#46039f\"],[0.2222222222222222,\"#7201a8\"],[0.3333333333333333,\"#9c179e\"],[0.4444444444444444,\"#bd3786\"],[0.5555555555555556,\"#d8576b\"],[0.6666666666666666,\"#ed7953\"],[0.7777777777777778,\"#fb9f3a\"],[0.8888888888888888,\"#fdca26\"],[1.0,\"#f0f921\"]],\"sequentialminus\":[[0.0,\"#0d0887\"],[0.1111111111111111,\"#46039f\"],[0.2222222222222222,\"#7201a8\"],[0.3333333333333333,\"#9c179e\"],[0.4444444444444444,\"#bd3786\"],[0.5555555555555556,\"#d8576b\"],[0.6666666666666666,\"#ed7953\"],[0.7777777777777778,\"#fb9f3a\"],[0.8888888888888888,\"#fdca26\"],[1.0,\"#f0f921\"]],\"diverging\":[[0,\"#8e0152\"],[0.1,\"#c51b7d\"],[0.2,\"#de77ae\"],[0.3,\"#f1b6da\"],[0.4,\"#fde0ef\"],[0.5,\"#f7f7f7\"],[0.6,\"#e6f5d0\"],[0.7,\"#b8e186\"],[0.8,\"#7fbc41\"],[0.9,\"#4d9221\"],[1,\"#276419\"]]},\"xaxis\":{\"gridcolor\":\"white\",\"linecolor\":\"white\",\"ticks\":\"\",\"title\":{\"standoff\":15},\"zerolinecolor\":\"white\",\"automargin\":true,\"zerolinewidth\":2},\"yaxis\":{\"gridcolor\":\"white\",\"linecolor\":\"white\",\"ticks\":\"\",\"title\":{\"standoff\":15},\"zerolinecolor\":\"white\",\"automargin\":true,\"zerolinewidth\":2},\"scene\":{\"xaxis\":{\"backgroundcolor\":\"#E5ECF6\",\"gridcolor\":\"white\",\"linecolor\":\"white\",\"showbackground\":true,\"ticks\":\"\",\"zerolinecolor\":\"white\",\"gridwidth\":2},\"yaxis\":{\"backgroundcolor\":\"#E5ECF6\",\"gridcolor\":\"white\",\"linecolor\":\"white\",\"showbackground\":true,\"ticks\":\"\",\"zerolinecolor\":\"white\",\"gridwidth\":2},\"zaxis\":{\"backgroundcolor\":\"#E5ECF6\",\"gridcolor\":\"white\",\"linecolor\":\"white\",\"showbackground\":true,\"ticks\":\"\",\"zerolinecolor\":\"white\",\"gridwidth\":2}},\"shapedefaults\":{\"line\":{\"color\":\"#2a3f5f\"}},\"annotationdefaults\":{\"arrowcolor\":\"#2a3f5f\",\"arrowhead\":0,\"arrowwidth\":1},\"geo\":{\"bgcolor\":\"white\",\"landcolor\":\"#E5ECF6\",\"subunitcolor\":\"white\",\"showland\":true,\"showlakes\":true,\"lakecolor\":\"white\"},\"title\":{\"x\":0.05},\"mapbox\":{\"style\":\"light\"}}},\"xaxis\":{\"title\":{\"text\":\"\\\\$\\\\sigma$\"},\"range\":[-0.01,0.7455700740135789],\"zerolinecolor\":\"Black\"},\"yaxis\":{\"title\":{\"text\":\"$\\\\mu$\"},\"zerolinecolor\":\"Black\"},\"title\":{\"font\":{\"size\":25,\"color\":\"Navy\"},\"text\":\"Efficient frontier\",\"x\":0.5,\"y\":0.87},\"showlegend\":false},                        {\"responsive\": true}                    ).then(function(){\n",
              "                            \n",
              "var gd = document.getElementById('928a63c2-85a3-42d9-b7b2-332b82737746');\n",
              "var x = new MutationObserver(function (mutations, observer) {{\n",
              "        var display = window.getComputedStyle(gd).display;\n",
              "        if (!display || display === 'none') {{\n",
              "            console.log([gd, 'removed!']);\n",
              "            Plotly.purge(gd);\n",
              "            observer.disconnect();\n",
              "        }}\n",
              "}});\n",
              "\n",
              "// Listen for the removal of the full notebook cells\n",
              "var notebookContainer = gd.closest('#notebook-container');\n",
              "if (notebookContainer) {{\n",
              "    x.observe(notebookContainer, {childList: true});\n",
              "}}\n",
              "\n",
              "// Listen for the clearing of the current output cell\n",
              "var outputEl = gd.closest('.output');\n",
              "if (outputEl) {{\n",
              "    x.observe(outputEl, {childList: true});\n",
              "}}\n",
              "\n",
              "                        })                };                            </script>        </div>\n",
              "</body>\n",
              "</html>"
            ]
          },
          "metadata": {}
        }
      ]
    },
    {
      "cell_type": "code",
      "source": [
        "#Optimization for Sharpe's Ratio\n",
        "crypto2opt = maxSharpe(rets2,0.02,com=True)\n",
        "crypto2opt"
      ],
      "metadata": {
        "colab": {
          "base_uri": "https://localhost:8080/"
        },
        "id": "DsZNXQca1dc8",
        "outputId": "a63fe89f-4b7b-4dce-f47b-8a412d189d89"
      },
      "execution_count": 88,
      "outputs": [
        {
          "output_type": "execute_result",
          "data": {
            "text/plain": [
              "{'w': array([ 0.21997925,  0.22546477, -0.4986552 ,  0.21049731,  1.        ,\n",
              "         0.13197398, -0.64677838, -0.39991902,  1.        , -0.24256271]),\n",
              " 'er': 1.0040541572092454,\n",
              " 'vol': 0.9565747323394465,\n",
              " 'sharpe': 1.0287268981092506}"
            ]
          },
          "metadata": {},
          "execution_count": 88
        }
      ]
    },
    {
      "cell_type": "code",
      "source": [
        "#Test for Efficient frontier\n",
        "\n",
        "#initial Wealth\n",
        "wealth2 = 100_000\n",
        "\n",
        "##Determined amount invested in each stock\n",
        "si2=crypto2opt['w']*wealth2\n",
        "\n",
        "#Number of stocks\n",
        "n2=si2/cryptoprice2.iloc[0]\n",
        "n2"
      ],
      "metadata": {
        "colab": {
          "base_uri": "https://localhost:8080/"
        },
        "id": "2W5Vbif91o5x",
        "outputId": "847dd6b4-9a77-4dc4-d42c-5b8fd1b94351"
      },
      "execution_count": 89,
      "outputs": [
        {
          "output_type": "execute_result",
          "data": {
            "text/plain": [
              "AAVE-USD     4.974718e+01\n",
              "DOGE-USD     6.162429e+04\n",
              "FIL-USD     -2.721117e+02\n",
              "MANA-USD     1.602469e+04\n",
              "MATIC-USD    2.291229e+05\n",
              "SHIB-USD     1.319740e+10\n",
              "SUSHI-USD   -3.964127e+03\n",
              "THETA-USD   -2.799989e+03\n",
              "USDC-USD     9.989681e+04\n",
              "VET-USD     -1.018790e+05\n",
              "Name: 2021-04-16 00:00:00, dtype: float64"
            ]
          },
          "metadata": {},
          "execution_count": 89
        }
      ]
    },
    {
      "cell_type": "code",
      "source": [
        "#Value of portfolio each point in the time\n",
        "ST2 = rets2@n2\n",
        "ST2"
      ],
      "metadata": {
        "colab": {
          "base_uri": "https://localhost:8080/"
        },
        "id": "GwIunczd15g_",
        "outputId": "3f8ad93f-4e52-43b4-c8c1-1e07d5e30e68"
      },
      "execution_count": 90,
      "outputs": [
        {
          "output_type": "execute_result",
          "data": {
            "text/plain": [
              "Date\n",
              "2021-04-17    1.319738e+10\n",
              "2021-04-18   -3.070126e+04\n",
              "2021-04-19    1.319740e+10\n",
              "2021-04-20   -6.598712e+09\n",
              "2021-04-21   -6.598680e+09\n",
              "                  ...     \n",
              "2023-09-28    5.071748e+03\n",
              "2023-09-29    3.591813e+03\n",
              "2023-09-30    6.395496e+02\n",
              "2023-10-01    1.885359e+09\n",
              "2023-10-02   -1.199076e+09\n",
              "Length: 899, dtype: float64"
            ]
          },
          "metadata": {},
          "execution_count": 90
        }
      ]
    },
    {
      "cell_type": "code",
      "source": [
        "#preparing data\n",
        "crypto2return2 = cryptoprice2.iloc[:,:10].pct_change()\n",
        "crypto2return2.dropna(inplace=True)\n",
        "\n",
        "#initial wealth\n",
        "v2 = 100_000\n",
        "\n",
        "#Optimal weights\n",
        "\n",
        "crypto2mvp = mvp(crypto2return2)['w']\n",
        "crypto2P40 = targetP(crypto2return2,0.4)['w']"
      ],
      "metadata": {
        "id": "b1Qyqoji1_Qv"
      },
      "execution_count": 91,
      "outputs": []
    },
    {
      "cell_type": "code",
      "source": [
        "crypto2mvp"
      ],
      "metadata": {
        "colab": {
          "base_uri": "https://localhost:8080/"
        },
        "id": "UkQG0Elc2beG",
        "outputId": "93ed58c9-eed8-48a3-fedd-35616dab3ded"
      },
      "execution_count": 92,
      "outputs": [
        {
          "output_type": "execute_result",
          "data": {
            "text/plain": [
              "array([-1.43418108e-03,  2.52039930e-03, -4.05331555e-03, -3.63670504e-04,\n",
              "        3.67714911e-04, -2.35282362e-04,  2.30585892e-05, -1.18765199e-03,\n",
              "        1.00012806e+00,  4.23487137e-03])"
            ]
          },
          "metadata": {},
          "execution_count": 92
        }
      ]
    },
    {
      "cell_type": "code",
      "source": [
        "crypto2P40"
      ],
      "metadata": {
        "colab": {
          "base_uri": "https://localhost:8080/"
        },
        "id": "r0dLFTEb2c69",
        "outputId": "222878cf-74d4-4547-dced-f5a0141e9d64"
      },
      "execution_count": 93,
      "outputs": [
        {
          "output_type": "execute_result",
          "data": {
            "text/plain": [
              "array([ 0.03984587,  0.04150497, -0.12493026,  0.06250163,  0.1717858 ,\n",
              "        0.03230376, -0.09356861, -0.09984137,  1.03728894, -0.06689073])"
            ]
          },
          "metadata": {},
          "execution_count": 93
        }
      ]
    },
    {
      "cell_type": "code",
      "source": [
        "#Vector of money invested into each asset\n",
        "vcrypto2mvp = crypto2mvp*v2\n",
        "vcrypto2P40 = crypto2P40*v2"
      ],
      "metadata": {
        "id": "DTmzqLcC2gA-"
      },
      "execution_count": 94,
      "outputs": []
    },
    {
      "cell_type": "code",
      "source": [
        "vcrypto2mvp"
      ],
      "metadata": {
        "colab": {
          "base_uri": "https://localhost:8080/"
        },
        "id": "5tq5g_S72sh8",
        "outputId": "7815de3d-19ce-447b-9238-c345833983c7"
      },
      "execution_count": 95,
      "outputs": [
        {
          "output_type": "execute_result",
          "data": {
            "text/plain": [
              "array([-1.43418108e+02,  2.52039930e+02, -4.05331555e+02, -3.63670504e+01,\n",
              "        3.67714911e+01, -2.35282362e+01,  2.30585892e+00, -1.18765199e+02,\n",
              "        1.00012806e+05,  4.23487137e+02])"
            ]
          },
          "metadata": {},
          "execution_count": 95
        }
      ]
    },
    {
      "cell_type": "code",
      "source": [
        "vcrypto2P40"
      ],
      "metadata": {
        "colab": {
          "base_uri": "https://localhost:8080/"
        },
        "id": "dyDE75br2u-M",
        "outputId": "0b2af5ce-ed21-438b-8c32-0539e1480109"
      },
      "execution_count": 96,
      "outputs": [
        {
          "output_type": "execute_result",
          "data": {
            "text/plain": [
              "array([  3984.5869187 ,   4150.496789  , -12493.02550243,   6250.16254341,\n",
              "        17178.58035399,   3230.37638748,  -9356.86088043,  -9984.13747173,\n",
              "       103728.89372421,  -6689.07286221])"
            ]
          },
          "metadata": {},
          "execution_count": 96
        }
      ]
    },
    {
      "cell_type": "code",
      "source": [
        "#Vector of innitial stock prices\n",
        "crypto2p0 = cryptoprice2.iloc[0,:10]\n",
        "crypto2p0"
      ],
      "metadata": {
        "colab": {
          "base_uri": "https://localhost:8080/"
        },
        "id": "1ITV7o2p2yX8",
        "outputId": "d630b8fe-38fa-4908-88af-1b1e3c7c3392"
      },
      "execution_count": 97,
      "outputs": [
        {
          "output_type": "execute_result",
          "data": {
            "text/plain": [
              "AAVE-USD     4.421944e+02\n",
              "DOGE-USD     3.658700e-01\n",
              "FIL-USD      1.832538e+02\n",
              "MANA-USD     1.313581e+00\n",
              "MATIC-USD    4.364470e-01\n",
              "SHIB-USD     1.000000e-06\n",
              "SUSHI-USD    1.631578e+01\n",
              "THETA-USD    1.428288e+01\n",
              "USDC-USD     1.001033e+00\n",
              "VET-USD      2.380890e-01\n",
              "Name: 2021-04-16 00:00:00, dtype: float64"
            ]
          },
          "metadata": {},
          "execution_count": 97
        }
      ]
    },
    {
      "cell_type": "code",
      "source": [
        "#Number of shares\n",
        "ncrypto2mvp2 = vcrypto2mvp/crypto2p0\n",
        "ncrypto2P40 = vcrypto2P40/crypto2p0"
      ],
      "metadata": {
        "id": "ABNYKr3L27k6"
      },
      "execution_count": 117,
      "outputs": []
    },
    {
      "cell_type": "code",
      "source": [
        "ncrypto2mvp2"
      ],
      "metadata": {
        "colab": {
          "base_uri": "https://localhost:8080/"
        },
        "id": "vx62fB4g3-AQ",
        "outputId": "9ed6431e-f04e-48eb-87d9-37c82a32915a"
      },
      "execution_count": 118,
      "outputs": [
        {
          "output_type": "execute_result",
          "data": {
            "text/plain": [
              "AAVE-USD    -3.243327e-01\n",
              "DOGE-USD     6.888784e+02\n",
              "FIL-USD     -2.211858e+00\n",
              "MANA-USD    -2.768543e+01\n",
              "MATIC-USD    8.425191e+01\n",
              "SHIB-USD    -2.352824e+07\n",
              "SUSHI-USD    1.413269e-01\n",
              "THETA-USD   -8.315214e+00\n",
              "USDC-USD     9.990960e+04\n",
              "VET-USD      1.778693e+03\n",
              "Name: 2021-04-16 00:00:00, dtype: float64"
            ]
          },
          "metadata": {},
          "execution_count": 118
        }
      ]
    },
    {
      "cell_type": "code",
      "source": [
        "ncrypto2P40"
      ],
      "metadata": {
        "colab": {
          "base_uri": "https://localhost:8080/"
        },
        "id": "0dQdSqqy4Az0",
        "outputId": "1d9895d8-b002-44b2-94b1-12d56de0fd0e"
      },
      "execution_count": 119,
      "outputs": [
        {
          "output_type": "execute_result",
          "data": {
            "text/plain": [
              "AAVE-USD     9.010939e+00\n",
              "DOGE-USD     1.134418e+04\n",
              "FIL-USD     -6.817333e+01\n",
              "MANA-USD     4.758110e+03\n",
              "MATIC-USD    3.936006e+04\n",
              "SHIB-USD     3.230376e+09\n",
              "SUSHI-USD   -5.734853e+02\n",
              "THETA-USD   -6.990283e+02\n",
              "USDC-USD     1.036219e+05\n",
              "VET-USD     -2.809484e+04\n",
              "Name: 2021-04-16 00:00:00, dtype: float64"
            ]
          },
          "metadata": {},
          "execution_count": 119
        }
      ]
    },
    {
      "cell_type": "code",
      "source": [
        "#the number of shares that we need to hold over time, we can calculate the value of our portfolio on each date in testing sample simply by multiplying previous two\n",
        "Vcrypto2mvp = cryptoprice2.iloc[:,:10]@ncrypto2mvp2\n",
        "Vcrypto2P40 = cryptoprice2.iloc[:,:10]@ncrypto2P40"
      ],
      "metadata": {
        "id": "Py4V5zKh4D6i"
      },
      "execution_count": 120,
      "outputs": []
    },
    {
      "cell_type": "code",
      "source": [
        "figst1 = go.Figure()\n",
        "\n",
        "figst1.add_trace(\n",
        "    go.Scatter(x=cryptoprice2.index,\n",
        "               y=Vcrypto2mvp,\n",
        "               line=dict(color='Blue',width=3),\n",
        "               name='MVP Portfolio')\n",
        ")\n",
        "figst1.add_trace(\n",
        "    go.Scatter(x=cryptoprice2.index,\n",
        "               y=Vcrypto2P40,\n",
        "               line=dict(color='Crimson',width=3),\n",
        "               name='Target 40% pa')\n",
        ")\n",
        "figst1.update_layout(\n",
        "    xaxis=dict(title_text='Date',zerolinecolor='Black'),\n",
        "    yaxis=dict(title_text='Dollars',zerolinecolor='Black'),\n",
        "    title=dict(text='Comparing 2 static strategies',\n",
        "               x=0.5,\n",
        "               y=0.87,\n",
        "               font=dict(size=25,color='Navy'))\n",
        ")\n",
        "figst1.show()"
      ],
      "metadata": {
        "colab": {
          "base_uri": "https://localhost:8080/",
          "height": 542
        },
        "id": "EYQGIj6m4V6T",
        "outputId": "5f597467-6843-4eb6-c121-0e98d6b01c2c"
      },
      "execution_count": 122,
      "outputs": [
        {
          "output_type": "display_data",
          "data": {
            "text/html": [
              "<html>\n",
              "<head><meta charset=\"utf-8\" /></head>\n",
              "<body>\n",
              "    <div>            <script src=\"https://cdnjs.cloudflare.com/ajax/libs/mathjax/2.7.5/MathJax.js?config=TeX-AMS-MML_SVG\"></script><script type=\"text/javascript\">if (window.MathJax && window.MathJax.Hub && window.MathJax.Hub.Config) {window.MathJax.Hub.Config({SVG: {font: \"STIX-Web\"}});}</script>                <script type=\"text/javascript\">window.PlotlyConfig = {MathJaxConfig: 'local'};</script>\n",
              "        <script charset=\"utf-8\" src=\"https://cdn.plot.ly/plotly-2.24.1.min.js\"></script>                <div id=\"28b1b374-a676-4fa7-9e26-69a682e8718a\" class=\"plotly-graph-div\" style=\"height:525px; width:100%;\"></div>            <script type=\"text/javascript\">                                    window.PLOTLYENV=window.PLOTLYENV || {};                                    if (document.getElementById(\"28b1b374-a676-4fa7-9e26-69a682e8718a\")) {                    Plotly.newPlot(                        \"28b1b374-a676-4fa7-9e26-69a682e8718a\",                        [{\"line\":{\"color\":\"Blue\",\"width\":3},\"name\":\"MVP Portfolio\",\"x\":[\"2021-04-16T00:00:00\",\"2021-04-17T00:00:00\",\"2021-04-18T00:00:00\",\"2021-04-19T00:00:00\",\"2021-04-20T00:00:00\",\"2021-04-21T00:00:00\",\"2021-04-22T00:00:00\",\"2021-04-23T00:00:00\",\"2021-04-24T00:00:00\",\"2021-04-25T00:00:00\",\"2021-04-26T00:00:00\",\"2021-04-27T00:00:00\",\"2021-04-28T00:00:00\",\"2021-04-29T00:00:00\",\"2021-04-30T00:00:00\",\"2021-05-01T00:00:00\",\"2021-05-02T00:00:00\",\"2021-05-03T00:00:00\",\"2021-05-04T00:00:00\",\"2021-05-05T00:00:00\",\"2021-05-06T00:00:00\",\"2021-05-07T00:00:00\",\"2021-05-08T00:00:00\",\"2021-05-09T00:00:00\",\"2021-05-10T00:00:00\",\"2021-05-11T00:00:00\",\"2021-05-12T00:00:00\",\"2021-05-13T00:00:00\",\"2021-05-14T00:00:00\",\"2021-05-15T00:00:00\",\"2021-05-16T00:00:00\",\"2021-05-17T00:00:00\",\"2021-05-18T00:00:00\",\"2021-05-19T00:00:00\",\"2021-05-20T00:00:00\",\"2021-05-21T00:00:00\",\"2021-05-22T00:00:00\",\"2021-05-23T00:00:00\",\"2021-05-24T00:00:00\",\"2021-05-25T00:00:00\",\"2021-05-26T00:00:00\",\"2021-05-27T00:00:00\",\"2021-05-28T00:00:00\",\"2021-05-29T00:00:00\",\"2021-05-30T00:00:00\",\"2021-05-31T00:00:00\",\"2021-06-01T00:00:00\",\"2021-06-02T00:00:00\",\"2021-06-03T00:00:00\",\"2021-06-04T00:00:00\",\"2021-06-05T00:00:00\",\"2021-06-06T00:00:00\",\"2021-06-07T00:00:00\",\"2021-06-08T00:00:00\",\"2021-06-09T00:00:00\",\"2021-06-10T00:00:00\",\"2021-06-11T00:00:00\",\"2021-06-12T00:00:00\",\"2021-06-13T00:00:00\",\"2021-06-14T00:00:00\",\"2021-06-15T00:00:00\",\"2021-06-16T00:00:00\",\"2021-06-17T00:00:00\",\"2021-06-18T00:00:00\",\"2021-06-19T00:00:00\",\"2021-06-20T00:00:00\",\"2021-06-21T00:00:00\",\"2021-06-22T00:00:00\",\"2021-06-23T00:00:00\",\"2021-06-24T00:00:00\",\"2021-06-25T00:00:00\",\"2021-06-26T00:00:00\",\"2021-06-27T00:00:00\",\"2021-06-28T00:00:00\",\"2021-06-29T00:00:00\",\"2021-06-30T00:00:00\",\"2021-07-01T00:00:00\",\"2021-07-02T00:00:00\",\"2021-07-03T00:00:00\",\"2021-07-04T00:00:00\",\"2021-07-05T00:00:00\",\"2021-07-06T00:00:00\",\"2021-07-07T00:00:00\",\"2021-07-08T00:00:00\",\"2021-07-09T00:00:00\",\"2021-07-10T00:00:00\",\"2021-07-11T00:00:00\",\"2021-07-12T00:00:00\",\"2021-07-13T00:00:00\",\"2021-07-14T00:00:00\",\"2021-07-15T00:00:00\",\"2021-07-16T00:00:00\",\"2021-07-17T00:00:00\",\"2021-07-18T00:00:00\",\"2021-07-19T00:00:00\",\"2021-07-20T00:00:00\",\"2021-07-21T00:00:00\",\"2021-07-22T00:00:00\",\"2021-07-23T00:00:00\",\"2021-07-24T00:00:00\",\"2021-07-25T00:00:00\",\"2021-07-26T00:00:00\",\"2021-07-27T00:00:00\",\"2021-07-28T00:00:00\",\"2021-07-29T00:00:00\",\"2021-07-30T00:00:00\",\"2021-07-31T00:00:00\",\"2021-08-01T00:00:00\",\"2021-08-02T00:00:00\",\"2021-08-03T00:00:00\",\"2021-08-04T00:00:00\",\"2021-08-05T00:00:00\",\"2021-08-06T00:00:00\",\"2021-08-07T00:00:00\",\"2021-08-08T00:00:00\",\"2021-08-09T00:00:00\",\"2021-08-10T00:00:00\",\"2021-08-11T00:00:00\",\"2021-08-12T00:00:00\",\"2021-08-13T00:00:00\",\"2021-08-14T00:00:00\",\"2021-08-15T00:00:00\",\"2021-08-16T00:00:00\",\"2021-08-17T00:00:00\",\"2021-08-18T00:00:00\",\"2021-08-19T00:00:00\",\"2021-08-20T00:00:00\",\"2021-08-21T00:00:00\",\"2021-08-22T00:00:00\",\"2021-08-23T00:00:00\",\"2021-08-24T00:00:00\",\"2021-08-25T00:00:00\",\"2021-08-26T00:00:00\",\"2021-08-27T00:00:00\",\"2021-08-28T00:00:00\",\"2021-08-29T00:00:00\",\"2021-08-30T00:00:00\",\"2021-08-31T00:00:00\",\"2021-09-01T00:00:00\",\"2021-09-02T00:00:00\",\"2021-09-03T00:00:00\",\"2021-09-04T00:00:00\",\"2021-09-05T00:00:00\",\"2021-09-06T00:00:00\",\"2021-09-07T00:00:00\",\"2021-09-08T00:00:00\",\"2021-09-09T00:00:00\",\"2021-09-10T00:00:00\",\"2021-09-11T00:00:00\",\"2021-09-12T00:00:00\",\"2021-09-13T00:00:00\",\"2021-09-14T00:00:00\",\"2021-09-15T00:00:00\",\"2021-09-16T00:00:00\",\"2021-09-17T00:00:00\",\"2021-09-18T00:00:00\",\"2021-09-19T00:00:00\",\"2021-09-20T00:00:00\",\"2021-09-21T00:00:00\",\"2021-09-22T00:00:00\",\"2021-09-23T00:00:00\",\"2021-09-24T00:00:00\",\"2021-09-25T00:00:00\",\"2021-09-26T00:00:00\",\"2021-09-27T00:00:00\",\"2021-09-28T00:00:00\",\"2021-09-29T00:00:00\",\"2021-09-30T00:00:00\",\"2021-10-01T00:00:00\",\"2021-10-02T00:00:00\",\"2021-10-03T00:00:00\",\"2021-10-04T00:00:00\",\"2021-10-05T00:00:00\",\"2021-10-06T00:00:00\",\"2021-10-07T00:00:00\",\"2021-10-08T00:00:00\",\"2021-10-09T00:00:00\",\"2021-10-10T00:00:00\",\"2021-10-11T00:00:00\",\"2021-10-12T00:00:00\",\"2021-10-13T00:00:00\",\"2021-10-14T00:00:00\",\"2021-10-15T00:00:00\",\"2021-10-16T00:00:00\",\"2021-10-17T00:00:00\",\"2021-10-18T00:00:00\",\"2021-10-19T00:00:00\",\"2021-10-20T00:00:00\",\"2021-10-21T00:00:00\",\"2021-10-22T00:00:00\",\"2021-10-23T00:00:00\",\"2021-10-24T00:00:00\",\"2021-10-25T00:00:00\",\"2021-10-26T00:00:00\",\"2021-10-27T00:00:00\",\"2021-10-28T00:00:00\",\"2021-10-29T00:00:00\",\"2021-10-30T00:00:00\",\"2021-10-31T00:00:00\",\"2021-11-01T00:00:00\",\"2021-11-02T00:00:00\",\"2021-11-03T00:00:00\",\"2021-11-04T00:00:00\",\"2021-11-05T00:00:00\",\"2021-11-06T00:00:00\",\"2021-11-07T00:00:00\",\"2021-11-08T00:00:00\",\"2021-11-09T00:00:00\",\"2021-11-10T00:00:00\",\"2021-11-11T00:00:00\",\"2021-11-12T00:00:00\",\"2021-11-13T00:00:00\",\"2021-11-14T00:00:00\",\"2021-11-15T00:00:00\",\"2021-11-16T00:00:00\",\"2021-11-17T00:00:00\",\"2021-11-18T00:00:00\",\"2021-11-19T00:00:00\",\"2021-11-20T00:00:00\",\"2021-11-21T00:00:00\",\"2021-11-22T00:00:00\",\"2021-11-23T00:00:00\",\"2021-11-24T00:00:00\",\"2021-11-25T00:00:00\",\"2021-11-26T00:00:00\",\"2021-11-27T00:00:00\",\"2021-11-28T00:00:00\",\"2021-11-29T00:00:00\",\"2021-11-30T00:00:00\",\"2021-12-01T00:00:00\",\"2021-12-02T00:00:00\",\"2021-12-03T00:00:00\",\"2021-12-04T00:00:00\",\"2021-12-05T00:00:00\",\"2021-12-06T00:00:00\",\"2021-12-07T00:00:00\",\"2021-12-08T00:00:00\",\"2021-12-09T00:00:00\",\"2021-12-10T00:00:00\",\"2021-12-11T00:00:00\",\"2021-12-12T00:00:00\",\"2021-12-13T00:00:00\",\"2021-12-14T00:00:00\",\"2021-12-15T00:00:00\",\"2021-12-16T00:00:00\",\"2021-12-17T00:00:00\",\"2021-12-18T00:00:00\",\"2021-12-19T00:00:00\",\"2021-12-20T00:00:00\",\"2021-12-21T00:00:00\",\"2021-12-22T00:00:00\",\"2021-12-23T00:00:00\",\"2021-12-24T00:00:00\",\"2021-12-25T00:00:00\",\"2021-12-26T00:00:00\",\"2021-12-27T00:00:00\",\"2021-12-28T00:00:00\",\"2021-12-29T00:00:00\",\"2021-12-30T00:00:00\",\"2021-12-31T00:00:00\",\"2022-01-01T00:00:00\",\"2022-01-02T00:00:00\",\"2022-01-03T00:00:00\",\"2022-01-04T00:00:00\",\"2022-01-05T00:00:00\",\"2022-01-06T00:00:00\",\"2022-01-07T00:00:00\",\"2022-01-08T00:00:00\",\"2022-01-09T00:00:00\",\"2022-01-10T00:00:00\",\"2022-01-11T00:00:00\",\"2022-01-12T00:00:00\",\"2022-01-13T00:00:00\",\"2022-01-14T00:00:00\",\"2022-01-15T00:00:00\",\"2022-01-16T00:00:00\",\"2022-01-17T00:00:00\",\"2022-01-18T00:00:00\",\"2022-01-19T00:00:00\",\"2022-01-20T00:00:00\",\"2022-01-21T00:00:00\",\"2022-01-22T00:00:00\",\"2022-01-23T00:00:00\",\"2022-01-24T00:00:00\",\"2022-01-25T00:00:00\",\"2022-01-26T00:00:00\",\"2022-01-27T00:00:00\",\"2022-01-28T00:00:00\",\"2022-01-29T00:00:00\",\"2022-01-30T00:00:00\",\"2022-01-31T00:00:00\",\"2022-02-01T00:00:00\",\"2022-02-02T00:00:00\",\"2022-02-03T00:00:00\",\"2022-02-04T00:00:00\",\"2022-02-05T00:00:00\",\"2022-02-06T00:00:00\",\"2022-02-07T00:00:00\",\"2022-02-08T00:00:00\",\"2022-02-09T00:00:00\",\"2022-02-10T00:00:00\",\"2022-02-11T00:00:00\",\"2022-02-12T00:00:00\",\"2022-02-13T00:00:00\",\"2022-02-14T00:00:00\",\"2022-02-15T00:00:00\",\"2022-02-16T00:00:00\",\"2022-02-17T00:00:00\",\"2022-02-18T00:00:00\",\"2022-02-19T00:00:00\",\"2022-02-20T00:00:00\",\"2022-02-21T00:00:00\",\"2022-02-22T00:00:00\",\"2022-02-23T00:00:00\",\"2022-02-24T00:00:00\",\"2022-02-25T00:00:00\",\"2022-02-26T00:00:00\",\"2022-02-27T00:00:00\",\"2022-02-28T00:00:00\",\"2022-03-01T00:00:00\",\"2022-03-02T00:00:00\",\"2022-03-03T00:00:00\",\"2022-03-04T00:00:00\",\"2022-03-05T00:00:00\",\"2022-03-06T00:00:00\",\"2022-03-07T00:00:00\",\"2022-03-08T00:00:00\",\"2022-03-09T00:00:00\",\"2022-03-10T00:00:00\",\"2022-03-11T00:00:00\",\"2022-03-12T00:00:00\",\"2022-03-13T00:00:00\",\"2022-03-14T00:00:00\",\"2022-03-15T00:00:00\",\"2022-03-16T00:00:00\",\"2022-03-17T00:00:00\",\"2022-03-18T00:00:00\",\"2022-03-19T00:00:00\",\"2022-03-20T00:00:00\",\"2022-03-21T00:00:00\",\"2022-03-22T00:00:00\",\"2022-03-23T00:00:00\",\"2022-03-24T00:00:00\",\"2022-03-25T00:00:00\",\"2022-03-26T00:00:00\",\"2022-03-27T00:00:00\",\"2022-03-28T00:00:00\",\"2022-03-29T00:00:00\",\"2022-03-30T00:00:00\",\"2022-03-31T00:00:00\",\"2022-04-01T00:00:00\",\"2022-04-02T00:00:00\",\"2022-04-03T00:00:00\",\"2022-04-04T00:00:00\",\"2022-04-05T00:00:00\",\"2022-04-06T00:00:00\",\"2022-04-07T00:00:00\",\"2022-04-08T00:00:00\",\"2022-04-09T00:00:00\",\"2022-04-10T00:00:00\",\"2022-04-11T00:00:00\",\"2022-04-12T00:00:00\",\"2022-04-13T00:00:00\",\"2022-04-14T00:00:00\",\"2022-04-15T00:00:00\",\"2022-04-16T00:00:00\",\"2022-04-17T00:00:00\",\"2022-04-18T00:00:00\",\"2022-04-19T00:00:00\",\"2022-04-20T00:00:00\",\"2022-04-21T00:00:00\",\"2022-04-22T00:00:00\",\"2022-04-23T00:00:00\",\"2022-04-24T00:00:00\",\"2022-04-25T00:00:00\",\"2022-04-26T00:00:00\",\"2022-04-27T00:00:00\",\"2022-04-28T00:00:00\",\"2022-04-29T00:00:00\",\"2022-04-30T00:00:00\",\"2022-05-01T00:00:00\",\"2022-05-02T00:00:00\",\"2022-05-03T00:00:00\",\"2022-05-04T00:00:00\",\"2022-05-05T00:00:00\",\"2022-05-06T00:00:00\",\"2022-05-07T00:00:00\",\"2022-05-08T00:00:00\",\"2022-05-09T00:00:00\",\"2022-05-10T00:00:00\",\"2022-05-11T00:00:00\",\"2022-05-12T00:00:00\",\"2022-05-13T00:00:00\",\"2022-05-14T00:00:00\",\"2022-05-15T00:00:00\",\"2022-05-16T00:00:00\",\"2022-05-17T00:00:00\",\"2022-05-18T00:00:00\",\"2022-05-19T00:00:00\",\"2022-05-20T00:00:00\",\"2022-05-21T00:00:00\",\"2022-05-22T00:00:00\",\"2022-05-23T00:00:00\",\"2022-05-24T00:00:00\",\"2022-05-25T00:00:00\",\"2022-05-26T00:00:00\",\"2022-05-27T00:00:00\",\"2022-05-28T00:00:00\",\"2022-05-29T00:00:00\",\"2022-05-30T00:00:00\",\"2022-05-31T00:00:00\",\"2022-06-01T00:00:00\",\"2022-06-02T00:00:00\",\"2022-06-03T00:00:00\",\"2022-06-04T00:00:00\",\"2022-06-05T00:00:00\",\"2022-06-06T00:00:00\",\"2022-06-07T00:00:00\",\"2022-06-08T00:00:00\",\"2022-06-09T00:00:00\",\"2022-06-10T00:00:00\",\"2022-06-11T00:00:00\",\"2022-06-12T00:00:00\",\"2022-06-13T00:00:00\",\"2022-06-14T00:00:00\",\"2022-06-15T00:00:00\",\"2022-06-16T00:00:00\",\"2022-06-17T00:00:00\",\"2022-06-18T00:00:00\",\"2022-06-19T00:00:00\",\"2022-06-20T00:00:00\",\"2022-06-21T00:00:00\",\"2022-06-22T00:00:00\",\"2022-06-23T00:00:00\",\"2022-06-24T00:00:00\",\"2022-06-25T00:00:00\",\"2022-06-26T00:00:00\",\"2022-06-27T00:00:00\",\"2022-06-28T00:00:00\",\"2022-06-29T00:00:00\",\"2022-06-30T00:00:00\",\"2022-07-01T00:00:00\",\"2022-07-02T00:00:00\",\"2022-07-03T00:00:00\",\"2022-07-04T00:00:00\",\"2022-07-05T00:00:00\",\"2022-07-06T00:00:00\",\"2022-07-07T00:00:00\",\"2022-07-08T00:00:00\",\"2022-07-09T00:00:00\",\"2022-07-10T00:00:00\",\"2022-07-11T00:00:00\",\"2022-07-12T00:00:00\",\"2022-07-13T00:00:00\",\"2022-07-14T00:00:00\",\"2022-07-15T00:00:00\",\"2022-07-16T00:00:00\",\"2022-07-17T00:00:00\",\"2022-07-18T00:00:00\",\"2022-07-19T00:00:00\",\"2022-07-20T00:00:00\",\"2022-07-21T00:00:00\",\"2022-07-22T00:00:00\",\"2022-07-23T00:00:00\",\"2022-07-24T00:00:00\",\"2022-07-25T00:00:00\",\"2022-07-26T00:00:00\",\"2022-07-27T00:00:00\",\"2022-07-28T00:00:00\",\"2022-07-29T00:00:00\",\"2022-07-30T00:00:00\",\"2022-07-31T00:00:00\",\"2022-08-01T00:00:00\",\"2022-08-02T00:00:00\",\"2022-08-03T00:00:00\",\"2022-08-04T00:00:00\",\"2022-08-05T00:00:00\",\"2022-08-06T00:00:00\",\"2022-08-07T00:00:00\",\"2022-08-08T00:00:00\",\"2022-08-09T00:00:00\",\"2022-08-10T00:00:00\",\"2022-08-11T00:00:00\",\"2022-08-12T00:00:00\",\"2022-08-13T00:00:00\",\"2022-08-14T00:00:00\",\"2022-08-15T00:00:00\",\"2022-08-16T00:00:00\",\"2022-08-17T00:00:00\",\"2022-08-18T00:00:00\",\"2022-08-19T00:00:00\",\"2022-08-20T00:00:00\",\"2022-08-21T00:00:00\",\"2022-08-22T00:00:00\",\"2022-08-23T00:00:00\",\"2022-08-24T00:00:00\",\"2022-08-25T00:00:00\",\"2022-08-26T00:00:00\",\"2022-08-27T00:00:00\",\"2022-08-28T00:00:00\",\"2022-08-29T00:00:00\",\"2022-08-30T00:00:00\",\"2022-08-31T00:00:00\",\"2022-09-01T00:00:00\",\"2022-09-02T00:00:00\",\"2022-09-03T00:00:00\",\"2022-09-04T00:00:00\",\"2022-09-05T00:00:00\",\"2022-09-06T00:00:00\",\"2022-09-07T00:00:00\",\"2022-09-08T00:00:00\",\"2022-09-09T00:00:00\",\"2022-09-10T00:00:00\",\"2022-09-11T00:00:00\",\"2022-09-12T00:00:00\",\"2022-09-13T00:00:00\",\"2022-09-14T00:00:00\",\"2022-09-15T00:00:00\",\"2022-09-16T00:00:00\",\"2022-09-17T00:00:00\",\"2022-09-18T00:00:00\",\"2022-09-19T00:00:00\",\"2022-09-20T00:00:00\",\"2022-09-21T00:00:00\",\"2022-09-22T00:00:00\",\"2022-09-23T00:00:00\",\"2022-09-24T00:00:00\",\"2022-09-25T00:00:00\",\"2022-09-26T00:00:00\",\"2022-09-27T00:00:00\",\"2022-09-28T00:00:00\",\"2022-09-29T00:00:00\",\"2022-09-30T00:00:00\",\"2022-10-01T00:00:00\",\"2022-10-02T00:00:00\",\"2022-10-03T00:00:00\",\"2022-10-04T00:00:00\",\"2022-10-05T00:00:00\",\"2022-10-06T00:00:00\",\"2022-10-07T00:00:00\",\"2022-10-08T00:00:00\",\"2022-10-09T00:00:00\",\"2022-10-10T00:00:00\",\"2022-10-11T00:00:00\",\"2022-10-12T00:00:00\",\"2022-10-13T00:00:00\",\"2022-10-14T00:00:00\",\"2022-10-15T00:00:00\",\"2022-10-16T00:00:00\",\"2022-10-17T00:00:00\",\"2022-10-18T00:00:00\",\"2022-10-19T00:00:00\",\"2022-10-20T00:00:00\",\"2022-10-21T00:00:00\",\"2022-10-22T00:00:00\",\"2022-10-23T00:00:00\",\"2022-10-24T00:00:00\",\"2022-10-25T00:00:00\",\"2022-10-26T00:00:00\",\"2022-10-27T00:00:00\",\"2022-10-28T00:00:00\",\"2022-10-29T00:00:00\",\"2022-10-30T00:00:00\",\"2022-10-31T00:00:00\",\"2022-11-01T00:00:00\",\"2022-11-02T00:00:00\",\"2022-11-03T00:00:00\",\"2022-11-04T00:00:00\",\"2022-11-05T00:00:00\",\"2022-11-06T00:00:00\",\"2022-11-07T00:00:00\",\"2022-11-08T00:00:00\",\"2022-11-09T00:00:00\",\"2022-11-10T00:00:00\",\"2022-11-11T00:00:00\",\"2022-11-12T00:00:00\",\"2022-11-13T00:00:00\",\"2022-11-14T00:00:00\",\"2022-11-15T00:00:00\",\"2022-11-16T00:00:00\",\"2022-11-17T00:00:00\",\"2022-11-18T00:00:00\",\"2022-11-19T00:00:00\",\"2022-11-20T00:00:00\",\"2022-11-21T00:00:00\",\"2022-11-22T00:00:00\",\"2022-11-23T00:00:00\",\"2022-11-24T00:00:00\",\"2022-11-25T00:00:00\",\"2022-11-26T00:00:00\",\"2022-11-27T00:00:00\",\"2022-11-28T00:00:00\",\"2022-11-29T00:00:00\",\"2022-11-30T00:00:00\",\"2022-12-01T00:00:00\",\"2022-12-02T00:00:00\",\"2022-12-03T00:00:00\",\"2022-12-04T00:00:00\",\"2022-12-05T00:00:00\",\"2022-12-06T00:00:00\",\"2022-12-07T00:00:00\",\"2022-12-08T00:00:00\",\"2022-12-09T00:00:00\",\"2022-12-10T00:00:00\",\"2022-12-11T00:00:00\",\"2022-12-12T00:00:00\",\"2022-12-13T00:00:00\",\"2022-12-14T00:00:00\",\"2022-12-15T00:00:00\",\"2022-12-16T00:00:00\",\"2022-12-17T00:00:00\",\"2022-12-18T00:00:00\",\"2022-12-19T00:00:00\",\"2022-12-20T00:00:00\",\"2022-12-21T00:00:00\",\"2022-12-22T00:00:00\",\"2022-12-23T00:00:00\",\"2022-12-24T00:00:00\",\"2022-12-25T00:00:00\",\"2022-12-26T00:00:00\",\"2022-12-27T00:00:00\",\"2022-12-28T00:00:00\",\"2022-12-29T00:00:00\",\"2022-12-30T00:00:00\",\"2022-12-31T00:00:00\",\"2023-01-01T00:00:00\",\"2023-01-02T00:00:00\",\"2023-01-03T00:00:00\",\"2023-01-04T00:00:00\",\"2023-01-05T00:00:00\",\"2023-01-06T00:00:00\",\"2023-01-07T00:00:00\",\"2023-01-08T00:00:00\",\"2023-01-09T00:00:00\",\"2023-01-10T00:00:00\",\"2023-01-11T00:00:00\",\"2023-01-12T00:00:00\",\"2023-01-13T00:00:00\",\"2023-01-14T00:00:00\",\"2023-01-15T00:00:00\",\"2023-01-16T00:00:00\",\"2023-01-17T00:00:00\",\"2023-01-18T00:00:00\",\"2023-01-19T00:00:00\",\"2023-01-20T00:00:00\",\"2023-01-21T00:00:00\",\"2023-01-22T00:00:00\",\"2023-01-23T00:00:00\",\"2023-01-24T00:00:00\",\"2023-01-25T00:00:00\",\"2023-01-26T00:00:00\",\"2023-01-27T00:00:00\",\"2023-01-28T00:00:00\",\"2023-01-29T00:00:00\",\"2023-01-30T00:00:00\",\"2023-01-31T00:00:00\",\"2023-02-01T00:00:00\",\"2023-02-02T00:00:00\",\"2023-02-03T00:00:00\",\"2023-02-04T00:00:00\",\"2023-02-05T00:00:00\",\"2023-02-06T00:00:00\",\"2023-02-07T00:00:00\",\"2023-02-08T00:00:00\",\"2023-02-09T00:00:00\",\"2023-02-10T00:00:00\",\"2023-02-11T00:00:00\",\"2023-02-12T00:00:00\",\"2023-02-13T00:00:00\",\"2023-02-14T00:00:00\",\"2023-02-15T00:00:00\",\"2023-02-16T00:00:00\",\"2023-02-17T00:00:00\",\"2023-02-18T00:00:00\",\"2023-02-19T00:00:00\",\"2023-02-20T00:00:00\",\"2023-02-21T00:00:00\",\"2023-02-22T00:00:00\",\"2023-02-23T00:00:00\",\"2023-02-24T00:00:00\",\"2023-02-25T00:00:00\",\"2023-02-26T00:00:00\",\"2023-02-27T00:00:00\",\"2023-02-28T00:00:00\",\"2023-03-01T00:00:00\",\"2023-03-02T00:00:00\",\"2023-03-03T00:00:00\",\"2023-03-04T00:00:00\",\"2023-03-05T00:00:00\",\"2023-03-06T00:00:00\",\"2023-03-07T00:00:00\",\"2023-03-08T00:00:00\",\"2023-03-09T00:00:00\",\"2023-03-10T00:00:00\",\"2023-03-11T00:00:00\",\"2023-03-12T00:00:00\",\"2023-03-13T00:00:00\",\"2023-03-14T00:00:00\",\"2023-03-15T00:00:00\",\"2023-03-16T00:00:00\",\"2023-03-17T00:00:00\",\"2023-03-18T00:00:00\",\"2023-03-19T00:00:00\",\"2023-03-20T00:00:00\",\"2023-03-21T00:00:00\",\"2023-03-22T00:00:00\",\"2023-03-23T00:00:00\",\"2023-03-24T00:00:00\",\"2023-03-25T00:00:00\",\"2023-03-26T00:00:00\",\"2023-03-27T00:00:00\",\"2023-03-28T00:00:00\",\"2023-03-29T00:00:00\",\"2023-03-30T00:00:00\",\"2023-03-31T00:00:00\",\"2023-04-01T00:00:00\",\"2023-04-02T00:00:00\",\"2023-04-03T00:00:00\",\"2023-04-04T00:00:00\",\"2023-04-05T00:00:00\",\"2023-04-06T00:00:00\",\"2023-04-07T00:00:00\",\"2023-04-08T00:00:00\",\"2023-04-09T00:00:00\",\"2023-04-10T00:00:00\",\"2023-04-11T00:00:00\",\"2023-04-12T00:00:00\",\"2023-04-13T00:00:00\",\"2023-04-14T00:00:00\",\"2023-04-15T00:00:00\",\"2023-04-16T00:00:00\",\"2023-04-17T00:00:00\",\"2023-04-18T00:00:00\",\"2023-04-19T00:00:00\",\"2023-04-20T00:00:00\",\"2023-04-21T00:00:00\",\"2023-04-22T00:00:00\",\"2023-04-23T00:00:00\",\"2023-04-24T00:00:00\",\"2023-04-25T00:00:00\",\"2023-04-26T00:00:00\",\"2023-04-27T00:00:00\",\"2023-04-28T00:00:00\",\"2023-04-29T00:00:00\",\"2023-04-30T00:00:00\",\"2023-05-01T00:00:00\",\"2023-05-02T00:00:00\",\"2023-05-03T00:00:00\",\"2023-05-04T00:00:00\",\"2023-05-05T00:00:00\",\"2023-05-06T00:00:00\",\"2023-05-07T00:00:00\",\"2023-05-08T00:00:00\",\"2023-05-09T00:00:00\",\"2023-05-10T00:00:00\",\"2023-05-11T00:00:00\",\"2023-05-12T00:00:00\",\"2023-05-13T00:00:00\",\"2023-05-14T00:00:00\",\"2023-05-15T00:00:00\",\"2023-05-16T00:00:00\",\"2023-05-17T00:00:00\",\"2023-05-18T00:00:00\",\"2023-05-19T00:00:00\",\"2023-05-20T00:00:00\",\"2023-05-21T00:00:00\",\"2023-05-22T00:00:00\",\"2023-05-23T00:00:00\",\"2023-05-24T00:00:00\",\"2023-05-25T00:00:00\",\"2023-05-26T00:00:00\",\"2023-05-27T00:00:00\",\"2023-05-28T00:00:00\",\"2023-05-29T00:00:00\",\"2023-05-30T00:00:00\",\"2023-05-31T00:00:00\",\"2023-06-01T00:00:00\",\"2023-06-02T00:00:00\",\"2023-06-03T00:00:00\",\"2023-06-04T00:00:00\",\"2023-06-05T00:00:00\",\"2023-06-06T00:00:00\",\"2023-06-07T00:00:00\",\"2023-06-08T00:00:00\",\"2023-06-09T00:00:00\",\"2023-06-10T00:00:00\",\"2023-06-11T00:00:00\",\"2023-06-12T00:00:00\",\"2023-06-13T00:00:00\",\"2023-06-14T00:00:00\",\"2023-06-15T00:00:00\",\"2023-06-16T00:00:00\",\"2023-06-17T00:00:00\",\"2023-06-18T00:00:00\",\"2023-06-19T00:00:00\",\"2023-06-20T00:00:00\",\"2023-06-21T00:00:00\",\"2023-06-22T00:00:00\",\"2023-06-23T00:00:00\",\"2023-06-24T00:00:00\",\"2023-06-25T00:00:00\",\"2023-06-26T00:00:00\",\"2023-06-27T00:00:00\",\"2023-06-28T00:00:00\",\"2023-06-29T00:00:00\",\"2023-06-30T00:00:00\",\"2023-07-01T00:00:00\",\"2023-07-02T00:00:00\",\"2023-07-03T00:00:00\",\"2023-07-04T00:00:00\",\"2023-07-05T00:00:00\",\"2023-07-06T00:00:00\",\"2023-07-07T00:00:00\",\"2023-07-08T00:00:00\",\"2023-07-09T00:00:00\",\"2023-07-10T00:00:00\",\"2023-07-11T00:00:00\",\"2023-07-12T00:00:00\",\"2023-07-13T00:00:00\",\"2023-07-14T00:00:00\",\"2023-07-15T00:00:00\",\"2023-07-16T00:00:00\",\"2023-07-17T00:00:00\",\"2023-07-18T00:00:00\",\"2023-07-19T00:00:00\",\"2023-07-20T00:00:00\",\"2023-07-21T00:00:00\",\"2023-07-22T00:00:00\",\"2023-07-23T00:00:00\",\"2023-07-24T00:00:00\",\"2023-07-25T00:00:00\",\"2023-07-26T00:00:00\",\"2023-07-27T00:00:00\",\"2023-07-28T00:00:00\",\"2023-07-29T00:00:00\",\"2023-07-30T00:00:00\",\"2023-07-31T00:00:00\",\"2023-08-01T00:00:00\",\"2023-08-02T00:00:00\",\"2023-08-03T00:00:00\",\"2023-08-04T00:00:00\",\"2023-08-05T00:00:00\",\"2023-08-06T00:00:00\",\"2023-08-07T00:00:00\",\"2023-08-08T00:00:00\",\"2023-08-09T00:00:00\",\"2023-08-10T00:00:00\",\"2023-08-11T00:00:00\",\"2023-08-12T00:00:00\",\"2023-08-13T00:00:00\",\"2023-08-14T00:00:00\",\"2023-08-15T00:00:00\",\"2023-08-16T00:00:00\",\"2023-08-17T00:00:00\",\"2023-08-18T00:00:00\",\"2023-08-19T00:00:00\",\"2023-08-20T00:00:00\",\"2023-08-21T00:00:00\",\"2023-08-22T00:00:00\",\"2023-08-23T00:00:00\",\"2023-08-24T00:00:00\",\"2023-08-25T00:00:00\",\"2023-08-26T00:00:00\",\"2023-08-27T00:00:00\",\"2023-08-28T00:00:00\",\"2023-08-29T00:00:00\",\"2023-08-30T00:00:00\",\"2023-08-31T00:00:00\",\"2023-09-01T00:00:00\",\"2023-09-02T00:00:00\",\"2023-09-03T00:00:00\",\"2023-09-04T00:00:00\",\"2023-09-05T00:00:00\",\"2023-09-06T00:00:00\",\"2023-09-07T00:00:00\",\"2023-09-08T00:00:00\",\"2023-09-09T00:00:00\",\"2023-09-10T00:00:00\",\"2023-09-11T00:00:00\",\"2023-09-12T00:00:00\",\"2023-09-13T00:00:00\",\"2023-09-14T00:00:00\",\"2023-09-15T00:00:00\",\"2023-09-16T00:00:00\",\"2023-09-17T00:00:00\",\"2023-09-18T00:00:00\",\"2023-09-19T00:00:00\",\"2023-09-20T00:00:00\",\"2023-09-21T00:00:00\",\"2023-09-22T00:00:00\",\"2023-09-23T00:00:00\",\"2023-09-24T00:00:00\",\"2023-09-25T00:00:00\",\"2023-09-26T00:00:00\",\"2023-09-27T00:00:00\",\"2023-09-28T00:00:00\",\"2023-09-29T00:00:00\",\"2023-09-30T00:00:00\",\"2023-10-01T00:00:00\",\"2023-10-02T00:00:00\"],\"y\":[100000.00000000001,100850.90665487977,99973.49435986586,99948.5537645341,99973.2803001322,99975.25254512118,99858.37023617433,99910.76826591688,99926.25872919896,99894.08391716366,99857.80859665434,99900.51869733134,99931.30233140514,99923.40490394787,99865.36902178683,99917.37152273815,99925.62172776104,99964.00516034637,100072.60647650469,100143.24686494569,100097.48571230339,100181.07887336706,99824.8022661603,99817.18933479271,99269.41974151041,99414.22753054563,99593.32685925612,99608.99826610646,99724.669001242,99813.6505859489,99797.36068658989,99791.93487195915,99822.0176981582,99901.62712434953,99893.42904501234,99964.19498649889,99970.47923127723,99916.59874096968,99909.40237298603,99935.80452988627,99993.07418138561,99976.88414536933,99974.19684570853,99920.17662389384,99896.54539067828,99965.47580488514,99965.76670350338,100024.70409795748,99952.71474992778,99988.71225078747,99941.03239871787,99968.00455149464,99950.93707518515,99978.01095601822,99937.23796781004,99961.5690264428,99990.643531329,100071.79979756479,99899.68442788294,99941.57139796975,99981.46014546978,99924.85146042077,99977.29059353251,100055.87493965965,100027.87639256599,99987.13933317823,99903.766614569,99957.55966302851,99915.92407283337,99914.20251489461,99884.19236030441,100034.44036731622,99934.87791893388,99857.65940896852,99851.6641789384,99854.25597257097,99882.61215797714,99872.82411617892,99834.72143876288,99782.9753342802,99887.47689116787,99815.30629948943,99834.27886206472,99800.58608779627,99792.15357269163,99821.57029935444,99833.28645324137,99842.80214096812,99844.59425342486,99821.32897138389,99833.08137460842,99845.39709663232,99871.17143377606,99875.74989480886,99860.99275029749,99866.85734463537,99850.8671299814,99877.36471905197,99857.33943137525,99867.81136857293,99803.54470453686,99872.43337159631,99874.00195818237,99850.10075205192,99884.5276044169,99853.06632266997,99854.95937912511,99878.7788053274,99887.8916145818,99877.89902865596,99855.39842966138,99791.00580432727,99814.6294082218,99813.51161629792,99808.84763621885,99817.88832692824,99827.77362309258,99839.25937295334,99859.11954312264,99828.04439772188,99895.23660155897,99909.54308083323,99897.20958406715,99928.66291706955,99930.30696497645,99892.79835921199,99969.61595597562,99902.18072680717,99935.4882929152,99959.01044091683,99935.80555814027,99903.40164347416,99917.47825423011,99923.61492498365,99923.22255778554,99962.47267603506,99927.45817266798,99914.9020044864,99905.50299734659,99943.2100810988,99924.8730104412,99919.94271004862,99828.21464288299,99843.34545754993,99923.98557130148,99895.57660321295,99887.77109451775,99884.44566477228,99961.9295553639,99822.2014367446,99869.25834918572,99880.0611620984,99849.99696480192,99806.63731304488,99810.12868528749,99768.5439492742,99844.27622153959,99865.09036505685,99860.1622715365,99807.68624569381,99832.19451859307,99870.23408725692,99894.58643005847,99889.8848923551,99881.48531145317,99891.32245636523,99897.17838174201,99881.8526721645,99802.99338092816,99832.268044122,99802.95772720288,99691.94324926588,99647.77907078364,99397.6361637387,99513.22329380571,99383.0113415615,99409.2972652448,99497.48173841523,99350.73435720189,99357.42631123113,99393.93517066284,99402.31266076345,99434.8669521924,99480.4602087532,99476.38436636515,99435.46567350008,99437.70729331525,99384.66848022756,99496.75970488647,99489.33998223585,99459.8671625218,99340.63471602974,99143.0729763271,99040.84544367655,98289.09243782837,98603.26438225416,98406.7796700672,98565.1823981507,98515.13304515145,98402.8034525251,98480.7968239247,98853.34609272036,99012.87014164648,98749.42848037333,98802.11979287413,98871.23889841398,98876.5887957398,98874.34699893954,98924.52852673404,98801.61821228312,98833.32396376203,98994.16694598238,98855.19280405492,98857.17324801639,99019.6344885885,98962.17155740668,99047.42233598804,98920.6532780059,98924.48898021063,99061.41293372407,99035.90128531866,99099.91734964197,99184.17935754574,99117.14181464493,99103.80193669822,99245.00285977653,99070.850276022,98960.39309713901,98875.07491659017,98976.80442490154,98963.37515473865,99182.13597953005,99188.04116009141,99094.4150546294,99183.65236821293,99261.67020993652,99223.55326962324,99311.66315399251,99397.64825161906,99295.91588329409,99227.53068411499,99258.83762339306,99291.20530919888,99316.90269447822,99207.37064407264,99341.83457264955,99358.74570059637,99352.86302416235,99324.04633717322,99342.8264301001,99114.53437492595,99228.73920707198,99325.56255213179,99211.49505228548,99146.6322818347,99158.4002711124,99360.69056891001,99244.89204116202,99335.95133896712,99327.75171355308,99310.63674619781,99278.74815224131,99286.77773423631,99395.68546723109,99360.04347930271,99309.07477500544,99438.20683907172,99362.0656170125,99404.03907939207,99479.61069226025,99465.85609869412,99337.08553188523,99310.57375872368,99393.59485338151,99334.6037650749,99341.24484940372,99383.94247460763,99434.78194201761,99476.34319928692,99502.65703169124,99586.83303303762,99563.01377142197,99559.31491952846,99590.64162797897,99614.17105534424,99563.89873873905,99542.52647402782,99536.64182089393,99585.39237620714,99561.88798683953,99500.8873677741,99496.97116962903,99542.95242248784,99566.12438461275,99488.80764155569,99518.22793945963,99421.81950842006,99206.21627879678,99246.72467662202,99257.3702441912,99338.63327911848,99299.19570297196,99378.78411313356,99341.0551409863,99274.73981109494,99278.58911511298,99294.2438493676,99315.18880568731,99349.61371395316,99366.41585475538,99420.4565321378,99392.72373929783,99441.42684175691,99386.94877251293,99452.72766876269,99432.8647502003,99461.8240812231,99448.05532603641,99401.58403219467,99380.49946712838,99385.84799392748,99449.84403004259,99451.78587019704,99384.28169362583,99451.28953188915,99398.80736986735,99511.00519146552,99509.84678871764,99466.58275592855,99443.53449227207,99460.02309183727,99499.16094257115,99533.4004436892,99442.3718820431,99471.08823323953,99478.79003083763,99490.70495049848,99439.81251900786,99477.5337109727,99467.19044696493,99482.31492255795,99470.50212243582,99425.96237875767,99390.63812194158,99482.23508679985,99464.35897526264,99461.01592997646,99406.62751475771,99371.54383280077,99384.83748898847,99438.60317874882,99368.27685911719,99430.21999758287,99453.69255817354,99404.60770598295,99440.25018069684,99467.94479821732,99456.73845054775,99471.38471436684,99429.36568787319,99499.80830318063,99399.21208288938,99387.09853590645,99425.14463551907,99417.48417024403,99457.4502063816,99381.3594173195,99450.24687595128,99449.32041517567,99443.33034068627,99506.89634264103,99497.6502887418,99475.79131520118,99469.17599110352,99514.5428928234,99510.04597590757,99527.30644213651,99495.67078854959,99513.36886879822,99588.6404962194,99557.93059997995,99547.3694227249,99576.32782894025,99534.2141901844,99561.39877495983,99572.09179969087,99580.67840422089,99617.7736928928,99648.34389481593,99630.37908821017,99794.14479881707,99800.74617225015,99724.40120145884,99722.19302824678,99708.81495978267,99768.92563018612,99713.55551809708,99684.7095385903,99735.87835763043,99696.69891776101,99733.37181236516,99719.28793390695,99719.37889414669,99722.53051413776,99686.2591833401,99714.42053109035,99789.9301957417,99741.28036009973,99762.52581853865,99714.6324913336,99725.98673260145,99736.60709921658,99746.49484654484,99736.04226738957,99747.97914703937,99738.74692947001,99735.9005197359,99736.17834120918,99747.22255947371,99754.28905700461,99756.27073549203,99778.46273899745,99768.81616784498,99817.17685930467,99845.57540558027,99822.9085455952,99806.55375769002,99793.08711471896,99798.72080845032,99813.97942365015,99788.19579129103,99699.43772390424,99740.96649284575,99792.28987640499,99706.29296387051,99705.3996385338,99702.1283551394,99734.12684669862,99751.94265010672,99774.99767953444,99727.4238346915,99753.32642172227,99735.23755419524,99773.15705158646,99767.57420711392,99743.54680552047,99727.65075912898,99726.58322113154,99698.47047001758,99697.46211063987,99718.62644343733,99754.65595674678,99720.63578971276,99721.89203646852,99719.68418714819,99716.89101706096,99737.8589373088,99749.56421354876,99726.14243444668,99705.52864774372,99704.81654114841,99725.54451531263,99715.39679945167,99714.8960478253,99721.93467137111,99703.02843056137,99743.25274421126,99748.7004658416,99718.9397210475,99686.50183341287,99701.02854085718,99689.01351347764,99691.73933837612,99703.78364420356,99716.40665378526,99716.67272988995,99723.28478425869,99681.72704425661,99703.42067768936,99720.0676411044,99693.22023416203,99729.82643729038,99708.04900944402,99698.87095507399,99697.46059627963,99597.248030704,99645.6019674447,99637.98857938156,99644.99975267425,99661.35950574082,99689.5132922846,99711.34689701196,99706.2672522454,99703.84537696883,99690.12002026448,99676.2086405249,99662.42753899426,99705.98689457568,99713.057295469,99713.468038423,99708.28500150959,99711.28486067629,99714.30469310949,99713.73033626928,99723.79344822194,99727.232397976,99703.20157612539,99678.36158211302,99696.81846766052,99710.32505951503,99702.80313962573,99687.38955844053,99680.3777734059,99688.16478722096,99697.26938075232,99724.43037311031,99719.0250271008,99727.7641524159,99722.22592827617,99716.99350384901,99738.14780413917,99718.07581099754,99724.17711709058,99761.20226965199,99721.84538617262,99733.82610206582,99730.5965216011,99727.21659983383,99747.61077927363,99741.86116257543,99731.03939601168,99744.77482499252,99741.53191783324,99732.7620867104,99732.49876603174,99729.75989676437,99712.6498105952,99737.1933412104,99737.98669960554,99742.73033082954,99753.48648496797,99739.28803525928,99756.5435777877,99764.53354606657,99757.58010939404,99763.15581974508,99761.46179490924,99754.22725622951,99756.43361813853,99763.47937851198,99765.31866273137,99768.59285528019,99760.74811249609,99764.00928479416,99766.07214837741,99769.61278602664,99764.7998378847,99768.23101529876,99758.7772247972,99753.32854828541,99732.46556540875,99748.1024492484,99771.13221494529,99765.82722854527,99754.87218848603,99775.50718938421,99772.96941037757,99764.07947580639,99774.19518603582,99763.78288001606,99820.14260976174,99805.06968275792,99838.30082308098,99884.32995496911,99881.52913495337,99823.80120746084,99831.44251755327,99878.57017343525,99857.06082897297,99838.84291863831,99833.28912905464,99841.99018056616,99832.06717119843,99827.48874895995,99860.1465886434,99852.05066036993,99846.27088744621,99834.24200877864,99823.15552328054,99831.11943624086,99836.06009365947,99838.09170594928,99831.26053713198,99835.37679229543,99829.57541499141,99836.90079067605,99824.16015678695,99833.75812723831,99831.14471466487,99837.6653117048,99827.72190887466,99832.44950320786,99831.50131310782,99834.54849590393,99824.05683533946,99833.71879249671,99838.3051336297,99819.32896897178,99818.03377789614,99821.09769605576,99836.29656512855,99786.3406916176,99844.94485562824,99829.06662958354,99838.18455345414,99841.89240368619,99834.32359779399,99835.92508523093,99838.17130724204,99840.98989628667,99844.95251924668,99843.45988695143,99839.21852537894,99834.92132398734,99827.06947571422,99823.5472698062,99825.14910204998,99835.4642327851,99828.80426201627,99827.86702762048,99828.19856825731,99824.9874025491,99825.59161191258,99811.17090716214,99808.62068285301,99825.72032683494,99822.24885225676,99817.50598347723,99804.83985509883,99760.16473337263,99765.46343228298,99745.9625605417,99744.01219667764,99741.10370740046,99772.18178728916,99725.41147022825,99740.46897007815,99729.82940182973,99760.44007328583,99750.25712869236,99751.49896499836,99763.73155728451,99773.1278143807,99760.57023257237,99764.17795195278,99766.48686643585,99779.69540197082,99738.70886149147,99747.36730319633,99692.77861678522,99714.84302461796,99710.60072581716,99723.24085474554,99728.41053505354,99777.35788252714,99744.46305850106,99741.08057207364,99750.21695047808,99770.43737213888,99749.76848316798,99735.71374440029,99739.87342058106,99760.7178447047,99751.58493940803,99751.36716226775,99779.81587676328,99763.17980349973,99772.9043857772,99762.87655333248,99750.26927383825,99796.09987245851,99761.77787485627,99752.44553664517,99753.09664593605,99782.65559423302,99795.51572201782,99783.2715714135,99783.4999141381,99780.43867440427,99773.14842601574,99786.58373146011,99755.64913338766,99786.25912566698,99737.64935877835,96944.10658843162,98983.88555338411,99674.5383476994,99697.71751656903,99813.50789693923,99772.30465145415,99787.33269138333,99727.07581794508,99762.79430929343,99593.46509689237,99631.75163687069,99686.58178984876,99681.8957922432,99761.02253688054,99747.4993879516,99763.48991289256,99762.35884431288,99786.00825751014,99758.49387366671,99775.80526583063,99756.8578429089,99760.72989718632,99752.1672336155,99774.95290873005,99774.32647954504,99766.84981443656,99782.80850013369,99785.56561543743,99761.5687715359,99756.15924392396,99754.97284103624,99783.49225843388,99766.73526806214,99775.92215061183,99784.44702327198,99752.96028279133,99738.29676317984,99774.69468667632,99771.6423254498,99787.70349210645,99793.76721970874,99829.08023510728,99808.09818013907,99783.68948741758,99797.686790402,99795.488830612,99781.87779081805,99764.52999891927,99784.19437929968,99794.45554429274,99793.23401357196,99801.00343057477,99784.99729056997,99795.03421946595,99796.78205286231,99794.31827765313,99818.59775240406,99827.06713528228,99811.54901157811,99827.66454723565,99808.25052658738,99820.00596270621,99810.33340304601,99805.9445034916,99813.78819002154,99806.03561989362,99797.70441519083,99807.24616481765,99803.17212853678,99801.00254166008,99812.63898770773,99791.71449935006,99800.48833182239,99802.14958378665,99818.28250256045,99805.62912917207,99800.66373835877,99813.44867395687,99810.66631410048,99795.09447661645,99792.48506022966,99825.80423537028,99835.45575862522,99813.17477953255,99797.8705230664,99786.28750881515,99814.1385768042,99808.85518968856,99807.89866281395,99829.2124260501,99810.14526415823,99815.40490215823,99823.0919507936,99851.23425380832,99827.67890772888,99832.12010516765,99833.30999124801,99836.25639488947,99833.49541809084,99826.9762010614,99843.9115322978,99858.68158201162,99817.3628469203,99806.08706711499,99813.15246451319,99803.63532854558,99821.4257514263,99809.65947764643,99809.36797917089,99833.29557511919,99825.93658528608,99834.96112863073,99826.52862727283,99825.95900651607,99811.23821859065,99827.01360408864,99840.79025795039,99836.58221223018,99823.75994597274,99810.2555460475,99819.30592802526,99809.52115806848,99809.11927815471,99807.2086702184,99813.0715112011,99836.83129315409,99825.36263464569,99833.27736221414,99811.31015136451,99811.85025074484,99820.46810176881,99817.13605242975,99833.37135731376,99797.28638709609,99805.70558641406,99820.78679297102,99817.2646589755,99832.14324607505,99798.44976533006,99833.63522174473,99801.62122486196,99819.49935069957,99819.4812784175,99827.25900086551,99804.50983358308,99838.64875313964,99788.93647190252,99755.82596306456,99771.60154552695,99787.22203618912,99776.69975637786,99787.61958557062,99786.29801914074,99777.34814772375,99749.51739966332,99771.36719517574,99781.71162776083,99770.73441745342,99787.92887933635,99844.64165123682,99791.96826030785,99821.44746945672,99813.53820447554,99801.32861005918,99799.39868746241,99818.20851113721,99791.13380866394,99809.13527885318,99801.01751309424,99801.27797915923,99793.32927848742,99811.2195813518,99819.54559274833,99812.10605653404,99820.36121018695,99817.2496117039,99813.39373241052,99834.84327913125,99804.93490298314,99815.67273630673,99843.80409560671,99809.85058176408,99812.61071721176,99815.87488003657,99824.09551213197,99843.19034789158,99839.4105497445,99840.46752078859,99859.83621275291,99840.642052882,99830.09407964068,99834.41763708672,99835.69811478494,99841.83091356381,99821.52747711443,99829.3347620398,99794.77361875387,99827.75145059088,99824.99225137342,99826.67200322647,99833.65884474086,99825.32945090256,99828.98990099518,99831.01486748803,99807.40508891869,99834.76550944848],\"type\":\"scatter\"},{\"line\":{\"color\":\"Crimson\",\"width\":3},\"name\":\"Target 40% pa\",\"x\":[\"2021-04-16T00:00:00\",\"2021-04-17T00:00:00\",\"2021-04-18T00:00:00\",\"2021-04-19T00:00:00\",\"2021-04-20T00:00:00\",\"2021-04-21T00:00:00\",\"2021-04-22T00:00:00\",\"2021-04-23T00:00:00\",\"2021-04-24T00:00:00\",\"2021-04-25T00:00:00\",\"2021-04-26T00:00:00\",\"2021-04-27T00:00:00\",\"2021-04-28T00:00:00\",\"2021-04-29T00:00:00\",\"2021-04-30T00:00:00\",\"2021-05-01T00:00:00\",\"2021-05-02T00:00:00\",\"2021-05-03T00:00:00\",\"2021-05-04T00:00:00\",\"2021-05-05T00:00:00\",\"2021-05-06T00:00:00\",\"2021-05-07T00:00:00\",\"2021-05-08T00:00:00\",\"2021-05-09T00:00:00\",\"2021-05-10T00:00:00\",\"2021-05-11T00:00:00\",\"2021-05-12T00:00:00\",\"2021-05-13T00:00:00\",\"2021-05-14T00:00:00\",\"2021-05-15T00:00:00\",\"2021-05-16T00:00:00\",\"2021-05-17T00:00:00\",\"2021-05-18T00:00:00\",\"2021-05-19T00:00:00\",\"2021-05-20T00:00:00\",\"2021-05-21T00:00:00\",\"2021-05-22T00:00:00\",\"2021-05-23T00:00:00\",\"2021-05-24T00:00:00\",\"2021-05-25T00:00:00\",\"2021-05-26T00:00:00\",\"2021-05-27T00:00:00\",\"2021-05-28T00:00:00\",\"2021-05-29T00:00:00\",\"2021-05-30T00:00:00\",\"2021-05-31T00:00:00\",\"2021-06-01T00:00:00\",\"2021-06-02T00:00:00\",\"2021-06-03T00:00:00\",\"2021-06-04T00:00:00\",\"2021-06-05T00:00:00\",\"2021-06-06T00:00:00\",\"2021-06-07T00:00:00\",\"2021-06-08T00:00:00\",\"2021-06-09T00:00:00\",\"2021-06-10T00:00:00\",\"2021-06-11T00:00:00\",\"2021-06-12T00:00:00\",\"2021-06-13T00:00:00\",\"2021-06-14T00:00:00\",\"2021-06-15T00:00:00\",\"2021-06-16T00:00:00\",\"2021-06-17T00:00:00\",\"2021-06-18T00:00:00\",\"2021-06-19T00:00:00\",\"2021-06-20T00:00:00\",\"2021-06-21T00:00:00\",\"2021-06-22T00:00:00\",\"2021-06-23T00:00:00\",\"2021-06-24T00:00:00\",\"2021-06-25T00:00:00\",\"2021-06-26T00:00:00\",\"2021-06-27T00:00:00\",\"2021-06-28T00:00:00\",\"2021-06-29T00:00:00\",\"2021-06-30T00:00:00\",\"2021-07-01T00:00:00\",\"2021-07-02T00:00:00\",\"2021-07-03T00:00:00\",\"2021-07-04T00:00:00\",\"2021-07-05T00:00:00\",\"2021-07-06T00:00:00\",\"2021-07-07T00:00:00\",\"2021-07-08T00:00:00\",\"2021-07-09T00:00:00\",\"2021-07-10T00:00:00\",\"2021-07-11T00:00:00\",\"2021-07-12T00:00:00\",\"2021-07-13T00:00:00\",\"2021-07-14T00:00:00\",\"2021-07-15T00:00:00\",\"2021-07-16T00:00:00\",\"2021-07-17T00:00:00\",\"2021-07-18T00:00:00\",\"2021-07-19T00:00:00\",\"2021-07-20T00:00:00\",\"2021-07-21T00:00:00\",\"2021-07-22T00:00:00\",\"2021-07-23T00:00:00\",\"2021-07-24T00:00:00\",\"2021-07-25T00:00:00\",\"2021-07-26T00:00:00\",\"2021-07-27T00:00:00\",\"2021-07-28T00:00:00\",\"2021-07-29T00:00:00\",\"2021-07-30T00:00:00\",\"2021-07-31T00:00:00\",\"2021-08-01T00:00:00\",\"2021-08-02T00:00:00\",\"2021-08-03T00:00:00\",\"2021-08-04T00:00:00\",\"2021-08-05T00:00:00\",\"2021-08-06T00:00:00\",\"2021-08-07T00:00:00\",\"2021-08-08T00:00:00\",\"2021-08-09T00:00:00\",\"2021-08-10T00:00:00\",\"2021-08-11T00:00:00\",\"2021-08-12T00:00:00\",\"2021-08-13T00:00:00\",\"2021-08-14T00:00:00\",\"2021-08-15T00:00:00\",\"2021-08-16T00:00:00\",\"2021-08-17T00:00:00\",\"2021-08-18T00:00:00\",\"2021-08-19T00:00:00\",\"2021-08-20T00:00:00\",\"2021-08-21T00:00:00\",\"2021-08-22T00:00:00\",\"2021-08-23T00:00:00\",\"2021-08-24T00:00:00\",\"2021-08-25T00:00:00\",\"2021-08-26T00:00:00\",\"2021-08-27T00:00:00\",\"2021-08-28T00:00:00\",\"2021-08-29T00:00:00\",\"2021-08-30T00:00:00\",\"2021-08-31T00:00:00\",\"2021-09-01T00:00:00\",\"2021-09-02T00:00:00\",\"2021-09-03T00:00:00\",\"2021-09-04T00:00:00\",\"2021-09-05T00:00:00\",\"2021-09-06T00:00:00\",\"2021-09-07T00:00:00\",\"2021-09-08T00:00:00\",\"2021-09-09T00:00:00\",\"2021-09-10T00:00:00\",\"2021-09-11T00:00:00\",\"2021-09-12T00:00:00\",\"2021-09-13T00:00:00\",\"2021-09-14T00:00:00\",\"2021-09-15T00:00:00\",\"2021-09-16T00:00:00\",\"2021-09-17T00:00:00\",\"2021-09-18T00:00:00\",\"2021-09-19T00:00:00\",\"2021-09-20T00:00:00\",\"2021-09-21T00:00:00\",\"2021-09-22T00:00:00\",\"2021-09-23T00:00:00\",\"2021-09-24T00:00:00\",\"2021-09-25T00:00:00\",\"2021-09-26T00:00:00\",\"2021-09-27T00:00:00\",\"2021-09-28T00:00:00\",\"2021-09-29T00:00:00\",\"2021-09-30T00:00:00\",\"2021-10-01T00:00:00\",\"2021-10-02T00:00:00\",\"2021-10-03T00:00:00\",\"2021-10-04T00:00:00\",\"2021-10-05T00:00:00\",\"2021-10-06T00:00:00\",\"2021-10-07T00:00:00\",\"2021-10-08T00:00:00\",\"2021-10-09T00:00:00\",\"2021-10-10T00:00:00\",\"2021-10-11T00:00:00\",\"2021-10-12T00:00:00\",\"2021-10-13T00:00:00\",\"2021-10-14T00:00:00\",\"2021-10-15T00:00:00\",\"2021-10-16T00:00:00\",\"2021-10-17T00:00:00\",\"2021-10-18T00:00:00\",\"2021-10-19T00:00:00\",\"2021-10-20T00:00:00\",\"2021-10-21T00:00:00\",\"2021-10-22T00:00:00\",\"2021-10-23T00:00:00\",\"2021-10-24T00:00:00\",\"2021-10-25T00:00:00\",\"2021-10-26T00:00:00\",\"2021-10-27T00:00:00\",\"2021-10-28T00:00:00\",\"2021-10-29T00:00:00\",\"2021-10-30T00:00:00\",\"2021-10-31T00:00:00\",\"2021-11-01T00:00:00\",\"2021-11-02T00:00:00\",\"2021-11-03T00:00:00\",\"2021-11-04T00:00:00\",\"2021-11-05T00:00:00\",\"2021-11-06T00:00:00\",\"2021-11-07T00:00:00\",\"2021-11-08T00:00:00\",\"2021-11-09T00:00:00\",\"2021-11-10T00:00:00\",\"2021-11-11T00:00:00\",\"2021-11-12T00:00:00\",\"2021-11-13T00:00:00\",\"2021-11-14T00:00:00\",\"2021-11-15T00:00:00\",\"2021-11-16T00:00:00\",\"2021-11-17T00:00:00\",\"2021-11-18T00:00:00\",\"2021-11-19T00:00:00\",\"2021-11-20T00:00:00\",\"2021-11-21T00:00:00\",\"2021-11-22T00:00:00\",\"2021-11-23T00:00:00\",\"2021-11-24T00:00:00\",\"2021-11-25T00:00:00\",\"2021-11-26T00:00:00\",\"2021-11-27T00:00:00\",\"2021-11-28T00:00:00\",\"2021-11-29T00:00:00\",\"2021-11-30T00:00:00\",\"2021-12-01T00:00:00\",\"2021-12-02T00:00:00\",\"2021-12-03T00:00:00\",\"2021-12-04T00:00:00\",\"2021-12-05T00:00:00\",\"2021-12-06T00:00:00\",\"2021-12-07T00:00:00\",\"2021-12-08T00:00:00\",\"2021-12-09T00:00:00\",\"2021-12-10T00:00:00\",\"2021-12-11T00:00:00\",\"2021-12-12T00:00:00\",\"2021-12-13T00:00:00\",\"2021-12-14T00:00:00\",\"2021-12-15T00:00:00\",\"2021-12-16T00:00:00\",\"2021-12-17T00:00:00\",\"2021-12-18T00:00:00\",\"2021-12-19T00:00:00\",\"2021-12-20T00:00:00\",\"2021-12-21T00:00:00\",\"2021-12-22T00:00:00\",\"2021-12-23T00:00:00\",\"2021-12-24T00:00:00\",\"2021-12-25T00:00:00\",\"2021-12-26T00:00:00\",\"2021-12-27T00:00:00\",\"2021-12-28T00:00:00\",\"2021-12-29T00:00:00\",\"2021-12-30T00:00:00\",\"2021-12-31T00:00:00\",\"2022-01-01T00:00:00\",\"2022-01-02T00:00:00\",\"2022-01-03T00:00:00\",\"2022-01-04T00:00:00\",\"2022-01-05T00:00:00\",\"2022-01-06T00:00:00\",\"2022-01-07T00:00:00\",\"2022-01-08T00:00:00\",\"2022-01-09T00:00:00\",\"2022-01-10T00:00:00\",\"2022-01-11T00:00:00\",\"2022-01-12T00:00:00\",\"2022-01-13T00:00:00\",\"2022-01-14T00:00:00\",\"2022-01-15T00:00:00\",\"2022-01-16T00:00:00\",\"2022-01-17T00:00:00\",\"2022-01-18T00:00:00\",\"2022-01-19T00:00:00\",\"2022-01-20T00:00:00\",\"2022-01-21T00:00:00\",\"2022-01-22T00:00:00\",\"2022-01-23T00:00:00\",\"2022-01-24T00:00:00\",\"2022-01-25T00:00:00\",\"2022-01-26T00:00:00\",\"2022-01-27T00:00:00\",\"2022-01-28T00:00:00\",\"2022-01-29T00:00:00\",\"2022-01-30T00:00:00\",\"2022-01-31T00:00:00\",\"2022-02-01T00:00:00\",\"2022-02-02T00:00:00\",\"2022-02-03T00:00:00\",\"2022-02-04T00:00:00\",\"2022-02-05T00:00:00\",\"2022-02-06T00:00:00\",\"2022-02-07T00:00:00\",\"2022-02-08T00:00:00\",\"2022-02-09T00:00:00\",\"2022-02-10T00:00:00\",\"2022-02-11T00:00:00\",\"2022-02-12T00:00:00\",\"2022-02-13T00:00:00\",\"2022-02-14T00:00:00\",\"2022-02-15T00:00:00\",\"2022-02-16T00:00:00\",\"2022-02-17T00:00:00\",\"2022-02-18T00:00:00\",\"2022-02-19T00:00:00\",\"2022-02-20T00:00:00\",\"2022-02-21T00:00:00\",\"2022-02-22T00:00:00\",\"2022-02-23T00:00:00\",\"2022-02-24T00:00:00\",\"2022-02-25T00:00:00\",\"2022-02-26T00:00:00\",\"2022-02-27T00:00:00\",\"2022-02-28T00:00:00\",\"2022-03-01T00:00:00\",\"2022-03-02T00:00:00\",\"2022-03-03T00:00:00\",\"2022-03-04T00:00:00\",\"2022-03-05T00:00:00\",\"2022-03-06T00:00:00\",\"2022-03-07T00:00:00\",\"2022-03-08T00:00:00\",\"2022-03-09T00:00:00\",\"2022-03-10T00:00:00\",\"2022-03-11T00:00:00\",\"2022-03-12T00:00:00\",\"2022-03-13T00:00:00\",\"2022-03-14T00:00:00\",\"2022-03-15T00:00:00\",\"2022-03-16T00:00:00\",\"2022-03-17T00:00:00\",\"2022-03-18T00:00:00\",\"2022-03-19T00:00:00\",\"2022-03-20T00:00:00\",\"2022-03-21T00:00:00\",\"2022-03-22T00:00:00\",\"2022-03-23T00:00:00\",\"2022-03-24T00:00:00\",\"2022-03-25T00:00:00\",\"2022-03-26T00:00:00\",\"2022-03-27T00:00:00\",\"2022-03-28T00:00:00\",\"2022-03-29T00:00:00\",\"2022-03-30T00:00:00\",\"2022-03-31T00:00:00\",\"2022-04-01T00:00:00\",\"2022-04-02T00:00:00\",\"2022-04-03T00:00:00\",\"2022-04-04T00:00:00\",\"2022-04-05T00:00:00\",\"2022-04-06T00:00:00\",\"2022-04-07T00:00:00\",\"2022-04-08T00:00:00\",\"2022-04-09T00:00:00\",\"2022-04-10T00:00:00\",\"2022-04-11T00:00:00\",\"2022-04-12T00:00:00\",\"2022-04-13T00:00:00\",\"2022-04-14T00:00:00\",\"2022-04-15T00:00:00\",\"2022-04-16T00:00:00\",\"2022-04-17T00:00:00\",\"2022-04-18T00:00:00\",\"2022-04-19T00:00:00\",\"2022-04-20T00:00:00\",\"2022-04-21T00:00:00\",\"2022-04-22T00:00:00\",\"2022-04-23T00:00:00\",\"2022-04-24T00:00:00\",\"2022-04-25T00:00:00\",\"2022-04-26T00:00:00\",\"2022-04-27T00:00:00\",\"2022-04-28T00:00:00\",\"2022-04-29T00:00:00\",\"2022-04-30T00:00:00\",\"2022-05-01T00:00:00\",\"2022-05-02T00:00:00\",\"2022-05-03T00:00:00\",\"2022-05-04T00:00:00\",\"2022-05-05T00:00:00\",\"2022-05-06T00:00:00\",\"2022-05-07T00:00:00\",\"2022-05-08T00:00:00\",\"2022-05-09T00:00:00\",\"2022-05-10T00:00:00\",\"2022-05-11T00:00:00\",\"2022-05-12T00:00:00\",\"2022-05-13T00:00:00\",\"2022-05-14T00:00:00\",\"2022-05-15T00:00:00\",\"2022-05-16T00:00:00\",\"2022-05-17T00:00:00\",\"2022-05-18T00:00:00\",\"2022-05-19T00:00:00\",\"2022-05-20T00:00:00\",\"2022-05-21T00:00:00\",\"2022-05-22T00:00:00\",\"2022-05-23T00:00:00\",\"2022-05-24T00:00:00\",\"2022-05-25T00:00:00\",\"2022-05-26T00:00:00\",\"2022-05-27T00:00:00\",\"2022-05-28T00:00:00\",\"2022-05-29T00:00:00\",\"2022-05-30T00:00:00\",\"2022-05-31T00:00:00\",\"2022-06-01T00:00:00\",\"2022-06-02T00:00:00\",\"2022-06-03T00:00:00\",\"2022-06-04T00:00:00\",\"2022-06-05T00:00:00\",\"2022-06-06T00:00:00\",\"2022-06-07T00:00:00\",\"2022-06-08T00:00:00\",\"2022-06-09T00:00:00\",\"2022-06-10T00:00:00\",\"2022-06-11T00:00:00\",\"2022-06-12T00:00:00\",\"2022-06-13T00:00:00\",\"2022-06-14T00:00:00\",\"2022-06-15T00:00:00\",\"2022-06-16T00:00:00\",\"2022-06-17T00:00:00\",\"2022-06-18T00:00:00\",\"2022-06-19T00:00:00\",\"2022-06-20T00:00:00\",\"2022-06-21T00:00:00\",\"2022-06-22T00:00:00\",\"2022-06-23T00:00:00\",\"2022-06-24T00:00:00\",\"2022-06-25T00:00:00\",\"2022-06-26T00:00:00\",\"2022-06-27T00:00:00\",\"2022-06-28T00:00:00\",\"2022-06-29T00:00:00\",\"2022-06-30T00:00:00\",\"2022-07-01T00:00:00\",\"2022-07-02T00:00:00\",\"2022-07-03T00:00:00\",\"2022-07-04T00:00:00\",\"2022-07-05T00:00:00\",\"2022-07-06T00:00:00\",\"2022-07-07T00:00:00\",\"2022-07-08T00:00:00\",\"2022-07-09T00:00:00\",\"2022-07-10T00:00:00\",\"2022-07-11T00:00:00\",\"2022-07-12T00:00:00\",\"2022-07-13T00:00:00\",\"2022-07-14T00:00:00\",\"2022-07-15T00:00:00\",\"2022-07-16T00:00:00\",\"2022-07-17T00:00:00\",\"2022-07-18T00:00:00\",\"2022-07-19T00:00:00\",\"2022-07-20T00:00:00\",\"2022-07-21T00:00:00\",\"2022-07-22T00:00:00\",\"2022-07-23T00:00:00\",\"2022-07-24T00:00:00\",\"2022-07-25T00:00:00\",\"2022-07-26T00:00:00\",\"2022-07-27T00:00:00\",\"2022-07-28T00:00:00\",\"2022-07-29T00:00:00\",\"2022-07-30T00:00:00\",\"2022-07-31T00:00:00\",\"2022-08-01T00:00:00\",\"2022-08-02T00:00:00\",\"2022-08-03T00:00:00\",\"2022-08-04T00:00:00\",\"2022-08-05T00:00:00\",\"2022-08-06T00:00:00\",\"2022-08-07T00:00:00\",\"2022-08-08T00:00:00\",\"2022-08-09T00:00:00\",\"2022-08-10T00:00:00\",\"2022-08-11T00:00:00\",\"2022-08-12T00:00:00\",\"2022-08-13T00:00:00\",\"2022-08-14T00:00:00\",\"2022-08-15T00:00:00\",\"2022-08-16T00:00:00\",\"2022-08-17T00:00:00\",\"2022-08-18T00:00:00\",\"2022-08-19T00:00:00\",\"2022-08-20T00:00:00\",\"2022-08-21T00:00:00\",\"2022-08-22T00:00:00\",\"2022-08-23T00:00:00\",\"2022-08-24T00:00:00\",\"2022-08-25T00:00:00\",\"2022-08-26T00:00:00\",\"2022-08-27T00:00:00\",\"2022-08-28T00:00:00\",\"2022-08-29T00:00:00\",\"2022-08-30T00:00:00\",\"2022-08-31T00:00:00\",\"2022-09-01T00:00:00\",\"2022-09-02T00:00:00\",\"2022-09-03T00:00:00\",\"2022-09-04T00:00:00\",\"2022-09-05T00:00:00\",\"2022-09-06T00:00:00\",\"2022-09-07T00:00:00\",\"2022-09-08T00:00:00\",\"2022-09-09T00:00:00\",\"2022-09-10T00:00:00\",\"2022-09-11T00:00:00\",\"2022-09-12T00:00:00\",\"2022-09-13T00:00:00\",\"2022-09-14T00:00:00\",\"2022-09-15T00:00:00\",\"2022-09-16T00:00:00\",\"2022-09-17T00:00:00\",\"2022-09-18T00:00:00\",\"2022-09-19T00:00:00\",\"2022-09-20T00:00:00\",\"2022-09-21T00:00:00\",\"2022-09-22T00:00:00\",\"2022-09-23T00:00:00\",\"2022-09-24T00:00:00\",\"2022-09-25T00:00:00\",\"2022-09-26T00:00:00\",\"2022-09-27T00:00:00\",\"2022-09-28T00:00:00\",\"2022-09-29T00:00:00\",\"2022-09-30T00:00:00\",\"2022-10-01T00:00:00\",\"2022-10-02T00:00:00\",\"2022-10-03T00:00:00\",\"2022-10-04T00:00:00\",\"2022-10-05T00:00:00\",\"2022-10-06T00:00:00\",\"2022-10-07T00:00:00\",\"2022-10-08T00:00:00\",\"2022-10-09T00:00:00\",\"2022-10-10T00:00:00\",\"2022-10-11T00:00:00\",\"2022-10-12T00:00:00\",\"2022-10-13T00:00:00\",\"2022-10-14T00:00:00\",\"2022-10-15T00:00:00\",\"2022-10-16T00:00:00\",\"2022-10-17T00:00:00\",\"2022-10-18T00:00:00\",\"2022-10-19T00:00:00\",\"2022-10-20T00:00:00\",\"2022-10-21T00:00:00\",\"2022-10-22T00:00:00\",\"2022-10-23T00:00:00\",\"2022-10-24T00:00:00\",\"2022-10-25T00:00:00\",\"2022-10-26T00:00:00\",\"2022-10-27T00:00:00\",\"2022-10-28T00:00:00\",\"2022-10-29T00:00:00\",\"2022-10-30T00:00:00\",\"2022-10-31T00:00:00\",\"2022-11-01T00:00:00\",\"2022-11-02T00:00:00\",\"2022-11-03T00:00:00\",\"2022-11-04T00:00:00\",\"2022-11-05T00:00:00\",\"2022-11-06T00:00:00\",\"2022-11-07T00:00:00\",\"2022-11-08T00:00:00\",\"2022-11-09T00:00:00\",\"2022-11-10T00:00:00\",\"2022-11-11T00:00:00\",\"2022-11-12T00:00:00\",\"2022-11-13T00:00:00\",\"2022-11-14T00:00:00\",\"2022-11-15T00:00:00\",\"2022-11-16T00:00:00\",\"2022-11-17T00:00:00\",\"2022-11-18T00:00:00\",\"2022-11-19T00:00:00\",\"2022-11-20T00:00:00\",\"2022-11-21T00:00:00\",\"2022-11-22T00:00:00\",\"2022-11-23T00:00:00\",\"2022-11-24T00:00:00\",\"2022-11-25T00:00:00\",\"2022-11-26T00:00:00\",\"2022-11-27T00:00:00\",\"2022-11-28T00:00:00\",\"2022-11-29T00:00:00\",\"2022-11-30T00:00:00\",\"2022-12-01T00:00:00\",\"2022-12-02T00:00:00\",\"2022-12-03T00:00:00\",\"2022-12-04T00:00:00\",\"2022-12-05T00:00:00\",\"2022-12-06T00:00:00\",\"2022-12-07T00:00:00\",\"2022-12-08T00:00:00\",\"2022-12-09T00:00:00\",\"2022-12-10T00:00:00\",\"2022-12-11T00:00:00\",\"2022-12-12T00:00:00\",\"2022-12-13T00:00:00\",\"2022-12-14T00:00:00\",\"2022-12-15T00:00:00\",\"2022-12-16T00:00:00\",\"2022-12-17T00:00:00\",\"2022-12-18T00:00:00\",\"2022-12-19T00:00:00\",\"2022-12-20T00:00:00\",\"2022-12-21T00:00:00\",\"2022-12-22T00:00:00\",\"2022-12-23T00:00:00\",\"2022-12-24T00:00:00\",\"2022-12-25T00:00:00\",\"2022-12-26T00:00:00\",\"2022-12-27T00:00:00\",\"2022-12-28T00:00:00\",\"2022-12-29T00:00:00\",\"2022-12-30T00:00:00\",\"2022-12-31T00:00:00\",\"2023-01-01T00:00:00\",\"2023-01-02T00:00:00\",\"2023-01-03T00:00:00\",\"2023-01-04T00:00:00\",\"2023-01-05T00:00:00\",\"2023-01-06T00:00:00\",\"2023-01-07T00:00:00\",\"2023-01-08T00:00:00\",\"2023-01-09T00:00:00\",\"2023-01-10T00:00:00\",\"2023-01-11T00:00:00\",\"2023-01-12T00:00:00\",\"2023-01-13T00:00:00\",\"2023-01-14T00:00:00\",\"2023-01-15T00:00:00\",\"2023-01-16T00:00:00\",\"2023-01-17T00:00:00\",\"2023-01-18T00:00:00\",\"2023-01-19T00:00:00\",\"2023-01-20T00:00:00\",\"2023-01-21T00:00:00\",\"2023-01-22T00:00:00\",\"2023-01-23T00:00:00\",\"2023-01-24T00:00:00\",\"2023-01-25T00:00:00\",\"2023-01-26T00:00:00\",\"2023-01-27T00:00:00\",\"2023-01-28T00:00:00\",\"2023-01-29T00:00:00\",\"2023-01-30T00:00:00\",\"2023-01-31T00:00:00\",\"2023-02-01T00:00:00\",\"2023-02-02T00:00:00\",\"2023-02-03T00:00:00\",\"2023-02-04T00:00:00\",\"2023-02-05T00:00:00\",\"2023-02-06T00:00:00\",\"2023-02-07T00:00:00\",\"2023-02-08T00:00:00\",\"2023-02-09T00:00:00\",\"2023-02-10T00:00:00\",\"2023-02-11T00:00:00\",\"2023-02-12T00:00:00\",\"2023-02-13T00:00:00\",\"2023-02-14T00:00:00\",\"2023-02-15T00:00:00\",\"2023-02-16T00:00:00\",\"2023-02-17T00:00:00\",\"2023-02-18T00:00:00\",\"2023-02-19T00:00:00\",\"2023-02-20T00:00:00\",\"2023-02-21T00:00:00\",\"2023-02-22T00:00:00\",\"2023-02-23T00:00:00\",\"2023-02-24T00:00:00\",\"2023-02-25T00:00:00\",\"2023-02-26T00:00:00\",\"2023-02-27T00:00:00\",\"2023-02-28T00:00:00\",\"2023-03-01T00:00:00\",\"2023-03-02T00:00:00\",\"2023-03-03T00:00:00\",\"2023-03-04T00:00:00\",\"2023-03-05T00:00:00\",\"2023-03-06T00:00:00\",\"2023-03-07T00:00:00\",\"2023-03-08T00:00:00\",\"2023-03-09T00:00:00\",\"2023-03-10T00:00:00\",\"2023-03-11T00:00:00\",\"2023-03-12T00:00:00\",\"2023-03-13T00:00:00\",\"2023-03-14T00:00:00\",\"2023-03-15T00:00:00\",\"2023-03-16T00:00:00\",\"2023-03-17T00:00:00\",\"2023-03-18T00:00:00\",\"2023-03-19T00:00:00\",\"2023-03-20T00:00:00\",\"2023-03-21T00:00:00\",\"2023-03-22T00:00:00\",\"2023-03-23T00:00:00\",\"2023-03-24T00:00:00\",\"2023-03-25T00:00:00\",\"2023-03-26T00:00:00\",\"2023-03-27T00:00:00\",\"2023-03-28T00:00:00\",\"2023-03-29T00:00:00\",\"2023-03-30T00:00:00\",\"2023-03-31T00:00:00\",\"2023-04-01T00:00:00\",\"2023-04-02T00:00:00\",\"2023-04-03T00:00:00\",\"2023-04-04T00:00:00\",\"2023-04-05T00:00:00\",\"2023-04-06T00:00:00\",\"2023-04-07T00:00:00\",\"2023-04-08T00:00:00\",\"2023-04-09T00:00:00\",\"2023-04-10T00:00:00\",\"2023-04-11T00:00:00\",\"2023-04-12T00:00:00\",\"2023-04-13T00:00:00\",\"2023-04-14T00:00:00\",\"2023-04-15T00:00:00\",\"2023-04-16T00:00:00\",\"2023-04-17T00:00:00\",\"2023-04-18T00:00:00\",\"2023-04-19T00:00:00\",\"2023-04-20T00:00:00\",\"2023-04-21T00:00:00\",\"2023-04-22T00:00:00\",\"2023-04-23T00:00:00\",\"2023-04-24T00:00:00\",\"2023-04-25T00:00:00\",\"2023-04-26T00:00:00\",\"2023-04-27T00:00:00\",\"2023-04-28T00:00:00\",\"2023-04-29T00:00:00\",\"2023-04-30T00:00:00\",\"2023-05-01T00:00:00\",\"2023-05-02T00:00:00\",\"2023-05-03T00:00:00\",\"2023-05-04T00:00:00\",\"2023-05-05T00:00:00\",\"2023-05-06T00:00:00\",\"2023-05-07T00:00:00\",\"2023-05-08T00:00:00\",\"2023-05-09T00:00:00\",\"2023-05-10T00:00:00\",\"2023-05-11T00:00:00\",\"2023-05-12T00:00:00\",\"2023-05-13T00:00:00\",\"2023-05-14T00:00:00\",\"2023-05-15T00:00:00\",\"2023-05-16T00:00:00\",\"2023-05-17T00:00:00\",\"2023-05-18T00:00:00\",\"2023-05-19T00:00:00\",\"2023-05-20T00:00:00\",\"2023-05-21T00:00:00\",\"2023-05-22T00:00:00\",\"2023-05-23T00:00:00\",\"2023-05-24T00:00:00\",\"2023-05-25T00:00:00\",\"2023-05-26T00:00:00\",\"2023-05-27T00:00:00\",\"2023-05-28T00:00:00\",\"2023-05-29T00:00:00\",\"2023-05-30T00:00:00\",\"2023-05-31T00:00:00\",\"2023-06-01T00:00:00\",\"2023-06-02T00:00:00\",\"2023-06-03T00:00:00\",\"2023-06-04T00:00:00\",\"2023-06-05T00:00:00\",\"2023-06-06T00:00:00\",\"2023-06-07T00:00:00\",\"2023-06-08T00:00:00\",\"2023-06-09T00:00:00\",\"2023-06-10T00:00:00\",\"2023-06-11T00:00:00\",\"2023-06-12T00:00:00\",\"2023-06-13T00:00:00\",\"2023-06-14T00:00:00\",\"2023-06-15T00:00:00\",\"2023-06-16T00:00:00\",\"2023-06-17T00:00:00\",\"2023-06-18T00:00:00\",\"2023-06-19T00:00:00\",\"2023-06-20T00:00:00\",\"2023-06-21T00:00:00\",\"2023-06-22T00:00:00\",\"2023-06-23T00:00:00\",\"2023-06-24T00:00:00\",\"2023-06-25T00:00:00\",\"2023-06-26T00:00:00\",\"2023-06-27T00:00:00\",\"2023-06-28T00:00:00\",\"2023-06-29T00:00:00\",\"2023-06-30T00:00:00\",\"2023-07-01T00:00:00\",\"2023-07-02T00:00:00\",\"2023-07-03T00:00:00\",\"2023-07-04T00:00:00\",\"2023-07-05T00:00:00\",\"2023-07-06T00:00:00\",\"2023-07-07T00:00:00\",\"2023-07-08T00:00:00\",\"2023-07-09T00:00:00\",\"2023-07-10T00:00:00\",\"2023-07-11T00:00:00\",\"2023-07-12T00:00:00\",\"2023-07-13T00:00:00\",\"2023-07-14T00:00:00\",\"2023-07-15T00:00:00\",\"2023-07-16T00:00:00\",\"2023-07-17T00:00:00\",\"2023-07-18T00:00:00\",\"2023-07-19T00:00:00\",\"2023-07-20T00:00:00\",\"2023-07-21T00:00:00\",\"2023-07-22T00:00:00\",\"2023-07-23T00:00:00\",\"2023-07-24T00:00:00\",\"2023-07-25T00:00:00\",\"2023-07-26T00:00:00\",\"2023-07-27T00:00:00\",\"2023-07-28T00:00:00\",\"2023-07-29T00:00:00\",\"2023-07-30T00:00:00\",\"2023-07-31T00:00:00\",\"2023-08-01T00:00:00\",\"2023-08-02T00:00:00\",\"2023-08-03T00:00:00\",\"2023-08-04T00:00:00\",\"2023-08-05T00:00:00\",\"2023-08-06T00:00:00\",\"2023-08-07T00:00:00\",\"2023-08-08T00:00:00\",\"2023-08-09T00:00:00\",\"2023-08-10T00:00:00\",\"2023-08-11T00:00:00\",\"2023-08-12T00:00:00\",\"2023-08-13T00:00:00\",\"2023-08-14T00:00:00\",\"2023-08-15T00:00:00\",\"2023-08-16T00:00:00\",\"2023-08-17T00:00:00\",\"2023-08-18T00:00:00\",\"2023-08-19T00:00:00\",\"2023-08-20T00:00:00\",\"2023-08-21T00:00:00\",\"2023-08-22T00:00:00\",\"2023-08-23T00:00:00\",\"2023-08-24T00:00:00\",\"2023-08-25T00:00:00\",\"2023-08-26T00:00:00\",\"2023-08-27T00:00:00\",\"2023-08-28T00:00:00\",\"2023-08-29T00:00:00\",\"2023-08-30T00:00:00\",\"2023-08-31T00:00:00\",\"2023-09-01T00:00:00\",\"2023-09-02T00:00:00\",\"2023-09-03T00:00:00\",\"2023-09-04T00:00:00\",\"2023-09-05T00:00:00\",\"2023-09-06T00:00:00\",\"2023-09-07T00:00:00\",\"2023-09-08T00:00:00\",\"2023-09-09T00:00:00\",\"2023-09-10T00:00:00\",\"2023-09-11T00:00:00\",\"2023-09-12T00:00:00\",\"2023-09-13T00:00:00\",\"2023-09-14T00:00:00\",\"2023-09-15T00:00:00\",\"2023-09-16T00:00:00\",\"2023-09-17T00:00:00\",\"2023-09-18T00:00:00\",\"2023-09-19T00:00:00\",\"2023-09-20T00:00:00\",\"2023-09-21T00:00:00\",\"2023-09-22T00:00:00\",\"2023-09-23T00:00:00\",\"2023-09-24T00:00:00\",\"2023-09-25T00:00:00\",\"2023-09-26T00:00:00\",\"2023-09-27T00:00:00\",\"2023-09-28T00:00:00\",\"2023-09-29T00:00:00\",\"2023-09-30T00:00:00\",\"2023-10-01T00:00:00\",\"2023-10-02T00:00:00\"],\"y\":[100000.0,104116.75823723112,103798.68130602456,111871.7921751227,104004.74374693175,102651.39768799259,106677.04825802178,104834.93254196261,105656.77818740818,106602.7442237607,110173.82440892461,120626.3660339861,120697.5967422596,125025.98114404187,124393.1381389827,123588.91910154797,125069.65248311138,124683.59296134938,124767.68936739593,128424.42912912043,124637.28396785771,127824.52636819496,172654.66072094237,177383.10965405652,236227.36997039025,230341.84749279797,188529.51010529586,200582.1479764731,209667.2665358815,206596.71821938956,217072.37013617548,211842.73203373636,237859.28859011317,189978.77591669606,198101.35389879392,179139.04927316264,168144.91152793998,165180.37124783237,198309.9299923898,200146.0277301767,213601.90736752824,203181.2696220188,193281.37389592803,188365.62100253237,194415.36221849982,197290.1356928481,195612.10112669755,194697.325627853,195716.57012410427,185864.40648412512,178478.15022286406,184145.4411791474,177323.27611966,174348.8868915505,174163.65395342786,170063.8507585438,163573.5499459302,167388.96885326522,174612.66773135302,174851.1400621808,182846.82287051616,178210.49089363654,178924.54647297208,171348.43452668597,174154.30224000537,175230.82246139136,158855.15430039348,157701.19485493947,163690.47956698082,165696.55649225262,160173.78298635574,161207.25896228015,165561.477646205,165641.82139596838,169978.17750078108,170385.92751719666,164444.05891853556,165404.58106080967,169300.15515054137,170412.7016503624,165930.32827974335,169986.07966367222,170286.9967099254,163908.55410622747,164403.67980176775,164134.1579674014,164494.0371358352,163031.9063695093,157976.50580165102,157836.01253932994,156065.53298498312,153683.3852768211,152754.94639261015,152606.55100474626,147158.58338329237,145985.7136127303,156347.37859660384,152077.5838075991,154753.79656877965,154687.36630049848,153685.75431084284,157183.37460733144,157674.23162258588,156839.49065416033,157302.0316266361,158812.06400202346,158930.3026930447,157901.16161859065,157774.6805636991,156607.0435033859,157644.702082752,157052.35506450833,157253.2526593626,167031.1475634013,161027.86893826118,165733.17755047185,167016.49505673413,174590.62539651548,172473.32674439816,179412.33204696968,176603.51370718423,180755.20186499125,179075.68520230913,173190.93075837553,172751.7049870399,176914.20509133738,179800.50106747306,181344.08497313003,182987.91642588063,182598.05139546658,174553.02742097818,180008.00369401753,171524.97891431814,176409.92698695598,174473.58851615206,173542.897996676,169482.51772843563,169873.32283489598,173705.5430077989,172988.06486595795,173433.07682166633,183153.09888534035,181976.47357664845,177357.2583892952,166008.80004063365,168131.9151183719,169406.73269997377,167930.88943174185,168367.89479892876,167915.49341793943,165787.08745710997,167425.6227233,169806.0256787948,175092.6034027641,174670.2674397282,172367.8674903583,170863.2941648999,161735.26774249575,159174.21806486565,165635.97127467053,168628.888832615,162842.3085992374,162899.64926053054,162353.87314767233,161280.06861194348,160237.6585907271,162175.6997585009,162583.71923582384,169778.3262818352,170982.70402742387,175496.81455492135,186754.41166602087,200699.27240329317,234380.49422963345,218616.82890132273,233912.16581912816,233920.4704472884,227478.87459527882,243321.54522169873,236529.2412522041,237042.0518726259,231061.98056822136,236917.67758053707,237437.19796988758,242187.26340695933,246618.30266914907,243343.79991897853,248218.77282850584,241010.66599464644,244110.3524075439,268631.1192412857,272958.5109375391,295560.43496065325,317118.21386597905,423178.24465711304,399495.1220508785,418924.7437483873,390145.45140453975,396598.33258991345,410990.5641293802,402837.6104768935,359850.52586459747,333930.11890926986,376029.31406066596,366924.64998957084,360545.61557953205,352970.45468521526,347696.5357571679,329436.0432640144,355008.70887335006,340416.491754628,341705.99578464695,343905.9400208758,343260.88761606725,323093.1183462726,326070.4730502647,304561.41355139134,333974.54335437366,330879.06391428213,313888.66240970255,311844.986183464,315655.7327975457,308384.42563996336,317663.7579480188,301725.6093627545,304329.33193205134,307156.86218405556,335607.8176618657,336241.31380042183,335119.4706701736,332844.22843457933,330386.31499637006,312098.3776731349,310062.2569476793,322232.4865485523,323061.09661028197,327466.9510087832,307807.86943202594,304050.06740133435,305948.11628416623,314698.76628667326,289598.0275527916,291782.24352094025,305067.1429174223,299118.5774476685,295042.57266815857,300696.72540746175,299666.2817592299,295654.2269042576,312027.8558046974,322784.34503534937,344242.15085473517,325417.7798420371,339479.77282115986,348878.1407493392,344796.85325852036,321591.2649262098,316763.8818997303,320138.2817652945,316114.63343048247,321504.82580589596,320590.034581808,312783.8924759576,306724.1194082154,292583.482695936,300314.8845268382,284985.4211370934,279497.2892193658,283911.69234601327,278823.5656311852,293490.2712942732,308162.59961612197,296193.22633865656,302766.3567030084,303715.40383528976,303246.0849173564,291984.5492013074,284888.6470120471,277405.23083762807,271008.94258397154,246981.83733303583,236989.79960733486,243990.61455055315,236639.5251919516,238701.9398132671,240090.9377016998,240565.67602118204,244042.73528989393,248326.26147200877,242329.8452693504,245144.95834272876,247888.28349566867,240046.92606320177,240983.78883811826,249941.16803847736,254829.1589920646,273164.8386640024,299847.1720283295,291807.83250823454,301310.98012827826,287894.99144381564,273572.6442366913,273008.0511459171,275037.44642568985,274572.8320243675,287645.768528837,286382.00711298396,269187.97952452046,266373.40867699275,267581.7420040627,255978.9956965784,244650.15655586103,250647.39109788043,249635.6063900912,246520.23124494648,254649.42566468962,249714.4318467039,243439.32624250057,260083.35573258752,263752.27987397107,260695.17577336935,254989.24250353366,247089.3864459183,251884.56429521978,245466.530751097,241135.33875298567,242456.87191172678,248303.20112680196,241964.758612209,237222.28221757163,236965.1628245518,235450.0040748226,236210.2885446223,236125.3006844488,243820.9426748359,239680.32789346133,241629.24633082977,249334.4369168867,243203.59813097748,243238.9378570654,244639.42819555383,250159.27122958354,257013.491203367,251376.010695682,252490.11356656335,261962.41254407476,260463.8308304827,264235.64460595534,264162.9579768166,257785.08954459487,261251.7609871751,259788.14876494,264693.89931942255,259949.60612007417,260878.33962726497,245302.779501301,250916.60598195356,244159.0010531965,248627.16194125585,247301.02835084766,233124.26654025377,251923.81086580124,253200.23759593154,247918.5638463113,248939.2368110353,248565.2036295725,243096.80187071738,246321.69441892777,246899.73681187144,246231.02146425046,241057.42276317647,241930.9571862208,240538.24889871717,239693.20646265685,240288.90128692,232244.77991150704,232980.14091979573,231994.70465148825,224591.02632781936,213434.62301181146,222780.14191911972,218530.809191101,215092.47431769862,225770.60678934702,214646.05383371311,213809.54114348016,209465.36995846388,204187.8615025094,184345.91646717908,193676.00565464908,170993.27156145684,165063.2750831902,175224.1153764001,177515.1234881573,179482.13513719663,173348.1375377435,178580.89305775525,170773.2387102602,172374.47009468882,171287.6473604025,171838.75679064312,172957.3248520336,171238.45291693223,171992.47338565084,171433.39709750618,166325.3538530912,161833.07533783093,165635.64296545036,169391.90573251943,172099.09621692164,172142.89571439003,166281.5613803959,167182.48317808047,165855.5756193366,166074.6646540394,166119.83013858218,167532.05067962818,166988.01372391995,166389.0472695077,167277.24049579696,162241.56427326595,156550.20583334146,155072.19108793975,149002.01830082628,148580.19763377836,153007.57087996093,147138.88904151533,147939.75383903168,145594.6524244542,147227.38621054124,147886.84336062465,158315.32399794628,156597.72356567663,160976.98504581134,166264.23327110402,169420.19179202442,164393.87640659913,163475.35523398538,159026.75691573787,158483.6897234266,157749.47081478368,156962.43986171726,158204.04114549994,156934.71852556022,158436.1700452666,159066.69252769655,159725.51485007646,164550.4821124109,166132.07759722398,168768.35413619792,164626.40030740906,160870.36918634578,159840.26307932293,166983.8333692528,169895.3702366603,169825.15623722752,170770.64196139656,171646.08584558603,183407.946421834,182334.31881954902,178437.437361721,181446.32846881408,179294.06604843226,180308.88771661004,180493.65623082078,172670.53823530758,172909.42844699026,177799.76481329033,182598.352837538,182557.616293079,182264.31539968084,182006.8524409764,180824.46602291064,180080.4350619435,180358.04369511234,180645.36088108405,182270.0961746164,181271.83794159399,181298.11408585508,182043.31350380386,180652.4114054297,182686.63331586134,181960.81781897118,185757.28157471755,189338.21660221522,201527.6549017225,193069.15100143224,195762.54892519058,190119.99139348275,185815.7215211647,178870.2239819723,179455.41173762543,180805.89801003423,180351.9214861351,181173.6428331436,180448.61293293972,183929.2839680062,175118.93781152397,176761.42045917636,175844.47530477913,177269.51344540674,177096.18891397095,177792.55103826922,179934.85785579676,179404.10514825783,180071.85740636295,183579.71687741645,182951.35964896204,177103.15180481845,178035.52748987288,178144.92985010426,183338.31808425934,183964.7585501754,183462.89016791995,184822.40695796456,178442.20213001737,178879.88402253098,177206.46738048777,176585.97776815476,177510.93134737143,171178.16058691707,171744.24173255655,170388.9046527858,165925.9337516678,171152.16169264488,172190.6180807046,171193.350431276,170594.93777313258,171205.44284532472,170586.30218471406,170881.5212962071,171525.59411356394,172037.8970144974,171566.50437568876,171498.38528970676,172983.2193070714,177627.93452813593,174897.49253177768,174122.9947308994,174051.3618597443,173326.3920144679,173767.04904017653,170096.7253611093,169047.14321694925,168826.23609228185,168388.17718017264,168897.64593563345,168833.08265325066,169256.402473962,171209.1884955966,171821.48827035393,171026.74579637696,169658.34380562435,170577.73742566298,170599.47429497523,173262.53502807216,172901.2213613182,173911.8615230064,177940.64294171048,176663.66890344716,181522.25152311948,184686.38217285377,180636.16409451835,180586.291010065,182778.81607406255,179105.938665147,182124.22744685778,194092.53186143568,191534.5987486834,189483.50822101906,193941.07583991377,178876.43348430516,166258.66688068068,182085.76497493777,179410.6538768629,174489.87377962467,169117.5128574333,170223.52107898274,171165.5109603174,169486.32139565505,168461.93365829217,168660.3174280388,168500.2732715067,165660.26816667628,161945.94877015438,167348.13925505843,167817.3399313907,167337.9662041246,167195.53397009792,167379.02356187167,167323.30203476833,166346.8414973289,167041.52276510178,170972.93265381583,169823.48801594222,171397.22713592107,169658.45353260942,170453.28985741409,170036.6198781538,170295.45512674464,169388.81836397536,170673.60182208737,169915.80841351597,169902.86651438143,169226.9358618103,169883.67583042406,170418.80832586568,169597.8763992043,168536.35370386206,161986.69922612782,162775.14003101643,165875.30558914135,160956.7592998429,162149.42889401503,161748.08713981276,161895.59930976175,162117.93313782057,161991.15014006977,161957.51305898454,162660.20694585648,162339.7884234578,161315.58352673298,161086.373041362,160373.02216899768,160319.21919887693,160362.60372018613,161222.17455874864,161196.53062341656,162290.104359838,161572.37210878218,161996.68531590165,162376.31361845386,167066.07793725043,167288.212718739,167858.76101240108,169289.9124112954,170217.60087796184,174560.00604521675,177529.72014500314,180588.62016836173,182007.06154465865,181029.9383802765,178696.82705126712,182447.3848709786,185656.3584503939,184065.06910915402,184226.313247194,184254.1413114212,179237.17594420817,184039.47176085267,189019.65808842902,190361.2051251845,189968.1647142212,191781.79488207598,188068.03307287567,189096.16772224367,192524.01309337365,191713.9867352408,197464.83915740997,204177.59721883317,198944.09694498434,198248.7407156672,201675.80834626622,202907.05351404304,193164.84198236087,196492.26397098842,197301.42426197743,196676.0075711414,191409.37991856138,197561.8224489343,203779.30499278224,201939.11123991018,207885.44228429024,206424.2207742313,205988.85179779812,205779.90109832364,202141.83188334305,202681.0482197723,200960.70686928154,197433.68511175338,193487.368379777,197995.0347587787,196180.6526755785,191297.10767148086,193436.6297734335,192488.19494922034,186954.22578109676,185277.9301190686,185709.37440786208,185634.35176515696,186288.6647619682,182277.00350094304,177550.13177400094,179219.35465873822,176536.3109051984,185687.50060296565,187854.21284410387,188208.5146193324,181561.2321346053,186270.23493005475,189422.17067685968,187248.46586432826,187169.36799321344,181104.67210419802,186576.03421035327,184718.62950240163,185892.7885857121,184315.2945781152,183555.07308459177,184624.10928452812,178994.1083782861,180645.49933178443,185291.25124773983,184036.3517389495,185119.31796704556,184644.48146144184,184335.24401564136,184492.66464820513,186103.46654160996,186226.96597666043,185057.32224724937,184853.89571923163,184554.76670338353,184541.9307590209,185307.22360929474,185044.92379987688,184920.2664806372,185912.4072630464,187071.8481869843,190713.8581443551,191148.59074600332,186993.74628612061,190861.6448275816,184026.46862259103,182441.3619767903,177746.26529975788,178231.19895764373,177317.36851098292,176776.39455951977,177401.0970734526,176560.4541035236,177628.79467438735,177102.07517883414,177279.77356725192,176520.4255673593,175514.89766230687,176196.14435358995,177431.04625198082,176442.81390289354,177127.94053905347,172992.50310565587,172487.64538522612,169808.09073023434,168882.50418342894,168881.54120258795,167443.94950701486,168321.38468189188,167674.2877413142,168115.45764553372,168170.53557650038,167677.65696472832,169439.27868388937,168848.67867884587,168723.7299190521,168997.95353101258,168152.70646417636,168751.81511795416,169431.28703932324,168721.8788034489,169399.53363926912,170256.79554652248,170669.99877159073,171538.27582594147,170194.62411580374,169842.92961466545,169512.23672494758,166133.51287017544,169860.87178143562,169836.9280380609,169676.259968417,164053.956950906,163594.6100917266,161143.0450702134,161787.0722771503,159653.72511516468,151661.20746638448,152559.9842779149,152908.3262184294,152937.18681433177,151925.25860767975,150758.70577038324,150758.94835907148,151708.26763050712,151028.68879861746,151736.7636449427,152454.06289890903,157252.1106027458,156701.42687568508,157459.69154777183,156750.29229683243,157265.73414589377,156290.70707934367,157057.5118322951,151777.64239021266,152175.49216395846,157000.57503957348,157705.08286581637,157858.1145321892,159084.92614466962,158442.2172374648,154166.07970339144,153811.53078156832,154385.1153813447,157801.33638458268,158078.247443662,159946.78055230904,160223.90884890646,159544.7814881001,164636.72886131183,163023.06264538883,162649.64988800508,161342.47905399246,161762.92741428394,160085.79689010239,160363.5464856622,161221.4491919014,161391.82230043126,160354.89537828875,160823.62326492358,159681.82815879997,158951.07128405327,159524.9340804037,159262.76737651578,159056.77350045717,162646.49206938798,158526.64544963438,158078.53123173624,158605.87902047246,157710.92335476293,157223.3225221141,160261.39482190725,163652.09620592764,160453.30607220114,160347.75353697315,164417.57240486395,164601.39686638242,164396.8626391886,164216.12570491107,167491.23223714667,164044.39136598128,164086.2772396934,162414.038077721,158507.87367334345,153253.44184179805,156670.65095877837,153414.11050289567,153540.97284413537,152618.366301967,152245.5699993028,152636.70083518088,152232.0927179649,152202.600691298,152236.13053242827,152575.54255230472,152796.9747543145,154092.79194125187,153344.48852523934,152292.8993172545,151970.1715792816,151971.94723558088,152004.13582567044,149234.54577853097,152622.5343333895,152648.29909933388,152549.73793155223,152043.21224512346,151930.32774330163,147966.0615534674,147140.18130430143,147239.34569912782,147543.109934989,147900.9818350616,148223.90141196462,148217.63460979352,147738.1929180899,148119.9354590037,148861.6383331319,148797.2990830309,147904.3798542619,147957.49171080292,151136.09493961534,147648.0706647691,147883.95897396177,147505.90422904928,147240.8534163811,147911.79511293294,148245.6907898217,148504.72009157934,153207.2115644911,149969.9385830961],\"type\":\"scatter\"}],                        {\"template\":{\"data\":{\"histogram2dcontour\":[{\"type\":\"histogram2dcontour\",\"colorbar\":{\"outlinewidth\":0,\"ticks\":\"\"},\"colorscale\":[[0.0,\"#0d0887\"],[0.1111111111111111,\"#46039f\"],[0.2222222222222222,\"#7201a8\"],[0.3333333333333333,\"#9c179e\"],[0.4444444444444444,\"#bd3786\"],[0.5555555555555556,\"#d8576b\"],[0.6666666666666666,\"#ed7953\"],[0.7777777777777778,\"#fb9f3a\"],[0.8888888888888888,\"#fdca26\"],[1.0,\"#f0f921\"]]}],\"choropleth\":[{\"type\":\"choropleth\",\"colorbar\":{\"outlinewidth\":0,\"ticks\":\"\"}}],\"histogram2d\":[{\"type\":\"histogram2d\",\"colorbar\":{\"outlinewidth\":0,\"ticks\":\"\"},\"colorscale\":[[0.0,\"#0d0887\"],[0.1111111111111111,\"#46039f\"],[0.2222222222222222,\"#7201a8\"],[0.3333333333333333,\"#9c179e\"],[0.4444444444444444,\"#bd3786\"],[0.5555555555555556,\"#d8576b\"],[0.6666666666666666,\"#ed7953\"],[0.7777777777777778,\"#fb9f3a\"],[0.8888888888888888,\"#fdca26\"],[1.0,\"#f0f921\"]]}],\"heatmap\":[{\"type\":\"heatmap\",\"colorbar\":{\"outlinewidth\":0,\"ticks\":\"\"},\"colorscale\":[[0.0,\"#0d0887\"],[0.1111111111111111,\"#46039f\"],[0.2222222222222222,\"#7201a8\"],[0.3333333333333333,\"#9c179e\"],[0.4444444444444444,\"#bd3786\"],[0.5555555555555556,\"#d8576b\"],[0.6666666666666666,\"#ed7953\"],[0.7777777777777778,\"#fb9f3a\"],[0.8888888888888888,\"#fdca26\"],[1.0,\"#f0f921\"]]}],\"heatmapgl\":[{\"type\":\"heatmapgl\",\"colorbar\":{\"outlinewidth\":0,\"ticks\":\"\"},\"colorscale\":[[0.0,\"#0d0887\"],[0.1111111111111111,\"#46039f\"],[0.2222222222222222,\"#7201a8\"],[0.3333333333333333,\"#9c179e\"],[0.4444444444444444,\"#bd3786\"],[0.5555555555555556,\"#d8576b\"],[0.6666666666666666,\"#ed7953\"],[0.7777777777777778,\"#fb9f3a\"],[0.8888888888888888,\"#fdca26\"],[1.0,\"#f0f921\"]]}],\"contourcarpet\":[{\"type\":\"contourcarpet\",\"colorbar\":{\"outlinewidth\":0,\"ticks\":\"\"}}],\"contour\":[{\"type\":\"contour\",\"colorbar\":{\"outlinewidth\":0,\"ticks\":\"\"},\"colorscale\":[[0.0,\"#0d0887\"],[0.1111111111111111,\"#46039f\"],[0.2222222222222222,\"#7201a8\"],[0.3333333333333333,\"#9c179e\"],[0.4444444444444444,\"#bd3786\"],[0.5555555555555556,\"#d8576b\"],[0.6666666666666666,\"#ed7953\"],[0.7777777777777778,\"#fb9f3a\"],[0.8888888888888888,\"#fdca26\"],[1.0,\"#f0f921\"]]}],\"surface\":[{\"type\":\"surface\",\"colorbar\":{\"outlinewidth\":0,\"ticks\":\"\"},\"colorscale\":[[0.0,\"#0d0887\"],[0.1111111111111111,\"#46039f\"],[0.2222222222222222,\"#7201a8\"],[0.3333333333333333,\"#9c179e\"],[0.4444444444444444,\"#bd3786\"],[0.5555555555555556,\"#d8576b\"],[0.6666666666666666,\"#ed7953\"],[0.7777777777777778,\"#fb9f3a\"],[0.8888888888888888,\"#fdca26\"],[1.0,\"#f0f921\"]]}],\"mesh3d\":[{\"type\":\"mesh3d\",\"colorbar\":{\"outlinewidth\":0,\"ticks\":\"\"}}],\"scatter\":[{\"fillpattern\":{\"fillmode\":\"overlay\",\"size\":10,\"solidity\":0.2},\"type\":\"scatter\"}],\"parcoords\":[{\"type\":\"parcoords\",\"line\":{\"colorbar\":{\"outlinewidth\":0,\"ticks\":\"\"}}}],\"scatterpolargl\":[{\"type\":\"scatterpolargl\",\"marker\":{\"colorbar\":{\"outlinewidth\":0,\"ticks\":\"\"}}}],\"bar\":[{\"error_x\":{\"color\":\"#2a3f5f\"},\"error_y\":{\"color\":\"#2a3f5f\"},\"marker\":{\"line\":{\"color\":\"#E5ECF6\",\"width\":0.5},\"pattern\":{\"fillmode\":\"overlay\",\"size\":10,\"solidity\":0.2}},\"type\":\"bar\"}],\"scattergeo\":[{\"type\":\"scattergeo\",\"marker\":{\"colorbar\":{\"outlinewidth\":0,\"ticks\":\"\"}}}],\"scatterpolar\":[{\"type\":\"scatterpolar\",\"marker\":{\"colorbar\":{\"outlinewidth\":0,\"ticks\":\"\"}}}],\"histogram\":[{\"marker\":{\"pattern\":{\"fillmode\":\"overlay\",\"size\":10,\"solidity\":0.2}},\"type\":\"histogram\"}],\"scattergl\":[{\"type\":\"scattergl\",\"marker\":{\"colorbar\":{\"outlinewidth\":0,\"ticks\":\"\"}}}],\"scatter3d\":[{\"type\":\"scatter3d\",\"line\":{\"colorbar\":{\"outlinewidth\":0,\"ticks\":\"\"}},\"marker\":{\"colorbar\":{\"outlinewidth\":0,\"ticks\":\"\"}}}],\"scattermapbox\":[{\"type\":\"scattermapbox\",\"marker\":{\"colorbar\":{\"outlinewidth\":0,\"ticks\":\"\"}}}],\"scatterternary\":[{\"type\":\"scatterternary\",\"marker\":{\"colorbar\":{\"outlinewidth\":0,\"ticks\":\"\"}}}],\"scattercarpet\":[{\"type\":\"scattercarpet\",\"marker\":{\"colorbar\":{\"outlinewidth\":0,\"ticks\":\"\"}}}],\"carpet\":[{\"aaxis\":{\"endlinecolor\":\"#2a3f5f\",\"gridcolor\":\"white\",\"linecolor\":\"white\",\"minorgridcolor\":\"white\",\"startlinecolor\":\"#2a3f5f\"},\"baxis\":{\"endlinecolor\":\"#2a3f5f\",\"gridcolor\":\"white\",\"linecolor\":\"white\",\"minorgridcolor\":\"white\",\"startlinecolor\":\"#2a3f5f\"},\"type\":\"carpet\"}],\"table\":[{\"cells\":{\"fill\":{\"color\":\"#EBF0F8\"},\"line\":{\"color\":\"white\"}},\"header\":{\"fill\":{\"color\":\"#C8D4E3\"},\"line\":{\"color\":\"white\"}},\"type\":\"table\"}],\"barpolar\":[{\"marker\":{\"line\":{\"color\":\"#E5ECF6\",\"width\":0.5},\"pattern\":{\"fillmode\":\"overlay\",\"size\":10,\"solidity\":0.2}},\"type\":\"barpolar\"}],\"pie\":[{\"automargin\":true,\"type\":\"pie\"}]},\"layout\":{\"autotypenumbers\":\"strict\",\"colorway\":[\"#636efa\",\"#EF553B\",\"#00cc96\",\"#ab63fa\",\"#FFA15A\",\"#19d3f3\",\"#FF6692\",\"#B6E880\",\"#FF97FF\",\"#FECB52\"],\"font\":{\"color\":\"#2a3f5f\"},\"hovermode\":\"closest\",\"hoverlabel\":{\"align\":\"left\"},\"paper_bgcolor\":\"white\",\"plot_bgcolor\":\"#E5ECF6\",\"polar\":{\"bgcolor\":\"#E5ECF6\",\"angularaxis\":{\"gridcolor\":\"white\",\"linecolor\":\"white\",\"ticks\":\"\"},\"radialaxis\":{\"gridcolor\":\"white\",\"linecolor\":\"white\",\"ticks\":\"\"}},\"ternary\":{\"bgcolor\":\"#E5ECF6\",\"aaxis\":{\"gridcolor\":\"white\",\"linecolor\":\"white\",\"ticks\":\"\"},\"baxis\":{\"gridcolor\":\"white\",\"linecolor\":\"white\",\"ticks\":\"\"},\"caxis\":{\"gridcolor\":\"white\",\"linecolor\":\"white\",\"ticks\":\"\"}},\"coloraxis\":{\"colorbar\":{\"outlinewidth\":0,\"ticks\":\"\"}},\"colorscale\":{\"sequential\":[[0.0,\"#0d0887\"],[0.1111111111111111,\"#46039f\"],[0.2222222222222222,\"#7201a8\"],[0.3333333333333333,\"#9c179e\"],[0.4444444444444444,\"#bd3786\"],[0.5555555555555556,\"#d8576b\"],[0.6666666666666666,\"#ed7953\"],[0.7777777777777778,\"#fb9f3a\"],[0.8888888888888888,\"#fdca26\"],[1.0,\"#f0f921\"]],\"sequentialminus\":[[0.0,\"#0d0887\"],[0.1111111111111111,\"#46039f\"],[0.2222222222222222,\"#7201a8\"],[0.3333333333333333,\"#9c179e\"],[0.4444444444444444,\"#bd3786\"],[0.5555555555555556,\"#d8576b\"],[0.6666666666666666,\"#ed7953\"],[0.7777777777777778,\"#fb9f3a\"],[0.8888888888888888,\"#fdca26\"],[1.0,\"#f0f921\"]],\"diverging\":[[0,\"#8e0152\"],[0.1,\"#c51b7d\"],[0.2,\"#de77ae\"],[0.3,\"#f1b6da\"],[0.4,\"#fde0ef\"],[0.5,\"#f7f7f7\"],[0.6,\"#e6f5d0\"],[0.7,\"#b8e186\"],[0.8,\"#7fbc41\"],[0.9,\"#4d9221\"],[1,\"#276419\"]]},\"xaxis\":{\"gridcolor\":\"white\",\"linecolor\":\"white\",\"ticks\":\"\",\"title\":{\"standoff\":15},\"zerolinecolor\":\"white\",\"automargin\":true,\"zerolinewidth\":2},\"yaxis\":{\"gridcolor\":\"white\",\"linecolor\":\"white\",\"ticks\":\"\",\"title\":{\"standoff\":15},\"zerolinecolor\":\"white\",\"automargin\":true,\"zerolinewidth\":2},\"scene\":{\"xaxis\":{\"backgroundcolor\":\"#E5ECF6\",\"gridcolor\":\"white\",\"linecolor\":\"white\",\"showbackground\":true,\"ticks\":\"\",\"zerolinecolor\":\"white\",\"gridwidth\":2},\"yaxis\":{\"backgroundcolor\":\"#E5ECF6\",\"gridcolor\":\"white\",\"linecolor\":\"white\",\"showbackground\":true,\"ticks\":\"\",\"zerolinecolor\":\"white\",\"gridwidth\":2},\"zaxis\":{\"backgroundcolor\":\"#E5ECF6\",\"gridcolor\":\"white\",\"linecolor\":\"white\",\"showbackground\":true,\"ticks\":\"\",\"zerolinecolor\":\"white\",\"gridwidth\":2}},\"shapedefaults\":{\"line\":{\"color\":\"#2a3f5f\"}},\"annotationdefaults\":{\"arrowcolor\":\"#2a3f5f\",\"arrowhead\":0,\"arrowwidth\":1},\"geo\":{\"bgcolor\":\"white\",\"landcolor\":\"#E5ECF6\",\"subunitcolor\":\"white\",\"showland\":true,\"showlakes\":true,\"lakecolor\":\"white\"},\"title\":{\"x\":0.05},\"mapbox\":{\"style\":\"light\"}}},\"xaxis\":{\"title\":{\"text\":\"Date\"},\"zerolinecolor\":\"Black\"},\"yaxis\":{\"title\":{\"text\":\"Dollars\"},\"zerolinecolor\":\"Black\"},\"title\":{\"font\":{\"size\":25,\"color\":\"Navy\"},\"text\":\"Comparing 2 static strategies\",\"x\":0.5,\"y\":0.87}},                        {\"responsive\": true}                    ).then(function(){\n",
              "                            \n",
              "var gd = document.getElementById('28b1b374-a676-4fa7-9e26-69a682e8718a');\n",
              "var x = new MutationObserver(function (mutations, observer) {{\n",
              "        var display = window.getComputedStyle(gd).display;\n",
              "        if (!display || display === 'none') {{\n",
              "            console.log([gd, 'removed!']);\n",
              "            Plotly.purge(gd);\n",
              "            observer.disconnect();\n",
              "        }}\n",
              "}});\n",
              "\n",
              "// Listen for the removal of the full notebook cells\n",
              "var notebookContainer = gd.closest('#notebook-container');\n",
              "if (notebookContainer) {{\n",
              "    x.observe(notebookContainer, {childList: true});\n",
              "}}\n",
              "\n",
              "// Listen for the clearing of the current output cell\n",
              "var outputEl = gd.closest('.output');\n",
              "if (outputEl) {{\n",
              "    x.observe(outputEl, {childList: true});\n",
              "}}\n",
              "\n",
              "                        })                };                            </script>        </div>\n",
              "</body>\n",
              "</html>"
            ]
          },
          "metadata": {}
        }
      ]
    },
    {
      "cell_type": "markdown",
      "source": [
        "# 3rd portfolio"
      ],
      "metadata": {
        "id": "EDqUYOh9w27j"
      }
    },
    {
      "cell_type": "code",
      "source": [
        "crypto3 = ['UNI-USD', 'COMP', 'LINK-USD', 'AAVE-USD', 'MKR-USD', 'MANA-USD', 'ENJ-USD', 'FLOW-USD', 'AXS-USD', 'SAND']\n",
        "\n",
        "cryptoprice3 = yf.download(crypto3, start='2021-4-16')['Adj Close']\n",
        "cryptoprice3.head()"
      ],
      "metadata": {
        "colab": {
          "base_uri": "https://localhost:8080/",
          "height": 379
        },
        "id": "gd6yuLzOw8Iq",
        "outputId": "e089d4fa-5706-47d4-e2cb-b8fb5b02c4cb"
      },
      "execution_count": 58,
      "outputs": [
        {
          "output_type": "stream",
          "name": "stdout",
          "text": [
            "[*********************100%%**********************]  10 of 10 completed\n"
          ]
        },
        {
          "output_type": "execute_result",
          "data": {
            "text/plain": [
              "              AAVE-USD   AXS-USD       COMP   ENJ-USD   FLOW-USD   LINK-USD  \\\n",
              "Date                                                                          \n",
              "2021-04-16  442.194397  7.448085  18.030001  3.027652  36.581551  42.101555   \n",
              "2021-04-17  430.174683  7.817194        NaN  2.999848  35.695862  40.372066   \n",
              "2021-04-18  382.075104  6.650603        NaN  2.694819  32.571568  39.065910   \n",
              "2021-04-19  346.812561  8.106076  17.780001  2.412772  32.903790  35.879383   \n",
              "2021-04-20  361.608185  8.564796  17.219999  2.565713  34.380268  38.950634   \n",
              "\n",
              "            MANA-USD      MKR-USD      SAND   UNI-USD  \n",
              "Date                                                   \n",
              "2021-04-16  1.313581  3381.328857  7.543564  0.001272  \n",
              "2021-04-17  1.526686  3341.222900       NaN  0.001257  \n",
              "2021-04-18  1.349810  3233.734863       NaN  0.000698  \n",
              "2021-04-19  1.317240  3520.074951  7.435520  0.001361  \n",
              "2021-04-20  1.396516  3452.383301  7.474809  0.001369  "
            ],
            "text/html": [
              "\n",
              "  <div id=\"df-795119f8-8eda-4d9c-bb19-b28608209890\" class=\"colab-df-container\">\n",
              "    <div>\n",
              "<style scoped>\n",
              "    .dataframe tbody tr th:only-of-type {\n",
              "        vertical-align: middle;\n",
              "    }\n",
              "\n",
              "    .dataframe tbody tr th {\n",
              "        vertical-align: top;\n",
              "    }\n",
              "\n",
              "    .dataframe thead th {\n",
              "        text-align: right;\n",
              "    }\n",
              "</style>\n",
              "<table border=\"1\" class=\"dataframe\">\n",
              "  <thead>\n",
              "    <tr style=\"text-align: right;\">\n",
              "      <th></th>\n",
              "      <th>AAVE-USD</th>\n",
              "      <th>AXS-USD</th>\n",
              "      <th>COMP</th>\n",
              "      <th>ENJ-USD</th>\n",
              "      <th>FLOW-USD</th>\n",
              "      <th>LINK-USD</th>\n",
              "      <th>MANA-USD</th>\n",
              "      <th>MKR-USD</th>\n",
              "      <th>SAND</th>\n",
              "      <th>UNI-USD</th>\n",
              "    </tr>\n",
              "    <tr>\n",
              "      <th>Date</th>\n",
              "      <th></th>\n",
              "      <th></th>\n",
              "      <th></th>\n",
              "      <th></th>\n",
              "      <th></th>\n",
              "      <th></th>\n",
              "      <th></th>\n",
              "      <th></th>\n",
              "      <th></th>\n",
              "      <th></th>\n",
              "    </tr>\n",
              "  </thead>\n",
              "  <tbody>\n",
              "    <tr>\n",
              "      <th>2021-04-16</th>\n",
              "      <td>442.194397</td>\n",
              "      <td>7.448085</td>\n",
              "      <td>18.030001</td>\n",
              "      <td>3.027652</td>\n",
              "      <td>36.581551</td>\n",
              "      <td>42.101555</td>\n",
              "      <td>1.313581</td>\n",
              "      <td>3381.328857</td>\n",
              "      <td>7.543564</td>\n",
              "      <td>0.001272</td>\n",
              "    </tr>\n",
              "    <tr>\n",
              "      <th>2021-04-17</th>\n",
              "      <td>430.174683</td>\n",
              "      <td>7.817194</td>\n",
              "      <td>NaN</td>\n",
              "      <td>2.999848</td>\n",
              "      <td>35.695862</td>\n",
              "      <td>40.372066</td>\n",
              "      <td>1.526686</td>\n",
              "      <td>3341.222900</td>\n",
              "      <td>NaN</td>\n",
              "      <td>0.001257</td>\n",
              "    </tr>\n",
              "    <tr>\n",
              "      <th>2021-04-18</th>\n",
              "      <td>382.075104</td>\n",
              "      <td>6.650603</td>\n",
              "      <td>NaN</td>\n",
              "      <td>2.694819</td>\n",
              "      <td>32.571568</td>\n",
              "      <td>39.065910</td>\n",
              "      <td>1.349810</td>\n",
              "      <td>3233.734863</td>\n",
              "      <td>NaN</td>\n",
              "      <td>0.000698</td>\n",
              "    </tr>\n",
              "    <tr>\n",
              "      <th>2021-04-19</th>\n",
              "      <td>346.812561</td>\n",
              "      <td>8.106076</td>\n",
              "      <td>17.780001</td>\n",
              "      <td>2.412772</td>\n",
              "      <td>32.903790</td>\n",
              "      <td>35.879383</td>\n",
              "      <td>1.317240</td>\n",
              "      <td>3520.074951</td>\n",
              "      <td>7.435520</td>\n",
              "      <td>0.001361</td>\n",
              "    </tr>\n",
              "    <tr>\n",
              "      <th>2021-04-20</th>\n",
              "      <td>361.608185</td>\n",
              "      <td>8.564796</td>\n",
              "      <td>17.219999</td>\n",
              "      <td>2.565713</td>\n",
              "      <td>34.380268</td>\n",
              "      <td>38.950634</td>\n",
              "      <td>1.396516</td>\n",
              "      <td>3452.383301</td>\n",
              "      <td>7.474809</td>\n",
              "      <td>0.001369</td>\n",
              "    </tr>\n",
              "  </tbody>\n",
              "</table>\n",
              "</div>\n",
              "    <div class=\"colab-df-buttons\">\n",
              "\n",
              "  <div class=\"colab-df-container\">\n",
              "    <button class=\"colab-df-convert\" onclick=\"convertToInteractive('df-795119f8-8eda-4d9c-bb19-b28608209890')\"\n",
              "            title=\"Convert this dataframe to an interactive table.\"\n",
              "            style=\"display:none;\">\n",
              "\n",
              "  <svg xmlns=\"http://www.w3.org/2000/svg\" height=\"24px\" viewBox=\"0 -960 960 960\">\n",
              "    <path d=\"M120-120v-720h720v720H120Zm60-500h600v-160H180v160Zm220 220h160v-160H400v160Zm0 220h160v-160H400v160ZM180-400h160v-160H180v160Zm440 0h160v-160H620v160ZM180-180h160v-160H180v160Zm440 0h160v-160H620v160Z\"/>\n",
              "  </svg>\n",
              "    </button>\n",
              "\n",
              "  <style>\n",
              "    .colab-df-container {\n",
              "      display:flex;\n",
              "      gap: 12px;\n",
              "    }\n",
              "\n",
              "    .colab-df-convert {\n",
              "      background-color: #E8F0FE;\n",
              "      border: none;\n",
              "      border-radius: 50%;\n",
              "      cursor: pointer;\n",
              "      display: none;\n",
              "      fill: #1967D2;\n",
              "      height: 32px;\n",
              "      padding: 0 0 0 0;\n",
              "      width: 32px;\n",
              "    }\n",
              "\n",
              "    .colab-df-convert:hover {\n",
              "      background-color: #E2EBFA;\n",
              "      box-shadow: 0px 1px 2px rgba(60, 64, 67, 0.3), 0px 1px 3px 1px rgba(60, 64, 67, 0.15);\n",
              "      fill: #174EA6;\n",
              "    }\n",
              "\n",
              "    .colab-df-buttons div {\n",
              "      margin-bottom: 4px;\n",
              "    }\n",
              "\n",
              "    [theme=dark] .colab-df-convert {\n",
              "      background-color: #3B4455;\n",
              "      fill: #D2E3FC;\n",
              "    }\n",
              "\n",
              "    [theme=dark] .colab-df-convert:hover {\n",
              "      background-color: #434B5C;\n",
              "      box-shadow: 0px 1px 3px 1px rgba(0, 0, 0, 0.15);\n",
              "      filter: drop-shadow(0px 1px 2px rgba(0, 0, 0, 0.3));\n",
              "      fill: #FFFFFF;\n",
              "    }\n",
              "  </style>\n",
              "\n",
              "    <script>\n",
              "      const buttonEl =\n",
              "        document.querySelector('#df-795119f8-8eda-4d9c-bb19-b28608209890 button.colab-df-convert');\n",
              "      buttonEl.style.display =\n",
              "        google.colab.kernel.accessAllowed ? 'block' : 'none';\n",
              "\n",
              "      async function convertToInteractive(key) {\n",
              "        const element = document.querySelector('#df-795119f8-8eda-4d9c-bb19-b28608209890');\n",
              "        const dataTable =\n",
              "          await google.colab.kernel.invokeFunction('convertToInteractive',\n",
              "                                                    [key], {});\n",
              "        if (!dataTable) return;\n",
              "\n",
              "        const docLinkHtml = 'Like what you see? Visit the ' +\n",
              "          '<a target=\"_blank\" href=https://colab.research.google.com/notebooks/data_table.ipynb>data table notebook</a>'\n",
              "          + ' to learn more about interactive tables.';\n",
              "        element.innerHTML = '';\n",
              "        dataTable['output_type'] = 'display_data';\n",
              "        await google.colab.output.renderOutput(dataTable, element);\n",
              "        const docLink = document.createElement('div');\n",
              "        docLink.innerHTML = docLinkHtml;\n",
              "        element.appendChild(docLink);\n",
              "      }\n",
              "    </script>\n",
              "  </div>\n",
              "\n",
              "\n",
              "<div id=\"df-0aeee1be-a7e8-42d3-bee5-ed0f1a7bebae\">\n",
              "  <button class=\"colab-df-quickchart\" onclick=\"quickchart('df-0aeee1be-a7e8-42d3-bee5-ed0f1a7bebae')\"\n",
              "            title=\"Suggest charts.\"\n",
              "            style=\"display:none;\">\n",
              "\n",
              "<svg xmlns=\"http://www.w3.org/2000/svg\" height=\"24px\"viewBox=\"0 0 24 24\"\n",
              "     width=\"24px\">\n",
              "    <g>\n",
              "        <path d=\"M19 3H5c-1.1 0-2 .9-2 2v14c0 1.1.9 2 2 2h14c1.1 0 2-.9 2-2V5c0-1.1-.9-2-2-2zM9 17H7v-7h2v7zm4 0h-2V7h2v10zm4 0h-2v-4h2v4z\"/>\n",
              "    </g>\n",
              "</svg>\n",
              "  </button>\n",
              "\n",
              "<style>\n",
              "  .colab-df-quickchart {\n",
              "      --bg-color: #E8F0FE;\n",
              "      --fill-color: #1967D2;\n",
              "      --hover-bg-color: #E2EBFA;\n",
              "      --hover-fill-color: #174EA6;\n",
              "      --disabled-fill-color: #AAA;\n",
              "      --disabled-bg-color: #DDD;\n",
              "  }\n",
              "\n",
              "  [theme=dark] .colab-df-quickchart {\n",
              "      --bg-color: #3B4455;\n",
              "      --fill-color: #D2E3FC;\n",
              "      --hover-bg-color: #434B5C;\n",
              "      --hover-fill-color: #FFFFFF;\n",
              "      --disabled-bg-color: #3B4455;\n",
              "      --disabled-fill-color: #666;\n",
              "  }\n",
              "\n",
              "  .colab-df-quickchart {\n",
              "    background-color: var(--bg-color);\n",
              "    border: none;\n",
              "    border-radius: 50%;\n",
              "    cursor: pointer;\n",
              "    display: none;\n",
              "    fill: var(--fill-color);\n",
              "    height: 32px;\n",
              "    padding: 0;\n",
              "    width: 32px;\n",
              "  }\n",
              "\n",
              "  .colab-df-quickchart:hover {\n",
              "    background-color: var(--hover-bg-color);\n",
              "    box-shadow: 0 1px 2px rgba(60, 64, 67, 0.3), 0 1px 3px 1px rgba(60, 64, 67, 0.15);\n",
              "    fill: var(--button-hover-fill-color);\n",
              "  }\n",
              "\n",
              "  .colab-df-quickchart-complete:disabled,\n",
              "  .colab-df-quickchart-complete:disabled:hover {\n",
              "    background-color: var(--disabled-bg-color);\n",
              "    fill: var(--disabled-fill-color);\n",
              "    box-shadow: none;\n",
              "  }\n",
              "\n",
              "  .colab-df-spinner {\n",
              "    border: 2px solid var(--fill-color);\n",
              "    border-color: transparent;\n",
              "    border-bottom-color: var(--fill-color);\n",
              "    animation:\n",
              "      spin 1s steps(1) infinite;\n",
              "  }\n",
              "\n",
              "  @keyframes spin {\n",
              "    0% {\n",
              "      border-color: transparent;\n",
              "      border-bottom-color: var(--fill-color);\n",
              "      border-left-color: var(--fill-color);\n",
              "    }\n",
              "    20% {\n",
              "      border-color: transparent;\n",
              "      border-left-color: var(--fill-color);\n",
              "      border-top-color: var(--fill-color);\n",
              "    }\n",
              "    30% {\n",
              "      border-color: transparent;\n",
              "      border-left-color: var(--fill-color);\n",
              "      border-top-color: var(--fill-color);\n",
              "      border-right-color: var(--fill-color);\n",
              "    }\n",
              "    40% {\n",
              "      border-color: transparent;\n",
              "      border-right-color: var(--fill-color);\n",
              "      border-top-color: var(--fill-color);\n",
              "    }\n",
              "    60% {\n",
              "      border-color: transparent;\n",
              "      border-right-color: var(--fill-color);\n",
              "    }\n",
              "    80% {\n",
              "      border-color: transparent;\n",
              "      border-right-color: var(--fill-color);\n",
              "      border-bottom-color: var(--fill-color);\n",
              "    }\n",
              "    90% {\n",
              "      border-color: transparent;\n",
              "      border-bottom-color: var(--fill-color);\n",
              "    }\n",
              "  }\n",
              "</style>\n",
              "\n",
              "  <script>\n",
              "    async function quickchart(key) {\n",
              "      const quickchartButtonEl =\n",
              "        document.querySelector('#' + key + ' button');\n",
              "      quickchartButtonEl.disabled = true;  // To prevent multiple clicks.\n",
              "      quickchartButtonEl.classList.add('colab-df-spinner');\n",
              "      try {\n",
              "        const charts = await google.colab.kernel.invokeFunction(\n",
              "            'suggestCharts', [key], {});\n",
              "      } catch (error) {\n",
              "        console.error('Error during call to suggestCharts:', error);\n",
              "      }\n",
              "      quickchartButtonEl.classList.remove('colab-df-spinner');\n",
              "      quickchartButtonEl.classList.add('colab-df-quickchart-complete');\n",
              "    }\n",
              "    (() => {\n",
              "      let quickchartButtonEl =\n",
              "        document.querySelector('#df-0aeee1be-a7e8-42d3-bee5-ed0f1a7bebae button');\n",
              "      quickchartButtonEl.style.display =\n",
              "        google.colab.kernel.accessAllowed ? 'block' : 'none';\n",
              "    })();\n",
              "  </script>\n",
              "</div>\n",
              "    </div>\n",
              "  </div>\n"
            ]
          },
          "metadata": {},
          "execution_count": 58
        }
      ]
    },
    {
      "cell_type": "code",
      "source": [
        "rets3 = cryptoprice3.pct_change().dropna()\n",
        "rets3"
      ],
      "metadata": {
        "colab": {
          "base_uri": "https://localhost:8080/",
          "height": 649
        },
        "id": "JyK06Iud186m",
        "outputId": "ffb648fb-7f41-4f67-b89c-22c871c68d34"
      },
      "execution_count": 59,
      "outputs": [
        {
          "output_type": "execute_result",
          "data": {
            "text/plain": [
              "            AAVE-USD   AXS-USD      COMP   ENJ-USD  FLOW-USD  LINK-USD  \\\n",
              "Date                                                                     \n",
              "2021-04-17 -0.027182  0.049558  0.000000 -0.009183 -0.024211 -0.041079   \n",
              "2021-04-18 -0.111814 -0.149234  0.000000 -0.101681 -0.087525 -0.032353   \n",
              "2021-04-19 -0.092292  0.218848 -0.013866 -0.104663  0.010200 -0.081568   \n",
              "2021-04-20  0.042662  0.056590 -0.031496  0.063388  0.044873  0.085599   \n",
              "2021-04-21 -0.020657 -0.046243  0.027875 -0.032196 -0.027676 -0.064550   \n",
              "...              ...       ...       ...       ...       ...       ...   \n",
              "2023-09-28  0.084424  0.016647  0.040956  0.006004  0.015275  0.023607   \n",
              "2023-09-29  0.005542  0.018550 -0.049180  0.003544  0.019065  0.016861   \n",
              "2023-09-30  0.021906 -0.002291  0.000000  0.006436  0.001044  0.028465   \n",
              "2023-10-01  0.067770  0.043036  0.000000  0.034840  0.027180 -0.016366   \n",
              "2023-10-02 -0.041890 -0.049253 -0.029310 -0.038526 -0.033573 -0.059463   \n",
              "\n",
              "            MANA-USD   MKR-USD      SAND   UNI-USD  \n",
              "Date                                                \n",
              "2021-04-17  0.162232 -0.011861  0.000000 -0.011792  \n",
              "2021-04-18 -0.115856 -0.032170  0.000000 -0.444710  \n",
              "2021-04-19 -0.024129  0.088548 -0.014323  0.949857  \n",
              "2021-04-20  0.060183 -0.019230  0.005284  0.005878  \n",
              "2021-04-21 -0.042022  0.164467  0.034166  0.220599  \n",
              "...              ...       ...       ...       ...  \n",
              "2023-09-28  0.019330  0.011382  0.017204  0.025316  \n",
              "2023-09-29  0.056888 -0.040891 -0.014799  0.000000  \n",
              "2023-09-30 -0.021623  0.056322  0.000000  0.000000  \n",
              "2023-10-01  0.046949 -0.033990  0.000000  0.037037  \n",
              "2023-10-02 -0.038343 -0.051197 -0.034335 -0.006132  \n",
              "\n",
              "[899 rows x 10 columns]"
            ],
            "text/html": [
              "\n",
              "  <div id=\"df-3437bc9e-897e-469b-8f21-6b101b474793\" class=\"colab-df-container\">\n",
              "    <div>\n",
              "<style scoped>\n",
              "    .dataframe tbody tr th:only-of-type {\n",
              "        vertical-align: middle;\n",
              "    }\n",
              "\n",
              "    .dataframe tbody tr th {\n",
              "        vertical-align: top;\n",
              "    }\n",
              "\n",
              "    .dataframe thead th {\n",
              "        text-align: right;\n",
              "    }\n",
              "</style>\n",
              "<table border=\"1\" class=\"dataframe\">\n",
              "  <thead>\n",
              "    <tr style=\"text-align: right;\">\n",
              "      <th></th>\n",
              "      <th>AAVE-USD</th>\n",
              "      <th>AXS-USD</th>\n",
              "      <th>COMP</th>\n",
              "      <th>ENJ-USD</th>\n",
              "      <th>FLOW-USD</th>\n",
              "      <th>LINK-USD</th>\n",
              "      <th>MANA-USD</th>\n",
              "      <th>MKR-USD</th>\n",
              "      <th>SAND</th>\n",
              "      <th>UNI-USD</th>\n",
              "    </tr>\n",
              "    <tr>\n",
              "      <th>Date</th>\n",
              "      <th></th>\n",
              "      <th></th>\n",
              "      <th></th>\n",
              "      <th></th>\n",
              "      <th></th>\n",
              "      <th></th>\n",
              "      <th></th>\n",
              "      <th></th>\n",
              "      <th></th>\n",
              "      <th></th>\n",
              "    </tr>\n",
              "  </thead>\n",
              "  <tbody>\n",
              "    <tr>\n",
              "      <th>2021-04-17</th>\n",
              "      <td>-0.027182</td>\n",
              "      <td>0.049558</td>\n",
              "      <td>0.000000</td>\n",
              "      <td>-0.009183</td>\n",
              "      <td>-0.024211</td>\n",
              "      <td>-0.041079</td>\n",
              "      <td>0.162232</td>\n",
              "      <td>-0.011861</td>\n",
              "      <td>0.000000</td>\n",
              "      <td>-0.011792</td>\n",
              "    </tr>\n",
              "    <tr>\n",
              "      <th>2021-04-18</th>\n",
              "      <td>-0.111814</td>\n",
              "      <td>-0.149234</td>\n",
              "      <td>0.000000</td>\n",
              "      <td>-0.101681</td>\n",
              "      <td>-0.087525</td>\n",
              "      <td>-0.032353</td>\n",
              "      <td>-0.115856</td>\n",
              "      <td>-0.032170</td>\n",
              "      <td>0.000000</td>\n",
              "      <td>-0.444710</td>\n",
              "    </tr>\n",
              "    <tr>\n",
              "      <th>2021-04-19</th>\n",
              "      <td>-0.092292</td>\n",
              "      <td>0.218848</td>\n",
              "      <td>-0.013866</td>\n",
              "      <td>-0.104663</td>\n",
              "      <td>0.010200</td>\n",
              "      <td>-0.081568</td>\n",
              "      <td>-0.024129</td>\n",
              "      <td>0.088548</td>\n",
              "      <td>-0.014323</td>\n",
              "      <td>0.949857</td>\n",
              "    </tr>\n",
              "    <tr>\n",
              "      <th>2021-04-20</th>\n",
              "      <td>0.042662</td>\n",
              "      <td>0.056590</td>\n",
              "      <td>-0.031496</td>\n",
              "      <td>0.063388</td>\n",
              "      <td>0.044873</td>\n",
              "      <td>0.085599</td>\n",
              "      <td>0.060183</td>\n",
              "      <td>-0.019230</td>\n",
              "      <td>0.005284</td>\n",
              "      <td>0.005878</td>\n",
              "    </tr>\n",
              "    <tr>\n",
              "      <th>2021-04-21</th>\n",
              "      <td>-0.020657</td>\n",
              "      <td>-0.046243</td>\n",
              "      <td>0.027875</td>\n",
              "      <td>-0.032196</td>\n",
              "      <td>-0.027676</td>\n",
              "      <td>-0.064550</td>\n",
              "      <td>-0.042022</td>\n",
              "      <td>0.164467</td>\n",
              "      <td>0.034166</td>\n",
              "      <td>0.220599</td>\n",
              "    </tr>\n",
              "    <tr>\n",
              "      <th>...</th>\n",
              "      <td>...</td>\n",
              "      <td>...</td>\n",
              "      <td>...</td>\n",
              "      <td>...</td>\n",
              "      <td>...</td>\n",
              "      <td>...</td>\n",
              "      <td>...</td>\n",
              "      <td>...</td>\n",
              "      <td>...</td>\n",
              "      <td>...</td>\n",
              "    </tr>\n",
              "    <tr>\n",
              "      <th>2023-09-28</th>\n",
              "      <td>0.084424</td>\n",
              "      <td>0.016647</td>\n",
              "      <td>0.040956</td>\n",
              "      <td>0.006004</td>\n",
              "      <td>0.015275</td>\n",
              "      <td>0.023607</td>\n",
              "      <td>0.019330</td>\n",
              "      <td>0.011382</td>\n",
              "      <td>0.017204</td>\n",
              "      <td>0.025316</td>\n",
              "    </tr>\n",
              "    <tr>\n",
              "      <th>2023-09-29</th>\n",
              "      <td>0.005542</td>\n",
              "      <td>0.018550</td>\n",
              "      <td>-0.049180</td>\n",
              "      <td>0.003544</td>\n",
              "      <td>0.019065</td>\n",
              "      <td>0.016861</td>\n",
              "      <td>0.056888</td>\n",
              "      <td>-0.040891</td>\n",
              "      <td>-0.014799</td>\n",
              "      <td>0.000000</td>\n",
              "    </tr>\n",
              "    <tr>\n",
              "      <th>2023-09-30</th>\n",
              "      <td>0.021906</td>\n",
              "      <td>-0.002291</td>\n",
              "      <td>0.000000</td>\n",
              "      <td>0.006436</td>\n",
              "      <td>0.001044</td>\n",
              "      <td>0.028465</td>\n",
              "      <td>-0.021623</td>\n",
              "      <td>0.056322</td>\n",
              "      <td>0.000000</td>\n",
              "      <td>0.000000</td>\n",
              "    </tr>\n",
              "    <tr>\n",
              "      <th>2023-10-01</th>\n",
              "      <td>0.067770</td>\n",
              "      <td>0.043036</td>\n",
              "      <td>0.000000</td>\n",
              "      <td>0.034840</td>\n",
              "      <td>0.027180</td>\n",
              "      <td>-0.016366</td>\n",
              "      <td>0.046949</td>\n",
              "      <td>-0.033990</td>\n",
              "      <td>0.000000</td>\n",
              "      <td>0.037037</td>\n",
              "    </tr>\n",
              "    <tr>\n",
              "      <th>2023-10-02</th>\n",
              "      <td>-0.041890</td>\n",
              "      <td>-0.049253</td>\n",
              "      <td>-0.029310</td>\n",
              "      <td>-0.038526</td>\n",
              "      <td>-0.033573</td>\n",
              "      <td>-0.059463</td>\n",
              "      <td>-0.038343</td>\n",
              "      <td>-0.051197</td>\n",
              "      <td>-0.034335</td>\n",
              "      <td>-0.006132</td>\n",
              "    </tr>\n",
              "  </tbody>\n",
              "</table>\n",
              "<p>899 rows × 10 columns</p>\n",
              "</div>\n",
              "    <div class=\"colab-df-buttons\">\n",
              "\n",
              "  <div class=\"colab-df-container\">\n",
              "    <button class=\"colab-df-convert\" onclick=\"convertToInteractive('df-3437bc9e-897e-469b-8f21-6b101b474793')\"\n",
              "            title=\"Convert this dataframe to an interactive table.\"\n",
              "            style=\"display:none;\">\n",
              "\n",
              "  <svg xmlns=\"http://www.w3.org/2000/svg\" height=\"24px\" viewBox=\"0 -960 960 960\">\n",
              "    <path d=\"M120-120v-720h720v720H120Zm60-500h600v-160H180v160Zm220 220h160v-160H400v160Zm0 220h160v-160H400v160ZM180-400h160v-160H180v160Zm440 0h160v-160H620v160ZM180-180h160v-160H180v160Zm440 0h160v-160H620v160Z\"/>\n",
              "  </svg>\n",
              "    </button>\n",
              "\n",
              "  <style>\n",
              "    .colab-df-container {\n",
              "      display:flex;\n",
              "      gap: 12px;\n",
              "    }\n",
              "\n",
              "    .colab-df-convert {\n",
              "      background-color: #E8F0FE;\n",
              "      border: none;\n",
              "      border-radius: 50%;\n",
              "      cursor: pointer;\n",
              "      display: none;\n",
              "      fill: #1967D2;\n",
              "      height: 32px;\n",
              "      padding: 0 0 0 0;\n",
              "      width: 32px;\n",
              "    }\n",
              "\n",
              "    .colab-df-convert:hover {\n",
              "      background-color: #E2EBFA;\n",
              "      box-shadow: 0px 1px 2px rgba(60, 64, 67, 0.3), 0px 1px 3px 1px rgba(60, 64, 67, 0.15);\n",
              "      fill: #174EA6;\n",
              "    }\n",
              "\n",
              "    .colab-df-buttons div {\n",
              "      margin-bottom: 4px;\n",
              "    }\n",
              "\n",
              "    [theme=dark] .colab-df-convert {\n",
              "      background-color: #3B4455;\n",
              "      fill: #D2E3FC;\n",
              "    }\n",
              "\n",
              "    [theme=dark] .colab-df-convert:hover {\n",
              "      background-color: #434B5C;\n",
              "      box-shadow: 0px 1px 3px 1px rgba(0, 0, 0, 0.15);\n",
              "      filter: drop-shadow(0px 1px 2px rgba(0, 0, 0, 0.3));\n",
              "      fill: #FFFFFF;\n",
              "    }\n",
              "  </style>\n",
              "\n",
              "    <script>\n",
              "      const buttonEl =\n",
              "        document.querySelector('#df-3437bc9e-897e-469b-8f21-6b101b474793 button.colab-df-convert');\n",
              "      buttonEl.style.display =\n",
              "        google.colab.kernel.accessAllowed ? 'block' : 'none';\n",
              "\n",
              "      async function convertToInteractive(key) {\n",
              "        const element = document.querySelector('#df-3437bc9e-897e-469b-8f21-6b101b474793');\n",
              "        const dataTable =\n",
              "          await google.colab.kernel.invokeFunction('convertToInteractive',\n",
              "                                                    [key], {});\n",
              "        if (!dataTable) return;\n",
              "\n",
              "        const docLinkHtml = 'Like what you see? Visit the ' +\n",
              "          '<a target=\"_blank\" href=https://colab.research.google.com/notebooks/data_table.ipynb>data table notebook</a>'\n",
              "          + ' to learn more about interactive tables.';\n",
              "        element.innerHTML = '';\n",
              "        dataTable['output_type'] = 'display_data';\n",
              "        await google.colab.output.renderOutput(dataTable, element);\n",
              "        const docLink = document.createElement('div');\n",
              "        docLink.innerHTML = docLinkHtml;\n",
              "        element.appendChild(docLink);\n",
              "      }\n",
              "    </script>\n",
              "  </div>\n",
              "\n",
              "\n",
              "<div id=\"df-62fb9282-f25e-460c-b6dd-bebcd0d670c9\">\n",
              "  <button class=\"colab-df-quickchart\" onclick=\"quickchart('df-62fb9282-f25e-460c-b6dd-bebcd0d670c9')\"\n",
              "            title=\"Suggest charts.\"\n",
              "            style=\"display:none;\">\n",
              "\n",
              "<svg xmlns=\"http://www.w3.org/2000/svg\" height=\"24px\"viewBox=\"0 0 24 24\"\n",
              "     width=\"24px\">\n",
              "    <g>\n",
              "        <path d=\"M19 3H5c-1.1 0-2 .9-2 2v14c0 1.1.9 2 2 2h14c1.1 0 2-.9 2-2V5c0-1.1-.9-2-2-2zM9 17H7v-7h2v7zm4 0h-2V7h2v10zm4 0h-2v-4h2v4z\"/>\n",
              "    </g>\n",
              "</svg>\n",
              "  </button>\n",
              "\n",
              "<style>\n",
              "  .colab-df-quickchart {\n",
              "      --bg-color: #E8F0FE;\n",
              "      --fill-color: #1967D2;\n",
              "      --hover-bg-color: #E2EBFA;\n",
              "      --hover-fill-color: #174EA6;\n",
              "      --disabled-fill-color: #AAA;\n",
              "      --disabled-bg-color: #DDD;\n",
              "  }\n",
              "\n",
              "  [theme=dark] .colab-df-quickchart {\n",
              "      --bg-color: #3B4455;\n",
              "      --fill-color: #D2E3FC;\n",
              "      --hover-bg-color: #434B5C;\n",
              "      --hover-fill-color: #FFFFFF;\n",
              "      --disabled-bg-color: #3B4455;\n",
              "      --disabled-fill-color: #666;\n",
              "  }\n",
              "\n",
              "  .colab-df-quickchart {\n",
              "    background-color: var(--bg-color);\n",
              "    border: none;\n",
              "    border-radius: 50%;\n",
              "    cursor: pointer;\n",
              "    display: none;\n",
              "    fill: var(--fill-color);\n",
              "    height: 32px;\n",
              "    padding: 0;\n",
              "    width: 32px;\n",
              "  }\n",
              "\n",
              "  .colab-df-quickchart:hover {\n",
              "    background-color: var(--hover-bg-color);\n",
              "    box-shadow: 0 1px 2px rgba(60, 64, 67, 0.3), 0 1px 3px 1px rgba(60, 64, 67, 0.15);\n",
              "    fill: var(--button-hover-fill-color);\n",
              "  }\n",
              "\n",
              "  .colab-df-quickchart-complete:disabled,\n",
              "  .colab-df-quickchart-complete:disabled:hover {\n",
              "    background-color: var(--disabled-bg-color);\n",
              "    fill: var(--disabled-fill-color);\n",
              "    box-shadow: none;\n",
              "  }\n",
              "\n",
              "  .colab-df-spinner {\n",
              "    border: 2px solid var(--fill-color);\n",
              "    border-color: transparent;\n",
              "    border-bottom-color: var(--fill-color);\n",
              "    animation:\n",
              "      spin 1s steps(1) infinite;\n",
              "  }\n",
              "\n",
              "  @keyframes spin {\n",
              "    0% {\n",
              "      border-color: transparent;\n",
              "      border-bottom-color: var(--fill-color);\n",
              "      border-left-color: var(--fill-color);\n",
              "    }\n",
              "    20% {\n",
              "      border-color: transparent;\n",
              "      border-left-color: var(--fill-color);\n",
              "      border-top-color: var(--fill-color);\n",
              "    }\n",
              "    30% {\n",
              "      border-color: transparent;\n",
              "      border-left-color: var(--fill-color);\n",
              "      border-top-color: var(--fill-color);\n",
              "      border-right-color: var(--fill-color);\n",
              "    }\n",
              "    40% {\n",
              "      border-color: transparent;\n",
              "      border-right-color: var(--fill-color);\n",
              "      border-top-color: var(--fill-color);\n",
              "    }\n",
              "    60% {\n",
              "      border-color: transparent;\n",
              "      border-right-color: var(--fill-color);\n",
              "    }\n",
              "    80% {\n",
              "      border-color: transparent;\n",
              "      border-right-color: var(--fill-color);\n",
              "      border-bottom-color: var(--fill-color);\n",
              "    }\n",
              "    90% {\n",
              "      border-color: transparent;\n",
              "      border-bottom-color: var(--fill-color);\n",
              "    }\n",
              "  }\n",
              "</style>\n",
              "\n",
              "  <script>\n",
              "    async function quickchart(key) {\n",
              "      const quickchartButtonEl =\n",
              "        document.querySelector('#' + key + ' button');\n",
              "      quickchartButtonEl.disabled = true;  // To prevent multiple clicks.\n",
              "      quickchartButtonEl.classList.add('colab-df-spinner');\n",
              "      try {\n",
              "        const charts = await google.colab.kernel.invokeFunction(\n",
              "            'suggestCharts', [key], {});\n",
              "      } catch (error) {\n",
              "        console.error('Error during call to suggestCharts:', error);\n",
              "      }\n",
              "      quickchartButtonEl.classList.remove('colab-df-spinner');\n",
              "      quickchartButtonEl.classList.add('colab-df-quickchart-complete');\n",
              "    }\n",
              "    (() => {\n",
              "      let quickchartButtonEl =\n",
              "        document.querySelector('#df-62fb9282-f25e-460c-b6dd-bebcd0d670c9 button');\n",
              "      quickchartButtonEl.style.display =\n",
              "        google.colab.kernel.accessAllowed ? 'block' : 'none';\n",
              "    })();\n",
              "  </script>\n",
              "</div>\n",
              "    </div>\n",
              "  </div>\n"
            ]
          },
          "metadata": {},
          "execution_count": 59
        }
      ]
    }
  ]
}